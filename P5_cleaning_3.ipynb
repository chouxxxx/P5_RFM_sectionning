{
 "cells": [
  {
   "cell_type": "markdown",
   "id": "9f9b3697-fd4c-435f-8518-b930b17b40d5",
   "metadata": {
    "tags": []
   },
   "source": [
    "Projet 5 - Segmentez des clients d'un site e-commerce - Cleaning  \n",
    "Base de données relationnelle  \n",
    "\n",
    "Classification non-supervisée selon 3 critères:\n",
    "- Recency: durée écoulée depuis la dernière commande du client\n",
    "- Frequency: #commandes du client (potentiellement à diviser par la durée totale pendant laquelle le client a été actif, mais vu que certains n'ont fait qu'une seule commande je ne vais pas faire ce calcul pour l'instant)\n",
    "- Monetary: somme totale dépensée\n",
    "(On fait au plus simple avec uniquement ces 3 features car les algorithmes de clustering sont lourds en calcul.)\n",
    "\n",
    "Puis choix d'initiative à prendre pour chaque classe obtenue.  \n",
    "Enfin, raisonnement sur fréquence de màj de cette classification.  \n",
    "\n",
    "- kmeans\n",
    "- dbscan\n",
    "- agglomerative clustering/hiérarchique statquest les décrit bien\n",
    "\n",
    "car algos de clustering lourds (donc virer zipcode)\n",
    "\"subsampling\"\n",
    "\n",
    ">-\n",
    "# 1. Initialisation, visualization"
   ]
  },
  {
   "cell_type": "markdown",
   "id": "6874ca12-0fc4-431d-b94f-41f99c1afc42",
   "metadata": {
    "tags": []
   },
   "source": [
    ">>-\n",
    "## 11. Imports"
   ]
  },
  {
   "cell_type": "markdown",
   "id": "5df3bbaa-d810-4b18-a0dd-e504b62336cb",
   "metadata": {
    "tags": [
     "hide-cell"
    ]
   },
   "source": [
    ">>>-\n",
    "### 111. Package imports"
   ]
  },
  {
   "cell_type": "code",
   "execution_count": 1,
   "id": "6e1449b0-98bf-4224-bcd1-6bdbb7caae6e",
   "metadata": {
    "tags": [
     "hide-input"
    ]
   },
   "outputs": [],
   "source": [
    "import numpy as np              # fast thus always used\n",
    "import pandas as pd             # fast\n",
    "pd.set_option(\"display.max_rows\", 20, \"display.max_columns\", None)\n",
    "import matplotlib.pyplot as plt # slow: 233 ns\n",
    "import seaborn as sns           # SLOW BUT: 80.4 ns\n",
    "sns.set_style(\"whitegrid\")      # \"ticks\", \"white\"\n",
    "import re\n",
    "import my\n",
    "import datetime\n",
    "from scipy import interpolate   # FAST BUT: 319 ns ± 2.64 ns per loop (mean ± std. dev. of 7 runs, 1,000,000 loops each)\n",
    "#  %timeit import geopandas     # SLOW \n",
    "#import os\n",
    "#import sys\n",
    "from IPython.display import clear_output\n",
    "import warnings"
   ]
  },
  {
   "cell_type": "markdown",
   "id": "479cee51-bba7-41b1-82ca-8b6b71bcdb08",
   "metadata": {
    "tags": [
     "hide-cell"
    ]
   },
   "source": [
    ">>>-\n",
    "### 112. Data imports"
   ]
  },
  {
   "cell_type": "code",
   "execution_count": 2,
   "id": "50be1af8",
   "metadata": {
    "tags": []
   },
   "outputs": [],
   "source": [
    "dfs1 = pd.read_csv(\"olist_customers_dataset.csv\") #, sep=\"\\t\")\n",
    "dfs2 = pd.read_csv(\"olist_geolocation_dataset.csv\") #, sep=\"\\t\")\n",
    "dfs3 = pd.read_csv(\"olist_order_items_dataset.csv\") #, sep=\"\\t\")\n",
    "dfs4 = pd.read_csv(\"olist_order_payments_dataset.csv\") #, sep=\"\\t\")\n",
    "dfs5 = pd.read_csv(\"olist_order_reviews_dataset.csv\") #, sep=\"\\t\")\n",
    "dfs6 = pd.read_csv(\"olist_orders_dataset.csv\") #, sep=\"\\t\")\n",
    "dfs7 = pd.read_csv(\"olist_products_dataset.csv\") #, sep=\"\\t\")\n",
    "dfs8 = pd.read_csv(\"olist_sellers_dataset.csv\") #, sep=\"\\t\")\n",
    "dfs9 = pd.read_csv('product_category_name_translation.csv') #, sep='\\t')\n",
    "dfs = [dfs1, dfs2, dfs3, dfs4, dfs5, dfs6, dfs7, dfs8, dfs9]"
   ]
  },
  {
   "cell_type": "markdown",
   "id": "fe37a686-7032-4e02-8645-5be8aeb8e269",
   "metadata": {},
   "source": [
    "Je ne suis pas très content de cette solution pour pouvoir itérer sur les 9 df car je crée un objet dfs gigantesque, alors que je veux juste une liste qui renvoie vers chacun des 9 df sans contenir leur contenu."
   ]
  },
  {
   "cell_type": "markdown",
   "id": "7ad28050-58ab-4862-baea-9a33b3b99465",
   "metadata": {
    "tags": []
   },
   "source": [
    ">>-\n",
    "## 12. Mise en forme du df"
   ]
  },
  {
   "cell_type": "code",
   "execution_count": 3,
   "id": "73e76292-03a6-495f-a3a9-345f103884a1",
   "metadata": {
    "tags": []
   },
   "outputs": [
    {
     "data": {
      "text/html": [
       "<div>\n",
       "<style scoped>\n",
       "    .dataframe tbody tr th:only-of-type {\n",
       "        vertical-align: middle;\n",
       "    }\n",
       "\n",
       "    .dataframe tbody tr th {\n",
       "        vertical-align: top;\n",
       "    }\n",
       "\n",
       "    .dataframe thead th {\n",
       "        text-align: right;\n",
       "    }\n",
       "</style>\n",
       "<table border=\"1\" class=\"dataframe\">\n",
       "  <thead>\n",
       "    <tr style=\"text-align: right;\">\n",
       "      <th></th>\n",
       "      <th>customer_id</th>\n",
       "      <th>customer_unique_id</th>\n",
       "      <th>customer_zip_code_prefix</th>\n",
       "      <th>customer_city</th>\n",
       "      <th>customer_state</th>\n",
       "    </tr>\n",
       "  </thead>\n",
       "  <tbody>\n",
       "    <tr>\n",
       "      <th>0</th>\n",
       "      <td>06b8999e2fba1a1fbc88172c00ba8bc7</td>\n",
       "      <td>861eff4711a542e4b93843c6dd7febb0</td>\n",
       "      <td>14409</td>\n",
       "      <td>franca</td>\n",
       "      <td>SP</td>\n",
       "    </tr>\n",
       "  </tbody>\n",
       "</table>\n",
       "</div>"
      ],
      "text/plain": [
       "                        customer_id                customer_unique_id  \\\n",
       "0  06b8999e2fba1a1fbc88172c00ba8bc7  861eff4711a542e4b93843c6dd7febb0   \n",
       "\n",
       "   customer_zip_code_prefix customer_city customer_state  \n",
       "0                     14409        franca             SP  "
      ]
     },
     "metadata": {},
     "output_type": "display_data"
    },
    {
     "data": {
      "text/plain": [
       "(99441, 5)"
      ]
     },
     "metadata": {},
     "output_type": "display_data"
    },
    {
     "data": {
      "text/html": [
       "<div>\n",
       "<style scoped>\n",
       "    .dataframe tbody tr th:only-of-type {\n",
       "        vertical-align: middle;\n",
       "    }\n",
       "\n",
       "    .dataframe tbody tr th {\n",
       "        vertical-align: top;\n",
       "    }\n",
       "\n",
       "    .dataframe thead th {\n",
       "        text-align: right;\n",
       "    }\n",
       "</style>\n",
       "<table border=\"1\" class=\"dataframe\">\n",
       "  <thead>\n",
       "    <tr style=\"text-align: right;\">\n",
       "      <th></th>\n",
       "      <th>geolocation_zip_code_prefix</th>\n",
       "      <th>geolocation_lat</th>\n",
       "      <th>geolocation_lng</th>\n",
       "      <th>geolocation_city</th>\n",
       "      <th>geolocation_state</th>\n",
       "    </tr>\n",
       "  </thead>\n",
       "  <tbody>\n",
       "    <tr>\n",
       "      <th>0</th>\n",
       "      <td>1037</td>\n",
       "      <td>-23.545621</td>\n",
       "      <td>-46.639292</td>\n",
       "      <td>sao paulo</td>\n",
       "      <td>SP</td>\n",
       "    </tr>\n",
       "  </tbody>\n",
       "</table>\n",
       "</div>"
      ],
      "text/plain": [
       "   geolocation_zip_code_prefix  geolocation_lat  geolocation_lng  \\\n",
       "0                         1037       -23.545621       -46.639292   \n",
       "\n",
       "  geolocation_city geolocation_state  \n",
       "0        sao paulo                SP  "
      ]
     },
     "metadata": {},
     "output_type": "display_data"
    },
    {
     "data": {
      "text/plain": [
       "(1000163, 5)"
      ]
     },
     "metadata": {},
     "output_type": "display_data"
    },
    {
     "data": {
      "text/html": [
       "<div>\n",
       "<style scoped>\n",
       "    .dataframe tbody tr th:only-of-type {\n",
       "        vertical-align: middle;\n",
       "    }\n",
       "\n",
       "    .dataframe tbody tr th {\n",
       "        vertical-align: top;\n",
       "    }\n",
       "\n",
       "    .dataframe thead th {\n",
       "        text-align: right;\n",
       "    }\n",
       "</style>\n",
       "<table border=\"1\" class=\"dataframe\">\n",
       "  <thead>\n",
       "    <tr style=\"text-align: right;\">\n",
       "      <th></th>\n",
       "      <th>order_id</th>\n",
       "      <th>order_item_id</th>\n",
       "      <th>product_id</th>\n",
       "      <th>seller_id</th>\n",
       "      <th>shipping_limit_date</th>\n",
       "      <th>price</th>\n",
       "      <th>freight_value</th>\n",
       "    </tr>\n",
       "  </thead>\n",
       "  <tbody>\n",
       "    <tr>\n",
       "      <th>0</th>\n",
       "      <td>00010242fe8c5a6d1ba2dd792cb16214</td>\n",
       "      <td>1</td>\n",
       "      <td>4244733e06e7ecb4970a6e2683c13e61</td>\n",
       "      <td>48436dade18ac8b2bce089ec2a041202</td>\n",
       "      <td>2017-09-19 09:45:35</td>\n",
       "      <td>58.9</td>\n",
       "      <td>13.29</td>\n",
       "    </tr>\n",
       "  </tbody>\n",
       "</table>\n",
       "</div>"
      ],
      "text/plain": [
       "                           order_id  order_item_id  \\\n",
       "0  00010242fe8c5a6d1ba2dd792cb16214              1   \n",
       "\n",
       "                         product_id                         seller_id  \\\n",
       "0  4244733e06e7ecb4970a6e2683c13e61  48436dade18ac8b2bce089ec2a041202   \n",
       "\n",
       "   shipping_limit_date  price  freight_value  \n",
       "0  2017-09-19 09:45:35   58.9          13.29  "
      ]
     },
     "metadata": {},
     "output_type": "display_data"
    },
    {
     "data": {
      "text/plain": [
       "(112650, 7)"
      ]
     },
     "metadata": {},
     "output_type": "display_data"
    },
    {
     "data": {
      "text/html": [
       "<div>\n",
       "<style scoped>\n",
       "    .dataframe tbody tr th:only-of-type {\n",
       "        vertical-align: middle;\n",
       "    }\n",
       "\n",
       "    .dataframe tbody tr th {\n",
       "        vertical-align: top;\n",
       "    }\n",
       "\n",
       "    .dataframe thead th {\n",
       "        text-align: right;\n",
       "    }\n",
       "</style>\n",
       "<table border=\"1\" class=\"dataframe\">\n",
       "  <thead>\n",
       "    <tr style=\"text-align: right;\">\n",
       "      <th></th>\n",
       "      <th>order_id</th>\n",
       "      <th>payment_sequential</th>\n",
       "      <th>payment_type</th>\n",
       "      <th>payment_installments</th>\n",
       "      <th>payment_value</th>\n",
       "    </tr>\n",
       "  </thead>\n",
       "  <tbody>\n",
       "    <tr>\n",
       "      <th>0</th>\n",
       "      <td>b81ef226f3fe1789b1e8b2acac839d17</td>\n",
       "      <td>1</td>\n",
       "      <td>credit_card</td>\n",
       "      <td>8</td>\n",
       "      <td>99.33</td>\n",
       "    </tr>\n",
       "  </tbody>\n",
       "</table>\n",
       "</div>"
      ],
      "text/plain": [
       "                           order_id  payment_sequential payment_type  \\\n",
       "0  b81ef226f3fe1789b1e8b2acac839d17                   1  credit_card   \n",
       "\n",
       "   payment_installments  payment_value  \n",
       "0                     8          99.33  "
      ]
     },
     "metadata": {},
     "output_type": "display_data"
    },
    {
     "data": {
      "text/plain": [
       "(103886, 5)"
      ]
     },
     "metadata": {},
     "output_type": "display_data"
    },
    {
     "data": {
      "text/html": [
       "<div>\n",
       "<style scoped>\n",
       "    .dataframe tbody tr th:only-of-type {\n",
       "        vertical-align: middle;\n",
       "    }\n",
       "\n",
       "    .dataframe tbody tr th {\n",
       "        vertical-align: top;\n",
       "    }\n",
       "\n",
       "    .dataframe thead th {\n",
       "        text-align: right;\n",
       "    }\n",
       "</style>\n",
       "<table border=\"1\" class=\"dataframe\">\n",
       "  <thead>\n",
       "    <tr style=\"text-align: right;\">\n",
       "      <th></th>\n",
       "      <th>review_id</th>\n",
       "      <th>order_id</th>\n",
       "      <th>review_score</th>\n",
       "      <th>review_comment_title</th>\n",
       "      <th>review_comment_message</th>\n",
       "      <th>review_creation_date</th>\n",
       "      <th>review_answer_timestamp</th>\n",
       "    </tr>\n",
       "  </thead>\n",
       "  <tbody>\n",
       "    <tr>\n",
       "      <th>0</th>\n",
       "      <td>7bc2406110b926393aa56f80a40eba40</td>\n",
       "      <td>73fc7af87114b39712e6da79b0a377eb</td>\n",
       "      <td>4</td>\n",
       "      <td>NaN</td>\n",
       "      <td>NaN</td>\n",
       "      <td>2018-01-18 00:00:00</td>\n",
       "      <td>2018-01-18 21:46:59</td>\n",
       "    </tr>\n",
       "  </tbody>\n",
       "</table>\n",
       "</div>"
      ],
      "text/plain": [
       "                          review_id                          order_id  \\\n",
       "0  7bc2406110b926393aa56f80a40eba40  73fc7af87114b39712e6da79b0a377eb   \n",
       "\n",
       "   review_score review_comment_title review_comment_message  \\\n",
       "0             4                  NaN                    NaN   \n",
       "\n",
       "  review_creation_date review_answer_timestamp  \n",
       "0  2018-01-18 00:00:00     2018-01-18 21:46:59  "
      ]
     },
     "metadata": {},
     "output_type": "display_data"
    },
    {
     "data": {
      "text/plain": [
       "(99224, 7)"
      ]
     },
     "metadata": {},
     "output_type": "display_data"
    },
    {
     "data": {
      "text/html": [
       "<div>\n",
       "<style scoped>\n",
       "    .dataframe tbody tr th:only-of-type {\n",
       "        vertical-align: middle;\n",
       "    }\n",
       "\n",
       "    .dataframe tbody tr th {\n",
       "        vertical-align: top;\n",
       "    }\n",
       "\n",
       "    .dataframe thead th {\n",
       "        text-align: right;\n",
       "    }\n",
       "</style>\n",
       "<table border=\"1\" class=\"dataframe\">\n",
       "  <thead>\n",
       "    <tr style=\"text-align: right;\">\n",
       "      <th></th>\n",
       "      <th>order_id</th>\n",
       "      <th>customer_id</th>\n",
       "      <th>order_status</th>\n",
       "      <th>order_purchase_timestamp</th>\n",
       "      <th>order_approved_at</th>\n",
       "      <th>order_delivered_carrier_date</th>\n",
       "      <th>order_delivered_customer_date</th>\n",
       "      <th>order_estimated_delivery_date</th>\n",
       "    </tr>\n",
       "  </thead>\n",
       "  <tbody>\n",
       "    <tr>\n",
       "      <th>0</th>\n",
       "      <td>e481f51cbdc54678b7cc49136f2d6af7</td>\n",
       "      <td>9ef432eb6251297304e76186b10a928d</td>\n",
       "      <td>delivered</td>\n",
       "      <td>2017-10-02 10:56:33</td>\n",
       "      <td>2017-10-02 11:07:15</td>\n",
       "      <td>2017-10-04 19:55:00</td>\n",
       "      <td>2017-10-10 21:25:13</td>\n",
       "      <td>2017-10-18 00:00:00</td>\n",
       "    </tr>\n",
       "  </tbody>\n",
       "</table>\n",
       "</div>"
      ],
      "text/plain": [
       "                           order_id                       customer_id  \\\n",
       "0  e481f51cbdc54678b7cc49136f2d6af7  9ef432eb6251297304e76186b10a928d   \n",
       "\n",
       "  order_status order_purchase_timestamp    order_approved_at  \\\n",
       "0    delivered      2017-10-02 10:56:33  2017-10-02 11:07:15   \n",
       "\n",
       "  order_delivered_carrier_date order_delivered_customer_date  \\\n",
       "0          2017-10-04 19:55:00           2017-10-10 21:25:13   \n",
       "\n",
       "  order_estimated_delivery_date  \n",
       "0           2017-10-18 00:00:00  "
      ]
     },
     "metadata": {},
     "output_type": "display_data"
    },
    {
     "data": {
      "text/plain": [
       "(99441, 8)"
      ]
     },
     "metadata": {},
     "output_type": "display_data"
    },
    {
     "data": {
      "text/html": [
       "<div>\n",
       "<style scoped>\n",
       "    .dataframe tbody tr th:only-of-type {\n",
       "        vertical-align: middle;\n",
       "    }\n",
       "\n",
       "    .dataframe tbody tr th {\n",
       "        vertical-align: top;\n",
       "    }\n",
       "\n",
       "    .dataframe thead th {\n",
       "        text-align: right;\n",
       "    }\n",
       "</style>\n",
       "<table border=\"1\" class=\"dataframe\">\n",
       "  <thead>\n",
       "    <tr style=\"text-align: right;\">\n",
       "      <th></th>\n",
       "      <th>product_id</th>\n",
       "      <th>product_category_name</th>\n",
       "      <th>product_name_lenght</th>\n",
       "      <th>product_description_lenght</th>\n",
       "      <th>product_photos_qty</th>\n",
       "      <th>product_weight_g</th>\n",
       "      <th>product_length_cm</th>\n",
       "      <th>product_height_cm</th>\n",
       "      <th>product_width_cm</th>\n",
       "    </tr>\n",
       "  </thead>\n",
       "  <tbody>\n",
       "    <tr>\n",
       "      <th>0</th>\n",
       "      <td>1e9e8ef04dbcff4541ed26657ea517e5</td>\n",
       "      <td>perfumaria</td>\n",
       "      <td>40.0</td>\n",
       "      <td>287.0</td>\n",
       "      <td>1.0</td>\n",
       "      <td>225.0</td>\n",
       "      <td>16.0</td>\n",
       "      <td>10.0</td>\n",
       "      <td>14.0</td>\n",
       "    </tr>\n",
       "  </tbody>\n",
       "</table>\n",
       "</div>"
      ],
      "text/plain": [
       "                         product_id product_category_name  \\\n",
       "0  1e9e8ef04dbcff4541ed26657ea517e5            perfumaria   \n",
       "\n",
       "   product_name_lenght  product_description_lenght  product_photos_qty  \\\n",
       "0                 40.0                       287.0                 1.0   \n",
       "\n",
       "   product_weight_g  product_length_cm  product_height_cm  product_width_cm  \n",
       "0             225.0               16.0               10.0              14.0  "
      ]
     },
     "metadata": {},
     "output_type": "display_data"
    },
    {
     "data": {
      "text/plain": [
       "(32951, 9)"
      ]
     },
     "metadata": {},
     "output_type": "display_data"
    },
    {
     "data": {
      "text/html": [
       "<div>\n",
       "<style scoped>\n",
       "    .dataframe tbody tr th:only-of-type {\n",
       "        vertical-align: middle;\n",
       "    }\n",
       "\n",
       "    .dataframe tbody tr th {\n",
       "        vertical-align: top;\n",
       "    }\n",
       "\n",
       "    .dataframe thead th {\n",
       "        text-align: right;\n",
       "    }\n",
       "</style>\n",
       "<table border=\"1\" class=\"dataframe\">\n",
       "  <thead>\n",
       "    <tr style=\"text-align: right;\">\n",
       "      <th></th>\n",
       "      <th>seller_id</th>\n",
       "      <th>seller_zip_code_prefix</th>\n",
       "      <th>seller_city</th>\n",
       "      <th>seller_state</th>\n",
       "    </tr>\n",
       "  </thead>\n",
       "  <tbody>\n",
       "    <tr>\n",
       "      <th>0</th>\n",
       "      <td>3442f8959a84dea7ee197c632cb2df15</td>\n",
       "      <td>13023</td>\n",
       "      <td>campinas</td>\n",
       "      <td>SP</td>\n",
       "    </tr>\n",
       "  </tbody>\n",
       "</table>\n",
       "</div>"
      ],
      "text/plain": [
       "                          seller_id  seller_zip_code_prefix seller_city  \\\n",
       "0  3442f8959a84dea7ee197c632cb2df15                   13023    campinas   \n",
       "\n",
       "  seller_state  \n",
       "0           SP  "
      ]
     },
     "metadata": {},
     "output_type": "display_data"
    },
    {
     "data": {
      "text/plain": [
       "(3095, 4)"
      ]
     },
     "metadata": {},
     "output_type": "display_data"
    },
    {
     "data": {
      "text/html": [
       "<div>\n",
       "<style scoped>\n",
       "    .dataframe tbody tr th:only-of-type {\n",
       "        vertical-align: middle;\n",
       "    }\n",
       "\n",
       "    .dataframe tbody tr th {\n",
       "        vertical-align: top;\n",
       "    }\n",
       "\n",
       "    .dataframe thead th {\n",
       "        text-align: right;\n",
       "    }\n",
       "</style>\n",
       "<table border=\"1\" class=\"dataframe\">\n",
       "  <thead>\n",
       "    <tr style=\"text-align: right;\">\n",
       "      <th></th>\n",
       "      <th>product_category_name</th>\n",
       "      <th>product_category_name_english</th>\n",
       "    </tr>\n",
       "  </thead>\n",
       "  <tbody>\n",
       "    <tr>\n",
       "      <th>0</th>\n",
       "      <td>beleza_saude</td>\n",
       "      <td>health_beauty</td>\n",
       "    </tr>\n",
       "  </tbody>\n",
       "</table>\n",
       "</div>"
      ],
      "text/plain": [
       "  product_category_name product_category_name_english\n",
       "0          beleza_saude                 health_beauty"
      ]
     },
     "metadata": {},
     "output_type": "display_data"
    },
    {
     "data": {
      "text/plain": [
       "(71, 2)"
      ]
     },
     "metadata": {},
     "output_type": "display_data"
    }
   ],
   "source": [
    "pd.set_option(\"display.max_rows\", 20, \"display.max_columns\", None)\n",
    "for df in dfs:\n",
    "    #print(list(df.columns))\n",
    "    display(df.head(1))\n",
    "    display(df.shape)"
   ]
  },
  {
   "cell_type": "markdown",
   "id": "2c68a227-ecca-4f5e-beed-2102ac8d013a",
   "metadata": {},
   "source": [
    "- dfs1 me permettra de remonter au customer unique id à partir du customer id des autres tableaux donc je le garde. J'en retirerai peut-être les données géographiques si elles ont une feature importance basse.\n",
    "- dfs2 donne juste d'autres façons de traduire les données géographiques. Il ne me servira pas.\n",
    "- dfs3 donne une date, un prix et un prix de livraison pour chaque commande. Je le garde.\n",
    "- dfs4 donne le prix de chaque commande. Est-ce redondant avec dfs3 ? À voir.\n",
    "- dfs5 donne pour chaque commande la note/commentaire laissé par le client. Peut-être que je pourrai m'en servir juste pour savoir pour chaque client le taux de commandes qu'il a notées et que ça aiderait la classification mais j'y crois peu donc je retire ce tableau.\n",
    "- dfs6 donne la correspondance entre customer id et order id. Il donne aussi la date d'achat, qui devrait être importante. Date redondante avec dfs3 ?\n",
    "- dfs7 donne des infos sur les produits. Inutile.\n",
    "- dfs8 donne les données géographiques du vendeur. Inutile.\n",
    "- dfs9 est une traduction ES-EN de données inutiles."
   ]
  },
  {
   "cell_type": "markdown",
   "id": "e6a1b9c3-2762-4d3f-ab27-c72d949b5418",
   "metadata": {
    "tags": []
   },
   "source": [
    ">>>-\n",
    "### 121. Merge"
   ]
  },
  {
   "cell_type": "code",
   "execution_count": 4,
   "id": "cd29a10f-3907-4cd6-9b73-82e372248c36",
   "metadata": {},
   "outputs": [],
   "source": [
    "keeps = [\"customer_unique_id\",\"order_purchase_timestamp\",\"payment_value\"]"
   ]
  },
  {
   "cell_type": "code",
   "execution_count": 5,
   "id": "90433779-c2ba-4355-a117-8c191a33362f",
   "metadata": {},
   "outputs": [
    {
     "name": "stdout",
     "output_type": "stream",
     "text": [
      "dfs1: (99441, 5)\n",
      "dfs6: (99441, 8)\n",
      "df  : (99441, 4)\n",
      "dfs4: (103886, 5)\n",
      "df  : (103887, 5)\n"
     ]
    }
   ],
   "source": [
    "print(\"dfs1: \" + str(dfs1.shape))\n",
    "print(\"dfs6: \" + str(dfs6.shape))\n",
    "df = dfs1[[\"customer_id\",\"customer_unique_id\"]].merge(dfs6[[\"customer_id\",\"order_id\",\"order_purchase_timestamp\"]], on=\"customer_id\", how=\"outer\")\n",
    "print(\"df  : \" + str(df.shape))\n",
    "#print(\"dfs3: \" + str(dfs3.shape))\n",
    "#df = df.merge(dfs3[[\"order_id\",\"price\",\"freight_value\"]], on=\"order_id\", how=\"outer\")\n",
    "#print(\"df  : \" + str(df.shape))\n",
    "print(\"dfs4: \" + str(dfs4.shape))\n",
    "df = df.merge(dfs4[[\"order_id\",\"payment_value\"]], on=\"order_id\", how=\"outer\")\n",
    "print(\"df  : \" + str(df.shape))"
   ]
  },
  {
   "cell_type": "markdown",
   "id": "a0e381d6-eb52-4dce-a069-9eb2ce998c03",
   "metadata": {},
   "source": [
    "Le df final fait une ligne de plus que le dfs4.  \n",
    "Il y a donc soit un doublon qui a été créé soit une entrée du {dfs1 + dfs6} a un \"order_id\" qui n'existe pas dans dfs4."
   ]
  },
  {
   "cell_type": "code",
   "execution_count": 6,
   "id": "908cccb6-e9fd-4465-8fef-e892e28bf4f1",
   "metadata": {},
   "outputs": [
    {
     "data": {
      "text/html": [
       "<div>\n",
       "<style scoped>\n",
       "    .dataframe tbody tr th:only-of-type {\n",
       "        vertical-align: middle;\n",
       "    }\n",
       "\n",
       "    .dataframe tbody tr th {\n",
       "        vertical-align: top;\n",
       "    }\n",
       "\n",
       "    .dataframe thead th {\n",
       "        text-align: right;\n",
       "    }\n",
       "</style>\n",
       "<table border=\"1\" class=\"dataframe\">\n",
       "  <thead>\n",
       "    <tr style=\"text-align: right;\">\n",
       "      <th></th>\n",
       "      <th>customer_id</th>\n",
       "      <th>customer_unique_id</th>\n",
       "      <th>order_id</th>\n",
       "      <th>order_purchase_timestamp</th>\n",
       "      <th>payment_value</th>\n",
       "    </tr>\n",
       "  </thead>\n",
       "  <tbody>\n",
       "    <tr>\n",
       "      <th>22061</th>\n",
       "      <td>86dc2ffce2dfff336de2f386a786e574</td>\n",
       "      <td>830d5b7aaa3b6f1e9ad63703bec97d23</td>\n",
       "      <td>bfbd0f9bdef84302105ad712db648a6c</td>\n",
       "      <td>2016-09-15 12:16:38</td>\n",
       "      <td>NaN</td>\n",
       "    </tr>\n",
       "  </tbody>\n",
       "</table>\n",
       "</div>"
      ],
      "text/plain": [
       "                            customer_id                customer_unique_id  \\\n",
       "22061  86dc2ffce2dfff336de2f386a786e574  830d5b7aaa3b6f1e9ad63703bec97d23   \n",
       "\n",
       "                               order_id order_purchase_timestamp  \\\n",
       "22061  bfbd0f9bdef84302105ad712db648a6c      2016-09-15 12:16:38   \n",
       "\n",
       "       payment_value  \n",
       "22061            NaN  "
      ]
     },
     "metadata": {},
     "output_type": "display_data"
    }
   ],
   "source": [
    "new_elt = list(set(df.order_id).difference(set(dfs4.order_id)))\n",
    "display(df[df.order_id == new_elt[0]])"
   ]
  },
  {
   "cell_type": "markdown",
   "id": "6e259049-f0c6-4700-be1f-9d5e4d2b776f",
   "metadata": {},
   "source": [
    "Vu que cet achat n'existe pas dans dfs4 il n'a pas de donnée renseignée pour la colonne payment_value.  \n",
    "Je décide de faire comme s'il n'existait pas et je supprime cet élément:"
   ]
  },
  {
   "cell_type": "code",
   "execution_count": 7,
   "id": "244bca44-b7fc-4cc5-ab51-aeada786927a",
   "metadata": {},
   "outputs": [
    {
     "name": "stdout",
     "output_type": "stream",
     "text": [
      "Il n'y avait pas de colonne 'level_0' indésirable à supprimer.\n",
      "Une colonne 'index' indésirable a été supprimée.\n",
      "(103886, 5)\n"
     ]
    }
   ],
   "source": [
    "df = df[df.order_id != new_elt[0]]\n",
    "df.shape\n",
    "df = my.resindx(df)"
   ]
  },
  {
   "cell_type": "markdown",
   "id": "bcf7997b-ba93-4fff-b49f-a3b714125ab6",
   "metadata": {},
   "source": [
    "Je nettoie les colonnes inutiles:"
   ]
  },
  {
   "cell_type": "code",
   "execution_count": 8,
   "id": "20f5a1d8-c4b1-4be0-b8e7-ae84b7d4d1b1",
   "metadata": {},
   "outputs": [
    {
     "data": {
      "text/html": [
       "<div>\n",
       "<style scoped>\n",
       "    .dataframe tbody tr th:only-of-type {\n",
       "        vertical-align: middle;\n",
       "    }\n",
       "\n",
       "    .dataframe tbody tr th {\n",
       "        vertical-align: top;\n",
       "    }\n",
       "\n",
       "    .dataframe thead th {\n",
       "        text-align: right;\n",
       "    }\n",
       "</style>\n",
       "<table border=\"1\" class=\"dataframe\">\n",
       "  <thead>\n",
       "    <tr style=\"text-align: right;\">\n",
       "      <th></th>\n",
       "      <th>customer_unique_id</th>\n",
       "      <th>order_purchase_timestamp</th>\n",
       "      <th>payment_value</th>\n",
       "    </tr>\n",
       "  </thead>\n",
       "  <tbody>\n",
       "    <tr>\n",
       "      <th>0</th>\n",
       "      <td>861eff4711a542e4b93843c6dd7febb0</td>\n",
       "      <td>2017-05-16 15:05:35</td>\n",
       "      <td>146.87</td>\n",
       "    </tr>\n",
       "    <tr>\n",
       "      <th>1</th>\n",
       "      <td>290c77bc529b7ac935b93aa66c333dc3</td>\n",
       "      <td>2018-01-12 20:48:24</td>\n",
       "      <td>335.48</td>\n",
       "    </tr>\n",
       "  </tbody>\n",
       "</table>\n",
       "</div>"
      ],
      "text/plain": [
       "                 customer_unique_id order_purchase_timestamp  payment_value\n",
       "0  861eff4711a542e4b93843c6dd7febb0      2017-05-16 15:05:35         146.87\n",
       "1  290c77bc529b7ac935b93aa66c333dc3      2018-01-12 20:48:24         335.48"
      ]
     },
     "execution_count": 8,
     "metadata": {},
     "output_type": "execute_result"
    }
   ],
   "source": [
    "df = df[keeps]\n",
    "df.head(2)"
   ]
  },
  {
   "cell_type": "markdown",
   "id": "3f3c852c-17f6-43f1-aeac-a0dab7f7d9c0",
   "metadata": {
    "tags": []
   },
   "source": [
    ">>>-\n",
    "### 122. Duplicates"
   ]
  },
  {
   "cell_type": "code",
   "execution_count": 9,
   "id": "687ff1a7-32b9-489e-a068-783a7732af20",
   "metadata": {},
   "outputs": [
    {
     "data": {
      "text/html": [
       "<div>\n",
       "<style scoped>\n",
       "    .dataframe tbody tr th:only-of-type {\n",
       "        vertical-align: middle;\n",
       "    }\n",
       "\n",
       "    .dataframe tbody tr th {\n",
       "        vertical-align: top;\n",
       "    }\n",
       "\n",
       "    .dataframe thead th {\n",
       "        text-align: right;\n",
       "    }\n",
       "</style>\n",
       "<table border=\"1\" class=\"dataframe\">\n",
       "  <thead>\n",
       "    <tr style=\"text-align: right;\">\n",
       "      <th></th>\n",
       "      <th>customer_unique_id</th>\n",
       "      <th>order_purchase_timestamp</th>\n",
       "      <th>payment_value</th>\n",
       "    </tr>\n",
       "  </thead>\n",
       "  <tbody>\n",
       "    <tr>\n",
       "      <th>312</th>\n",
       "      <td>a1864cdd58debf5031958069ee937742</td>\n",
       "      <td>2017-11-26 15:11:19</td>\n",
       "      <td>189.88</td>\n",
       "    </tr>\n",
       "    <tr>\n",
       "      <th>313</th>\n",
       "      <td>a1864cdd58debf5031958069ee937742</td>\n",
       "      <td>2017-11-26 15:11:19</td>\n",
       "      <td>189.88</td>\n",
       "    </tr>\n",
       "    <tr>\n",
       "      <th>539</th>\n",
       "      <td>8f601c7d9263ca954656792b02517b3b</td>\n",
       "      <td>2018-04-04 19:21:32</td>\n",
       "      <td>20.00</td>\n",
       "    </tr>\n",
       "    <tr>\n",
       "      <th>540</th>\n",
       "      <td>8f601c7d9263ca954656792b02517b3b</td>\n",
       "      <td>2018-04-04 19:21:32</td>\n",
       "      <td>20.00</td>\n",
       "    </tr>\n",
       "    <tr>\n",
       "      <th>541</th>\n",
       "      <td>8f601c7d9263ca954656792b02517b3b</td>\n",
       "      <td>2018-04-04 19:21:32</td>\n",
       "      <td>20.00</td>\n",
       "    </tr>\n",
       "    <tr>\n",
       "      <th>...</th>\n",
       "      <td>...</td>\n",
       "      <td>...</td>\n",
       "      <td>...</td>\n",
       "    </tr>\n",
       "    <tr>\n",
       "      <th>103662</th>\n",
       "      <td>6d443b75cff956bb73dce7385033e266</td>\n",
       "      <td>2017-09-05 09:29:17</td>\n",
       "      <td>83.59</td>\n",
       "    </tr>\n",
       "    <tr>\n",
       "      <th>103666</th>\n",
       "      <td>b6108acc674ae5c99e29adc1047d1049</td>\n",
       "      <td>2017-05-05 19:08:38</td>\n",
       "      <td>199.64</td>\n",
       "    </tr>\n",
       "    <tr>\n",
       "      <th>103667</th>\n",
       "      <td>b6108acc674ae5c99e29adc1047d1049</td>\n",
       "      <td>2017-05-05 19:08:38</td>\n",
       "      <td>199.64</td>\n",
       "    </tr>\n",
       "    <tr>\n",
       "      <th>103787</th>\n",
       "      <td>514f2a78d07928478ac9212b21b7acbc</td>\n",
       "      <td>2017-07-12 15:40:39</td>\n",
       "      <td>7.30</td>\n",
       "    </tr>\n",
       "    <tr>\n",
       "      <th>103788</th>\n",
       "      <td>514f2a78d07928478ac9212b21b7acbc</td>\n",
       "      <td>2017-07-12 15:40:39</td>\n",
       "      <td>7.30</td>\n",
       "    </tr>\n",
       "  </tbody>\n",
       "</table>\n",
       "<p>1003 rows × 3 columns</p>\n",
       "</div>"
      ],
      "text/plain": [
       "                      customer_unique_id order_purchase_timestamp  \\\n",
       "312     a1864cdd58debf5031958069ee937742      2017-11-26 15:11:19   \n",
       "313     a1864cdd58debf5031958069ee937742      2017-11-26 15:11:19   \n",
       "539     8f601c7d9263ca954656792b02517b3b      2018-04-04 19:21:32   \n",
       "540     8f601c7d9263ca954656792b02517b3b      2018-04-04 19:21:32   \n",
       "541     8f601c7d9263ca954656792b02517b3b      2018-04-04 19:21:32   \n",
       "...                                  ...                      ...   \n",
       "103662  6d443b75cff956bb73dce7385033e266      2017-09-05 09:29:17   \n",
       "103666  b6108acc674ae5c99e29adc1047d1049      2017-05-05 19:08:38   \n",
       "103667  b6108acc674ae5c99e29adc1047d1049      2017-05-05 19:08:38   \n",
       "103787  514f2a78d07928478ac9212b21b7acbc      2017-07-12 15:40:39   \n",
       "103788  514f2a78d07928478ac9212b21b7acbc      2017-07-12 15:40:39   \n",
       "\n",
       "        payment_value  \n",
       "312            189.88  \n",
       "313            189.88  \n",
       "539             20.00  \n",
       "540             20.00  \n",
       "541             20.00  \n",
       "...               ...  \n",
       "103662          83.59  \n",
       "103666         199.64  \n",
       "103667         199.64  \n",
       "103787           7.30  \n",
       "103788           7.30  \n",
       "\n",
       "[1003 rows x 3 columns]"
      ]
     },
     "execution_count": 9,
     "metadata": {},
     "output_type": "execute_result"
    }
   ],
   "source": [
    "df[df.duplicated(keep=False) == True]"
   ]
  },
  {
   "cell_type": "markdown",
   "id": "b9f65ab5-6903-4f45-b1aa-c22e2a77996d",
   "metadata": {},
   "source": [
    "Il y a beaucoup de duplicates.  \n",
    "J'espère que ce sont juste des clients qui ont acheté plusieurs exemplaires d'un même article à la fois."
   ]
  },
  {
   "cell_type": "markdown",
   "id": "29d0fc6b-ec6a-4121-ad36-bfc90e51d846",
   "metadata": {
    "tags": []
   },
   "source": [
    ">>>-\n",
    "### 123. Subsampling ?\n",
    "Ça accélèrerait grandement le striptime qui suit et surtout les clusterings, mais en même temps j'aimerais que ma solution finale ne laisse aucun client de côté donc pour l'instant je garde tout malgré les longs calculs."
   ]
  },
  {
   "cell_type": "markdown",
   "id": "37755d69-fd0e-45d8-8e99-916a722cb8cc",
   "metadata": {
    "tags": []
   },
   "source": [
    ">>>-\n",
    "### 124. Réorganisation vers RFM"
   ]
  },
  {
   "cell_type": "code",
   "execution_count": 10,
   "id": "cd753fd1-de7c-4c28-b712-e773d7ba9785",
   "metadata": {},
   "outputs": [
    {
     "data": {
      "text/html": [
       "<div>\n",
       "<style scoped>\n",
       "    .dataframe tbody tr th:only-of-type {\n",
       "        vertical-align: middle;\n",
       "    }\n",
       "\n",
       "    .dataframe tbody tr th {\n",
       "        vertical-align: top;\n",
       "    }\n",
       "\n",
       "    .dataframe thead th {\n",
       "        text-align: right;\n",
       "    }\n",
       "</style>\n",
       "<table border=\"1\" class=\"dataframe\">\n",
       "  <thead>\n",
       "    <tr style=\"text-align: right;\">\n",
       "      <th></th>\n",
       "      <th>order_purchase_timestamp</th>\n",
       "      <th>payment_value</th>\n",
       "    </tr>\n",
       "    <tr>\n",
       "      <th>customer_unique_id</th>\n",
       "      <th></th>\n",
       "      <th></th>\n",
       "    </tr>\n",
       "  </thead>\n",
       "  <tbody>\n",
       "    <tr>\n",
       "      <th>0000366f3b9a7992bf8c76cfdf3221e2</th>\n",
       "      <td>1</td>\n",
       "      <td>1</td>\n",
       "    </tr>\n",
       "    <tr>\n",
       "      <th>0000b849f77a49e4a4ce2b2a4ca5be3f</th>\n",
       "      <td>1</td>\n",
       "      <td>1</td>\n",
       "    </tr>\n",
       "  </tbody>\n",
       "</table>\n",
       "</div>"
      ],
      "text/plain": [
       "                                  order_purchase_timestamp  payment_value\n",
       "customer_unique_id                                                       \n",
       "0000366f3b9a7992bf8c76cfdf3221e2                         1              1\n",
       "0000b849f77a49e4a4ce2b2a4ca5be3f                         1              1"
      ]
     },
     "execution_count": 10,
     "metadata": {},
     "output_type": "execute_result"
    }
   ],
   "source": [
    "df.groupby(\"customer_unique_id\").count().head(2)"
   ]
  },
  {
   "cell_type": "code",
   "execution_count": 11,
   "id": "5353f393-2ad7-46c6-b40f-610be17e2f3f",
   "metadata": {},
   "outputs": [
    {
     "data": {
      "text/html": [
       "<div>\n",
       "<style scoped>\n",
       "    .dataframe tbody tr th:only-of-type {\n",
       "        vertical-align: middle;\n",
       "    }\n",
       "\n",
       "    .dataframe tbody tr th {\n",
       "        vertical-align: top;\n",
       "    }\n",
       "\n",
       "    .dataframe thead th {\n",
       "        text-align: right;\n",
       "    }\n",
       "</style>\n",
       "<table border=\"1\" class=\"dataframe\">\n",
       "  <thead>\n",
       "    <tr style=\"text-align: right;\">\n",
       "      <th></th>\n",
       "      <th>order_purchase_timestamp</th>\n",
       "      <th>payment_value</th>\n",
       "    </tr>\n",
       "    <tr>\n",
       "      <th>customer_unique_id</th>\n",
       "      <th></th>\n",
       "      <th></th>\n",
       "    </tr>\n",
       "  </thead>\n",
       "  <tbody>\n",
       "    <tr>\n",
       "      <th>0058f300f57d7b93c477a131a59b36c3</th>\n",
       "      <td>3</td>\n",
       "      <td>3</td>\n",
       "    </tr>\n",
       "    <tr>\n",
       "      <th>00a9fd000ff87bb48b989df819c418f5</th>\n",
       "      <td>4</td>\n",
       "      <td>4</td>\n",
       "    </tr>\n",
       "  </tbody>\n",
       "</table>\n",
       "</div>"
      ],
      "text/plain": [
       "                                  order_purchase_timestamp  payment_value\n",
       "customer_unique_id                                                       \n",
       "0058f300f57d7b93c477a131a59b36c3                         3              3\n",
       "00a9fd000ff87bb48b989df819c418f5                         4              4"
      ]
     },
     "execution_count": 11,
     "metadata": {},
     "output_type": "execute_result"
    }
   ],
   "source": [
    "df.groupby(\"customer_unique_id\").count()[df.groupby(\"customer_unique_id\").order_purchase_timestamp.count() > 2].head(2)"
   ]
  },
  {
   "cell_type": "code",
   "execution_count": 12,
   "id": "4167bc6d-49b3-4b31-86ee-e307b90683ee",
   "metadata": {},
   "outputs": [
    {
     "data": {
      "text/plain": [
       "datetime.datetime(2022, 10, 18, 22, 36, 54, 526609)"
      ]
     },
     "execution_count": 12,
     "metadata": {},
     "output_type": "execute_result"
    }
   ],
   "source": [
    "datetime.datetime.now()"
   ]
  },
  {
   "cell_type": "code",
   "execution_count": 13,
   "id": "a1ffc10d-f31b-4a84-aaf2-f59f8cf228bc",
   "metadata": {},
   "outputs": [
    {
     "data": {
      "text/plain": [
       "'2018-10-17 17:30:18'"
      ]
     },
     "execution_count": 13,
     "metadata": {},
     "output_type": "execute_result"
    }
   ],
   "source": [
    "df.order_purchase_timestamp.max()"
   ]
  },
  {
   "cell_type": "code",
   "execution_count": 14,
   "id": "07b9ae13-2dc2-47cc-833a-e2baa9b70d03",
   "metadata": {},
   "outputs": [
    {
     "name": "stderr",
     "output_type": "stream",
     "text": [
      "C:\\Users\\achou\\AppData\\Local\\Temp\\ipykernel_20608\\1763167247.py:11: FutureWarning: The default dtype for empty Series will be 'object' instead of 'float64' in a future version. Specify a dtype explicitly to silence this warning.\n",
      "  tt = pd.Series(name=\"recency\")\n"
     ]
    },
    {
     "data": {
      "text/plain": [
       "0    44850283.0\n",
       "1    24007314.0\n",
       "Name: recency, dtype: float64"
      ]
     },
     "execution_count": 14,
     "metadata": {},
     "output_type": "execute_result"
    }
   ],
   "source": [
    "#J'arrête de run cette cell car c'est trop long.\n",
    "#Naturellement ça va causer une erreur juste en-dessous.\n",
    "#Faut relancer à partir de dfs = pd.read(\"dfs_1.csv\")\n",
    "\n",
    "#Évidemment le mieux serait que je fasse mon subsampling avant cette présente cell mais\n",
    "#dans le souci de \"non cleané, pour comprendre votre démarche\" je garde tout ceci dans l'ordre de mon raisonnement et\n",
    "#juste je script echo ces quelques cells\n",
    "\n",
    "#t0 = datetime.datetime.now()\n",
    "t0 = datetime.datetime.strptime(df.order_purchase_timestamp.max(), \"%Y-%m-%d %H:%M:%S\") # %S.%f s'il y a les millièmes de seconde.\n",
    "tt = pd.Series(name=\"recency\")\n",
    "for i in range(df.shape[0]):\n",
    "    tt.loc[i] = (t0 - datetime.datetime.strptime(df[\"order_purchase_timestamp\"][i], \"%Y-%m-%d %H:%M:%S\")).total_seconds()\n",
    "tt.head(2)"
   ]
  },
  {
   "cell_type": "markdown",
   "id": "c45108d7-5984-474c-95fc-d336c34f39bf",
   "metadata": {},
   "source": [
    "C'est giga long ce striptime pour chaque élément de la series. (environ 3min)"
   ]
  },
  {
   "cell_type": "code",
   "execution_count": 15,
   "id": "ca05b5e3-bd8b-4467-b879-a8cbc8c33ec6",
   "metadata": {},
   "outputs": [],
   "source": [
    "df[\"recency\"] = tt"
   ]
  },
  {
   "cell_type": "code",
   "execution_count": 16,
   "id": "b0b217f7-60b8-4f3b-8d14-139f9453abf4",
   "metadata": {},
   "outputs": [
    {
     "data": {
      "text/html": [
       "<div>\n",
       "<style scoped>\n",
       "    .dataframe tbody tr th:only-of-type {\n",
       "        vertical-align: middle;\n",
       "    }\n",
       "\n",
       "    .dataframe tbody tr th {\n",
       "        vertical-align: top;\n",
       "    }\n",
       "\n",
       "    .dataframe thead th {\n",
       "        text-align: right;\n",
       "    }\n",
       "</style>\n",
       "<table border=\"1\" class=\"dataframe\">\n",
       "  <thead>\n",
       "    <tr style=\"text-align: right;\">\n",
       "      <th></th>\n",
       "      <th>R</th>\n",
       "      <th>F</th>\n",
       "      <th>M</th>\n",
       "    </tr>\n",
       "    <tr>\n",
       "      <th>customer_unique_id</th>\n",
       "      <th></th>\n",
       "      <th></th>\n",
       "      <th></th>\n",
       "    </tr>\n",
       "  </thead>\n",
       "  <tbody>\n",
       "    <tr>\n",
       "      <th>0000366f3b9a7992bf8c76cfdf3221e2</th>\n",
       "      <td>13847631.0</td>\n",
       "      <td>1</td>\n",
       "      <td>141.90</td>\n",
       "    </tr>\n",
       "    <tr>\n",
       "      <th>0000b849f77a49e4a4ce2b2a4ca5be3f</th>\n",
       "      <td>14105931.0</td>\n",
       "      <td>1</td>\n",
       "      <td>27.19</td>\n",
       "    </tr>\n",
       "    <tr>\n",
       "      <th>0000f46a3911fa3c0805444483337064</th>\n",
       "      <td>50617515.0</td>\n",
       "      <td>1</td>\n",
       "      <td>86.22</td>\n",
       "    </tr>\n",
       "    <tr>\n",
       "      <th>0000f6ccb0745a6a4b88665a16c9f078</th>\n",
       "      <td>31957237.0</td>\n",
       "      <td>1</td>\n",
       "      <td>43.62</td>\n",
       "    </tr>\n",
       "    <tr>\n",
       "      <th>0004aac84e0df4da2b147fca70cf8255</th>\n",
       "      <td>29108676.0</td>\n",
       "      <td>1</td>\n",
       "      <td>196.89</td>\n",
       "    </tr>\n",
       "    <tr>\n",
       "      <th>...</th>\n",
       "      <td>...</td>\n",
       "      <td>...</td>\n",
       "      <td>...</td>\n",
       "    </tr>\n",
       "    <tr>\n",
       "      <th>fffcf5a5ff07b0908bd4e2dbc735a684</th>\n",
       "      <td>42841782.0</td>\n",
       "      <td>1</td>\n",
       "      <td>2067.42</td>\n",
       "    </tr>\n",
       "    <tr>\n",
       "      <th>fffea47cd6d3cc0a88bd621562a9d061</th>\n",
       "      <td>26860942.0</td>\n",
       "      <td>1</td>\n",
       "      <td>84.58</td>\n",
       "    </tr>\n",
       "    <tr>\n",
       "      <th>ffff371b4d645b6ecea244b27531430a</th>\n",
       "      <td>53314862.0</td>\n",
       "      <td>1</td>\n",
       "      <td>112.46</td>\n",
       "    </tr>\n",
       "    <tr>\n",
       "      <th>ffff5962728ec6157033ef9805bacc48</th>\n",
       "      <td>14523157.0</td>\n",
       "      <td>1</td>\n",
       "      <td>133.69</td>\n",
       "    </tr>\n",
       "    <tr>\n",
       "      <th>ffffd2657e2aad2907e67c3e9daecbeb</th>\n",
       "      <td>46041093.0</td>\n",
       "      <td>1</td>\n",
       "      <td>71.56</td>\n",
       "    </tr>\n",
       "  </tbody>\n",
       "</table>\n",
       "<p>96095 rows × 3 columns</p>\n",
       "</div>"
      ],
      "text/plain": [
       "                                           R  F        M\n",
       "customer_unique_id                                      \n",
       "0000366f3b9a7992bf8c76cfdf3221e2  13847631.0  1   141.90\n",
       "0000b849f77a49e4a4ce2b2a4ca5be3f  14105931.0  1    27.19\n",
       "0000f46a3911fa3c0805444483337064  50617515.0  1    86.22\n",
       "0000f6ccb0745a6a4b88665a16c9f078  31957237.0  1    43.62\n",
       "0004aac84e0df4da2b147fca70cf8255  29108676.0  1   196.89\n",
       "...                                      ... ..      ...\n",
       "fffcf5a5ff07b0908bd4e2dbc735a684  42841782.0  1  2067.42\n",
       "fffea47cd6d3cc0a88bd621562a9d061  26860942.0  1    84.58\n",
       "ffff371b4d645b6ecea244b27531430a  53314862.0  1   112.46\n",
       "ffff5962728ec6157033ef9805bacc48  14523157.0  1   133.69\n",
       "ffffd2657e2aad2907e67c3e9daecbeb  46041093.0  1    71.56\n",
       "\n",
       "[96095 rows x 3 columns]"
      ]
     },
     "execution_count": 16,
     "metadata": {},
     "output_type": "execute_result"
    }
   ],
   "source": [
    "dfs = pd.DataFrame()\n",
    "dfs[\"R\"] = df.groupby(\"customer_unique_id\").recency.min()\n",
    "dfs[\"F\"] = df.groupby(\"customer_unique_id\").order_purchase_timestamp.count()\n",
    "dfs[\"M\"] = df.groupby(\"customer_unique_id\").payment_value.sum()\n",
    "dfs"
   ]
  },
  {
   "cell_type": "code",
   "execution_count": 17,
   "id": "e84f6dc6-fb86-497c-aafe-286bf392f1ec",
   "metadata": {},
   "outputs": [],
   "source": [
    "dfs.to_csv(\"dfs_1.csv\")\n",
    "dfs_1 = dfs.copy()"
   ]
  },
  {
   "cell_type": "code",
   "execution_count": 18,
   "id": "472684de-dc55-4ced-8d52-b60f290d8f2a",
   "metadata": {},
   "outputs": [],
   "source": [
    "dfs = pd.read_csv(\"dfs_1.csv\")"
   ]
  },
  {
   "cell_type": "markdown",
   "id": "8fbaa315-d4d9-40fa-9485-b2526a3edcff",
   "metadata": {
    "tags": []
   },
   "source": [
    ">>-\n",
    "## 13. Visualisation"
   ]
  },
  {
   "cell_type": "code",
   "execution_count": 19,
   "id": "9d6e3362-f4ea-473d-a809-b58270eb181e",
   "metadata": {},
   "outputs": [],
   "source": [
    "def hstplot(seris, strlog='log de ', hstsize=20):\n",
    "    hst = seris.copy()\n",
    "    hst.replace([np.inf, -np.inf], np.nan, inplace=True)\n",
    "    hst.dropna(inplace=True)\n",
    "    hst_val, hst_bin = np.histogram(hst, bins=50)\n",
    "    hst = pd.DataFrame()\n",
    "    hst.loc[:,'hst_bin'] = hst_bin[:-1] # Ou alors décaler d'un demi bin avec bins_mean = [0.5 * (bins[i] + bins[i+1]) for i in range(len(n))].\n",
    "    hst.loc[:,'hst_val'] = hst_val\n",
    "    hst = hst[hst['hst_val'] != 0]\n",
    "    with sns.axes_style(\"whitegrid\"):\n",
    "        sns.scatterplot(hst['hst_bin'], hst['hst_val'], legend=None, s=hstsize)\n",
    "    plt.title(('Hist de ' + strlog + co),fontsize=16)\n",
    "    plt.xlabel((strlog + co),fontsize=16)\n",
    "    plt.xticks(fontsize=14)\n",
    "    plt.ylabel('Nb de bâtiments',fontsize=16)\n",
    "    plt.yticks(fontsize=14)\n",
    "    plt.legend"
   ]
  },
  {
   "cell_type": "code",
   "execution_count": 20,
   "id": "991b83a9-d5d1-4dba-952f-e07f68b8873a",
   "metadata": {},
   "outputs": [
    {
     "name": "stdout",
     "output_type": "stream",
     "text": [
      "\n"
     ]
    },
    {
     "data": {
      "image/png": "[encoded data removed]",
      "text/plain": [
       "<Figure size 216x144 with 1 Axes>"
      ]
     },
     "metadata": {},
     "output_type": "display_data"
    }
   ],
   "source": [
    "warnings.filterwarnings('ignore')\n",
    "plt.figure(figsize=(3, 2))\n",
    "my.hstplot(dfs[\"R\"], strlog='')\n",
    "print()"
   ]
  },
  {
   "cell_type": "code",
   "execution_count": 21,
   "id": "02190e60-04aa-4b51-a835-9a98e519e389",
   "metadata": {},
   "outputs": [
    {
     "name": "stdout",
     "output_type": "stream",
     "text": [
      "\n"
     ]
    },
    {
     "data": {
      "image/png": "[encoded data removed]",
      "text/plain": [
       "<Figure size 216x144 with 1 Axes>"
      ]
     },
     "metadata": {},
     "output_type": "display_data"
    }
   ],
   "source": [
    "warnings.filterwarnings('ignore')\n",
    "plt.figure(figsize=(3, 2))\n",
    "my.hstplot(dfs[\"F\"], strlog='')\n",
    "print()"
   ]
  },
  {
   "cell_type": "code",
   "execution_count": 22,
   "id": "73c5f0f7-7c09-4a43-a2b5-f4969a1eddc8",
   "metadata": {},
   "outputs": [
    {
     "name": "stdout",
     "output_type": "stream",
     "text": [
      "\n"
     ]
    },
    {
     "data": {
      "image/png": "[encoded data removed]",
      "text/plain": [
       "<Figure size 216x144 with 1 Axes>"
      ]
     },
     "metadata": {},
     "output_type": "display_data"
    }
   ],
   "source": [
    "warnings.filterwarnings('ignore')\n",
    "plt.figure(figsize=(3, 2))\n",
    "my.hstplot(dfs[\"M\"], strlog='')\n",
    "print()"
   ]
  },
  {
   "cell_type": "code",
   "execution_count": 23,
   "id": "cef48318-2179-44a9-9df1-c0b100191c9c",
   "metadata": {},
   "outputs": [
    {
     "data": {
      "text/html": [
       "<div>\n",
       "<style scoped>\n",
       "    .dataframe tbody tr th:only-of-type {\n",
       "        vertical-align: middle;\n",
       "    }\n",
       "\n",
       "    .dataframe tbody tr th {\n",
       "        vertical-align: top;\n",
       "    }\n",
       "\n",
       "    .dataframe thead th {\n",
       "        text-align: right;\n",
       "    }\n",
       "</style>\n",
       "<table border=\"1\" class=\"dataframe\">\n",
       "  <thead>\n",
       "    <tr style=\"text-align: right;\">\n",
       "      <th></th>\n",
       "      <th>customer_unique_id</th>\n",
       "      <th>R</th>\n",
       "      <th>F</th>\n",
       "      <th>M</th>\n",
       "    </tr>\n",
       "  </thead>\n",
       "  <tbody>\n",
       "    <tr>\n",
       "      <th>0</th>\n",
       "      <td>0000366f3b9a7992bf8c76cfdf3221e2</td>\n",
       "      <td>13847631.0</td>\n",
       "      <td>1</td>\n",
       "      <td>141.9</td>\n",
       "    </tr>\n",
       "  </tbody>\n",
       "</table>\n",
       "</div>"
      ],
      "text/plain": [
       "                 customer_unique_id           R  F      M\n",
       "0  0000366f3b9a7992bf8c76cfdf3221e2  13847631.0  1  141.9"
      ]
     },
     "metadata": {},
     "output_type": "display_data"
    },
    {
     "data": {
      "text/html": [
       "<div>\n",
       "<style scoped>\n",
       "    .dataframe tbody tr th:only-of-type {\n",
       "        vertical-align: middle;\n",
       "    }\n",
       "\n",
       "    .dataframe tbody tr th {\n",
       "        vertical-align: top;\n",
       "    }\n",
       "\n",
       "    .dataframe thead th {\n",
       "        text-align: right;\n",
       "    }\n",
       "</style>\n",
       "<table border=\"1\" class=\"dataframe\">\n",
       "  <thead>\n",
       "    <tr style=\"text-align: right;\">\n",
       "      <th></th>\n",
       "      <th>customer_unique_id</th>\n",
       "      <th>R</th>\n",
       "      <th>F</th>\n",
       "      <th>M</th>\n",
       "    </tr>\n",
       "  </thead>\n",
       "  <tbody>\n",
       "    <tr>\n",
       "      <th>0</th>\n",
       "      <td>0000366f3b9a7992bf8c76cfdf3221e2</td>\n",
       "      <td>13847631.0</td>\n",
       "      <td>1.0</td>\n",
       "      <td>7.158862</td>\n",
       "    </tr>\n",
       "  </tbody>\n",
       "</table>\n",
       "</div>"
      ],
      "text/plain": [
       "                 customer_unique_id           R    F         M\n",
       "0  0000366f3b9a7992bf8c76cfdf3221e2  13847631.0  1.0  7.158862"
      ]
     },
     "execution_count": 23,
     "metadata": {},
     "output_type": "execute_result"
    }
   ],
   "source": [
    "display(dfs.head(1))\n",
    "dfs.F = np.log(1+dfs.F)/np.log(2)\n",
    "dfs.M = np.log(1+dfs.M)/np.log(2)\n",
    "dfs.head(1)"
   ]
  },
  {
   "cell_type": "code",
   "execution_count": 24,
   "id": "560388b0-b8db-44bd-9b08-71c9a3fd57b8",
   "metadata": {},
   "outputs": [],
   "source": [
    "dfs.to_csv(\"dfs_log.csv\")\n",
    "dfs_log = dfs.copy()"
   ]
  },
  {
   "cell_type": "code",
   "execution_count": 49,
   "id": "3d65c906-a2f6-4361-b8e7-86381c85ce24",
   "metadata": {},
   "outputs": [
    {
     "name": "stdout",
     "output_type": "stream",
     "text": [
      "\n"
     ]
    },
    {
     "data": {
      "image/png": "[encoded data removed]",
      "text/plain": [
       "<Figure size 216x144 with 1 Axes>"
      ]
     },
     "metadata": {},
     "output_type": "display_data"
    }
   ],
   "source": [
    "warnings.filterwarnings('ignore')\n",
    "plt.figure(figsize=(3, 2))\n",
    "my.hstplot(dfs_log.F, strlog='log de ')\n",
    "print()"
   ]
  },
  {
   "cell_type": "code",
   "execution_count": 26,
   "id": "b014f2c3-0dc1-4a1c-a384-18d8c9a33475",
   "metadata": {},
   "outputs": [
    {
     "name": "stdout",
     "output_type": "stream",
     "text": [
      "\n"
     ]
    },
    {
     "data": {
      "image/png": "[encoded data removed]",
      "text/plain": [
       "<Figure size 216x144 with 1 Axes>"
      ]
     },
     "metadata": {},
     "output_type": "display_data"
    }
   ],
   "source": [
    "warnings.filterwarnings('ignore')\n",
    "plt.figure(figsize=(3, 2))\n",
    "my.hstplot(dfs_log.M, strlog='log de ')\n",
    "print()"
   ]
  },
  {
   "cell_type": "code",
   "execution_count": 50,
   "id": "f861bc41-2227-4f47-bf54-d1ce29545ba6",
   "metadata": {},
   "outputs": [],
   "source": [
    "dfs.F = np.log(1+dfs.F)/np.log(2)"
   ]
  },
  {
   "cell_type": "code",
   "execution_count": 51,
   "id": "f9d4229e-738f-4ec0-b667-ed0ffb0166b4",
   "metadata": {},
   "outputs": [],
   "source": [
    "dfs.to_csv(\"dfs_loglog.csv\")\n",
    "dfs_loglog = dfs.copy()"
   ]
  },
  {
   "cell_type": "code",
   "execution_count": 52,
   "id": "93adb68b-9728-4bbe-bdf2-c7f04feb5e6e",
   "metadata": {},
   "outputs": [
    {
     "name": "stdout",
     "output_type": "stream",
     "text": [
      "\n"
     ]
    },
    {
     "data": {
      "image/png": "[encoded data removed]",
      "text/plain": [
       "<Figure size 216x144 with 1 Axes>"
      ]
     },
     "metadata": {},
     "output_type": "display_data"
    }
   ],
   "source": [
    "warnings.filterwarnings('ignore')\n",
    "plt.figure(figsize=(3, 2))\n",
    "my.hstplot(dfs_loglog.F, strlog='log de log de ')\n",
    "print()"
   ]
  },
  {
   "cell_type": "code",
   "execution_count": 53,
   "id": "670016aa-2266-44d5-83be-cb7871b57354",
   "metadata": {},
   "outputs": [],
   "source": [
    "dfs.F = np.log(1+dfs.F)/np.log(2)"
   ]
  },
  {
   "cell_type": "code",
   "execution_count": 54,
   "id": "9add11aa-741b-4983-bd31-e39990d1bee3",
   "metadata": {},
   "outputs": [],
   "source": [
    "dfs.to_csv(\"dfs_logloglog.csv\")\n",
    "dfs_logloglog = dfs.copy()"
   ]
  },
  {
   "cell_type": "code",
   "execution_count": 55,
   "id": "e6015762-e82d-49d9-941c-94598f475003",
   "metadata": {},
   "outputs": [
    {
     "name": "stdout",
     "output_type": "stream",
     "text": [
      "\n"
     ]
    },
    {
     "data": {
      "image/png": "[encoded data removed]",
      "text/plain": [
       "<Figure size 216x144 with 1 Axes>"
      ]
     },
     "metadata": {},
     "output_type": "display_data"
    }
   ],
   "source": [
    "warnings.filterwarnings('ignore')\n",
    "plt.figure(figsize=(3, 2))\n",
    "my.hstplot(dfs_logloglog.F, strlog='log de log de log de ')\n",
    "print()"
   ]
  },
  {
   "cell_type": "code",
   "execution_count": 56,
   "id": "5906b0a3-02b9-4cac-b01a-341f7b2391de",
   "metadata": {},
   "outputs": [],
   "source": [
    "dfs.F = np.log(1+dfs.F)/np.log(2)"
   ]
  },
  {
   "cell_type": "code",
   "execution_count": 57,
   "id": "9db38b96-e2b4-4686-8d2c-838a9c541e07",
   "metadata": {},
   "outputs": [],
   "source": [
    "dfs.to_csv(\"dfs_loglogloglog.csv\")\n",
    "dfs_loglogloglog = dfs.copy()"
   ]
  },
  {
   "cell_type": "code",
   "execution_count": 58,
   "id": "4f57cad4-252f-43b5-bce4-5ddac74402e5",
   "metadata": {},
   "outputs": [
    {
     "name": "stdout",
     "output_type": "stream",
     "text": [
      "\n"
     ]
    },
    {
     "data": {
      "image/png": "[encoded data removed]",
      "text/plain": [
       "<Figure size 216x144 with 1 Axes>"
      ]
     },
     "metadata": {},
     "output_type": "display_data"
    }
   ],
   "source": [
    "warnings.filterwarnings('ignore')\n",
    "plt.figure(figsize=(3, 2))\n",
    "my.hstplot(dfs_loglogloglog.F, strlog='log de log de log de log de ')\n",
    "print()"
   ]
  },
  {
   "cell_type": "markdown",
   "id": "c519c879-1e96-4f94-8a14-62b5271af521",
   "metadata": {},
   "source": [
    "Clairement la solution n'est pas dans cette direction."
   ]
  },
  {
   "cell_type": "markdown",
   "id": "9e034e54-257c-4bbb-bef0-0244ea5e5ca3",
   "metadata": {
    "tags": []
   },
   "source": [
    ">-\n",
    "# 2. Cleaning"
   ]
  },
  {
   "cell_type": "markdown",
   "id": "314295c3-83fc-4be9-993d-7ae9af12c02c",
   "metadata": {
    "tags": []
   },
   "source": [
    ">>-\n",
    "## 21. Missing values"
   ]
  },
  {
   "cell_type": "code",
   "execution_count": 30,
   "id": "f0b6b1a5-9131-4384-8b64-b026b41f4fb1",
   "metadata": {},
   "outputs": [
    {
     "data": {
      "text/plain": [
       "customer_unique_id          0\n",
       "order_purchase_timestamp    0\n",
       "payment_value               0\n",
       "recency                     0\n",
       "dtype: int64"
      ]
     },
     "execution_count": 30,
     "metadata": {},
     "output_type": "execute_result"
    }
   ],
   "source": [
    "df.isna().sum()"
   ]
  },
  {
   "cell_type": "code",
   "execution_count": 31,
   "id": "6324391e-5e58-4477-bc17-15c29c9f0ae8",
   "metadata": {},
   "outputs": [
    {
     "data": {
      "text/plain": [
       "customer_unique_id    0\n",
       "R                     0\n",
       "F                     0\n",
       "M                     0\n",
       "dtype: int64"
      ]
     },
     "execution_count": 31,
     "metadata": {},
     "output_type": "execute_result"
    }
   ],
   "source": [
    "dfs.isna().sum()"
   ]
  },
  {
   "cell_type": "markdown",
   "id": "e819a0f5-fbe1-4ba7-9dd3-6ec7dad3d1ae",
   "metadata": {
    "tags": []
   },
   "source": [
    ">>-\n",
    "## 22. Imputation"
   ]
  },
  {
   "cell_type": "code",
   "execution_count": 32,
   "id": "d02fa6d2-7bc9-406f-ae38-f761e638f3e8",
   "metadata": {},
   "outputs": [
    {
     "name": "stdout",
     "output_type": "stream",
     "text": [
      "Couldn't find program: 'echo'\n"
     ]
    }
   ],
   "source": [
    "%%script echo\n",
    "for co in dfs.columns:\n",
    "    dfs.loc[dfs[co].isna(),co] = dfs[co].mean()"
   ]
  },
  {
   "cell_type": "markdown",
   "id": "46eb17dc-2f12-4b08-8eed-4076ab535fc1",
   "metadata": {},
   "source": [
    "J'aurais utilisé le mean() pour Recency et Monetary (celui après log) car on a affaire à une distribution qui est quasiment une distribution normale.  \n",
    "Pour Frequency par contre même après passage au log on a toujours un skewness grand, car il est extrêmement rare qu'un client ait fait plus d'un achat dans le cas de ce dataset, donc j'aurais probablement imputé par median()."
   ]
  },
  {
   "cell_type": "markdown",
   "id": "0f38a449-4da6-4dec-8848-0fa72a6312fb",
   "metadata": {
    "tags": []
   },
   "source": [
    ">-\n",
    "# 3. Subsampling\n",
    "  \n",
    "  ATTENTION ! Finalement je me suis rendu compte que cette méthode est problématique et j'ai donc utilisé dfs_2 dans mon notebook de clustering plutôt que dfs_3, avec un subsampling standard.  \n",
    "  \n",
    "Je me suis vite rendu compte dans le notebook de clustering que mon df est bien trop grand.  \n",
    "Je décide donc de le réduire fortement ici.  \n",
    "Je tente de sortir tous les clients qui n'ont fait qu'un seul achat. En effet, pour eux je n'ai que R et M. Je peux juste savoir si leur unique achat est récent ou non et s'il est cher ou non. Ça me fera donc au maximum 4 catégories (pour lesquelles je n'ai pas encore déterminé le threshold de prix ni le threshold de date) avec comme stratégies marketing:\n",
    "- old + cheap: Un simple mail \"Vous nous manquez.\"\n",
    "- old + expensive: \"Vous avez acheté tel truc à tel date. Est-ce qu'il fonctionne toujours ? Voulez-vous tester un autre modèle ?\"\n",
    "- recent + cheap: \"Donnez-nous votre avis sur cet achat\" ou \"Venez voir les bons plans de cette semaine\"\n",
    "- recent + expensive: \"Tel article et tel article vont super bien avec l'article que vous avez acheté. Est-ce que ça vous intéresse ?\""
   ]
  },
  {
   "cell_type": "code",
   "execution_count": 33,
   "id": "8b554795-5926-44ea-badc-f66bad7b23e7",
   "metadata": {},
   "outputs": [
    {
     "name": "stdout",
     "output_type": "stream",
     "text": [
      "(96095, 4)\n"
     ]
    }
   ],
   "source": [
    "print(dfs.shape)"
   ]
  },
  {
   "cell_type": "code",
   "execution_count": 34,
   "id": "e71f8e6b-9628-42ec-84e4-488e6c748d56",
   "metadata": {},
   "outputs": [
    {
     "data": {
      "text/html": [
       "<div>\n",
       "<style scoped>\n",
       "    .dataframe tbody tr th:only-of-type {\n",
       "        vertical-align: middle;\n",
       "    }\n",
       "\n",
       "    .dataframe tbody tr th {\n",
       "        vertical-align: top;\n",
       "    }\n",
       "\n",
       "    .dataframe thead th {\n",
       "        text-align: right;\n",
       "    }\n",
       "</style>\n",
       "<table border=\"1\" class=\"dataframe\">\n",
       "  <thead>\n",
       "    <tr style=\"text-align: right;\">\n",
       "      <th></th>\n",
       "      <th>customer_unique_id</th>\n",
       "      <th>R</th>\n",
       "      <th>F</th>\n",
       "      <th>M</th>\n",
       "    </tr>\n",
       "  </thead>\n",
       "  <tbody>\n",
       "    <tr>\n",
       "      <th>0</th>\n",
       "      <td>0000366f3b9a7992bf8c76cfdf3221e2</td>\n",
       "      <td>13847631.0</td>\n",
       "      <td>1.0</td>\n",
       "      <td>7.158862</td>\n",
       "    </tr>\n",
       "    <tr>\n",
       "      <th>1</th>\n",
       "      <td>0000b849f77a49e4a4ce2b2a4ca5be3f</td>\n",
       "      <td>14105931.0</td>\n",
       "      <td>1.0</td>\n",
       "      <td>4.817112</td>\n",
       "    </tr>\n",
       "  </tbody>\n",
       "</table>\n",
       "</div>"
      ],
      "text/plain": [
       "                 customer_unique_id           R    F         M\n",
       "0  0000366f3b9a7992bf8c76cfdf3221e2  13847631.0  1.0  7.158862\n",
       "1  0000b849f77a49e4a4ce2b2a4ca5be3f  14105931.0  1.0  4.817112"
      ]
     },
     "metadata": {},
     "output_type": "display_data"
    },
    {
     "name": "stdout",
     "output_type": "stream",
     "text": [
      "(5729, 3)\n"
     ]
    },
    {
     "data": {
      "text/html": [
       "<div>\n",
       "<style scoped>\n",
       "    .dataframe tbody tr th:only-of-type {\n",
       "        vertical-align: middle;\n",
       "    }\n",
       "\n",
       "    .dataframe tbody tr th {\n",
       "        vertical-align: top;\n",
       "    }\n",
       "\n",
       "    .dataframe thead th {\n",
       "        text-align: right;\n",
       "    }\n",
       "</style>\n",
       "<table border=\"1\" class=\"dataframe\">\n",
       "  <thead>\n",
       "    <tr style=\"text-align: right;\">\n",
       "      <th></th>\n",
       "      <th>R</th>\n",
       "      <th>F</th>\n",
       "      <th>M</th>\n",
       "    </tr>\n",
       "    <tr>\n",
       "      <th>customer_unique_id</th>\n",
       "      <th></th>\n",
       "      <th></th>\n",
       "      <th></th>\n",
       "    </tr>\n",
       "  </thead>\n",
       "  <tbody>\n",
       "    <tr>\n",
       "      <th>000e309254ab1fc5ba99dd469d36bdb4</th>\n",
       "      <td>9876981.0</td>\n",
       "      <td>2</td>\n",
       "      <td>78.42</td>\n",
       "    </tr>\n",
       "    <tr>\n",
       "      <th>00172711b30d52eea8b313a7f2cced02</th>\n",
       "      <td>5645771.0</td>\n",
       "      <td>2</td>\n",
       "      <td>244.14</td>\n",
       "    </tr>\n",
       "  </tbody>\n",
       "</table>\n",
       "</div>"
      ],
      "text/plain": [
       "                                          R  F       M\n",
       "customer_unique_id                                    \n",
       "000e309254ab1fc5ba99dd469d36bdb4  9876981.0  2   78.42\n",
       "00172711b30d52eea8b313a7f2cced02  5645771.0  2  244.14"
      ]
     },
     "execution_count": 34,
     "metadata": {},
     "output_type": "execute_result"
    }
   ],
   "source": [
    "display(dfs.head(2))\n",
    "dfs = dfs_1[dfs_1.F > 1]\n",
    "print(dfs.shape)\n",
    "dfs.head(2)"
   ]
  },
  {
   "cell_type": "code",
   "execution_count": 35,
   "id": "c04d129d-efdd-4003-9d7f-d670b9d3c15a",
   "metadata": {},
   "outputs": [],
   "source": [
    "dfs.to_csv(\"dfs_2.csv\")\n",
    "dfs_2 = dfs.copy()"
   ]
  },
  {
   "cell_type": "code",
   "execution_count": null,
   "id": "43b30dba-6072-4d95-a6be-4c3a865963a4",
   "metadata": {},
   "outputs": [],
   "source": []
  }
 ],
 "metadata": {
  "kernelspec": {
   "display_name": "Python 3 (ipykernel)",
   "language": "python",
   "name": "python3"
  },
  "language_info": {
   "codemirror_mode": {
    "name": "ipython",
    "version": 3
   },
   "file_extension": ".py",
   "mimetype": "text/x-python",
   "name": "python",
   "nbconvert_exporter": "python",
   "pygments_lexer": "ipython3",
   "version": "3.9.12"
  },
  "tags": [
   "hide-cell"
  ]
 },
 "nbformat": 4,
 "nbformat_minor": 5
}

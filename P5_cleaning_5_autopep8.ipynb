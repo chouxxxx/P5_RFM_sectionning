{
 "cells": [
  {
   "cell_type": "markdown",
   "id": "9f9b3697-fd4c-435f-8518-b930b17b40d5",
   "metadata": {
    "tags": []
   },
   "source": [
    "Projet 5 - Segmentez des clients d'un site e-commerce - Cleaning  \n",
    "\n",
    "- Travail sur une base de données relationnelle.\n",
    "- Classification non-supervisée:\n",
    "  - selon 3 critères:\n",
    "     - Recency: durée écoulée depuis la dernière commande du client\n",
    "     - Frequency: #commandes du client (potentiellement à diviser par la durée totale pendant laquelle le client a été actif, mais vu que certains n'ont fait qu'une seule commande je ne vais pas faire ce calcul pour l'instant)\n",
    "     - Monetary: somme totale dépensée\n",
    "  -  avec 3 algorithmes:\n",
    "     - kmeans\n",
    "     - dbscan\n",
    "     - agglomerative/hiérarchique clustering\n",
    "- Choix d'initiative à prendre pour chaque classe obtenue.\n",
    "- Raisonnement sur fréquence de màj de cette classification.\n",
    "\n",
    ">-\n",
    "# 1. Initialisation, visualization"
   ]
  },
  {
   "cell_type": "markdown",
   "id": "6874ca12-0fc4-431d-b94f-41f99c1afc42",
   "metadata": {
    "tags": []
   },
   "source": [
    ">>-\n",
    "## 11. Imports"
   ]
  },
  {
   "cell_type": "markdown",
   "id": "5df3bbaa-d810-4b18-a0dd-e504b62336cb",
   "metadata": {
    "tags": [
     "hide-cell"
    ]
   },
   "source": [
    ">>>-\n",
    "### 111. Package imports"
   ]
  },
  {
   "cell_type": "code",
   "execution_count": 6,
   "id": "99e34da5-c65d-4b8a-adfe-fde32c299b63",
   "metadata": {},
   "outputs": [
    {
     "name": "stdout",
     "output_type": "stream",
     "text": [
      "Requirement already satisfied: autopep8 in c:\\users\\achou\\anaconda3\\lib\\site-packages (2.0.0)\n",
      "Requirement already satisfied: pycodestyle>=2.9.1 in c:\\users\\achou\\anaconda3\\lib\\site-packages (from autopep8) (2.9.1)\n",
      "Requirement already satisfied: tomli in c:\\users\\achou\\anaconda3\\lib\\site-packages (from autopep8) (1.2.2)\n",
      "Note: you may need to restart the kernel to use updated packages.\n"
     ]
    }
   ],
   "source": [
    "pip install autopep8"
   ]
  },
  {
   "cell_type": "code",
   "execution_count": 2,
   "id": "5b20d265-78cf-4c13-a60a-88756e790133",
   "metadata": {
    "collapsed": true,
    "jupyter": {
     "outputs_hidden": true
    },
    "tags": []
   },
   "outputs": [
    {
     "ename": "SyntaxError",
     "evalue": "invalid syntax (3266035151.py, line 1)",
     "output_type": "error",
     "traceback": [
      "\u001b[1;36m  Input \u001b[1;32mIn [2]\u001b[1;36m\u001b[0m\n\u001b[1;33m    jupyter nbextension install https://github.com/kenkoooo/jupyter-autopep8/archive/master.zip --user\u001b[0m\n\u001b[1;37m            ^\u001b[0m\n\u001b[1;31mSyntaxError\u001b[0m\u001b[1;31m:\u001b[0m invalid syntax\n"
     ]
    }
   ],
   "source": [
    "jupyter nbextension install https://github.com/kenkoooo/jupyter-autopep8/archive/master.zip --user"
   ]
  },
  {
   "cell_type": "code",
   "execution_count": 7,
   "id": "85e23d6e-38bb-412f-985f-d062bcb693a6",
   "metadata": {},
   "outputs": [
    {
     "ename": "SyntaxError",
     "evalue": "invalid syntax (3660637962.py, line 1)",
     "output_type": "error",
     "traceback": [
      "\u001b[1;36m  Input \u001b[1;32mIn [7]\u001b[1;36m\u001b[0m\n\u001b[1;33m    sudo jupyter nbextension install https://github.com/kenkoooo/jupyter-autopep8/archive/master.zip --user\u001b[0m\n\u001b[1;37m         ^\u001b[0m\n\u001b[1;31mSyntaxError\u001b[0m\u001b[1;31m:\u001b[0m invalid syntax\n"
     ]
    }
   ],
   "source": [
    "sudo jupyter nbextension install https://github.com/kenkoooo/jupyter-autopep8/archive/master.zip --user"
   ]
  },
  {
   "cell_type": "code",
   "execution_count": 1,
   "id": "90777ca5-0443-494a-8164-07b7a5340be5",
   "metadata": {
    "collapsed": true,
    "jupyter": {
     "outputs_hidden": true
    },
    "tags": []
   },
   "outputs": [
    {
     "ename": "SyntaxError",
     "evalue": "invalid syntax (2912123320.py, line 1)",
     "output_type": "error",
     "traceback": [
      "\u001b[1;36m  Input \u001b[1;32mIn [1]\u001b[1;36m\u001b[0m\n\u001b[1;33m    jupyter nbextension install https://github.com/kenkoooo/jupyter-autopep8/archive/master.zip --user\u001b[0m\n\u001b[1;37m            ^\u001b[0m\n\u001b[1;31mSyntaxError\u001b[0m\u001b[1;31m:\u001b[0m invalid syntax\n"
     ]
    }
   ],
   "source": [
    "jupyter nbextension enable jupyter-autopep8-master/jupyter-autopep8"
   ]
  },
  {
   "cell_type": "code",
   "execution_count": 8,
   "id": "21254596-0f25-457a-9bbb-bd4c196d2ebe",
   "metadata": {},
   "outputs": [
    {
     "ename": "SyntaxError",
     "evalue": "invalid syntax (1436967131.py, line 1)",
     "output_type": "error",
     "traceback": [
      "\u001b[1;36m  Input \u001b[1;32mIn [8]\u001b[1;36m\u001b[0m\n\u001b[1;33m    sudo jupyter nbextension enable jupyter-autopep8-master/jupyter-autopep8\u001b[0m\n\u001b[1;37m         ^\u001b[0m\n\u001b[1;31mSyntaxError\u001b[0m\u001b[1;31m:\u001b[0m invalid syntax\n"
     ]
    }
   ],
   "source": [
    "sudo jupyter nbextension enable jupyter-autopep8-master/jupyter-autopep8"
   ]
  },
  {
   "cell_type": "code",
   "execution_count": 9,
   "id": "56eac32c-257c-4053-ae5c-7cc661fd09f3",
   "metadata": {},
   "outputs": [
    {
     "ename": "SyntaxError",
     "evalue": "invalid syntax (1401278626.py, line 1)",
     "output_type": "error",
     "traceback": [
      "\u001b[1;36m  Input \u001b[1;32mIn [9]\u001b[1;36m\u001b[0m\n\u001b[1;33m    sudo jupyter nbextension list\u001b[0m\n\u001b[1;37m         ^\u001b[0m\n\u001b[1;31mSyntaxError\u001b[0m\u001b[1;31m:\u001b[0m invalid syntax\n"
     ]
    }
   ],
   "source": [
    "sudo jupyter nbextension list"
   ]
  },
  {
   "cell_type": "code",
   "execution_count": 1,
   "id": "6e1449b0-98bf-4224-bcd1-6bdbb7caae6e",
   "metadata": {
    "tags": [
     "hide-input"
    ]
   },
   "outputs": [],
   "source": [
    "import numpy as np              # fast thus always used\n",
    "import pandas as pd             # fast\n",
    "pd.set_option(\"display.max_rows\", 20, \"display.max_columns\", None)\n",
    "import matplotlib.pyplot as plt # slow: 233 ns\n",
    "import seaborn as sns           # SLOW BUT: 80.4 ns\n",
    "sns.set_style(\"whitegrid\")      # \"ticks\", \"white\"\n",
    "import re\n",
    "import my\n",
    "import datetime\n",
    "from scipy import interpolate   # FAST BUT: 319 ns ± 2.64 ns per loop (mean ± std. dev. of 7 runs, 1,000,000 loops each)\n",
    "#  %timeit import geopandas     # SLOW \n",
    "import timeit\n",
    "#import os\n",
    "#import sys\n",
    "from IPython.display import clear_output\n",
    "import warnings"
   ]
  },
  {
   "cell_type": "markdown",
   "id": "479cee51-bba7-41b1-82ca-8b6b71bcdb08",
   "metadata": {
    "tags": [
     "hide-cell"
    ]
   },
   "source": [
    ">>>-\n",
    "### 112. Data imports"
   ]
  },
  {
   "cell_type": "code",
   "execution_count": 2,
   "id": "50be1af8",
   "metadata": {
    "tags": []
   },
   "outputs": [],
   "source": [
    "dfs1 = pd.read_csv(\"olist_customers_dataset.csv\") #, sep=\"\\t\")\n",
    "dfs2 = pd.read_csv(\"olist_geolocation_dataset.csv\") #, sep=\"\\t\")\n",
    "dfs3 = pd.read_csv(\"olist_order_items_dataset.csv\") #, sep=\"\\t\")\n",
    "dfs4 = pd.read_csv(\"olist_order_payments_dataset.csv\") #, sep=\"\\t\")\n",
    "dfs5 = pd.read_csv(\"olist_order_reviews_dataset.csv\") #, sep=\"\\t\")\n",
    "dfs6 = pd.read_csv(\"olist_orders_dataset.csv\") #, sep=\"\\t\")\n",
    "dfs7 = pd.read_csv(\"olist_products_dataset.csv\") #, sep=\"\\t\")\n",
    "dfs8 = pd.read_csv(\"olist_sellers_dataset.csv\") #, sep=\"\\t\")\n",
    "dfs9 = pd.read_csv('product_category_name_translation.csv') #, sep='\\t')\n",
    "dfs = [dfs1, dfs2, dfs3, dfs4, dfs5, dfs6, dfs7, dfs8, dfs9]"
   ]
  },
  {
   "cell_type": "markdown",
   "id": "fe37a686-7032-4e02-8645-5be8aeb8e269",
   "metadata": {},
   "source": [
    "Je ne suis pas très content de cette solution pour pouvoir itérer sur les 9 df car je crée un objet dfs gigantesque, alors que je veux juste une liste qui renvoie vers chacun des 9 df sans contenir leur contenu."
   ]
  },
  {
   "cell_type": "markdown",
   "id": "1b576f64-0806-4d72-8651-8d61f73e246c",
   "metadata": {
    "tags": []
   },
   "source": [
    ">>-\n",
    "## 12. Fabrication du df par merging"
   ]
  },
  {
   "cell_type": "code",
   "execution_count": 3,
   "id": "73e76292-03a6-495f-a3a9-345f103884a1",
   "metadata": {
    "tags": []
   },
   "outputs": [
    {
     "data": {
      "text/html": [
       "<div>\n",
       "<style scoped>\n",
       "    .dataframe tbody tr th:only-of-type {\n",
       "        vertical-align: middle;\n",
       "    }\n",
       "\n",
       "    .dataframe tbody tr th {\n",
       "        vertical-align: top;\n",
       "    }\n",
       "\n",
       "    .dataframe thead th {\n",
       "        text-align: right;\n",
       "    }\n",
       "</style>\n",
       "<table border=\"1\" class=\"dataframe\">\n",
       "  <thead>\n",
       "    <tr style=\"text-align: right;\">\n",
       "      <th></th>\n",
       "      <th>customer_id</th>\n",
       "      <th>customer_unique_id</th>\n",
       "      <th>customer_zip_code_prefix</th>\n",
       "      <th>customer_city</th>\n",
       "      <th>customer_state</th>\n",
       "    </tr>\n",
       "  </thead>\n",
       "  <tbody>\n",
       "    <tr>\n",
       "      <th>0</th>\n",
       "      <td>06b8999e2fba1a1fbc88172c00ba8bc7</td>\n",
       "      <td>861eff4711a542e4b93843c6dd7febb0</td>\n",
       "      <td>14409</td>\n",
       "      <td>franca</td>\n",
       "      <td>SP</td>\n",
       "    </tr>\n",
       "  </tbody>\n",
       "</table>\n",
       "</div>"
      ],
      "text/plain": [
       "                        customer_id                customer_unique_id  \\\n",
       "0  06b8999e2fba1a1fbc88172c00ba8bc7  861eff4711a542e4b93843c6dd7febb0   \n",
       "\n",
       "   customer_zip_code_prefix customer_city customer_state  \n",
       "0                     14409        franca             SP  "
      ]
     },
     "metadata": {},
     "output_type": "display_data"
    },
    {
     "data": {
      "text/plain": [
       "(99441, 5)"
      ]
     },
     "metadata": {},
     "output_type": "display_data"
    },
    {
     "data": {
      "text/html": [
       "<div>\n",
       "<style scoped>\n",
       "    .dataframe tbody tr th:only-of-type {\n",
       "        vertical-align: middle;\n",
       "    }\n",
       "\n",
       "    .dataframe tbody tr th {\n",
       "        vertical-align: top;\n",
       "    }\n",
       "\n",
       "    .dataframe thead th {\n",
       "        text-align: right;\n",
       "    }\n",
       "</style>\n",
       "<table border=\"1\" class=\"dataframe\">\n",
       "  <thead>\n",
       "    <tr style=\"text-align: right;\">\n",
       "      <th></th>\n",
       "      <th>geolocation_zip_code_prefix</th>\n",
       "      <th>geolocation_lat</th>\n",
       "      <th>geolocation_lng</th>\n",
       "      <th>geolocation_city</th>\n",
       "      <th>geolocation_state</th>\n",
       "    </tr>\n",
       "  </thead>\n",
       "  <tbody>\n",
       "    <tr>\n",
       "      <th>0</th>\n",
       "      <td>1037</td>\n",
       "      <td>-23.545621</td>\n",
       "      <td>-46.639292</td>\n",
       "      <td>sao paulo</td>\n",
       "      <td>SP</td>\n",
       "    </tr>\n",
       "  </tbody>\n",
       "</table>\n",
       "</div>"
      ],
      "text/plain": [
       "   geolocation_zip_code_prefix  geolocation_lat  geolocation_lng  \\\n",
       "0                         1037       -23.545621       -46.639292   \n",
       "\n",
       "  geolocation_city geolocation_state  \n",
       "0        sao paulo                SP  "
      ]
     },
     "metadata": {},
     "output_type": "display_data"
    },
    {
     "data": {
      "text/plain": [
       "(1000163, 5)"
      ]
     },
     "metadata": {},
     "output_type": "display_data"
    },
    {
     "data": {
      "text/html": [
       "<div>\n",
       "<style scoped>\n",
       "    .dataframe tbody tr th:only-of-type {\n",
       "        vertical-align: middle;\n",
       "    }\n",
       "\n",
       "    .dataframe tbody tr th {\n",
       "        vertical-align: top;\n",
       "    }\n",
       "\n",
       "    .dataframe thead th {\n",
       "        text-align: right;\n",
       "    }\n",
       "</style>\n",
       "<table border=\"1\" class=\"dataframe\">\n",
       "  <thead>\n",
       "    <tr style=\"text-align: right;\">\n",
       "      <th></th>\n",
       "      <th>order_id</th>\n",
       "      <th>order_item_id</th>\n",
       "      <th>product_id</th>\n",
       "      <th>seller_id</th>\n",
       "      <th>shipping_limit_date</th>\n",
       "      <th>price</th>\n",
       "      <th>freight_value</th>\n",
       "    </tr>\n",
       "  </thead>\n",
       "  <tbody>\n",
       "    <tr>\n",
       "      <th>0</th>\n",
       "      <td>00010242fe8c5a6d1ba2dd792cb16214</td>\n",
       "      <td>1</td>\n",
       "      <td>4244733e06e7ecb4970a6e2683c13e61</td>\n",
       "      <td>48436dade18ac8b2bce089ec2a041202</td>\n",
       "      <td>2017-09-19 09:45:35</td>\n",
       "      <td>58.9</td>\n",
       "      <td>13.29</td>\n",
       "    </tr>\n",
       "  </tbody>\n",
       "</table>\n",
       "</div>"
      ],
      "text/plain": [
       "                           order_id  order_item_id  \\\n",
       "0  00010242fe8c5a6d1ba2dd792cb16214              1   \n",
       "\n",
       "                         product_id                         seller_id  \\\n",
       "0  4244733e06e7ecb4970a6e2683c13e61  48436dade18ac8b2bce089ec2a041202   \n",
       "\n",
       "   shipping_limit_date  price  freight_value  \n",
       "0  2017-09-19 09:45:35   58.9          13.29  "
      ]
     },
     "metadata": {},
     "output_type": "display_data"
    },
    {
     "data": {
      "text/plain": [
       "(112650, 7)"
      ]
     },
     "metadata": {},
     "output_type": "display_data"
    },
    {
     "data": {
      "text/html": [
       "<div>\n",
       "<style scoped>\n",
       "    .dataframe tbody tr th:only-of-type {\n",
       "        vertical-align: middle;\n",
       "    }\n",
       "\n",
       "    .dataframe tbody tr th {\n",
       "        vertical-align: top;\n",
       "    }\n",
       "\n",
       "    .dataframe thead th {\n",
       "        text-align: right;\n",
       "    }\n",
       "</style>\n",
       "<table border=\"1\" class=\"dataframe\">\n",
       "  <thead>\n",
       "    <tr style=\"text-align: right;\">\n",
       "      <th></th>\n",
       "      <th>order_id</th>\n",
       "      <th>payment_sequential</th>\n",
       "      <th>payment_type</th>\n",
       "      <th>payment_installments</th>\n",
       "      <th>payment_value</th>\n",
       "    </tr>\n",
       "  </thead>\n",
       "  <tbody>\n",
       "    <tr>\n",
       "      <th>0</th>\n",
       "      <td>b81ef226f3fe1789b1e8b2acac839d17</td>\n",
       "      <td>1</td>\n",
       "      <td>credit_card</td>\n",
       "      <td>8</td>\n",
       "      <td>99.33</td>\n",
       "    </tr>\n",
       "  </tbody>\n",
       "</table>\n",
       "</div>"
      ],
      "text/plain": [
       "                           order_id  payment_sequential payment_type  \\\n",
       "0  b81ef226f3fe1789b1e8b2acac839d17                   1  credit_card   \n",
       "\n",
       "   payment_installments  payment_value  \n",
       "0                     8          99.33  "
      ]
     },
     "metadata": {},
     "output_type": "display_data"
    },
    {
     "data": {
      "text/plain": [
       "(103886, 5)"
      ]
     },
     "metadata": {},
     "output_type": "display_data"
    },
    {
     "data": {
      "text/html": [
       "<div>\n",
       "<style scoped>\n",
       "    .dataframe tbody tr th:only-of-type {\n",
       "        vertical-align: middle;\n",
       "    }\n",
       "\n",
       "    .dataframe tbody tr th {\n",
       "        vertical-align: top;\n",
       "    }\n",
       "\n",
       "    .dataframe thead th {\n",
       "        text-align: right;\n",
       "    }\n",
       "</style>\n",
       "<table border=\"1\" class=\"dataframe\">\n",
       "  <thead>\n",
       "    <tr style=\"text-align: right;\">\n",
       "      <th></th>\n",
       "      <th>review_id</th>\n",
       "      <th>order_id</th>\n",
       "      <th>review_score</th>\n",
       "      <th>review_comment_title</th>\n",
       "      <th>review_comment_message</th>\n",
       "      <th>review_creation_date</th>\n",
       "      <th>review_answer_timestamp</th>\n",
       "    </tr>\n",
       "  </thead>\n",
       "  <tbody>\n",
       "    <tr>\n",
       "      <th>0</th>\n",
       "      <td>7bc2406110b926393aa56f80a40eba40</td>\n",
       "      <td>73fc7af87114b39712e6da79b0a377eb</td>\n",
       "      <td>4</td>\n",
       "      <td>NaN</td>\n",
       "      <td>NaN</td>\n",
       "      <td>2018-01-18 00:00:00</td>\n",
       "      <td>2018-01-18 21:46:59</td>\n",
       "    </tr>\n",
       "  </tbody>\n",
       "</table>\n",
       "</div>"
      ],
      "text/plain": [
       "                          review_id                          order_id  \\\n",
       "0  7bc2406110b926393aa56f80a40eba40  73fc7af87114b39712e6da79b0a377eb   \n",
       "\n",
       "   review_score review_comment_title review_comment_message  \\\n",
       "0             4                  NaN                    NaN   \n",
       "\n",
       "  review_creation_date review_answer_timestamp  \n",
       "0  2018-01-18 00:00:00     2018-01-18 21:46:59  "
      ]
     },
     "metadata": {},
     "output_type": "display_data"
    },
    {
     "data": {
      "text/plain": [
       "(99224, 7)"
      ]
     },
     "metadata": {},
     "output_type": "display_data"
    },
    {
     "data": {
      "text/html": [
       "<div>\n",
       "<style scoped>\n",
       "    .dataframe tbody tr th:only-of-type {\n",
       "        vertical-align: middle;\n",
       "    }\n",
       "\n",
       "    .dataframe tbody tr th {\n",
       "        vertical-align: top;\n",
       "    }\n",
       "\n",
       "    .dataframe thead th {\n",
       "        text-align: right;\n",
       "    }\n",
       "</style>\n",
       "<table border=\"1\" class=\"dataframe\">\n",
       "  <thead>\n",
       "    <tr style=\"text-align: right;\">\n",
       "      <th></th>\n",
       "      <th>order_id</th>\n",
       "      <th>customer_id</th>\n",
       "      <th>order_status</th>\n",
       "      <th>order_purchase_timestamp</th>\n",
       "      <th>order_approved_at</th>\n",
       "      <th>order_delivered_carrier_date</th>\n",
       "      <th>order_delivered_customer_date</th>\n",
       "      <th>order_estimated_delivery_date</th>\n",
       "    </tr>\n",
       "  </thead>\n",
       "  <tbody>\n",
       "    <tr>\n",
       "      <th>0</th>\n",
       "      <td>e481f51cbdc54678b7cc49136f2d6af7</td>\n",
       "      <td>9ef432eb6251297304e76186b10a928d</td>\n",
       "      <td>delivered</td>\n",
       "      <td>2017-10-02 10:56:33</td>\n",
       "      <td>2017-10-02 11:07:15</td>\n",
       "      <td>2017-10-04 19:55:00</td>\n",
       "      <td>2017-10-10 21:25:13</td>\n",
       "      <td>2017-10-18 00:00:00</td>\n",
       "    </tr>\n",
       "  </tbody>\n",
       "</table>\n",
       "</div>"
      ],
      "text/plain": [
       "                           order_id                       customer_id  \\\n",
       "0  e481f51cbdc54678b7cc49136f2d6af7  9ef432eb6251297304e76186b10a928d   \n",
       "\n",
       "  order_status order_purchase_timestamp    order_approved_at  \\\n",
       "0    delivered      2017-10-02 10:56:33  2017-10-02 11:07:15   \n",
       "\n",
       "  order_delivered_carrier_date order_delivered_customer_date  \\\n",
       "0          2017-10-04 19:55:00           2017-10-10 21:25:13   \n",
       "\n",
       "  order_estimated_delivery_date  \n",
       "0           2017-10-18 00:00:00  "
      ]
     },
     "metadata": {},
     "output_type": "display_data"
    },
    {
     "data": {
      "text/plain": [
       "(99441, 8)"
      ]
     },
     "metadata": {},
     "output_type": "display_data"
    },
    {
     "data": {
      "text/html": [
       "<div>\n",
       "<style scoped>\n",
       "    .dataframe tbody tr th:only-of-type {\n",
       "        vertical-align: middle;\n",
       "    }\n",
       "\n",
       "    .dataframe tbody tr th {\n",
       "        vertical-align: top;\n",
       "    }\n",
       "\n",
       "    .dataframe thead th {\n",
       "        text-align: right;\n",
       "    }\n",
       "</style>\n",
       "<table border=\"1\" class=\"dataframe\">\n",
       "  <thead>\n",
       "    <tr style=\"text-align: right;\">\n",
       "      <th></th>\n",
       "      <th>product_id</th>\n",
       "      <th>product_category_name</th>\n",
       "      <th>product_name_lenght</th>\n",
       "      <th>product_description_lenght</th>\n",
       "      <th>product_photos_qty</th>\n",
       "      <th>product_weight_g</th>\n",
       "      <th>product_length_cm</th>\n",
       "      <th>product_height_cm</th>\n",
       "      <th>product_width_cm</th>\n",
       "    </tr>\n",
       "  </thead>\n",
       "  <tbody>\n",
       "    <tr>\n",
       "      <th>0</th>\n",
       "      <td>1e9e8ef04dbcff4541ed26657ea517e5</td>\n",
       "      <td>perfumaria</td>\n",
       "      <td>40.0</td>\n",
       "      <td>287.0</td>\n",
       "      <td>1.0</td>\n",
       "      <td>225.0</td>\n",
       "      <td>16.0</td>\n",
       "      <td>10.0</td>\n",
       "      <td>14.0</td>\n",
       "    </tr>\n",
       "  </tbody>\n",
       "</table>\n",
       "</div>"
      ],
      "text/plain": [
       "                         product_id product_category_name  \\\n",
       "0  1e9e8ef04dbcff4541ed26657ea517e5            perfumaria   \n",
       "\n",
       "   product_name_lenght  product_description_lenght  product_photos_qty  \\\n",
       "0                 40.0                       287.0                 1.0   \n",
       "\n",
       "   product_weight_g  product_length_cm  product_height_cm  product_width_cm  \n",
       "0             225.0               16.0               10.0              14.0  "
      ]
     },
     "metadata": {},
     "output_type": "display_data"
    },
    {
     "data": {
      "text/plain": [
       "(32951, 9)"
      ]
     },
     "metadata": {},
     "output_type": "display_data"
    },
    {
     "data": {
      "text/html": [
       "<div>\n",
       "<style scoped>\n",
       "    .dataframe tbody tr th:only-of-type {\n",
       "        vertical-align: middle;\n",
       "    }\n",
       "\n",
       "    .dataframe tbody tr th {\n",
       "        vertical-align: top;\n",
       "    }\n",
       "\n",
       "    .dataframe thead th {\n",
       "        text-align: right;\n",
       "    }\n",
       "</style>\n",
       "<table border=\"1\" class=\"dataframe\">\n",
       "  <thead>\n",
       "    <tr style=\"text-align: right;\">\n",
       "      <th></th>\n",
       "      <th>seller_id</th>\n",
       "      <th>seller_zip_code_prefix</th>\n",
       "      <th>seller_city</th>\n",
       "      <th>seller_state</th>\n",
       "    </tr>\n",
       "  </thead>\n",
       "  <tbody>\n",
       "    <tr>\n",
       "      <th>0</th>\n",
       "      <td>3442f8959a84dea7ee197c632cb2df15</td>\n",
       "      <td>13023</td>\n",
       "      <td>campinas</td>\n",
       "      <td>SP</td>\n",
       "    </tr>\n",
       "  </tbody>\n",
       "</table>\n",
       "</div>"
      ],
      "text/plain": [
       "                          seller_id  seller_zip_code_prefix seller_city  \\\n",
       "0  3442f8959a84dea7ee197c632cb2df15                   13023    campinas   \n",
       "\n",
       "  seller_state  \n",
       "0           SP  "
      ]
     },
     "metadata": {},
     "output_type": "display_data"
    },
    {
     "data": {
      "text/plain": [
       "(3095, 4)"
      ]
     },
     "metadata": {},
     "output_type": "display_data"
    },
    {
     "data": {
      "text/html": [
       "<div>\n",
       "<style scoped>\n",
       "    .dataframe tbody tr th:only-of-type {\n",
       "        vertical-align: middle;\n",
       "    }\n",
       "\n",
       "    .dataframe tbody tr th {\n",
       "        vertical-align: top;\n",
       "    }\n",
       "\n",
       "    .dataframe thead th {\n",
       "        text-align: right;\n",
       "    }\n",
       "</style>\n",
       "<table border=\"1\" class=\"dataframe\">\n",
       "  <thead>\n",
       "    <tr style=\"text-align: right;\">\n",
       "      <th></th>\n",
       "      <th>product_category_name</th>\n",
       "      <th>product_category_name_english</th>\n",
       "    </tr>\n",
       "  </thead>\n",
       "  <tbody>\n",
       "    <tr>\n",
       "      <th>0</th>\n",
       "      <td>beleza_saude</td>\n",
       "      <td>health_beauty</td>\n",
       "    </tr>\n",
       "  </tbody>\n",
       "</table>\n",
       "</div>"
      ],
      "text/plain": [
       "  product_category_name product_category_name_english\n",
       "0          beleza_saude                 health_beauty"
      ]
     },
     "metadata": {},
     "output_type": "display_data"
    },
    {
     "data": {
      "text/plain": [
       "(71, 2)"
      ]
     },
     "metadata": {},
     "output_type": "display_data"
    }
   ],
   "source": [
    "pd.set_option(\"display.max_rows\", 20, \"display.max_columns\", None)\n",
    "for df in dfs:\n",
    "    #print(list(df.columns))\n",
    "    display(df.head(1))\n",
    "    display(df.shape)"
   ]
  },
  {
   "cell_type": "markdown",
   "id": "2c68a227-ecca-4f5e-beed-2102ac8d013a",
   "metadata": {},
   "source": [
    "- dfs1 me permettra de remonter au customer unique id à partir du customer id des autres tableaux donc je le garde. J'en retirerai peut-être les données géographiques si elles ont une feature importance basse.\n",
    "- dfs2 donne juste d'autres façons de traduire les données géographiques. Il ne me servira pas.\n",
    "- dfs3 donne une date, un prix et un prix de livraison pour chaque commande. Je le garde.\n",
    "- dfs4 donne le prix de chaque commande. Est-ce redondant avec dfs3 ? À voir.\n",
    "- dfs5 donne pour chaque commande la note/commentaire laissé par le client. Peut-être que je pourrai m'en servir juste pour savoir pour chaque client le taux de commandes qu'il a notées et que ça aiderait la classification mais j'y crois peu donc je retire ce tableau.\n",
    "- dfs6 donne la correspondance entre customer id et order id. Il donne aussi la date d'achat, qui devrait être importante. Date redondante avec dfs3 ?\n",
    "- dfs7 donne des infos sur les produits. Inutile.\n",
    "- dfs8 donne les données géographiques du vendeur. Inutile.\n",
    "- dfs9 est une traduction ES-EN de données inutiles."
   ]
  },
  {
   "cell_type": "code",
   "execution_count": 4,
   "id": "90433779-c2ba-4355-a117-8c191a33362f",
   "metadata": {},
   "outputs": [
    {
     "name": "stdout",
     "output_type": "stream",
     "text": [
      "dfs1: (99441, 5)\n",
      "dfs6: (99441, 8)\n",
      "df  : (99441, 4)\n",
      "dfs4: (103886, 5)\n",
      "df  : (103887, 5)\n"
     ]
    }
   ],
   "source": [
    "print(\"dfs1: \" + str(dfs1.shape))\n",
    "print(\"dfs6: \" + str(dfs6.shape))\n",
    "df = dfs1[[\"customer_id\",\"customer_unique_id\"]].merge(dfs6[[\"customer_id\",\"order_id\",\"order_purchase_timestamp\"]], on=\"customer_id\", how=\"outer\")\n",
    "print(\"df  : \" + str(df.shape))\n",
    "#print(\"dfs3: \" + str(dfs3.shape))\n",
    "#df = df.merge(dfs3[[\"order_id\",\"price\",\"freight_value\"]], on=\"order_id\", how=\"outer\")\n",
    "#print(\"df  : \" + str(df.shape))\n",
    "print(\"dfs4: \" + str(dfs4.shape))\n",
    "df = df.merge(dfs4[[\"order_id\",\"payment_value\"]], on=\"order_id\", how=\"outer\")\n",
    "print(\"df  : \" + str(df.shape))"
   ]
  },
  {
   "cell_type": "markdown",
   "id": "a0e381d6-eb52-4dce-a069-9eb2ce998c03",
   "metadata": {},
   "source": [
    "Le df final fait une ligne de plus que le dfs4.  \n",
    "Il y a donc soit un doublon qui a été créé soit une entrée du {dfs1 + dfs6} a un \"order_id\" qui n'existe pas dans dfs4."
   ]
  },
  {
   "cell_type": "markdown",
   "id": "611230e6-661e-401f-881b-27ff657d422e",
   "metadata": {
    "tags": []
   },
   "source": [
    ">-\n",
    "# 2. Cleaning"
   ]
  },
  {
   "cell_type": "markdown",
   "id": "8cba2595-c594-4ea0-8fc3-4825a5d37db8",
   "metadata": {
    "tags": []
   },
   "source": [
    ">>-\n",
    "## 21. Erreurs de merge (ajout de duplicates)"
   ]
  },
  {
   "cell_type": "code",
   "execution_count": 5,
   "id": "908cccb6-e9fd-4465-8fef-e892e28bf4f1",
   "metadata": {},
   "outputs": [
    {
     "data": {
      "text/html": [
       "<div>\n",
       "<style scoped>\n",
       "    .dataframe tbody tr th:only-of-type {\n",
       "        vertical-align: middle;\n",
       "    }\n",
       "\n",
       "    .dataframe tbody tr th {\n",
       "        vertical-align: top;\n",
       "    }\n",
       "\n",
       "    .dataframe thead th {\n",
       "        text-align: right;\n",
       "    }\n",
       "</style>\n",
       "<table border=\"1\" class=\"dataframe\">\n",
       "  <thead>\n",
       "    <tr style=\"text-align: right;\">\n",
       "      <th></th>\n",
       "      <th>order_purchase_timestamp</th>\n",
       "      <th>payment_value</th>\n",
       "    </tr>\n",
       "  </thead>\n",
       "  <tbody>\n",
       "    <tr>\n",
       "      <th>22061</th>\n",
       "      <td>2016-09-15 12:16:38</td>\n",
       "      <td>NaN</td>\n",
       "    </tr>\n",
       "  </tbody>\n",
       "</table>\n",
       "</div>"
      ],
      "text/plain": [
       "      order_purchase_timestamp  payment_value\n",
       "22061      2016-09-15 12:16:38            NaN"
      ]
     },
     "metadata": {},
     "output_type": "display_data"
    }
   ],
   "source": [
    "new_elt = list(set(df.order_id).difference(set(dfs4.order_id)))\n",
    "display(df[[\"order_purchase_timestamp\",\"payment_value\"]][df.order_id == new_elt[0]])"
   ]
  },
  {
   "cell_type": "markdown",
   "id": "6e259049-f0c6-4700-be1f-9d5e4d2b776f",
   "metadata": {},
   "source": [
    "Vu que cet achat n'existe pas dans dfs4 il n'a pas de donnée renseignée pour la colonne payment_value.  \n",
    "Le merge avec df4 a ajouté une ligne avec payment_value manquante.  \n",
    "Je vais supprimer cet élément."
   ]
  },
  {
   "cell_type": "code",
   "execution_count": 6,
   "id": "4a194039-1bcb-466f-abaa-eceee0bb162f",
   "metadata": {},
   "outputs": [
    {
     "data": {
      "text/plain": [
       "923"
      ]
     },
     "execution_count": 6,
     "metadata": {},
     "output_type": "execute_result"
    }
   ],
   "source": [
    "df[[\"order_id\",\"order_purchase_timestamp\",\"payment_value\"]].duplicated(keep=False).sum()"
   ]
  },
  {
   "cell_type": "markdown",
   "id": "23d12784-1719-4dc7-bae6-6ab8c76d3485",
   "metadata": {},
   "source": [
    "Il y a beaucoup de duplicates dans le df mergé."
   ]
  },
  {
   "cell_type": "code",
   "execution_count": 7,
   "id": "a4c2337d-67df-4742-aca4-730f3bb370bb",
   "metadata": {},
   "outputs": [
    {
     "data": {
      "text/html": [
       "<div>\n",
       "<style scoped>\n",
       "    .dataframe tbody tr th:only-of-type {\n",
       "        vertical-align: middle;\n",
       "    }\n",
       "\n",
       "    .dataframe tbody tr th {\n",
       "        vertical-align: top;\n",
       "    }\n",
       "\n",
       "    .dataframe thead th {\n",
       "        text-align: right;\n",
       "    }\n",
       "</style>\n",
       "<table border=\"1\" class=\"dataframe\">\n",
       "  <thead>\n",
       "    <tr style=\"text-align: right;\">\n",
       "      <th></th>\n",
       "      <th>customer_id</th>\n",
       "      <th>customer_unique_id</th>\n",
       "      <th>order_id</th>\n",
       "      <th>order_purchase_timestamp</th>\n",
       "      <th>payment_value</th>\n",
       "    </tr>\n",
       "  </thead>\n",
       "  <tbody>\n",
       "    <tr>\n",
       "      <th>312</th>\n",
       "      <td>dcb6e7bc4e65d815025d0aa14349a4ca</td>\n",
       "      <td>a1864cdd58debf5031958069ee937742</td>\n",
       "      <td>dfaa4ce943a8dba10b754befb76fdb49</td>\n",
       "      <td>2017-11-26 15:11:19</td>\n",
       "      <td>189.88</td>\n",
       "    </tr>\n",
       "    <tr>\n",
       "      <th>313</th>\n",
       "      <td>dcb6e7bc4e65d815025d0aa14349a4ca</td>\n",
       "      <td>a1864cdd58debf5031958069ee937742</td>\n",
       "      <td>dfaa4ce943a8dba10b754befb76fdb49</td>\n",
       "      <td>2017-11-26 15:11:19</td>\n",
       "      <td>189.88</td>\n",
       "    </tr>\n",
       "  </tbody>\n",
       "</table>\n",
       "</div>"
      ],
      "text/plain": [
       "                          customer_id                customer_unique_id  \\\n",
       "312  dcb6e7bc4e65d815025d0aa14349a4ca  a1864cdd58debf5031958069ee937742   \n",
       "313  dcb6e7bc4e65d815025d0aa14349a4ca  a1864cdd58debf5031958069ee937742   \n",
       "\n",
       "                             order_id order_purchase_timestamp  payment_value  \n",
       "312  dfaa4ce943a8dba10b754befb76fdb49      2017-11-26 15:11:19         189.88  \n",
       "313  dfaa4ce943a8dba10b754befb76fdb49      2017-11-26 15:11:19         189.88  "
      ]
     },
     "execution_count": 7,
     "metadata": {},
     "output_type": "execute_result"
    }
   ],
   "source": [
    "df[df[[\"order_id\",\"order_purchase_timestamp\",\"payment_value\"]].duplicated(keep=False)][:2]"
   ]
  },
  {
   "cell_type": "code",
   "execution_count": 8,
   "id": "91304c7a-648c-44aa-a205-a9b3b6da5d49",
   "metadata": {
    "tags": []
   },
   "outputs": [
    {
     "data": {
      "text/html": [
       "<div>\n",
       "<style scoped>\n",
       "    .dataframe tbody tr th:only-of-type {\n",
       "        vertical-align: middle;\n",
       "    }\n",
       "\n",
       "    .dataframe tbody tr th {\n",
       "        vertical-align: top;\n",
       "    }\n",
       "\n",
       "    .dataframe thead th {\n",
       "        text-align: right;\n",
       "    }\n",
       "</style>\n",
       "<table border=\"1\" class=\"dataframe\">\n",
       "  <thead>\n",
       "    <tr style=\"text-align: right;\">\n",
       "      <th></th>\n",
       "      <th>order_id</th>\n",
       "      <th>payment_sequential</th>\n",
       "      <th>payment_type</th>\n",
       "      <th>payment_installments</th>\n",
       "      <th>payment_value</th>\n",
       "    </tr>\n",
       "  </thead>\n",
       "  <tbody>\n",
       "    <tr>\n",
       "      <th>20650</th>\n",
       "      <td>00bd50cdd31bd22e9081e6e2d5b3577b</td>\n",
       "      <td>2</td>\n",
       "      <td>voucher</td>\n",
       "      <td>1</td>\n",
       "      <td>40.46</td>\n",
       "    </tr>\n",
       "    <tr>\n",
       "      <th>8869</th>\n",
       "      <td>00bd50cdd31bd22e9081e6e2d5b3577b</td>\n",
       "      <td>3</td>\n",
       "      <td>voucher</td>\n",
       "      <td>1</td>\n",
       "      <td>40.46</td>\n",
       "    </tr>\n",
       "    <tr>\n",
       "      <th>52049</th>\n",
       "      <td>00c405bd71187154a7846862f585a9d4</td>\n",
       "      <td>5</td>\n",
       "      <td>voucher</td>\n",
       "      <td>1</td>\n",
       "      <td>0.10</td>\n",
       "    </tr>\n",
       "    <tr>\n",
       "      <th>20594</th>\n",
       "      <td>00c405bd71187154a7846862f585a9d4</td>\n",
       "      <td>7</td>\n",
       "      <td>voucher</td>\n",
       "      <td>1</td>\n",
       "      <td>20.00</td>\n",
       "    </tr>\n",
       "    <tr>\n",
       "      <th>60979</th>\n",
       "      <td>00c405bd71187154a7846862f585a9d4</td>\n",
       "      <td>3</td>\n",
       "      <td>voucher</td>\n",
       "      <td>1</td>\n",
       "      <td>0.10</td>\n",
       "    </tr>\n",
       "    <tr>\n",
       "      <th>26391</th>\n",
       "      <td>00c405bd71187154a7846862f585a9d4</td>\n",
       "      <td>6</td>\n",
       "      <td>voucher</td>\n",
       "      <td>1</td>\n",
       "      <td>20.00</td>\n",
       "    </tr>\n",
       "    <tr>\n",
       "      <th>72814</th>\n",
       "      <td>00c95282163553a982f38481f9488481</td>\n",
       "      <td>2</td>\n",
       "      <td>voucher</td>\n",
       "      <td>1</td>\n",
       "      <td>20.00</td>\n",
       "    </tr>\n",
       "    <tr>\n",
       "      <th>34579</th>\n",
       "      <td>00c95282163553a982f38481f9488481</td>\n",
       "      <td>4</td>\n",
       "      <td>voucher</td>\n",
       "      <td>1</td>\n",
       "      <td>20.00</td>\n",
       "    </tr>\n",
       "    <tr>\n",
       "      <th>60372</th>\n",
       "      <td>00c95282163553a982f38481f9488481</td>\n",
       "      <td>3</td>\n",
       "      <td>voucher</td>\n",
       "      <td>1</td>\n",
       "      <td>20.00</td>\n",
       "    </tr>\n",
       "    <tr>\n",
       "      <th>67984</th>\n",
       "      <td>03e5d6a8dd520898f86f8429ccd07c21</td>\n",
       "      <td>1</td>\n",
       "      <td>voucher</td>\n",
       "      <td>1</td>\n",
       "      <td>46.80</td>\n",
       "    </tr>\n",
       "  </tbody>\n",
       "</table>\n",
       "</div>"
      ],
      "text/plain": [
       "                               order_id  payment_sequential payment_type  \\\n",
       "20650  00bd50cdd31bd22e9081e6e2d5b3577b                   2      voucher   \n",
       "8869   00bd50cdd31bd22e9081e6e2d5b3577b                   3      voucher   \n",
       "52049  00c405bd71187154a7846862f585a9d4                   5      voucher   \n",
       "20594  00c405bd71187154a7846862f585a9d4                   7      voucher   \n",
       "60979  00c405bd71187154a7846862f585a9d4                   3      voucher   \n",
       "26391  00c405bd71187154a7846862f585a9d4                   6      voucher   \n",
       "72814  00c95282163553a982f38481f9488481                   2      voucher   \n",
       "34579  00c95282163553a982f38481f9488481                   4      voucher   \n",
       "60372  00c95282163553a982f38481f9488481                   3      voucher   \n",
       "67984  03e5d6a8dd520898f86f8429ccd07c21                   1      voucher   \n",
       "\n",
       "       payment_installments  payment_value  \n",
       "20650                     1          40.46  \n",
       "8869                      1          40.46  \n",
       "52049                     1           0.10  \n",
       "20594                     1          20.00  \n",
       "60979                     1           0.10  \n",
       "26391                     1          20.00  \n",
       "72814                     1          20.00  \n",
       "34579                     1          20.00  \n",
       "60372                     1          20.00  \n",
       "67984                     1          46.80  "
      ]
     },
     "execution_count": 8,
     "metadata": {},
     "output_type": "execute_result"
    }
   ],
   "source": [
    "dfs4[dfs4[[\"order_id\",\"payment_value\"]].duplicated(keep=False)].sort_values(by=\"order_id\")[:10]"
   ]
  },
  {
   "cell_type": "code",
   "execution_count": 9,
   "id": "35f237c2-6869-4704-89b7-7689ecddaa76",
   "metadata": {
    "tags": []
   },
   "outputs": [
    {
     "data": {
      "text/plain": [
       "923"
      ]
     },
     "execution_count": 9,
     "metadata": {},
     "output_type": "execute_result"
    }
   ],
   "source": [
    "dfs4[[\"order_id\",\"payment_value\"]].duplicated(keep=False).sum()"
   ]
  },
  {
   "cell_type": "markdown",
   "id": "ce06366c-b81e-4f07-b14b-d14797daaabc",
   "metadata": {},
   "source": [
    "On voit que tous ces duplicates étaient déjà dans la base de données initiale donc ce sont juste des clients qui ont acheté plusieurs exemplaires du même item dans leur commande.  \n",
    "Là j'ai de la chance car le merge n'a rajouté qu'un seul (faux) élément dans le df et il n'apparaît pas ici car il n'a pas de \"payment_value\". Je peux donc facilement le trouver et le supprimer, je dois juste faire très attention à ne pas utiliser duplicated() pour delete car ici les duplicates ne sont pas des erreurs de remplissage."
   ]
  },
  {
   "cell_type": "code",
   "execution_count": 10,
   "id": "e05738f7-b4d3-43e7-bd4a-59bceacf8638",
   "metadata": {
    "tags": []
   },
   "outputs": [
    {
     "data": {
      "text/plain": [
       "0"
      ]
     },
     "execution_count": 10,
     "metadata": {},
     "output_type": "execute_result"
    }
   ],
   "source": [
    "dfs4[\"payment_value\"].isna().sum()"
   ]
  },
  {
   "cell_type": "code",
   "execution_count": 11,
   "id": "0fa85abd-9db6-47f8-abbc-0e5f54fe6f9c",
   "metadata": {
    "tags": []
   },
   "outputs": [
    {
     "data": {
      "text/plain": [
       "1"
      ]
     },
     "execution_count": 11,
     "metadata": {},
     "output_type": "execute_result"
    }
   ],
   "source": [
    "df[\"payment_value\"].isna().sum()"
   ]
  },
  {
   "cell_type": "code",
   "execution_count": 12,
   "id": "8148917e-7f77-4b24-b52a-01a318eb416c",
   "metadata": {},
   "outputs": [],
   "source": [
    "id_sans_payt_val = df[\"order_id\"][df[\"payment_value\"].isna() == True]"
   ]
  },
  {
   "cell_type": "markdown",
   "id": "ae55f2cf-0bf6-42aa-ae99-7715ce9647a7",
   "metadata": {},
   "source": [
    "L'erreur de merge est très facile à trouver et supprimer ici."
   ]
  },
  {
   "cell_type": "code",
   "execution_count": 13,
   "id": "244bca44-b7fc-4cc5-ab51-aeada786927a",
   "metadata": {},
   "outputs": [
    {
     "name": "stdout",
     "output_type": "stream",
     "text": [
      "(103887, 5)\n",
      "Il n'y avait pas de colonne 'level_0' indésirable à supprimer.\n",
      "Une colonne 'index' indésirable a été supprimée.\n",
      "(103886, 5)\n"
     ]
    }
   ],
   "source": [
    "print(df.shape)\n",
    "df = df[df.order_id != new_elt[0]]\n",
    "df = my.resindx(df)"
   ]
  },
  {
   "cell_type": "code",
   "execution_count": 14,
   "id": "ebde862f-9665-4b84-af13-c95f50c26321",
   "metadata": {
    "tags": []
   },
   "outputs": [
    {
     "data": {
      "text/plain": [
       "0"
      ]
     },
     "execution_count": 14,
     "metadata": {},
     "output_type": "execute_result"
    }
   ],
   "source": [
    "df[\"payment_value\"].isna().sum()"
   ]
  },
  {
   "cell_type": "markdown",
   "id": "9eb97404-2129-4c3d-a4bd-622e3d37b809",
   "metadata": {
    "tags": []
   },
   "source": [
    ">>-\n",
    "## 22. Feature cleaning"
   ]
  },
  {
   "cell_type": "markdown",
   "id": "bcf7997b-ba93-4fff-b49f-a3b714125ab6",
   "metadata": {},
   "source": [
    "Je nettoie les colonnes inutiles:"
   ]
  },
  {
   "cell_type": "code",
   "execution_count": 15,
   "id": "cd29a10f-3907-4cd6-9b73-82e372248c36",
   "metadata": {},
   "outputs": [],
   "source": [
    "keeps = [\"customer_unique_id\",\"order_purchase_timestamp\",\"payment_value\"]"
   ]
  },
  {
   "cell_type": "code",
   "execution_count": 16,
   "id": "20f5a1d8-c4b1-4be0-b8e7-ae84b7d4d1b1",
   "metadata": {},
   "outputs": [
    {
     "data": {
      "text/html": [
       "<div>\n",
       "<style scoped>\n",
       "    .dataframe tbody tr th:only-of-type {\n",
       "        vertical-align: middle;\n",
       "    }\n",
       "\n",
       "    .dataframe tbody tr th {\n",
       "        vertical-align: top;\n",
       "    }\n",
       "\n",
       "    .dataframe thead th {\n",
       "        text-align: right;\n",
       "    }\n",
       "</style>\n",
       "<table border=\"1\" class=\"dataframe\">\n",
       "  <thead>\n",
       "    <tr style=\"text-align: right;\">\n",
       "      <th></th>\n",
       "      <th>customer_unique_id</th>\n",
       "      <th>order_purchase_timestamp</th>\n",
       "      <th>payment_value</th>\n",
       "    </tr>\n",
       "  </thead>\n",
       "  <tbody>\n",
       "    <tr>\n",
       "      <th>0</th>\n",
       "      <td>861eff4711a542e4b93843c6dd7febb0</td>\n",
       "      <td>2017-05-16 15:05:35</td>\n",
       "      <td>146.87</td>\n",
       "    </tr>\n",
       "    <tr>\n",
       "      <th>1</th>\n",
       "      <td>290c77bc529b7ac935b93aa66c333dc3</td>\n",
       "      <td>2018-01-12 20:48:24</td>\n",
       "      <td>335.48</td>\n",
       "    </tr>\n",
       "  </tbody>\n",
       "</table>\n",
       "</div>"
      ],
      "text/plain": [
       "                 customer_unique_id order_purchase_timestamp  payment_value\n",
       "0  861eff4711a542e4b93843c6dd7febb0      2017-05-16 15:05:35         146.87\n",
       "1  290c77bc529b7ac935b93aa66c333dc3      2018-01-12 20:48:24         335.48"
      ]
     },
     "execution_count": 16,
     "metadata": {},
     "output_type": "execute_result"
    }
   ],
   "source": [
    "df = df[keeps]\n",
    "df.head(2)"
   ]
  },
  {
   "cell_type": "markdown",
   "id": "37755d69-fd0e-45d8-8e99-916a722cb8cc",
   "metadata": {
    "tags": []
   },
   "source": [
    ">>-\n",
    "## 23. Réorganisation vers RFM"
   ]
  },
  {
   "cell_type": "code",
   "execution_count": 17,
   "id": "cd753fd1-de7c-4c28-b712-e773d7ba9785",
   "metadata": {},
   "outputs": [
    {
     "data": {
      "text/html": [
       "<div>\n",
       "<style scoped>\n",
       "    .dataframe tbody tr th:only-of-type {\n",
       "        vertical-align: middle;\n",
       "    }\n",
       "\n",
       "    .dataframe tbody tr th {\n",
       "        vertical-align: top;\n",
       "    }\n",
       "\n",
       "    .dataframe thead th {\n",
       "        text-align: right;\n",
       "    }\n",
       "</style>\n",
       "<table border=\"1\" class=\"dataframe\">\n",
       "  <thead>\n",
       "    <tr style=\"text-align: right;\">\n",
       "      <th></th>\n",
       "      <th>order_purchase_timestamp</th>\n",
       "      <th>payment_value</th>\n",
       "    </tr>\n",
       "    <tr>\n",
       "      <th>customer_unique_id</th>\n",
       "      <th></th>\n",
       "      <th></th>\n",
       "    </tr>\n",
       "  </thead>\n",
       "  <tbody>\n",
       "    <tr>\n",
       "      <th>0000366f3b9a7992bf8c76cfdf3221e2</th>\n",
       "      <td>1</td>\n",
       "      <td>1</td>\n",
       "    </tr>\n",
       "    <tr>\n",
       "      <th>0000b849f77a49e4a4ce2b2a4ca5be3f</th>\n",
       "      <td>1</td>\n",
       "      <td>1</td>\n",
       "    </tr>\n",
       "  </tbody>\n",
       "</table>\n",
       "</div>"
      ],
      "text/plain": [
       "                                  order_purchase_timestamp  payment_value\n",
       "customer_unique_id                                                       \n",
       "0000366f3b9a7992bf8c76cfdf3221e2                         1              1\n",
       "0000b849f77a49e4a4ce2b2a4ca5be3f                         1              1"
      ]
     },
     "execution_count": 17,
     "metadata": {},
     "output_type": "execute_result"
    }
   ],
   "source": [
    "df.groupby(\"customer_unique_id\").count().head(2)"
   ]
  },
  {
   "cell_type": "code",
   "execution_count": 18,
   "id": "5353f393-2ad7-46c6-b40f-610be17e2f3f",
   "metadata": {},
   "outputs": [
    {
     "data": {
      "text/html": [
       "<div>\n",
       "<style scoped>\n",
       "    .dataframe tbody tr th:only-of-type {\n",
       "        vertical-align: middle;\n",
       "    }\n",
       "\n",
       "    .dataframe tbody tr th {\n",
       "        vertical-align: top;\n",
       "    }\n",
       "\n",
       "    .dataframe thead th {\n",
       "        text-align: right;\n",
       "    }\n",
       "</style>\n",
       "<table border=\"1\" class=\"dataframe\">\n",
       "  <thead>\n",
       "    <tr style=\"text-align: right;\">\n",
       "      <th></th>\n",
       "      <th>order_purchase_timestamp</th>\n",
       "      <th>payment_value</th>\n",
       "    </tr>\n",
       "    <tr>\n",
       "      <th>customer_unique_id</th>\n",
       "      <th></th>\n",
       "      <th></th>\n",
       "    </tr>\n",
       "  </thead>\n",
       "  <tbody>\n",
       "    <tr>\n",
       "      <th>0058f300f57d7b93c477a131a59b36c3</th>\n",
       "      <td>3</td>\n",
       "      <td>3</td>\n",
       "    </tr>\n",
       "    <tr>\n",
       "      <th>00a9fd000ff87bb48b989df819c418f5</th>\n",
       "      <td>4</td>\n",
       "      <td>4</td>\n",
       "    </tr>\n",
       "  </tbody>\n",
       "</table>\n",
       "</div>"
      ],
      "text/plain": [
       "                                  order_purchase_timestamp  payment_value\n",
       "customer_unique_id                                                       \n",
       "0058f300f57d7b93c477a131a59b36c3                         3              3\n",
       "00a9fd000ff87bb48b989df819c418f5                         4              4"
      ]
     },
     "execution_count": 18,
     "metadata": {},
     "output_type": "execute_result"
    }
   ],
   "source": [
    "df.groupby(\"customer_unique_id\").count()[df.groupby(\"customer_unique_id\").order_purchase_timestamp.count() > 2].head(2)"
   ]
  },
  {
   "cell_type": "code",
   "execution_count": 19,
   "id": "4167bc6d-49b3-4b31-86ee-e307b90683ee",
   "metadata": {},
   "outputs": [
    {
     "data": {
      "text/plain": [
       "datetime.datetime(2022, 11, 8, 9, 12, 1, 655373)"
      ]
     },
     "execution_count": 19,
     "metadata": {},
     "output_type": "execute_result"
    }
   ],
   "source": [
    "datetime.datetime.now()"
   ]
  },
  {
   "cell_type": "code",
   "execution_count": 20,
   "id": "a1ffc10d-f31b-4a84-aaf2-f59f8cf228bc",
   "metadata": {},
   "outputs": [
    {
     "data": {
      "text/plain": [
       "'2018-10-17 17:30:18'"
      ]
     },
     "execution_count": 20,
     "metadata": {},
     "output_type": "execute_result"
    }
   ],
   "source": [
    "df.order_purchase_timestamp.max()"
   ]
  },
  {
   "cell_type": "code",
   "execution_count": 21,
   "id": "174f090b-83d1-4f72-98c4-7e7091877699",
   "metadata": {},
   "outputs": [
    {
     "data": {
      "text/plain": [
       "'2016-09-04 21:15:19'"
      ]
     },
     "execution_count": 21,
     "metadata": {},
     "output_type": "execute_result"
    }
   ],
   "source": [
    "df.order_purchase_timestamp.min()"
   ]
  },
  {
   "cell_type": "code",
   "execution_count": 22,
   "id": "07b9ae13-2dc2-47cc-833a-e2baa9b70d03",
   "metadata": {},
   "outputs": [
    {
     "name": "stdout",
     "output_type": "stream",
     "text": [
      "Couldn't find program: 'echo'\n"
     ]
    }
   ],
   "source": [
    "%%script echo\n",
    "#J'arrête de run cette cell car c'est trop long.\n",
    "#Naturellement ça va causer une erreur juste en-dessous.\n",
    "#Faut relancer à partir de dfs = pd.read(\"dfs_1.csv\")\n",
    "\n",
    "#Évidemment le mieux serait que je fasse mon subsampling avant cette présente cell mais\n",
    "#dans le souci de \"non cleané, pour comprendre votre démarche\" je garde tout ceci dans l'ordre de mon raisonnement et\n",
    "#juste je script echo ces quelques cells\n",
    "\n",
    "#t0 = datetime.datetime.now()\n",
    "t0 = datetime.datetime.strptime(df.order_purchase_timestamp.max(), \"%Y-%m-%d %H:%M:%S\") # %S.%f s'il y a les millièmes de seconde.\n",
    "tt = pd.Series(name=\"recency\")\n",
    "for i in range(df.shape[0]):\n",
    "    tt.loc[i] = (t0 - datetime.datetime.strptime(df[\"order_purchase_timestamp\"][i], \"%Y-%m-%d %H:%M:%S\")).total_seconds()\n",
    "tt.head(2)\n",
    "df[\"recency\"] = tt"
   ]
  },
  {
   "cell_type": "markdown",
   "id": "c45108d7-5984-474c-95fc-d336c34f39bf",
   "metadata": {},
   "source": [
    "C'est giga long ce striptime pour chaque élément de la series. (environ 3min)"
   ]
  },
  {
   "cell_type": "code",
   "execution_count": 23,
   "id": "3822fc21-29ab-49dc-9c1c-eaad03e5a5a3",
   "metadata": {
    "tags": []
   },
   "outputs": [
    {
     "name": "stdout",
     "output_type": "stream",
     "text": [
      "0.6578239999999997\n",
      "0.07303630000000005\n"
     ]
    }
   ],
   "source": [
    "t0 = datetime.datetime.strptime(df.order_purchase_timestamp.max(), \"%Y-%m-%d %H:%M:%S\")\n",
    "#df[\"recency\"] = pd.DataFrame(df[\"order_purchase_timestamp\"]).apply(lambda x: (t0 - datetime.datetime.strptime(x, \"%Y-%m-%d %H:%M:%S\")).total_seconds())\n",
    "# Ne fonctionne pas car il met dans x la Series entière.\n",
    "time_0 = timeit.default_timer()\n",
    "df[\"recency\"] = pd.DataFrame(df[\"order_purchase_timestamp\"]).applymap(lambda x: (t0 - datetime.datetime.strptime(x, \"%Y-%m-%d %H:%M:%S\")).total_seconds())\n",
    "# Fonctionne (car cette fois la lambda travaille sur chaque élément) et fonctionne rapidement.\n",
    "time_1 = timeit.default_timer()\n",
    "print(time_1 - time_0)\n",
    "df[\"recency_2\"] = pd.to_numeric(pd.to_datetime(df.order_purchase_timestamp))\n",
    "df[\"recency_2\"] = (df.recency_2.max() - df.recency_2)*10**-9\n",
    "time_2 = timeit.default_timer()\n",
    "print(time_2 - time_1)"
   ]
  },
  {
   "cell_type": "markdown",
   "id": "3c74e89f-3d44-4d98-afb1-20e133da5d35",
   "metadata": {},
   "source": [
    "Donc passer par to_datetime puis to_numeric est presque 20 fois plus rapide que d'utiliser applymap, qui lui-même est environ 300 fois plus rapide qu'une for loop sur la Series..."
   ]
  },
  {
   "cell_type": "code",
   "execution_count": 24,
   "id": "061a28d7-78a4-4732-8d63-37804b1c2fd9",
   "metadata": {},
   "outputs": [
    {
     "data": {
      "text/html": [
       "<div>\n",
       "<style scoped>\n",
       "    .dataframe tbody tr th:only-of-type {\n",
       "        vertical-align: middle;\n",
       "    }\n",
       "\n",
       "    .dataframe tbody tr th {\n",
       "        vertical-align: top;\n",
       "    }\n",
       "\n",
       "    .dataframe thead th {\n",
       "        text-align: right;\n",
       "    }\n",
       "</style>\n",
       "<table border=\"1\" class=\"dataframe\">\n",
       "  <thead>\n",
       "    <tr style=\"text-align: right;\">\n",
       "      <th></th>\n",
       "      <th>customer_unique_id</th>\n",
       "      <th>order_purchase_timestamp</th>\n",
       "      <th>payment_value</th>\n",
       "      <th>recency</th>\n",
       "      <th>recency_2</th>\n",
       "    </tr>\n",
       "  </thead>\n",
       "  <tbody>\n",
       "    <tr>\n",
       "      <th>0</th>\n",
       "      <td>861eff4711a542e4b93843c6dd7febb0</td>\n",
       "      <td>2017-05-16 15:05:35</td>\n",
       "      <td>146.87</td>\n",
       "      <td>44850283.0</td>\n",
       "      <td>44850283.0</td>\n",
       "    </tr>\n",
       "    <tr>\n",
       "      <th>1</th>\n",
       "      <td>290c77bc529b7ac935b93aa66c333dc3</td>\n",
       "      <td>2018-01-12 20:48:24</td>\n",
       "      <td>335.48</td>\n",
       "      <td>24007314.0</td>\n",
       "      <td>24007314.0</td>\n",
       "    </tr>\n",
       "  </tbody>\n",
       "</table>\n",
       "</div>"
      ],
      "text/plain": [
       "                 customer_unique_id order_purchase_timestamp  payment_value  \\\n",
       "0  861eff4711a542e4b93843c6dd7febb0      2017-05-16 15:05:35         146.87   \n",
       "1  290c77bc529b7ac935b93aa66c333dc3      2018-01-12 20:48:24         335.48   \n",
       "\n",
       "      recency   recency_2  \n",
       "0  44850283.0  44850283.0  \n",
       "1  24007314.0  24007314.0  "
      ]
     },
     "execution_count": 24,
     "metadata": {},
     "output_type": "execute_result"
    }
   ],
   "source": [
    "df.head(2)"
   ]
  },
  {
   "cell_type": "markdown",
   "id": "588aa97b-0d1b-4a22-87f6-097d4e348e8d",
   "metadata": {},
   "source": [
    "... et le résultat obtenu a l'air identique."
   ]
  },
  {
   "cell_type": "code",
   "execution_count": 25,
   "id": "8f7c8236-3f2d-4afe-a309-7651c607c581",
   "metadata": {},
   "outputs": [
    {
     "data": {
      "text/plain": [
       "{-7.450580596923828e-09,\n",
       " -3.725290298461914e-09,\n",
       " -1.862645149230957e-09,\n",
       " -9.313225746154785e-10,\n",
       " -4.656612873077393e-10,\n",
       " -2.3283064365386963e-10,\n",
       " 0.0}"
      ]
     },
     "execution_count": 25,
     "metadata": {},
     "output_type": "execute_result"
    }
   ],
   "source": [
    "set(df.recency - df.recency_2)"
   ]
  },
  {
   "cell_type": "markdown",
   "id": "bd0aa6a2-1115-4d2d-b311-1e0be89728aa",
   "metadata": {},
   "source": [
    "En effet les deux méthodes retournent les mêmes valeurs."
   ]
  },
  {
   "cell_type": "markdown",
   "id": "4a47a6b3-8841-4ce8-a76c-fc48f66593d9",
   "metadata": {},
   "source": [
    "<a id=\"anchor1\"></a>"
   ]
  },
  {
   "cell_type": "code",
   "execution_count": 26,
   "id": "4bcafc1d-6505-4ccc-b234-3d1e0babe8da",
   "metadata": {},
   "outputs": [
    {
     "name": "stdout",
     "output_type": "stream",
     "text": [
      "90366\n",
      "90366\n",
      "93355\n"
     ]
    }
   ],
   "source": [
    "print(sum(df.groupby(\"customer_unique_id\").order_purchase_timestamp.count() == 1))\n",
    "print(sum(df.groupby(\"customer_unique_id\").aggregate(\"order_purchase_timestamp\").count() == 1))\n",
    "print(sum(df.groupby([\"customer_unique_id\",\"order_purchase_timestamp\"]).agg(\"count\").groupby(\"customer_unique_id\").count().payment_value == 1))"
   ]
  },
  {
   "cell_type": "markdown",
   "id": "9f369ecf-b29a-4573-a1bc-25a029bb4ba6",
   "metadata": {},
   "source": [
    "((Je peux prolly construire F juste par duplicated(), voire juste par value_counts(), tester.))"
   ]
  },
  {
   "cell_type": "markdown",
   "id": "fab5d317-25bf-4ab8-9624-b98a0e7bd04e",
   "metadata": {},
   "source": [
    "Je montre en [annexe](#anchor2) une version simplifiée et détaillée de ce que fait ce groupby-count-groupby-count."
   ]
  },
  {
   "cell_type": "code",
   "execution_count": 27,
   "id": "b0b217f7-60b8-4f3b-8d14-139f9453abf4",
   "metadata": {},
   "outputs": [
    {
     "data": {
      "text/html": [
       "<div>\n",
       "<style scoped>\n",
       "    .dataframe tbody tr th:only-of-type {\n",
       "        vertical-align: middle;\n",
       "    }\n",
       "\n",
       "    .dataframe tbody tr th {\n",
       "        vertical-align: top;\n",
       "    }\n",
       "\n",
       "    .dataframe thead th {\n",
       "        text-align: right;\n",
       "    }\n",
       "</style>\n",
       "<table border=\"1\" class=\"dataframe\">\n",
       "  <thead>\n",
       "    <tr style=\"text-align: right;\">\n",
       "      <th></th>\n",
       "      <th>R</th>\n",
       "      <th>F</th>\n",
       "      <th>M</th>\n",
       "    </tr>\n",
       "    <tr>\n",
       "      <th>customer_unique_id</th>\n",
       "      <th></th>\n",
       "      <th></th>\n",
       "      <th></th>\n",
       "    </tr>\n",
       "  </thead>\n",
       "  <tbody>\n",
       "    <tr>\n",
       "      <th>0000366f3b9a7992bf8c76cfdf3221e2</th>\n",
       "      <td>13847631.0</td>\n",
       "      <td>1</td>\n",
       "      <td>141.90</td>\n",
       "    </tr>\n",
       "    <tr>\n",
       "      <th>0000b849f77a49e4a4ce2b2a4ca5be3f</th>\n",
       "      <td>14105931.0</td>\n",
       "      <td>1</td>\n",
       "      <td>27.19</td>\n",
       "    </tr>\n",
       "    <tr>\n",
       "      <th>0000f46a3911fa3c0805444483337064</th>\n",
       "      <td>50617515.0</td>\n",
       "      <td>1</td>\n",
       "      <td>86.22</td>\n",
       "    </tr>\n",
       "    <tr>\n",
       "      <th>0000f6ccb0745a6a4b88665a16c9f078</th>\n",
       "      <td>31957237.0</td>\n",
       "      <td>1</td>\n",
       "      <td>43.62</td>\n",
       "    </tr>\n",
       "    <tr>\n",
       "      <th>0004aac84e0df4da2b147fca70cf8255</th>\n",
       "      <td>29108676.0</td>\n",
       "      <td>1</td>\n",
       "      <td>196.89</td>\n",
       "    </tr>\n",
       "  </tbody>\n",
       "</table>\n",
       "</div>"
      ],
      "text/plain": [
       "                                           R  F       M\n",
       "customer_unique_id                                     \n",
       "0000366f3b9a7992bf8c76cfdf3221e2  13847631.0  1  141.90\n",
       "0000b849f77a49e4a4ce2b2a4ca5be3f  14105931.0  1   27.19\n",
       "0000f46a3911fa3c0805444483337064  50617515.0  1   86.22\n",
       "0000f6ccb0745a6a4b88665a16c9f078  31957237.0  1   43.62\n",
       "0004aac84e0df4da2b147fca70cf8255  29108676.0  1  196.89"
      ]
     },
     "execution_count": 27,
     "metadata": {},
     "output_type": "execute_result"
    }
   ],
   "source": [
    "dfs = pd.DataFrame()\n",
    "dfs[\"R\"] = df.groupby(\"customer_unique_id\").recency.min()\n",
    "#dfs[\"F\"] = df.groupby(\"customer_unique_id\").order_purchase_timestamp.count() # Ceci count tout item acheté par l'utilisateur au lieu de count seulement 1 par commande.\n",
    "#dfs[\"F\"] = df.groupby(\"customer_unique_id\").aggregate(\"order_purchase_timestamp\").count() # idem\n",
    "dfs[\"F\"] = df.groupby([\"customer_unique_id\",\"order_purchase_timestamp\"]).agg(\"count\").groupby(\"customer_unique_id\").count().payment_value\n",
    "dfs[\"M\"] = df.groupby(\"customer_unique_id\").payment_value.sum()\n",
    "dfs.head()"
   ]
  },
  {
   "cell_type": "code",
   "execution_count": 28,
   "id": "06a61203-c434-46bb-b007-df3c8547721b",
   "metadata": {},
   "outputs": [
    {
     "name": "stdout",
     "output_type": "stream",
     "text": [
      "96095 ,  93355\n",
      "Il y a 2.9% de clients ayant effectué plus d'un achat dans le dataset avant subsampling.\n"
     ]
    }
   ],
   "source": [
    "print(dfs.shape[0], \", \", sum(dfs.F == 1))\n",
    "pct = (1-sum(dfs.F == 1)/dfs.shape[0])*100\n",
    "pct = (sum(dfs.F > 1)/dfs.shape[0])*100 # idem car par construction F < 1 n'existe pas.\n",
    "print(\"Il y a {a:.1f}% de clients ayant effectué plus d'un achat dans le dataset avant subsampling.\".format(a=pct))"
   ]
  },
  {
   "cell_type": "code",
   "execution_count": 29,
   "id": "e84f6dc6-fb86-497c-aafe-286bf392f1ec",
   "metadata": {},
   "outputs": [],
   "source": [
    "dfs.to_csv(\"dfs_1.csv\")\n",
    "dfs_1 = dfs.copy()"
   ]
  },
  {
   "cell_type": "code",
   "execution_count": 30,
   "id": "472684de-dc55-4ced-8d52-b60f290d8f2a",
   "metadata": {},
   "outputs": [],
   "source": [
    "dfs = pd.read_csv(\"dfs_1.csv\")"
   ]
  },
  {
   "cell_type": "markdown",
   "id": "ec3f4b4f-4566-4500-b88d-fbe7102fded8",
   "metadata": {
    "tags": []
   },
   "source": [
    ">>-\n",
    "## 24. Missing values (RAS ...)"
   ]
  },
  {
   "cell_type": "code",
   "execution_count": 31,
   "id": "f0b6b1a5-9131-4384-8b64-b026b41f4fb1",
   "metadata": {},
   "outputs": [
    {
     "data": {
      "text/plain": [
       "customer_unique_id          0\n",
       "order_purchase_timestamp    0\n",
       "payment_value               0\n",
       "recency                     0\n",
       "recency_2                   0\n",
       "dtype: int64"
      ]
     },
     "execution_count": 31,
     "metadata": {},
     "output_type": "execute_result"
    }
   ],
   "source": [
    "df.isna().sum()"
   ]
  },
  {
   "cell_type": "code",
   "execution_count": 32,
   "id": "6324391e-5e58-4477-bc17-15c29c9f0ae8",
   "metadata": {},
   "outputs": [
    {
     "data": {
      "text/plain": [
       "customer_unique_id    0\n",
       "R                     0\n",
       "F                     0\n",
       "M                     0\n",
       "dtype: int64"
      ]
     },
     "execution_count": 32,
     "metadata": {},
     "output_type": "execute_result"
    }
   ],
   "source": [
    "dfs.isna().sum()"
   ]
  },
  {
   "cell_type": "markdown",
   "id": "570817b2-1cc6-4d63-a9d5-003c77048c76",
   "metadata": {
    "tags": []
   },
   "source": [
    ">>-\n",
    "## 25. Imputation (... donc aucune imputation nécessaire)"
   ]
  },
  {
   "cell_type": "code",
   "execution_count": 33,
   "id": "d02fa6d2-7bc9-406f-ae38-f761e638f3e8",
   "metadata": {},
   "outputs": [
    {
     "name": "stdout",
     "output_type": "stream",
     "text": [
      "Couldn't find program: 'echo'\n"
     ]
    }
   ],
   "source": [
    "%%script echo\n",
    "for co in dfs.columns:\n",
    "    dfs.loc[dfs[co].isna(),co] = dfs[co].mean()"
   ]
  },
  {
   "cell_type": "markdown",
   "id": "010df703-1672-4a9d-9e44-a6428ccfc724",
   "metadata": {},
   "source": [
    "J'aurais utilisé le mean() pour Recency et Monetary (celui après log) car on a affaire à une distribution qui est quasiment une distribution normale.  \n",
    "Pour Frequency par contre même après passage au log on a toujours un skewness grand, car il est extrêmement rare qu'un client ait fait plus d'un achat dans le cas de ce dataset, donc j'aurais probablement imputé par median()."
   ]
  },
  {
   "cell_type": "markdown",
   "id": "3d81ada4-451a-4317-90d8-e4f2f2860727",
   "metadata": {
    "tags": []
   },
   "source": [
    ">>-\n",
    "## 26. Subsampling par sélection des clients à 2+ orders (hors-projet donc finalement inutilisé)\n",
    "  \n",
    "  ATTENTION ! Finalement je me suis rendu compte que cette méthode est problématique et j'ai donc utilisé dfs_2 dans mon notebook de clustering plutôt que dfs_3, avec un subsampling standard.  \n",
    "  \n",
    "Je me suis vite rendu compte dans le notebook de clustering que mon df est bien trop grand.  \n",
    "Je décide donc de le réduire fortement ici.  \n",
    "Je tente de sortir tous les clients qui n'ont fait qu'un seul achat. En effet, pour eux je n'ai que R et M. Je peux juste savoir si leur unique achat est récent ou non et s'il est cher ou non. Ça me fera donc au maximum 4 catégories (pour lesquelles je n'ai pas encore déterminé le threshold de prix ni le threshold de date) avec comme stratégies marketing:\n",
    "- old + cheap: Un simple mail \"Vous nous manquez.\"\n",
    "- old + expensive: \"Vous avez acheté tel truc à tel date. Est-ce qu'il fonctionne toujours ? Voulez-vous tester un autre modèle ?\"\n",
    "- recent + cheap: \"Donnez-nous votre avis sur cet achat\" ou \"Venez voir les bons plans de cette semaine\"\n",
    "- recent + expensive: \"Tel article et tel article vont super bien avec l'article que vous avez acheté. Est-ce que ça vous intéresse ?\""
   ]
  },
  {
   "cell_type": "code",
   "execution_count": 34,
   "id": "8b554795-5926-44ea-badc-f66bad7b23e7",
   "metadata": {},
   "outputs": [
    {
     "name": "stdout",
     "output_type": "stream",
     "text": [
      "(96095, 4)\n"
     ]
    }
   ],
   "source": [
    "print(dfs.shape)"
   ]
  },
  {
   "cell_type": "code",
   "execution_count": 35,
   "id": "e71f8e6b-9628-42ec-84e4-488e6c748d56",
   "metadata": {},
   "outputs": [
    {
     "data": {
      "text/html": [
       "<div>\n",
       "<style scoped>\n",
       "    .dataframe tbody tr th:only-of-type {\n",
       "        vertical-align: middle;\n",
       "    }\n",
       "\n",
       "    .dataframe tbody tr th {\n",
       "        vertical-align: top;\n",
       "    }\n",
       "\n",
       "    .dataframe thead th {\n",
       "        text-align: right;\n",
       "    }\n",
       "</style>\n",
       "<table border=\"1\" class=\"dataframe\">\n",
       "  <thead>\n",
       "    <tr style=\"text-align: right;\">\n",
       "      <th></th>\n",
       "      <th>customer_unique_id</th>\n",
       "      <th>R</th>\n",
       "      <th>F</th>\n",
       "      <th>M</th>\n",
       "    </tr>\n",
       "  </thead>\n",
       "  <tbody>\n",
       "    <tr>\n",
       "      <th>0</th>\n",
       "      <td>0000366f3b9a7992bf8c76cfdf3221e2</td>\n",
       "      <td>13847631.0</td>\n",
       "      <td>1</td>\n",
       "      <td>141.90</td>\n",
       "    </tr>\n",
       "    <tr>\n",
       "      <th>1</th>\n",
       "      <td>0000b849f77a49e4a4ce2b2a4ca5be3f</td>\n",
       "      <td>14105931.0</td>\n",
       "      <td>1</td>\n",
       "      <td>27.19</td>\n",
       "    </tr>\n",
       "  </tbody>\n",
       "</table>\n",
       "</div>"
      ],
      "text/plain": [
       "                 customer_unique_id           R  F       M\n",
       "0  0000366f3b9a7992bf8c76cfdf3221e2  13847631.0  1  141.90\n",
       "1  0000b849f77a49e4a4ce2b2a4ca5be3f  14105931.0  1   27.19"
      ]
     },
     "metadata": {},
     "output_type": "display_data"
    },
    {
     "name": "stdout",
     "output_type": "stream",
     "text": [
      "(2740, 3)\n"
     ]
    },
    {
     "data": {
      "text/html": [
       "<div>\n",
       "<style scoped>\n",
       "    .dataframe tbody tr th:only-of-type {\n",
       "        vertical-align: middle;\n",
       "    }\n",
       "\n",
       "    .dataframe tbody tr th {\n",
       "        vertical-align: top;\n",
       "    }\n",
       "\n",
       "    .dataframe thead th {\n",
       "        text-align: right;\n",
       "    }\n",
       "</style>\n",
       "<table border=\"1\" class=\"dataframe\">\n",
       "  <thead>\n",
       "    <tr style=\"text-align: right;\">\n",
       "      <th></th>\n",
       "      <th>R</th>\n",
       "      <th>F</th>\n",
       "      <th>M</th>\n",
       "    </tr>\n",
       "    <tr>\n",
       "      <th>customer_unique_id</th>\n",
       "      <th></th>\n",
       "      <th></th>\n",
       "      <th></th>\n",
       "    </tr>\n",
       "  </thead>\n",
       "  <tbody>\n",
       "    <tr>\n",
       "      <th>00172711b30d52eea8b313a7f2cced02</th>\n",
       "      <td>5645771.0</td>\n",
       "      <td>2</td>\n",
       "      <td>244.14</td>\n",
       "    </tr>\n",
       "    <tr>\n",
       "      <th>004288347e5e88a27ded2bb23747066c</th>\n",
       "      <td>23882004.0</td>\n",
       "      <td>2</td>\n",
       "      <td>354.37</td>\n",
       "    </tr>\n",
       "  </tbody>\n",
       "</table>\n",
       "</div>"
      ],
      "text/plain": [
       "                                           R  F       M\n",
       "customer_unique_id                                     \n",
       "00172711b30d52eea8b313a7f2cced02   5645771.0  2  244.14\n",
       "004288347e5e88a27ded2bb23747066c  23882004.0  2  354.37"
      ]
     },
     "execution_count": 35,
     "metadata": {},
     "output_type": "execute_result"
    }
   ],
   "source": [
    "display(dfs.head(2))\n",
    "dfs = dfs_1[dfs_1.F > 1]\n",
    "print(dfs.shape)\n",
    "dfs.head(2)"
   ]
  },
  {
   "cell_type": "code",
   "execution_count": 36,
   "id": "c04d129d-efdd-4003-9d7f-d670b9d3c15a",
   "metadata": {},
   "outputs": [],
   "source": [
    "dfs.to_csv(\"dfs_2.csv\")\n",
    "dfs_2 = dfs.copy()"
   ]
  },
  {
   "cell_type": "markdown",
   "id": "8fbaa315-d4d9-40fa-9485-b2526a3edcff",
   "metadata": {
    "tags": []
   },
   "source": [
    ">-\n",
    "# 3. Visualisation"
   ]
  },
  {
   "cell_type": "code",
   "execution_count": 37,
   "id": "1c010206-996a-4a8a-8b59-57bbf6df96c5",
   "metadata": {},
   "outputs": [],
   "source": [
    "dfs = dfs_1"
   ]
  },
  {
   "cell_type": "markdown",
   "id": "7df46287-8062-4566-849d-4159b2c3f7a9",
   "metadata": {
    "tags": []
   },
   "source": [
    ">>-\n",
    "## 31. Initialisation"
   ]
  },
  {
   "cell_type": "code",
   "execution_count": 38,
   "id": "9d6e3362-f4ea-473d-a809-b58270eb181e",
   "metadata": {},
   "outputs": [],
   "source": [
    "def hstplot(seris, strlog='log de ', hstsize=20):\n",
    "    hst = seris.copy()\n",
    "    hst.replace([np.inf, -np.inf], np.nan, inplace=True)\n",
    "    hst.dropna(inplace=True)\n",
    "    hst_val, hst_bin = np.histogram(hst, bins=50)\n",
    "    hst = pd.DataFrame()\n",
    "    hst.loc[:,'hst_bin'] = hst_bin[:-1] # Ou alors décaler d'un demi bin avec bins_mean = [0.5 * (bins[i] + bins[i+1]) for i in range(len(n))].\n",
    "    hst.loc[:,'hst_val'] = hst_val\n",
    "    hst = hst[hst['hst_val'] != 0]\n",
    "    with sns.axes_style(\"whitegrid\"):\n",
    "        sns.scatterplot(hst['hst_bin'], hst['hst_val'], legend=None, s=hstsize)\n",
    "    plt.title(('Hist de ' + strlog + co),fontsize=16)\n",
    "    plt.xlabel((strlog + co),fontsize=16)\n",
    "    plt.xticks(fontsize=14)\n",
    "    plt.ylabel('Nb de bâtiments',fontsize=16)\n",
    "    plt.yticks(fontsize=14)\n",
    "    plt.legend"
   ]
  },
  {
   "cell_type": "markdown",
   "id": "600474c2-73aa-475d-8652-1e501d441489",
   "metadata": {
    "tags": []
   },
   "source": [
    ">>-\n",
    "## 32. Features brutes"
   ]
  },
  {
   "cell_type": "code",
   "execution_count": 39,
   "id": "991b83a9-d5d1-4dba-952f-e07f68b8873a",
   "metadata": {},
   "outputs": [
    {
     "name": "stdout",
     "output_type": "stream",
     "text": [
      "\n"
     ]
    },
    {
     "data": {
      "image/png": "[encoded data removed]",
      "text/plain": [
       "<Figure size 216x144 with 1 Axes>"
      ]
     },
     "metadata": {},
     "output_type": "display_data"
    }
   ],
   "source": [
    "warnings.filterwarnings('ignore')\n",
    "plt.figure(figsize=(3, 2))\n",
    "my.hstplot(dfs[\"R\"], strlog='')\n",
    "plt.savefig(\"Hist_de_R.png\",\n",
    "            bbox_inches=\"tight\")\n",
    "print()"
   ]
  },
  {
   "cell_type": "code",
   "execution_count": 40,
   "id": "02190e60-04aa-4b51-a835-9a98e519e389",
   "metadata": {},
   "outputs": [
    {
     "name": "stdout",
     "output_type": "stream",
     "text": [
      "\n"
     ]
    },
    {
     "data": {
      "image/png": "[encoded data removed]",
      "text/plain": [
       "<Figure size 216x144 with 1 Axes>"
      ]
     },
     "metadata": {},
     "output_type": "display_data"
    }
   ],
   "source": [
    "warnings.filterwarnings('ignore')\n",
    "plt.figure(figsize=(3, 2))\n",
    "my.hstplot(dfs[\"F\"], strlog='')\n",
    "plt.savefig(\"Hist_de_F.png\",\n",
    "            bbox_inches=\"tight\")\n",
    "print()"
   ]
  },
  {
   "cell_type": "code",
   "execution_count": 41,
   "id": "73c5f0f7-7c09-4a43-a2b5-f4969a1eddc8",
   "metadata": {},
   "outputs": [
    {
     "name": "stdout",
     "output_type": "stream",
     "text": [
      "\n"
     ]
    },
    {
     "data": {
      "image/png": "[encoded data removed]",
      "text/plain": [
       "<Figure size 216x144 with 1 Axes>"
      ]
     },
     "metadata": {},
     "output_type": "display_data"
    }
   ],
   "source": [
    "warnings.filterwarnings('ignore')\n",
    "plt.figure(figsize=(3, 2))\n",
    "my.hstplot(dfs[\"M\"], strlog='')\n",
    "plt.savefig(\"Hist_de_M.png\",\n",
    "            bbox_inches=\"tight\")\n",
    "print()"
   ]
  },
  {
   "cell_type": "markdown",
   "id": "afbb0a15-06c1-4ada-ad34-63f323c69f1c",
   "metadata": {
    "tags": []
   },
   "source": [
    ">>-\n",
    "## 33. log(F), log(M)"
   ]
  },
  {
   "cell_type": "code",
   "execution_count": 42,
   "id": "cef48318-2179-44a9-9df1-c0b100191c9c",
   "metadata": {},
   "outputs": [
    {
     "data": {
      "text/html": [
       "<div>\n",
       "<style scoped>\n",
       "    .dataframe tbody tr th:only-of-type {\n",
       "        vertical-align: middle;\n",
       "    }\n",
       "\n",
       "    .dataframe tbody tr th {\n",
       "        vertical-align: top;\n",
       "    }\n",
       "\n",
       "    .dataframe thead th {\n",
       "        text-align: right;\n",
       "    }\n",
       "</style>\n",
       "<table border=\"1\" class=\"dataframe\">\n",
       "  <thead>\n",
       "    <tr style=\"text-align: right;\">\n",
       "      <th></th>\n",
       "      <th>R</th>\n",
       "      <th>F</th>\n",
       "      <th>M</th>\n",
       "    </tr>\n",
       "    <tr>\n",
       "      <th>customer_unique_id</th>\n",
       "      <th></th>\n",
       "      <th></th>\n",
       "      <th></th>\n",
       "    </tr>\n",
       "  </thead>\n",
       "  <tbody>\n",
       "    <tr>\n",
       "      <th>0000366f3b9a7992bf8c76cfdf3221e2</th>\n",
       "      <td>13847631.0</td>\n",
       "      <td>1</td>\n",
       "      <td>141.9</td>\n",
       "    </tr>\n",
       "  </tbody>\n",
       "</table>\n",
       "</div>"
      ],
      "text/plain": [
       "                                           R  F      M\n",
       "customer_unique_id                                    \n",
       "0000366f3b9a7992bf8c76cfdf3221e2  13847631.0  1  141.9"
      ]
     },
     "metadata": {},
     "output_type": "display_data"
    },
    {
     "data": {
      "text/html": [
       "<div>\n",
       "<style scoped>\n",
       "    .dataframe tbody tr th:only-of-type {\n",
       "        vertical-align: middle;\n",
       "    }\n",
       "\n",
       "    .dataframe tbody tr th {\n",
       "        vertical-align: top;\n",
       "    }\n",
       "\n",
       "    .dataframe thead th {\n",
       "        text-align: right;\n",
       "    }\n",
       "</style>\n",
       "<table border=\"1\" class=\"dataframe\">\n",
       "  <thead>\n",
       "    <tr style=\"text-align: right;\">\n",
       "      <th></th>\n",
       "      <th>R</th>\n",
       "      <th>F</th>\n",
       "      <th>M</th>\n",
       "    </tr>\n",
       "    <tr>\n",
       "      <th>customer_unique_id</th>\n",
       "      <th></th>\n",
       "      <th></th>\n",
       "      <th></th>\n",
       "    </tr>\n",
       "  </thead>\n",
       "  <tbody>\n",
       "    <tr>\n",
       "      <th>0000366f3b9a7992bf8c76cfdf3221e2</th>\n",
       "      <td>13847631.0</td>\n",
       "      <td>1.0</td>\n",
       "      <td>7.158862</td>\n",
       "    </tr>\n",
       "  </tbody>\n",
       "</table>\n",
       "</div>"
      ],
      "text/plain": [
       "                                           R    F         M\n",
       "customer_unique_id                                         \n",
       "0000366f3b9a7992bf8c76cfdf3221e2  13847631.0  1.0  7.158862"
      ]
     },
     "execution_count": 42,
     "metadata": {},
     "output_type": "execute_result"
    }
   ],
   "source": [
    "display(dfs.head(1))\n",
    "dfs.F = np.log(1+dfs.F)/np.log(2)\n",
    "dfs.M = np.log(1+dfs.M)/np.log(2)\n",
    "dfs.head(1)"
   ]
  },
  {
   "cell_type": "code",
   "execution_count": 43,
   "id": "560388b0-b8db-44bd-9b08-71c9a3fd57b8",
   "metadata": {},
   "outputs": [],
   "source": [
    "dfs.to_csv(\"dfs_log.csv\")\n",
    "dfs_log = dfs.copy()"
   ]
  },
  {
   "cell_type": "code",
   "execution_count": 44,
   "id": "3d65c906-a2f6-4361-b8e7-86381c85ce24",
   "metadata": {},
   "outputs": [
    {
     "name": "stdout",
     "output_type": "stream",
     "text": [
      "\n"
     ]
    },
    {
     "data": {
      "image/png": "[encoded data removed]",
      "text/plain": [
       "<Figure size 216x144 with 1 Axes>"
      ]
     },
     "metadata": {},
     "output_type": "display_data"
    }
   ],
   "source": [
    "warnings.filterwarnings('ignore')\n",
    "plt.figure(figsize=(3, 2))\n",
    "my.hstplot(dfs_log.F, strlog='log de ')\n",
    "plt.savefig(\"Hist_de_log_de_F.png\",\n",
    "            bbox_inches=\"tight\")\n",
    "print()"
   ]
  },
  {
   "cell_type": "code",
   "execution_count": 45,
   "id": "b014f2c3-0dc1-4a1c-a384-18d8c9a33475",
   "metadata": {},
   "outputs": [
    {
     "name": "stdout",
     "output_type": "stream",
     "text": [
      "\n"
     ]
    },
    {
     "data": {
      "image/png": "[encoded data removed]",
      "text/plain": [
       "<Figure size 216x144 with 1 Axes>"
      ]
     },
     "metadata": {},
     "output_type": "display_data"
    }
   ],
   "source": [
    "warnings.filterwarnings('ignore')\n",
    "plt.figure(figsize=(3, 2))\n",
    "my.hstplot(dfs_log.M, strlog='log de ')\n",
    "plt.savefig(\"Hist_de_log_de_M.png\",\n",
    "            bbox_inches=\"tight\")\n",
    "print()"
   ]
  },
  {
   "cell_type": "markdown",
   "id": "ed7f0373-110d-4263-923a-ad530db725c4",
   "metadata": {
    "tags": []
   },
   "source": [
    ">>-\n",
    "## 34. logs de F"
   ]
  },
  {
   "cell_type": "code",
   "execution_count": 46,
   "id": "f861bc41-2227-4f47-bf54-d1ce29545ba6",
   "metadata": {},
   "outputs": [],
   "source": [
    "dfs.F = np.log(1+dfs.F)/np.log(2)"
   ]
  },
  {
   "cell_type": "code",
   "execution_count": 47,
   "id": "f9d4229e-738f-4ec0-b667-ed0ffb0166b4",
   "metadata": {},
   "outputs": [],
   "source": [
    "dfs.to_csv(\"dfs_loglog.csv\")\n",
    "dfs_loglog = dfs.copy()"
   ]
  },
  {
   "cell_type": "code",
   "execution_count": 48,
   "id": "93adb68b-9728-4bbe-bdf2-c7f04feb5e6e",
   "metadata": {},
   "outputs": [
    {
     "name": "stdout",
     "output_type": "stream",
     "text": [
      "\n"
     ]
    },
    {
     "data": {
      "image/png": "[encoded data removed]",
      "text/plain": [
       "<Figure size 216x144 with 1 Axes>"
      ]
     },
     "metadata": {},
     "output_type": "display_data"
    }
   ],
   "source": [
    "warnings.filterwarnings('ignore')\n",
    "plt.figure(figsize=(3, 2))\n",
    "my.hstplot(dfs_loglog.F, strlog='log de log de ')\n",
    "print()"
   ]
  },
  {
   "cell_type": "code",
   "execution_count": 49,
   "id": "670016aa-2266-44d5-83be-cb7871b57354",
   "metadata": {},
   "outputs": [],
   "source": [
    "dfs.F = np.log(1+dfs.F)/np.log(2)"
   ]
  },
  {
   "cell_type": "code",
   "execution_count": 50,
   "id": "9add11aa-741b-4983-bd31-e39990d1bee3",
   "metadata": {},
   "outputs": [],
   "source": [
    "dfs.to_csv(\"dfs_logloglog.csv\")\n",
    "dfs_logloglog = dfs.copy()"
   ]
  },
  {
   "cell_type": "code",
   "execution_count": 51,
   "id": "e6015762-e82d-49d9-941c-94598f475003",
   "metadata": {},
   "outputs": [
    {
     "name": "stdout",
     "output_type": "stream",
     "text": [
      "\n"
     ]
    },
    {
     "data": {
      "image/png": "[encoded data removed]",
      "text/plain": [
       "<Figure size 216x144 with 1 Axes>"
      ]
     },
     "metadata": {},
     "output_type": "display_data"
    }
   ],
   "source": [
    "warnings.filterwarnings('ignore')\n",
    "plt.figure(figsize=(3, 2))\n",
    "my.hstplot(dfs_logloglog.F, strlog='log de log de log de ')\n",
    "print()"
   ]
  },
  {
   "cell_type": "code",
   "execution_count": 52,
   "id": "5906b0a3-02b9-4cac-b01a-341f7b2391de",
   "metadata": {},
   "outputs": [],
   "source": [
    "dfs.F = np.log(1+dfs.F)/np.log(2)"
   ]
  },
  {
   "cell_type": "code",
   "execution_count": 53,
   "id": "9db38b96-e2b4-4686-8d2c-838a9c541e07",
   "metadata": {},
   "outputs": [],
   "source": [
    "dfs.to_csv(\"dfs_loglogloglog.csv\")\n",
    "dfs_loglogloglog = dfs.copy()"
   ]
  },
  {
   "cell_type": "code",
   "execution_count": 54,
   "id": "4f57cad4-252f-43b5-bce4-5ddac74402e5",
   "metadata": {},
   "outputs": [
    {
     "name": "stdout",
     "output_type": "stream",
     "text": [
      "\n"
     ]
    },
    {
     "data": {
      "image/png": "[encoded data removed]",
      "text/plain": [
       "<Figure size 216x144 with 1 Axes>"
      ]
     },
     "metadata": {},
     "output_type": "display_data"
    }
   ],
   "source": [
    "warnings.filterwarnings('ignore')\n",
    "plt.figure(figsize=(3, 2))\n",
    "my.hstplot(dfs_loglogloglog.F, strlog='log de log de log de log de ')\n",
    "print()"
   ]
  },
  {
   "cell_type": "markdown",
   "id": "c519c879-1e96-4f94-8a14-62b5271af521",
   "metadata": {},
   "source": [
    "Clairement la solution n'est pas dans cette direction."
   ]
  },
  {
   "cell_type": "markdown",
   "id": "53c41aa4-82b4-43a7-8152-dbb0235d9d34",
   "metadata": {},
   "source": [
    "<a id=\"anchor2\"></a>"
   ]
  },
  {
   "cell_type": "markdown",
   "id": "6e8b1117-31d0-46d0-9462-6b23bf0b2ec4",
   "metadata": {},
   "source": [
    ">-\n",
    "# Z. Annexe 1 - striptime"
   ]
  },
  {
   "cell_type": "code",
   "execution_count": 55,
   "id": "75d76439-1ae9-400e-96e6-bc230d317633",
   "metadata": {},
   "outputs": [
    {
     "data": {
      "text/plain": [
       "0   2017-05-16 15:05:35\n",
       "1   2018-01-12 20:48:24\n",
       "Name: order_purchase_timestamp, dtype: datetime64[ns]"
      ]
     },
     "execution_count": 55,
     "metadata": {},
     "output_type": "execute_result"
    }
   ],
   "source": [
    "pd.to_datetime(df.order_purchase_timestamp).head(2)"
   ]
  },
  {
   "cell_type": "code",
   "execution_count": 56,
   "id": "c61d5684-4a0b-4a21-9fef-f8924fa11bfc",
   "metadata": {},
   "outputs": [
    {
     "data": {
      "text/plain": [
       "0    1494947135000000000\n",
       "1    1515790104000000000\n",
       "Name: order_purchase_timestamp, dtype: int64"
      ]
     },
     "execution_count": 56,
     "metadata": {},
     "output_type": "execute_result"
    }
   ],
   "source": [
    "pd.to_numeric(pd.to_datetime(df.order_purchase_timestamp)).head(2)"
   ]
  },
  {
   "cell_type": "markdown",
   "id": "91931f00-e4f6-4fd7-90e3-1dd9149cd7f0",
   "metadata": {},
   "source": [
    ">-\n",
    "# Z. Annexe 2 - groupby-count-groupby-count"
   ]
  },
  {
   "cell_type": "markdown",
   "id": "1093f0ba-c65b-4636-aee1-e323cc8ccdd6",
   "metadata": {},
   "source": [
    "[Retour à la construction RFM.](#anchor1)"
   ]
  },
  {
   "cell_type": "code",
   "execution_count": 57,
   "id": "6123eaeb-d8cc-4499-bc2e-76655d107e8e",
   "metadata": {},
   "outputs": [
    {
     "data": {
      "text/html": [
       "<div>\n",
       "<style scoped>\n",
       "    .dataframe tbody tr th:only-of-type {\n",
       "        vertical-align: middle;\n",
       "    }\n",
       "\n",
       "    .dataframe tbody tr th {\n",
       "        vertical-align: top;\n",
       "    }\n",
       "\n",
       "    .dataframe thead th {\n",
       "        text-align: right;\n",
       "    }\n",
       "</style>\n",
       "<table border=\"1\" class=\"dataframe\">\n",
       "  <thead>\n",
       "    <tr style=\"text-align: right;\">\n",
       "      <th></th>\n",
       "      <th>Client</th>\n",
       "      <th>Prix_unit</th>\n",
       "      <th>R</th>\n",
       "      <th>Discount</th>\n",
       "    </tr>\n",
       "  </thead>\n",
       "  <tbody>\n",
       "    <tr>\n",
       "      <th>0</th>\n",
       "      <td>Spark</td>\n",
       "      <td>20000</td>\n",
       "      <td>60days</td>\n",
       "      <td>1000</td>\n",
       "    </tr>\n",
       "    <tr>\n",
       "      <th>1</th>\n",
       "      <td>PySpark</td>\n",
       "      <td>25000</td>\n",
       "      <td>40days</td>\n",
       "      <td>2300</td>\n",
       "    </tr>\n",
       "    <tr>\n",
       "      <th>2</th>\n",
       "      <td>Hadoop</td>\n",
       "      <td>26000</td>\n",
       "      <td>35days</td>\n",
       "      <td>&lt;NA&gt;</td>\n",
       "    </tr>\n",
       "    <tr>\n",
       "      <th>3</th>\n",
       "      <td>Python</td>\n",
       "      <td>22000</td>\n",
       "      <td>40days</td>\n",
       "      <td>0</td>\n",
       "    </tr>\n",
       "    <tr>\n",
       "      <th>4</th>\n",
       "      <td>PySpark</td>\n",
       "      <td>25000</td>\n",
       "      <td>40days</td>\n",
       "      <td>2000</td>\n",
       "    </tr>\n",
       "    <tr>\n",
       "      <th>5</th>\n",
       "      <td>Spark</td>\n",
       "      <td>20000</td>\n",
       "      <td>60days</td>\n",
       "      <td>2000</td>\n",
       "    </tr>\n",
       "    <tr>\n",
       "      <th>6</th>\n",
       "      <td>Spark</td>\n",
       "      <td>35000</td>\n",
       "      <td>70days</td>\n",
       "      <td>3000</td>\n",
       "    </tr>\n",
       "  </tbody>\n",
       "</table>\n",
       "</div>"
      ],
      "text/plain": [
       "    Client  Prix_unit       R Discount\n",
       "0    Spark      20000  60days     1000\n",
       "1  PySpark      25000  40days     2300\n",
       "2   Hadoop      26000  35days     <NA>\n",
       "3   Python      22000  40days        0\n",
       "4  PySpark      25000  40days     2000\n",
       "5    Spark      20000  60days     2000\n",
       "6    Spark      35000  70days     3000"
      ]
     },
     "execution_count": 57,
     "metadata": {},
     "output_type": "execute_result"
    }
   ],
   "source": [
    "dd = pd.DataFrame({\n",
    "    'Client':[\"Spark\",\"PySpark\",\"Hadoop\",\"Python\",\"PySpark\",\"Spark\",\"Spark\"],\n",
    "    'Prix_unit' :[20000,25000,26000,22000,25000,20000,35000],\n",
    "    'R':['60days','40days','35days','40days','40days','60days','70days'],\n",
    "    'Discount':[1000,2300,pd.NA,0,2000,2000,3000]\n",
    "              })\n",
    "dd"
   ]
  },
  {
   "cell_type": "code",
   "execution_count": 58,
   "id": "9917c0fc-3e7a-427d-9306-298922394457",
   "metadata": {},
   "outputs": [
    {
     "data": {
      "text/plain": [
       "0      Spark\n",
       "1    PySpark\n",
       "2     Hadoop\n",
       "3     Python\n",
       "4    PySpark\n",
       "5      Spark\n",
       "6      Spark\n",
       "Name: Client, dtype: object"
      ]
     },
     "execution_count": 58,
     "metadata": {},
     "output_type": "execute_result"
    }
   ],
   "source": [
    "dd.agg(\"Client\")"
   ]
  },
  {
   "cell_type": "code",
   "execution_count": 59,
   "id": "6a3c6736-41a1-452e-a7cc-075f7013ea0b",
   "metadata": {},
   "outputs": [
    {
     "data": {
      "text/plain": [
       "7"
      ]
     },
     "execution_count": 59,
     "metadata": {},
     "output_type": "execute_result"
    }
   ],
   "source": [
    "dd.Client.agg(\"count\")"
   ]
  },
  {
   "cell_type": "code",
   "execution_count": 60,
   "id": "86092b74-f9ad-488d-b7ad-9e6c1fc009a0",
   "metadata": {},
   "outputs": [
    {
     "data": {
      "text/html": [
       "<div>\n",
       "<style scoped>\n",
       "    .dataframe tbody tr th:only-of-type {\n",
       "        vertical-align: middle;\n",
       "    }\n",
       "\n",
       "    .dataframe tbody tr th {\n",
       "        vertical-align: top;\n",
       "    }\n",
       "\n",
       "    .dataframe thead th {\n",
       "        text-align: right;\n",
       "    }\n",
       "</style>\n",
       "<table border=\"1\" class=\"dataframe\">\n",
       "  <thead>\n",
       "    <tr style=\"text-align: right;\">\n",
       "      <th></th>\n",
       "      <th>Prix_unit</th>\n",
       "      <th>R</th>\n",
       "      <th>Discount</th>\n",
       "    </tr>\n",
       "    <tr>\n",
       "      <th>Client</th>\n",
       "      <th></th>\n",
       "      <th></th>\n",
       "      <th></th>\n",
       "    </tr>\n",
       "  </thead>\n",
       "  <tbody>\n",
       "    <tr>\n",
       "      <th>Hadoop</th>\n",
       "      <td>1</td>\n",
       "      <td>1</td>\n",
       "      <td>0</td>\n",
       "    </tr>\n",
       "    <tr>\n",
       "      <th>PySpark</th>\n",
       "      <td>2</td>\n",
       "      <td>2</td>\n",
       "      <td>2</td>\n",
       "    </tr>\n",
       "    <tr>\n",
       "      <th>Python</th>\n",
       "      <td>1</td>\n",
       "      <td>1</td>\n",
       "      <td>1</td>\n",
       "    </tr>\n",
       "    <tr>\n",
       "      <th>Spark</th>\n",
       "      <td>3</td>\n",
       "      <td>3</td>\n",
       "      <td>3</td>\n",
       "    </tr>\n",
       "  </tbody>\n",
       "</table>\n",
       "</div>"
      ],
      "text/plain": [
       "         Prix_unit  R  Discount\n",
       "Client                         \n",
       "Hadoop           1  1         0\n",
       "PySpark          2  2         2\n",
       "Python           1  1         1\n",
       "Spark            3  3         3"
      ]
     },
     "execution_count": 60,
     "metadata": {},
     "output_type": "execute_result"
    }
   ],
   "source": [
    "dd.groupby(\"Client\").agg(\"count\")"
   ]
  },
  {
   "cell_type": "code",
   "execution_count": 61,
   "id": "67d207ef-9d18-478a-96cd-0029728de773",
   "metadata": {},
   "outputs": [
    {
     "data": {
      "text/html": [
       "<div>\n",
       "<style scoped>\n",
       "    .dataframe tbody tr th:only-of-type {\n",
       "        vertical-align: middle;\n",
       "    }\n",
       "\n",
       "    .dataframe tbody tr th {\n",
       "        vertical-align: top;\n",
       "    }\n",
       "\n",
       "    .dataframe thead th {\n",
       "        text-align: right;\n",
       "    }\n",
       "</style>\n",
       "<table border=\"1\" class=\"dataframe\">\n",
       "  <thead>\n",
       "    <tr style=\"text-align: right;\">\n",
       "      <th></th>\n",
       "      <th></th>\n",
       "      <th>Prix_unit</th>\n",
       "      <th>Discount</th>\n",
       "    </tr>\n",
       "    <tr>\n",
       "      <th>Client</th>\n",
       "      <th>R</th>\n",
       "      <th></th>\n",
       "      <th></th>\n",
       "    </tr>\n",
       "  </thead>\n",
       "  <tbody>\n",
       "    <tr>\n",
       "      <th>Hadoop</th>\n",
       "      <th>35days</th>\n",
       "      <td>1</td>\n",
       "      <td>0</td>\n",
       "    </tr>\n",
       "    <tr>\n",
       "      <th>PySpark</th>\n",
       "      <th>40days</th>\n",
       "      <td>2</td>\n",
       "      <td>2</td>\n",
       "    </tr>\n",
       "    <tr>\n",
       "      <th>Python</th>\n",
       "      <th>40days</th>\n",
       "      <td>1</td>\n",
       "      <td>1</td>\n",
       "    </tr>\n",
       "    <tr>\n",
       "      <th rowspan=\"2\" valign=\"top\">Spark</th>\n",
       "      <th>60days</th>\n",
       "      <td>2</td>\n",
       "      <td>2</td>\n",
       "    </tr>\n",
       "    <tr>\n",
       "      <th>70days</th>\n",
       "      <td>1</td>\n",
       "      <td>1</td>\n",
       "    </tr>\n",
       "  </tbody>\n",
       "</table>\n",
       "</div>"
      ],
      "text/plain": [
       "                Prix_unit  Discount\n",
       "Client  R                          \n",
       "Hadoop  35days          1         0\n",
       "PySpark 40days          2         2\n",
       "Python  40days          1         1\n",
       "Spark   60days          2         2\n",
       "        70days          1         1"
      ]
     },
     "execution_count": 61,
     "metadata": {},
     "output_type": "execute_result"
    }
   ],
   "source": [
    "dd.groupby([\"Client\",\"R\"]).agg(\"count\")"
   ]
  },
  {
   "cell_type": "code",
   "execution_count": 62,
   "id": "32305816-cd2f-4e35-891f-aec874828f14",
   "metadata": {},
   "outputs": [
    {
     "data": {
      "text/html": [
       "<div>\n",
       "<style scoped>\n",
       "    .dataframe tbody tr th:only-of-type {\n",
       "        vertical-align: middle;\n",
       "    }\n",
       "\n",
       "    .dataframe tbody tr th {\n",
       "        vertical-align: top;\n",
       "    }\n",
       "\n",
       "    .dataframe thead th {\n",
       "        text-align: right;\n",
       "    }\n",
       "</style>\n",
       "<table border=\"1\" class=\"dataframe\">\n",
       "  <thead>\n",
       "    <tr style=\"text-align: right;\">\n",
       "      <th></th>\n",
       "      <th>Prix_unit</th>\n",
       "      <th>Discount</th>\n",
       "    </tr>\n",
       "    <tr>\n",
       "      <th>Client</th>\n",
       "      <th></th>\n",
       "      <th></th>\n",
       "    </tr>\n",
       "  </thead>\n",
       "  <tbody>\n",
       "    <tr>\n",
       "      <th>Hadoop</th>\n",
       "      <td>1</td>\n",
       "      <td>1</td>\n",
       "    </tr>\n",
       "    <tr>\n",
       "      <th>PySpark</th>\n",
       "      <td>1</td>\n",
       "      <td>1</td>\n",
       "    </tr>\n",
       "    <tr>\n",
       "      <th>Python</th>\n",
       "      <td>1</td>\n",
       "      <td>1</td>\n",
       "    </tr>\n",
       "    <tr>\n",
       "      <th>Spark</th>\n",
       "      <td>2</td>\n",
       "      <td>2</td>\n",
       "    </tr>\n",
       "  </tbody>\n",
       "</table>\n",
       "</div>"
      ],
      "text/plain": [
       "         Prix_unit  Discount\n",
       "Client                      \n",
       "Hadoop           1         1\n",
       "PySpark          1         1\n",
       "Python           1         1\n",
       "Spark            2         2"
      ]
     },
     "execution_count": 62,
     "metadata": {},
     "output_type": "execute_result"
    }
   ],
   "source": [
    "dd.groupby([\"Client\",\"R\"]).agg(\"count\").groupby(\"Client\").count()"
   ]
  },
  {
   "cell_type": "markdown",
   "id": "c4584c91-6367-4e18-b2d7-279a935a5e3d",
   "metadata": {},
   "source": [
    ">-\n",
    "# Z. Annexe 3 - clustering à la main"
   ]
  },
  {
   "cell_type": "code",
   "execution_count": 63,
   "id": "5771440b-7082-4292-85de-96123451b25f",
   "metadata": {},
   "outputs": [
    {
     "data": {
      "text/html": [
       "<div>\n",
       "<style scoped>\n",
       "    .dataframe tbody tr th:only-of-type {\n",
       "        vertical-align: middle;\n",
       "    }\n",
       "\n",
       "    .dataframe tbody tr th {\n",
       "        vertical-align: top;\n",
       "    }\n",
       "\n",
       "    .dataframe thead th {\n",
       "        text-align: right;\n",
       "    }\n",
       "</style>\n",
       "<table border=\"1\" class=\"dataframe\">\n",
       "  <thead>\n",
       "    <tr style=\"text-align: right;\">\n",
       "      <th></th>\n",
       "      <th>Client</th>\n",
       "      <th>Prix_unit</th>\n",
       "    </tr>\n",
       "  </thead>\n",
       "  <tbody>\n",
       "    <tr>\n",
       "      <th>0</th>\n",
       "      <td>Spark</td>\n",
       "      <td>20000</td>\n",
       "    </tr>\n",
       "    <tr>\n",
       "      <th>1</th>\n",
       "      <td>PySpark</td>\n",
       "      <td>25000</td>\n",
       "    </tr>\n",
       "    <tr>\n",
       "      <th>2</th>\n",
       "      <td>Hadoop</td>\n",
       "      <td>26000</td>\n",
       "    </tr>\n",
       "    <tr>\n",
       "      <th>3</th>\n",
       "      <td>Python</td>\n",
       "      <td>22000</td>\n",
       "    </tr>\n",
       "    <tr>\n",
       "      <th>6</th>\n",
       "      <td>Spark</td>\n",
       "      <td>35000</td>\n",
       "    </tr>\n",
       "  </tbody>\n",
       "</table>\n",
       "</div>"
      ],
      "text/plain": [
       "    Client  Prix_unit\n",
       "0    Spark      20000\n",
       "1  PySpark      25000\n",
       "2   Hadoop      26000\n",
       "3   Python      22000\n",
       "6    Spark      35000"
      ]
     },
     "execution_count": 63,
     "metadata": {},
     "output_type": "execute_result"
    }
   ],
   "source": [
    "dd[[\"Client\",\"Prix_unit\"]].drop_duplicates()"
   ]
  },
  {
   "cell_type": "code",
   "execution_count": 64,
   "id": "75b50ae4-05ca-4271-a967-9227546f7830",
   "metadata": {},
   "outputs": [
    {
     "data": {
      "text/html": [
       "<div>\n",
       "<style scoped>\n",
       "    .dataframe tbody tr th:only-of-type {\n",
       "        vertical-align: middle;\n",
       "    }\n",
       "\n",
       "    .dataframe tbody tr th {\n",
       "        vertical-align: top;\n",
       "    }\n",
       "\n",
       "    .dataframe thead th {\n",
       "        text-align: right;\n",
       "    }\n",
       "</style>\n",
       "<table border=\"1\" class=\"dataframe\">\n",
       "  <thead>\n",
       "    <tr style=\"text-align: right;\">\n",
       "      <th></th>\n",
       "      <th></th>\n",
       "    </tr>\n",
       "    <tr>\n",
       "      <th>Client</th>\n",
       "      <th>Prix_unit</th>\n",
       "    </tr>\n",
       "  </thead>\n",
       "  <tbody>\n",
       "    <tr>\n",
       "      <th>Hadoop</th>\n",
       "      <th>26000</th>\n",
       "    </tr>\n",
       "    <tr>\n",
       "      <th>PySpark</th>\n",
       "      <th>25000</th>\n",
       "    </tr>\n",
       "    <tr>\n",
       "      <th>Python</th>\n",
       "      <th>22000</th>\n",
       "    </tr>\n",
       "    <tr>\n",
       "      <th rowspan=\"2\" valign=\"top\">Spark</th>\n",
       "      <th>20000</th>\n",
       "    </tr>\n",
       "    <tr>\n",
       "      <th>35000</th>\n",
       "    </tr>\n",
       "  </tbody>\n",
       "</table>\n",
       "</div>"
      ],
      "text/plain": [
       "Empty DataFrame\n",
       "Columns: []\n",
       "Index: [(Hadoop, 26000), (PySpark, 25000), (Python, 22000), (Spark, 20000), (Spark, 35000)]"
      ]
     },
     "execution_count": 64,
     "metadata": {},
     "output_type": "execute_result"
    }
   ],
   "source": [
    "dd[[\"Client\",\"Prix_unit\"]].drop_duplicates().groupby([\"Client\",\"Prix_unit\"]).agg(\"count\")"
   ]
  },
  {
   "cell_type": "code",
   "execution_count": 65,
   "id": "e9eb24e0-890b-4365-a3d6-704e7161a390",
   "metadata": {},
   "outputs": [
    {
     "data": {
      "text/html": [
       "<div>\n",
       "<style scoped>\n",
       "    .dataframe tbody tr th:only-of-type {\n",
       "        vertical-align: middle;\n",
       "    }\n",
       "\n",
       "    .dataframe tbody tr th {\n",
       "        vertical-align: top;\n",
       "    }\n",
       "\n",
       "    .dataframe thead th {\n",
       "        text-align: right;\n",
       "    }\n",
       "</style>\n",
       "<table border=\"1\" class=\"dataframe\">\n",
       "  <thead>\n",
       "    <tr style=\"text-align: right;\">\n",
       "      <th></th>\n",
       "      <th>Client</th>\n",
       "      <th>Prix_unit</th>\n",
       "    </tr>\n",
       "  </thead>\n",
       "  <tbody>\n",
       "    <tr>\n",
       "      <th>0</th>\n",
       "      <td>Hadoop</td>\n",
       "      <td>26000</td>\n",
       "    </tr>\n",
       "    <tr>\n",
       "      <th>1</th>\n",
       "      <td>PySpark</td>\n",
       "      <td>25000</td>\n",
       "    </tr>\n",
       "    <tr>\n",
       "      <th>2</th>\n",
       "      <td>Python</td>\n",
       "      <td>22000</td>\n",
       "    </tr>\n",
       "    <tr>\n",
       "      <th>3</th>\n",
       "      <td>Spark</td>\n",
       "      <td>20000</td>\n",
       "    </tr>\n",
       "    <tr>\n",
       "      <th>4</th>\n",
       "      <td>Spark</td>\n",
       "      <td>35000</td>\n",
       "    </tr>\n",
       "  </tbody>\n",
       "</table>\n",
       "</div>"
      ],
      "text/plain": [
       "    Client  Prix_unit\n",
       "0   Hadoop      26000\n",
       "1  PySpark      25000\n",
       "2   Python      22000\n",
       "3    Spark      20000\n",
       "4    Spark      35000"
      ]
     },
     "execution_count": 65,
     "metadata": {},
     "output_type": "execute_result"
    }
   ],
   "source": [
    "dd[[\"Client\",\"Prix_unit\"]].drop_duplicates().groupby([\"Client\",\"Prix_unit\"]).agg(\"count\").reset_index()"
   ]
  },
  {
   "cell_type": "code",
   "execution_count": 66,
   "id": "4f696f06-5f49-48d9-a7a9-f1ae8c838c4c",
   "metadata": {},
   "outputs": [
    {
     "data": {
      "text/html": [
       "<div>\n",
       "<style scoped>\n",
       "    .dataframe tbody tr th:only-of-type {\n",
       "        vertical-align: middle;\n",
       "    }\n",
       "\n",
       "    .dataframe tbody tr th {\n",
       "        vertical-align: top;\n",
       "    }\n",
       "\n",
       "    .dataframe thead th {\n",
       "        text-align: right;\n",
       "    }\n",
       "</style>\n",
       "<table border=\"1\" class=\"dataframe\">\n",
       "  <thead>\n",
       "    <tr style=\"text-align: right;\">\n",
       "      <th></th>\n",
       "      <th>Client</th>\n",
       "      <th>Prix_unit</th>\n",
       "    </tr>\n",
       "  </thead>\n",
       "  <tbody>\n",
       "    <tr>\n",
       "      <th>0</th>\n",
       "      <td>Spark</td>\n",
       "      <td>20000</td>\n",
       "    </tr>\n",
       "    <tr>\n",
       "      <th>1</th>\n",
       "      <td>Spark</td>\n",
       "      <td>35000</td>\n",
       "    </tr>\n",
       "    <tr>\n",
       "      <th>2</th>\n",
       "      <td>Python</td>\n",
       "      <td>22000</td>\n",
       "    </tr>\n",
       "    <tr>\n",
       "      <th>3</th>\n",
       "      <td>PySpark</td>\n",
       "      <td>25000</td>\n",
       "    </tr>\n",
       "    <tr>\n",
       "      <th>4</th>\n",
       "      <td>Hadoop</td>\n",
       "      <td>26000</td>\n",
       "    </tr>\n",
       "  </tbody>\n",
       "</table>\n",
       "</div>"
      ],
      "text/plain": [
       "    Client  Prix_unit\n",
       "0    Spark      20000\n",
       "1    Spark      35000\n",
       "2   Python      22000\n",
       "3  PySpark      25000\n",
       "4   Hadoop      26000"
      ]
     },
     "execution_count": 66,
     "metadata": {},
     "output_type": "execute_result"
    }
   ],
   "source": [
    "dd[[\"Client\",\"Prix_unit\"]].drop_duplicates().groupby([\"Client\",\"Prix_unit\"]).agg(\"count\").sort_values(\"Client\", ascending=False).reset_index()"
   ]
  },
  {
   "cell_type": "markdown",
   "id": "b5feb219-cc9d-49d4-b366-29dff154e96c",
   "metadata": {},
   "source": [
    "Meh. Je ne comprends pas ce qu'il voulait faire."
   ]
  },
  {
   "cell_type": "code",
   "execution_count": 67,
   "id": "a091db73-da8b-48a2-a9bd-9d9fae7f5c01",
   "metadata": {},
   "outputs": [
    {
     "data": {
      "text/html": [
       "<div>\n",
       "<style scoped>\n",
       "    .dataframe tbody tr th:only-of-type {\n",
       "        vertical-align: middle;\n",
       "    }\n",
       "\n",
       "    .dataframe tbody tr th {\n",
       "        vertical-align: top;\n",
       "    }\n",
       "\n",
       "    .dataframe thead th {\n",
       "        text-align: right;\n",
       "    }\n",
       "</style>\n",
       "<table border=\"1\" class=\"dataframe\">\n",
       "  <thead>\n",
       "    <tr style=\"text-align: right;\">\n",
       "      <th></th>\n",
       "      <th>Client</th>\n",
       "      <th>Prix_unit</th>\n",
       "      <th>R</th>\n",
       "      <th>Discount</th>\n",
       "    </tr>\n",
       "  </thead>\n",
       "  <tbody>\n",
       "    <tr>\n",
       "      <th>0</th>\n",
       "      <td>Spark</td>\n",
       "      <td>20000</td>\n",
       "      <td>60days</td>\n",
       "      <td>1000</td>\n",
       "    </tr>\n",
       "    <tr>\n",
       "      <th>5</th>\n",
       "      <td>Spark</td>\n",
       "      <td>20000</td>\n",
       "      <td>60days</td>\n",
       "      <td>2000</td>\n",
       "    </tr>\n",
       "    <tr>\n",
       "      <th>6</th>\n",
       "      <td>Spark</td>\n",
       "      <td>35000</td>\n",
       "      <td>70days</td>\n",
       "      <td>3000</td>\n",
       "    </tr>\n",
       "  </tbody>\n",
       "</table>\n",
       "</div>"
      ],
      "text/plain": [
       "  Client  Prix_unit       R Discount\n",
       "0  Spark      20000  60days     1000\n",
       "5  Spark      20000  60days     2000\n",
       "6  Spark      35000  70days     3000"
      ]
     },
     "execution_count": 67,
     "metadata": {},
     "output_type": "execute_result"
    }
   ],
   "source": [
    "dd.query(\"Client=='Spark'\")"
   ]
  },
  {
   "cell_type": "code",
   "execution_count": 68,
   "id": "aa93edf1-c736-41e1-8438-c845afbbdaa9",
   "metadata": {},
   "outputs": [
    {
     "data": {
      "text/html": [
       "<div>\n",
       "<style scoped>\n",
       "    .dataframe tbody tr th:only-of-type {\n",
       "        vertical-align: middle;\n",
       "    }\n",
       "\n",
       "    .dataframe tbody tr th {\n",
       "        vertical-align: top;\n",
       "    }\n",
       "\n",
       "    .dataframe thead th {\n",
       "        text-align: right;\n",
       "    }\n",
       "</style>\n",
       "<table border=\"1\" class=\"dataframe\">\n",
       "  <thead>\n",
       "    <tr style=\"text-align: right;\">\n",
       "      <th></th>\n",
       "      <th>Client</th>\n",
       "      <th>Prix_unit</th>\n",
       "      <th>R</th>\n",
       "      <th>Discount</th>\n",
       "    </tr>\n",
       "  </thead>\n",
       "  <tbody>\n",
       "    <tr>\n",
       "      <th>0</th>\n",
       "      <td>Spark</td>\n",
       "      <td>20000</td>\n",
       "      <td>60days</td>\n",
       "      <td>1000</td>\n",
       "    </tr>\n",
       "    <tr>\n",
       "      <th>5</th>\n",
       "      <td>Spark</td>\n",
       "      <td>20000</td>\n",
       "      <td>60days</td>\n",
       "      <td>2000</td>\n",
       "    </tr>\n",
       "    <tr>\n",
       "      <th>6</th>\n",
       "      <td>Spark</td>\n",
       "      <td>35000</td>\n",
       "      <td>70days</td>\n",
       "      <td>3000</td>\n",
       "    </tr>\n",
       "  </tbody>\n",
       "</table>\n",
       "</div>"
      ],
      "text/plain": [
       "  Client  Prix_unit       R Discount\n",
       "0  Spark      20000  60days     1000\n",
       "5  Spark      20000  60days     2000\n",
       "6  Spark      35000  70days     3000"
      ]
     },
     "execution_count": 68,
     "metadata": {},
     "output_type": "execute_result"
    }
   ],
   "source": [
    "dd[dd[\"Client\"] == \"Spark\"]"
   ]
  },
  {
   "cell_type": "markdown",
   "id": "704fa380-5d07-454e-90ff-eb95aabed2bc",
   "metadata": {},
   "source": [
    "useless method apparemment."
   ]
  },
  {
   "cell_type": "code",
   "execution_count": 69,
   "id": "98a62919-f13d-496d-8748-6f31d7f2b3f4",
   "metadata": {},
   "outputs": [
    {
     "data": {
      "text/html": [
       "<div>\n",
       "<style scoped>\n",
       "    .dataframe tbody tr th:only-of-type {\n",
       "        vertical-align: middle;\n",
       "    }\n",
       "\n",
       "    .dataframe tbody tr th {\n",
       "        vertical-align: top;\n",
       "    }\n",
       "\n",
       "    .dataframe thead th {\n",
       "        text-align: right;\n",
       "    }\n",
       "</style>\n",
       "<table border=\"1\" class=\"dataframe\">\n",
       "  <thead>\n",
       "    <tr style=\"text-align: right;\">\n",
       "      <th></th>\n",
       "      <th>Client</th>\n",
       "      <th>Prix_unit</th>\n",
       "      <th>R</th>\n",
       "      <th>Discount</th>\n",
       "    </tr>\n",
       "  </thead>\n",
       "  <tbody>\n",
       "    <tr>\n",
       "      <th>0</th>\n",
       "      <td>Spark</td>\n",
       "      <td>20000</td>\n",
       "      <td>60days</td>\n",
       "      <td>1000</td>\n",
       "    </tr>\n",
       "    <tr>\n",
       "      <th>1</th>\n",
       "      <td>PySpark</td>\n",
       "      <td>25000</td>\n",
       "      <td>40days</td>\n",
       "      <td>2300</td>\n",
       "    </tr>\n",
       "    <tr>\n",
       "      <th>3</th>\n",
       "      <td>Python</td>\n",
       "      <td>22000</td>\n",
       "      <td>40days</td>\n",
       "      <td>0</td>\n",
       "    </tr>\n",
       "    <tr>\n",
       "      <th>4</th>\n",
       "      <td>PySpark</td>\n",
       "      <td>25000</td>\n",
       "      <td>40days</td>\n",
       "      <td>2000</td>\n",
       "    </tr>\n",
       "    <tr>\n",
       "      <th>5</th>\n",
       "      <td>Spark</td>\n",
       "      <td>20000</td>\n",
       "      <td>60days</td>\n",
       "      <td>2000</td>\n",
       "    </tr>\n",
       "    <tr>\n",
       "      <th>6</th>\n",
       "      <td>Spark</td>\n",
       "      <td>35000</td>\n",
       "      <td>70days</td>\n",
       "      <td>3000</td>\n",
       "    </tr>\n",
       "  </tbody>\n",
       "</table>\n",
       "</div>"
      ],
      "text/plain": [
       "    Client  Prix_unit       R Discount\n",
       "0    Spark      20000  60days     1000\n",
       "1  PySpark      25000  40days     2300\n",
       "3   Python      22000  40days        0\n",
       "4  PySpark      25000  40days     2000\n",
       "5    Spark      20000  60days     2000\n",
       "6    Spark      35000  70days     3000"
      ]
     },
     "execution_count": 69,
     "metadata": {},
     "output_type": "execute_result"
    }
   ],
   "source": [
    "dd[pd.notnull(dd.Discount)]"
   ]
  },
  {
   "cell_type": "code",
   "execution_count": 70,
   "id": "0a947225-e18f-4861-ae91-b9282660fb89",
   "metadata": {},
   "outputs": [
    {
     "data": {
      "text/html": [
       "<div>\n",
       "<style scoped>\n",
       "    .dataframe tbody tr th:only-of-type {\n",
       "        vertical-align: middle;\n",
       "    }\n",
       "\n",
       "    .dataframe tbody tr th {\n",
       "        vertical-align: top;\n",
       "    }\n",
       "\n",
       "    .dataframe thead th {\n",
       "        text-align: right;\n",
       "    }\n",
       "</style>\n",
       "<table border=\"1\" class=\"dataframe\">\n",
       "  <thead>\n",
       "    <tr style=\"text-align: right;\">\n",
       "      <th></th>\n",
       "      <th>R</th>\n",
       "      <th>F</th>\n",
       "      <th>M</th>\n",
       "    </tr>\n",
       "  </thead>\n",
       "  <tbody>\n",
       "    <tr>\n",
       "      <th>0.25</th>\n",
       "      <td>14159723.5</td>\n",
       "      <td>1.0</td>\n",
       "      <td>6.002703</td>\n",
       "    </tr>\n",
       "    <tr>\n",
       "      <th>0.50</th>\n",
       "      <td>23233532.0</td>\n",
       "      <td>1.0</td>\n",
       "      <td>6.768184</td>\n",
       "    </tr>\n",
       "    <tr>\n",
       "      <th>0.75</th>\n",
       "      <td>34331009.5</td>\n",
       "      <td>1.0</td>\n",
       "      <td>7.527712</td>\n",
       "    </tr>\n",
       "  </tbody>\n",
       "</table>\n",
       "</div>"
      ],
      "text/plain": [
       "               R    F         M\n",
       "0.25  14159723.5  1.0  6.002703\n",
       "0.50  23233532.0  1.0  6.768184\n",
       "0.75  34331009.5  1.0  7.527712"
      ]
     },
     "execution_count": 70,
     "metadata": {},
     "output_type": "execute_result"
    }
   ],
   "source": [
    "quantiles = dfs_1.quantile(q=[.25, .5, .75])\n",
    "quantiles"
   ]
  },
  {
   "cell_type": "code",
   "execution_count": 71,
   "id": "d9edc69b-ec73-46ae-ae1a-8f50820b5fe5",
   "metadata": {},
   "outputs": [],
   "source": [
    "def sc(x,p,d):\n",
    "    if x <= d[p][.25]:\n",
    "        return 1\n",
    "    elif x <= d[p][.5]:\n",
    "        return 2\n",
    "    elif x <= d[p][.75]:\n",
    "        return 3\n",
    "    else:\n",
    "        return 4"
   ]
  },
  {
   "cell_type": "code",
   "execution_count": 72,
   "id": "3cd882cb-78d9-4e5e-aeea-54d64d09b3f9",
   "metadata": {},
   "outputs": [
    {
     "name": "stdout",
     "output_type": "stream",
     "text": [
      "Couldn't find program: 'echo'\n"
     ]
    }
   ],
   "source": [
    "%%script echo\n",
    "def sc(x,p,d):\n",
    "    lstpos = [d[p][.25], d[p][.5], d[p][.75]]\n",
    "    lstpos = np.sort(lstpos.append(x))\n",
    "    scs = {0:1,1:2,2:3}\n",
    "    scs_default = 4\n",
    "    return scs.get((index de x dans lstpos), scs_default)"
   ]
  },
  {
   "cell_type": "code",
   "execution_count": 73,
   "id": "839a42a6-a4b7-455c-b504-952d7281f4e2",
   "metadata": {},
   "outputs": [
    {
     "data": {
      "text/html": [
       "<div>\n",
       "<style scoped>\n",
       "    .dataframe tbody tr th:only-of-type {\n",
       "        vertical-align: middle;\n",
       "    }\n",
       "\n",
       "    .dataframe tbody tr th {\n",
       "        vertical-align: top;\n",
       "    }\n",
       "\n",
       "    .dataframe thead th {\n",
       "        text-align: right;\n",
       "    }\n",
       "</style>\n",
       "<table border=\"1\" class=\"dataframe\">\n",
       "  <thead>\n",
       "    <tr style=\"text-align: right;\">\n",
       "      <th></th>\n",
       "      <th>R</th>\n",
       "      <th>F</th>\n",
       "      <th>M</th>\n",
       "    </tr>\n",
       "    <tr>\n",
       "      <th>customer_unique_id</th>\n",
       "      <th></th>\n",
       "      <th></th>\n",
       "      <th></th>\n",
       "    </tr>\n",
       "  </thead>\n",
       "  <tbody>\n",
       "    <tr>\n",
       "      <th>0000366f3b9a7992bf8c76cfdf3221e2</th>\n",
       "      <td>1</td>\n",
       "      <td>4</td>\n",
       "      <td>2</td>\n",
       "    </tr>\n",
       "    <tr>\n",
       "      <th>0000b849f77a49e4a4ce2b2a4ca5be3f</th>\n",
       "      <td>1</td>\n",
       "      <td>4</td>\n",
       "      <td>4</td>\n",
       "    </tr>\n",
       "    <tr>\n",
       "      <th>0000f46a3911fa3c0805444483337064</th>\n",
       "      <td>4</td>\n",
       "      <td>4</td>\n",
       "      <td>3</td>\n",
       "    </tr>\n",
       "    <tr>\n",
       "      <th>0000f6ccb0745a6a4b88665a16c9f078</th>\n",
       "      <td>3</td>\n",
       "      <td>4</td>\n",
       "      <td>4</td>\n",
       "    </tr>\n",
       "    <tr>\n",
       "      <th>0004aac84e0df4da2b147fca70cf8255</th>\n",
       "      <td>3</td>\n",
       "      <td>4</td>\n",
       "      <td>1</td>\n",
       "    </tr>\n",
       "  </tbody>\n",
       "</table>\n",
       "</div>"
      ],
      "text/plain": [
       "                                  R  F  M\n",
       "customer_unique_id                       \n",
       "0000366f3b9a7992bf8c76cfdf3221e2  1  4  2\n",
       "0000b849f77a49e4a4ce2b2a4ca5be3f  1  4  4\n",
       "0000f46a3911fa3c0805444483337064  4  4  3\n",
       "0000f6ccb0745a6a4b88665a16c9f078  3  4  4\n",
       "0004aac84e0df4da2b147fca70cf8255  3  4  1"
      ]
     },
     "execution_count": 73,
     "metadata": {},
     "output_type": "execute_result"
    }
   ],
   "source": [
    "dfq = dfs_1.copy()\n",
    "dfq[\"R\"] = dfq[\"R\"].apply(sc, args=(\"R\",quantiles,))\n",
    "dfq[\"F\"] = dfq[\"F\"].apply(sc, args=(\"F\",quantiles,)).apply(lambda x: 5-x)\n",
    "dfq[\"M\"] = dfq[\"M\"].apply(sc, args=(\"M\",quantiles,)).apply(lambda x: 5-x)\n",
    "dfq.head()"
   ]
  },
  {
   "cell_type": "code",
   "execution_count": 74,
   "id": "baebcbf9-38eb-41a8-8068-f230597554e3",
   "metadata": {
    "tags": []
   },
   "outputs": [
    {
     "data": {
      "text/plain": [
       "'customer_unique_id\\n0000366f3b9a7992bf8c76cfdf3221e2    1\\n0000b849f77a49e4a4ce2b2a4ca5be3f    1\\n0000f46a3911fa3c0805444483337064    4'"
      ]
     },
     "execution_count": 74,
     "metadata": {},
     "output_type": "execute_result"
    }
   ],
   "source": [
    "dfq.R.head(3).to_string()"
   ]
  },
  {
   "cell_type": "code",
   "execution_count": 75,
   "id": "836b6978-455f-498a-a427-7e0d724d893b",
   "metadata": {
    "tags": []
   },
   "outputs": [
    {
     "data": {
      "text/html": [
       "<div>\n",
       "<style scoped>\n",
       "    .dataframe tbody tr th:only-of-type {\n",
       "        vertical-align: middle;\n",
       "    }\n",
       "\n",
       "    .dataframe tbody tr th {\n",
       "        vertical-align: top;\n",
       "    }\n",
       "\n",
       "    .dataframe thead th {\n",
       "        text-align: right;\n",
       "    }\n",
       "</style>\n",
       "<table border=\"1\" class=\"dataframe\">\n",
       "  <thead>\n",
       "    <tr style=\"text-align: right;\">\n",
       "      <th></th>\n",
       "      <th>R</th>\n",
       "      <th>F</th>\n",
       "      <th>M</th>\n",
       "      <th>g1</th>\n",
       "      <th>rankn</th>\n",
       "    </tr>\n",
       "    <tr>\n",
       "      <th>customer_unique_id</th>\n",
       "      <th></th>\n",
       "      <th></th>\n",
       "      <th></th>\n",
       "      <th></th>\n",
       "      <th></th>\n",
       "    </tr>\n",
       "  </thead>\n",
       "  <tbody>\n",
       "    <tr>\n",
       "      <th>0000366f3b9a7992bf8c76cfdf3221e2</th>\n",
       "      <td>1</td>\n",
       "      <td>4</td>\n",
       "      <td>2</td>\n",
       "      <td>142</td>\n",
       "      <td>7</td>\n",
       "    </tr>\n",
       "    <tr>\n",
       "      <th>0000b849f77a49e4a4ce2b2a4ca5be3f</th>\n",
       "      <td>1</td>\n",
       "      <td>4</td>\n",
       "      <td>4</td>\n",
       "      <td>144</td>\n",
       "      <td>9</td>\n",
       "    </tr>\n",
       "  </tbody>\n",
       "</table>\n",
       "</div>"
      ],
      "text/plain": [
       "                                  R  F  M   g1  rankn\n",
       "customer_unique_id                                   \n",
       "0000366f3b9a7992bf8c76cfdf3221e2  1  4  2  142      7\n",
       "0000b849f77a49e4a4ce2b2a4ca5be3f  1  4  4  144      9"
      ]
     },
     "execution_count": 75,
     "metadata": {},
     "output_type": "execute_result"
    }
   ],
   "source": [
    "dfq[\"g1\"] = dfq.R.map(str) + dfq.F.map(str) + dfq.M.map(str)\n",
    "#dfq[\"g2\"] = list(zip(dfq.R.to_string(),dfq.F.to_string(),dfq.M.to_string())) De nombreuses erreurs dans cette ligne.\n",
    "dfq[\"rankn\"] = dfq[[\"R\",\"F\",\"M\"]].sum(axis=1)\n",
    "dfq.head(2)"
   ]
  },
  {
   "cell_type": "code",
   "execution_count": 76,
   "id": "b97803c4-3884-4bef-b82d-23ba04311859",
   "metadata": {},
   "outputs": [
    {
     "data": {
      "text/html": [
       "<div>\n",
       "<style scoped>\n",
       "    .dataframe tbody tr th:only-of-type {\n",
       "        vertical-align: middle;\n",
       "    }\n",
       "\n",
       "    .dataframe tbody tr th {\n",
       "        vertical-align: top;\n",
       "    }\n",
       "\n",
       "    .dataframe thead th {\n",
       "        text-align: right;\n",
       "    }\n",
       "</style>\n",
       "<table border=\"1\" class=\"dataframe\">\n",
       "  <thead>\n",
       "    <tr style=\"text-align: right;\">\n",
       "      <th></th>\n",
       "      <th>R</th>\n",
       "      <th>F</th>\n",
       "      <th>M</th>\n",
       "      <th>g1</th>\n",
       "      <th>rankn</th>\n",
       "      <th>rankw</th>\n",
       "    </tr>\n",
       "    <tr>\n",
       "      <th>customer_unique_id</th>\n",
       "      <th></th>\n",
       "      <th></th>\n",
       "      <th></th>\n",
       "      <th></th>\n",
       "      <th></th>\n",
       "      <th></th>\n",
       "    </tr>\n",
       "  </thead>\n",
       "  <tbody>\n",
       "    <tr>\n",
       "      <th>0000366f3b9a7992bf8c76cfdf3221e2</th>\n",
       "      <td>1</td>\n",
       "      <td>4</td>\n",
       "      <td>2</td>\n",
       "      <td>142</td>\n",
       "      <td>7</td>\n",
       "      <td>diam</td>\n",
       "    </tr>\n",
       "    <tr>\n",
       "      <th>0000b849f77a49e4a4ce2b2a4ca5be3f</th>\n",
       "      <td>1</td>\n",
       "      <td>4</td>\n",
       "      <td>4</td>\n",
       "      <td>144</td>\n",
       "      <td>9</td>\n",
       "      <td>plat</td>\n",
       "    </tr>\n",
       "  </tbody>\n",
       "</table>\n",
       "</div>"
      ],
      "text/plain": [
       "                                  R  F  M   g1  rankn rankw\n",
       "customer_unique_id                                         \n",
       "0000366f3b9a7992bf8c76cfdf3221e2  1  4  2  142      7  diam\n",
       "0000b849f77a49e4a4ce2b2a4ca5be3f  1  4  4  144      9  plat"
      ]
     },
     "execution_count": 76,
     "metadata": {},
     "output_type": "execute_result"
    }
   ],
   "source": [
    "ranks = [\"diam\",\"plat\",\"gold\",\"silver\"]\n",
    "dfq[\"rankw\"] = pd.qcut(dfq.rankn, q=4, labels=ranks).values\n",
    "dfq.head(2)"
   ]
  },
  {
   "cell_type": "markdown",
   "id": "ed16fa24-4326-4c8c-9932-ecd3aaadb43a",
   "metadata": {},
   "source": [
    ">-\n",
    "# 4. Restart pour ajout du review_score"
   ]
  },
  {
   "cell_type": "markdown",
   "id": "9f0255e0-d3cb-4dec-b0d2-d582a4817e78",
   "metadata": {},
   "source": [
    ">>-\n",
    "## 41. Merge_1"
   ]
  },
  {
   "cell_type": "code",
   "execution_count": 77,
   "id": "84963e37-79e7-40f6-9ecc-5a3b941a241d",
   "metadata": {},
   "outputs": [
    {
     "name": "stdout",
     "output_type": "stream",
     "text": [
      "dfs1: (99441, 5)\n",
      "dfs6: (99441, 8)\n",
      "df  : (99441, 4)\n",
      "dfs4: (103886, 5)\n",
      "df  : (103887, 5)\n"
     ]
    }
   ],
   "source": [
    "print(\"dfs1: \" + str(dfs1.shape))\n",
    "print(\"dfs6: \" + str(dfs6.shape))\n",
    "df = dfs1[[\"customer_id\",\"customer_unique_id\"]].merge(dfs6[[\"customer_id\",\"order_id\",\"order_purchase_timestamp\"]], on=\"customer_id\", how=\"outer\")\n",
    "print(\"df  : \" + str(df.shape))\n",
    "print(\"dfs4: \" + str(dfs4.shape))\n",
    "df = df.merge(dfs4[[\"order_id\",\"payment_value\"]], on=\"order_id\", how=\"outer\")\n",
    "print(\"df  : \" + str(df.shape))"
   ]
  },
  {
   "cell_type": "markdown",
   "id": "f0d6ef6a-a7a5-4590-8900-75a6da47f0b2",
   "metadata": {},
   "source": [
    ">>-\n",
    "## 42. Cleaning_1"
   ]
  },
  {
   "cell_type": "code",
   "execution_count": 78,
   "id": "cb5f5625-644a-4c5b-a8c0-2965ce65adfa",
   "metadata": {},
   "outputs": [
    {
     "data": {
      "text/plain": [
       "[      order_purchase_timestamp  payment_value\n",
       " 22061      2016-09-15 12:16:38            NaN]"
      ]
     },
     "metadata": {},
     "output_type": "display_data"
    }
   ],
   "source": [
    "new_elt = list(set(df.order_id).difference(set(dfs4.order_id)))\n",
    "#display(df[[\"order_purchase_timestamp\",\"payment_value\",\"review_score\"]][df.order_id == new_elt[0]])\n",
    "display([df[[\"order_purchase_timestamp\",\"payment_value\"]][df.order_id == i] for i in new_elt[:4]]) # Un seul élément en fait ici, mais j'en demande 4 pour voir."
   ]
  },
  {
   "cell_type": "code",
   "execution_count": 79,
   "id": "0746ccb1-4271-48a5-8f47-ae77168a6bd5",
   "metadata": {},
   "outputs": [
    {
     "name": "stdout",
     "output_type": "stream",
     "text": [
      "(103887, 5)\n",
      "Il n'y avait pas de colonne 'level_0' indésirable à supprimer.\n",
      "Une colonne 'index' indésirable a été supprimée.\n",
      "(103886, 5)\n"
     ]
    }
   ],
   "source": [
    "print(df.shape)\n",
    "df = df[df.order_id != new_elt[0]]\n",
    "df = my.resindx(df)"
   ]
  },
  {
   "cell_type": "code",
   "execution_count": 80,
   "id": "43c48fab-b2cb-421b-a2ba-f1e738b514e9",
   "metadata": {
    "tags": []
   },
   "outputs": [
    {
     "data": {
      "text/plain": [
       "0"
      ]
     },
     "execution_count": 80,
     "metadata": {},
     "output_type": "execute_result"
    }
   ],
   "source": [
    "df[\"payment_value\"].isna().sum()"
   ]
  },
  {
   "cell_type": "markdown",
   "id": "3bcc0f8d-2ae3-430d-aada-0893b9b30ba9",
   "metadata": {},
   "source": [
    ">>-\n",
    "## 43. Merge_2"
   ]
  },
  {
   "cell_type": "markdown",
   "id": "dd976ce2-a213-4102-a194-27cf6128ec05",
   "metadata": {},
   "source": [
    "Passons maintenant à l'ajout du review_score."
   ]
  },
  {
   "cell_type": "code",
   "execution_count": 81,
   "id": "30c82b21-64f5-420e-8c41-f4253266aa7a",
   "metadata": {},
   "outputs": [
    {
     "name": "stdout",
     "output_type": "stream",
     "text": [
      "dfs5: (99224, 7)\n",
      "df  : (104478, 6)\n",
      "Nombre d'éléments sans review_score  : 592\n"
     ]
    }
   ],
   "source": [
    "elts_w_rev = df.shape[0]\n",
    "print(\"dfs5: \" + str(dfs5.shape))\n",
    "df = df.merge(dfs5[[\"order_id\",\"review_score\"]], on=\"order_id\", how=\"outer\")\n",
    "print(\"df  : \" + str(df.shape))\n",
    "elts_wo_rev = df.shape[0] - elts_w_rev\n",
    "print(\"Nombre d'éléments sans review_score  : \" + str(elts_wo_rev))"
   ]
  },
  {
   "cell_type": "markdown",
   "id": "72d22000-a3a8-4c2e-a41d-5a78bd6f784b",
   "metadata": {},
   "source": [
    ">>-\n",
    "## 44. Cleaning_2 (et re-cleaning_1)"
   ]
  },
  {
   "cell_type": "code",
   "execution_count": 82,
   "id": "f81bfc54-4724-44a5-aadf-8c83db89a792",
   "metadata": {},
   "outputs": [
    {
     "data": {
      "text/plain": [
       "[      order_purchase_timestamp  payment_value  review_score\n",
       " 13274      2018-04-20 14:54:15          62.25           NaN,\n",
       "       order_purchase_timestamp  payment_value  review_score\n",
       " 85543      2018-02-20 10:31:58         101.03           NaN,\n",
       "       order_purchase_timestamp  payment_value  review_score\n",
       " 15787      2017-12-14 00:06:50          62.01           NaN,\n",
       "       order_purchase_timestamp  payment_value  review_score\n",
       " 34595      2018-05-04 15:59:47         145.76           NaN]"
      ]
     },
     "metadata": {},
     "output_type": "display_data"
    }
   ],
   "source": [
    "new_elts = list(set(df.order_id).difference(set(dfs5.order_id)))\n",
    "#display([df[[\"order_purchase_timestamp\",\"payment_value\",\"review_score\"]][df.order_id == i] for i in new_elts][:4]) # Celui-ci fait davantage sens mais il est long en calculs pour rien.\n",
    "display([df[[\"order_purchase_timestamp\",\"payment_value\",\"review_score\"]][df.order_id == i] for i in new_elts[:4]]) # 591 éléments en fait ici."
   ]
  },
  {
   "cell_type": "code",
   "execution_count": 83,
   "id": "8a28e1f1-274c-4d76-aa39-557ef653c6fa",
   "metadata": {},
   "outputs": [
    {
     "data": {
      "text/plain": [
       "1653"
      ]
     },
     "execution_count": 83,
     "metadata": {},
     "output_type": "execute_result"
    }
   ],
   "source": [
    "df[[\"order_id\",\"order_purchase_timestamp\",\"payment_value\",\"review_score\"]].duplicated(keep=False).sum()"
   ]
  },
  {
   "cell_type": "code",
   "execution_count": 84,
   "id": "a181cc91-acce-4af8-85ea-b5b5d0211aab",
   "metadata": {},
   "outputs": [
    {
     "data": {
      "text/plain": [
       "1648"
      ]
     },
     "execution_count": 84,
     "metadata": {},
     "output_type": "execute_result"
    }
   ],
   "source": [
    "df[[\"order_id\",\"order_purchase_timestamp\",\"payment_value\",\"review_score\"]][df[\"review_score\"].isna() == False].duplicated(keep=False).sum()"
   ]
  },
  {
   "cell_type": "markdown",
   "id": "b99e31ac-4799-4c3d-8c1a-a6bf6faffefb",
   "metadata": {},
   "source": [
    "Il y a de nouveau beaucoup de duplicates dans le df mergé."
   ]
  },
  {
   "cell_type": "code",
   "execution_count": 85,
   "id": "293d1842-a82c-46a1-b5bf-5375d10f76de",
   "metadata": {},
   "outputs": [
    {
     "data": {
      "text/html": [
       "<div>\n",
       "<style scoped>\n",
       "    .dataframe tbody tr th:only-of-type {\n",
       "        vertical-align: middle;\n",
       "    }\n",
       "\n",
       "    .dataframe tbody tr th {\n",
       "        vertical-align: top;\n",
       "    }\n",
       "\n",
       "    .dataframe thead th {\n",
       "        text-align: right;\n",
       "    }\n",
       "</style>\n",
       "<table border=\"1\" class=\"dataframe\">\n",
       "  <thead>\n",
       "    <tr style=\"text-align: right;\">\n",
       "      <th></th>\n",
       "      <th>customer_id</th>\n",
       "      <th>customer_unique_id</th>\n",
       "      <th>order_id</th>\n",
       "      <th>order_purchase_timestamp</th>\n",
       "      <th>payment_value</th>\n",
       "      <th>review_score</th>\n",
       "    </tr>\n",
       "  </thead>\n",
       "  <tbody>\n",
       "    <tr>\n",
       "      <th>312</th>\n",
       "      <td>dcb6e7bc4e65d815025d0aa14349a4ca</td>\n",
       "      <td>a1864cdd58debf5031958069ee937742</td>\n",
       "      <td>dfaa4ce943a8dba10b754befb76fdb49</td>\n",
       "      <td>2017-11-26 15:11:19</td>\n",
       "      <td>189.88</td>\n",
       "      <td>4.0</td>\n",
       "    </tr>\n",
       "    <tr>\n",
       "      <th>313</th>\n",
       "      <td>dcb6e7bc4e65d815025d0aa14349a4ca</td>\n",
       "      <td>a1864cdd58debf5031958069ee937742</td>\n",
       "      <td>dfaa4ce943a8dba10b754befb76fdb49</td>\n",
       "      <td>2017-11-26 15:11:19</td>\n",
       "      <td>189.88</td>\n",
       "      <td>4.0</td>\n",
       "    </tr>\n",
       "  </tbody>\n",
       "</table>\n",
       "</div>"
      ],
      "text/plain": [
       "                          customer_id                customer_unique_id  \\\n",
       "312  dcb6e7bc4e65d815025d0aa14349a4ca  a1864cdd58debf5031958069ee937742   \n",
       "313  dcb6e7bc4e65d815025d0aa14349a4ca  a1864cdd58debf5031958069ee937742   \n",
       "\n",
       "                             order_id order_purchase_timestamp  payment_value  \\\n",
       "312  dfaa4ce943a8dba10b754befb76fdb49      2017-11-26 15:11:19         189.88   \n",
       "313  dfaa4ce943a8dba10b754befb76fdb49      2017-11-26 15:11:19         189.88   \n",
       "\n",
       "     review_score  \n",
       "312           4.0  \n",
       "313           4.0  "
      ]
     },
     "execution_count": 85,
     "metadata": {},
     "output_type": "execute_result"
    }
   ],
   "source": [
    "df[df[[\"order_id\",\"order_purchase_timestamp\",\"payment_value\",\"review_score\"]].duplicated(keep=False)][:2]"
   ]
  },
  {
   "cell_type": "code",
   "execution_count": 86,
   "id": "e37ad4af-275f-44f1-bf30-2152bd4974fe",
   "metadata": {
    "tags": []
   },
   "outputs": [
    {
     "data": {
      "text/html": [
       "<div>\n",
       "<style scoped>\n",
       "    .dataframe tbody tr th:only-of-type {\n",
       "        vertical-align: middle;\n",
       "    }\n",
       "\n",
       "    .dataframe tbody tr th {\n",
       "        vertical-align: top;\n",
       "    }\n",
       "\n",
       "    .dataframe thead th {\n",
       "        text-align: right;\n",
       "    }\n",
       "</style>\n",
       "<table border=\"1\" class=\"dataframe\">\n",
       "  <thead>\n",
       "    <tr style=\"text-align: right;\">\n",
       "      <th></th>\n",
       "      <th>review_id</th>\n",
       "      <th>order_id</th>\n",
       "      <th>review_score</th>\n",
       "      <th>review_comment_title</th>\n",
       "      <th>review_comment_message</th>\n",
       "      <th>review_creation_date</th>\n",
       "      <th>review_answer_timestamp</th>\n",
       "    </tr>\n",
       "  </thead>\n",
       "  <tbody>\n",
       "    <tr>\n",
       "      <th>25612</th>\n",
       "      <td>89a02c45c340aeeb1354a24e7d4b2c1e</td>\n",
       "      <td>0035246a40f520710769010f752e7507</td>\n",
       "      <td>5</td>\n",
       "      <td>NaN</td>\n",
       "      <td>NaN</td>\n",
       "      <td>2017-08-29 00:00:00</td>\n",
       "      <td>2017-08-30 01:59:12</td>\n",
       "    </tr>\n",
       "    <tr>\n",
       "      <th>22423</th>\n",
       "      <td>2a74b0559eb58fc1ff842ecc999594cb</td>\n",
       "      <td>0035246a40f520710769010f752e7507</td>\n",
       "      <td>5</td>\n",
       "      <td>NaN</td>\n",
       "      <td>Estou acostumada a comprar produtos pelo barat...</td>\n",
       "      <td>2017-08-25 00:00:00</td>\n",
       "      <td>2017-08-29 21:45:57</td>\n",
       "    </tr>\n",
       "    <tr>\n",
       "      <th>854</th>\n",
       "      <td>830636803620cdf8b6ffaf1b2f6e92b2</td>\n",
       "      <td>0176a6846bcb3b0d3aa3116a9a768597</td>\n",
       "      <td>5</td>\n",
       "      <td>NaN</td>\n",
       "      <td>NaN</td>\n",
       "      <td>2017-12-30 00:00:00</td>\n",
       "      <td>2018-01-02 10:54:06</td>\n",
       "    </tr>\n",
       "    <tr>\n",
       "      <th>83224</th>\n",
       "      <td>d8e8c42271c8fb67b9dad95d98c8ff80</td>\n",
       "      <td>0176a6846bcb3b0d3aa3116a9a768597</td>\n",
       "      <td>5</td>\n",
       "      <td>NaN</td>\n",
       "      <td>NaN</td>\n",
       "      <td>2017-12-30 00:00:00</td>\n",
       "      <td>2018-01-02 10:54:47</td>\n",
       "    </tr>\n",
       "    <tr>\n",
       "      <th>17847</th>\n",
       "      <td>2eab0b2e6f5bded4d9b0b2afcfdf4534</td>\n",
       "      <td>02e0b68852217f5715fb9cc885829454</td>\n",
       "      <td>4</td>\n",
       "      <td>NaN</td>\n",
       "      <td>Gostei chegou rapidinho</td>\n",
       "      <td>2017-12-03 00:00:00</td>\n",
       "      <td>2017-12-03 21:56:37</td>\n",
       "    </tr>\n",
       "    <tr>\n",
       "      <th>35812</th>\n",
       "      <td>fa493ead9b093fb0fa6f7d4905b0ef3b</td>\n",
       "      <td>02e0b68852217f5715fb9cc885829454</td>\n",
       "      <td>4</td>\n",
       "      <td>NaN</td>\n",
       "      <td>Gostei e entregou rapidinho</td>\n",
       "      <td>2017-12-01 00:00:00</td>\n",
       "      <td>2017-12-03 21:57:31</td>\n",
       "    </tr>\n",
       "    <tr>\n",
       "      <th>35052</th>\n",
       "      <td>38821b5c496b678cf91acc34892805ad</td>\n",
       "      <td>02e723e8edb4a123d414f56cc9c4665e</td>\n",
       "      <td>5</td>\n",
       "      <td>NaN</td>\n",
       "      <td>NaN</td>\n",
       "      <td>2017-09-03 00:00:00</td>\n",
       "      <td>2017-09-05 12:12:51</td>\n",
       "    </tr>\n",
       "    <tr>\n",
       "      <th>42500</th>\n",
       "      <td>39b4603793c1c7f5f36d809b4a218664</td>\n",
       "      <td>02e723e8edb4a123d414f56cc9c4665e</td>\n",
       "      <td>5</td>\n",
       "      <td>NaN</td>\n",
       "      <td>Otimo</td>\n",
       "      <td>2017-09-01 00:00:00</td>\n",
       "      <td>2017-09-02 12:13:03</td>\n",
       "    </tr>\n",
       "    <tr>\n",
       "      <th>38386</th>\n",
       "      <td>1dee9d450a2b8533d2085cef898ca4a2</td>\n",
       "      <td>03515a836bb855b03f7df9dee520a8fc</td>\n",
       "      <td>5</td>\n",
       "      <td>NaN</td>\n",
       "      <td>NaN</td>\n",
       "      <td>2018-02-06 00:00:00</td>\n",
       "      <td>2018-02-06 17:19:21</td>\n",
       "    </tr>\n",
       "    <tr>\n",
       "      <th>49625</th>\n",
       "      <td>5e1ee2e924a1dd10d80b99555383c0a7</td>\n",
       "      <td>03515a836bb855b03f7df9dee520a8fc</td>\n",
       "      <td>5</td>\n",
       "      <td>NaN</td>\n",
       "      <td>NaN</td>\n",
       "      <td>2018-01-31 00:00:00</td>\n",
       "      <td>2018-02-01 01:26:24</td>\n",
       "    </tr>\n",
       "  </tbody>\n",
       "</table>\n",
       "</div>"
      ],
      "text/plain": [
       "                              review_id                          order_id  \\\n",
       "25612  89a02c45c340aeeb1354a24e7d4b2c1e  0035246a40f520710769010f752e7507   \n",
       "22423  2a74b0559eb58fc1ff842ecc999594cb  0035246a40f520710769010f752e7507   \n",
       "854    830636803620cdf8b6ffaf1b2f6e92b2  0176a6846bcb3b0d3aa3116a9a768597   \n",
       "83224  d8e8c42271c8fb67b9dad95d98c8ff80  0176a6846bcb3b0d3aa3116a9a768597   \n",
       "17847  2eab0b2e6f5bded4d9b0b2afcfdf4534  02e0b68852217f5715fb9cc885829454   \n",
       "35812  fa493ead9b093fb0fa6f7d4905b0ef3b  02e0b68852217f5715fb9cc885829454   \n",
       "35052  38821b5c496b678cf91acc34892805ad  02e723e8edb4a123d414f56cc9c4665e   \n",
       "42500  39b4603793c1c7f5f36d809b4a218664  02e723e8edb4a123d414f56cc9c4665e   \n",
       "38386  1dee9d450a2b8533d2085cef898ca4a2  03515a836bb855b03f7df9dee520a8fc   \n",
       "49625  5e1ee2e924a1dd10d80b99555383c0a7  03515a836bb855b03f7df9dee520a8fc   \n",
       "\n",
       "       review_score review_comment_title  \\\n",
       "25612             5                  NaN   \n",
       "22423             5                  NaN   \n",
       "854               5                  NaN   \n",
       "83224             5                  NaN   \n",
       "17847             4                  NaN   \n",
       "35812             4                  NaN   \n",
       "35052             5                  NaN   \n",
       "42500             5                  NaN   \n",
       "38386             5                  NaN   \n",
       "49625             5                  NaN   \n",
       "\n",
       "                                  review_comment_message review_creation_date  \\\n",
       "25612                                                NaN  2017-08-29 00:00:00   \n",
       "22423  Estou acostumada a comprar produtos pelo barat...  2017-08-25 00:00:00   \n",
       "854                                                  NaN  2017-12-30 00:00:00   \n",
       "83224                                                NaN  2017-12-30 00:00:00   \n",
       "17847                            Gostei chegou rapidinho  2017-12-03 00:00:00   \n",
       "35812                        Gostei e entregou rapidinho  2017-12-01 00:00:00   \n",
       "35052                                                NaN  2017-09-03 00:00:00   \n",
       "42500                                             Otimo   2017-09-01 00:00:00   \n",
       "38386                                                NaN  2018-02-06 00:00:00   \n",
       "49625                                                NaN  2018-01-31 00:00:00   \n",
       "\n",
       "      review_answer_timestamp  \n",
       "25612     2017-08-30 01:59:12  \n",
       "22423     2017-08-29 21:45:57  \n",
       "854       2018-01-02 10:54:06  \n",
       "83224     2018-01-02 10:54:47  \n",
       "17847     2017-12-03 21:56:37  \n",
       "35812     2017-12-03 21:57:31  \n",
       "35052     2017-09-05 12:12:51  \n",
       "42500     2017-09-02 12:13:03  \n",
       "38386     2018-02-06 17:19:21  \n",
       "49625     2018-02-01 01:26:24  "
      ]
     },
     "execution_count": 86,
     "metadata": {},
     "output_type": "execute_result"
    }
   ],
   "source": [
    "dfs5[dfs5[[\"order_id\",\"review_score\"]].duplicated(keep=False)].sort_values(by=\"order_id\")[:10]"
   ]
  },
  {
   "cell_type": "code",
   "execution_count": 87,
   "id": "161453a2-d894-4e26-b72a-4279b560dfdd",
   "metadata": {
    "tags": []
   },
   "outputs": [
    {
     "data": {
      "text/plain": [
       "696"
      ]
     },
     "execution_count": 87,
     "metadata": {},
     "output_type": "execute_result"
    }
   ],
   "source": [
    "dfs5[[\"order_id\",\"review_score\"]].duplicated(keep=False).sum()"
   ]
  },
  {
   "cell_type": "code",
   "execution_count": 88,
   "id": "8364266a-30d7-4972-84fb-c3f2186f1b54",
   "metadata": {
    "tags": []
   },
   "outputs": [
    {
     "data": {
      "text/plain": [
       "0"
      ]
     },
     "execution_count": 88,
     "metadata": {},
     "output_type": "execute_result"
    }
   ],
   "source": [
    "dfs5[\"review_score\"].isna().sum()"
   ]
  },
  {
   "cell_type": "markdown",
   "id": "488292c3-d1b5-4aa7-8bc6-6fb949f0f791",
   "metadata": {},
   "source": [
    "Cette fois on trouve beaucoup de duplicates dans le df mergé que ceux qui existaient déjà dans dfs5.  \n",
    "Il me semble que c'est parce que je n'arrive pas à isoler dans le df mergé uniquement les duplicates qui proviennent de dfs5, que je compte d'autres duplicates qui seraient là même sans le merge avec dfs5 et les éventuelles erreurs qu'il cause."
   ]
  },
  {
   "cell_type": "code",
   "execution_count": 89,
   "id": "9d0d3afb-e9a9-45c5-8309-bff9ca13b0bf",
   "metadata": {},
   "outputs": [
    {
     "data": {
      "text/plain": [
       "1619"
      ]
     },
     "execution_count": 89,
     "metadata": {},
     "output_type": "execute_result"
    }
   ],
   "source": [
    "dfs4[[\"order_id\",\"payment_value\"]].duplicated(keep=False).sum() + dfs5[[\"order_id\",\"review_score\"]].duplicated(keep=False).sum()"
   ]
  },
  {
   "cell_type": "code",
   "execution_count": 90,
   "id": "af6695ec-a3b2-4f44-bdbb-f6f8970ba3ed",
   "metadata": {
    "tags": []
   },
   "outputs": [
    {
     "data": {
      "text/plain": [
       "800"
      ]
     },
     "execution_count": 90,
     "metadata": {},
     "output_type": "execute_result"
    }
   ],
   "source": [
    "df[\"review_score\"].isna().sum()"
   ]
  },
  {
   "cell_type": "markdown",
   "id": "db2dbde3-6ec8-4367-be1c-f6860f5b7071",
   "metadata": {},
   "source": [
    "J'ai du mal à savoir quelle décision prendre ici.  \n",
    "Il y a normalement ```elts_wo_rev``` (=592) lignes à supprimer de df, puis ```df[\"review_score\"].isna().sum() - elts_wo_rev``` (=209) review_scores à imputer pour les order_id qui (déjà dans la base de données relationnelle avant que je ne merge) ont un \"payment_value\" mais n'ont pas de \"review_score\".  \n",
    "Cependant, je ne sais pas encore comment trouver ces 209 éléments légitimes sans review_score."
   ]
  },
  {
   "cell_type": "code",
   "execution_count": 91,
   "id": "4eb51c03-354f-4877-8bc5-2d4b652526ae",
   "metadata": {
    "tags": []
   },
   "outputs": [
    {
     "data": {
      "text/plain": [
       "1"
      ]
     },
     "execution_count": 91,
     "metadata": {},
     "output_type": "execute_result"
    }
   ],
   "source": [
    "df[\"payment_value\"].isna().sum()"
   ]
  },
  {
   "cell_type": "code",
   "execution_count": 92,
   "id": "2a21bb5b-2d68-40ea-830d-81d7261445d8",
   "metadata": {},
   "outputs": [
    {
     "name": "stdout",
     "output_type": "stream",
     "text": [
      "22061    bfbd0f9bdef84302105ad712db648a6c\n",
      "Name: order_id, dtype: object\n"
     ]
    },
    {
     "data": {
      "text/plain": [
       "104477    bfbd0f9bdef84302105ad712db648a6c\n",
       "Name: order_id, dtype: object"
      ]
     },
     "execution_count": 92,
     "metadata": {},
     "output_type": "execute_result"
    }
   ],
   "source": [
    "print(id_sans_payt_val)\n",
    "df[\"order_id\"][df[\"payment_value\"].isna() == True]"
   ]
  },
  {
   "cell_type": "markdown",
   "id": "8bd65188-e0dd-4c80-8261-f496148fa26f",
   "metadata": {},
   "source": [
    "L'order_id qui n'avait pas de payment_value a été ré-attribué au df lors du merge de dfs5 car cet order_id existe dans dfs5. Celui-ci est facile à supprimer."
   ]
  },
  {
   "cell_type": "code",
   "execution_count": 93,
   "id": "a1770aee-faaf-45ae-b89a-a90ba11f6055",
   "metadata": {},
   "outputs": [
    {
     "name": "stdout",
     "output_type": "stream",
     "text": [
      "(104478, 6)\n",
      "Il n'y avait pas de colonne 'level_0' indésirable à supprimer.\n",
      "Une colonne 'index' indésirable a été supprimée.\n",
      "(104477, 6)\n"
     ]
    }
   ],
   "source": [
    "print(df.shape)\n",
    "df = df[df.order_id != new_elt[0]]\n",
    "df = my.resindx(df)"
   ]
  },
  {
   "cell_type": "code",
   "execution_count": 94,
   "id": "3c2581e4-fed2-4dde-9811-9f543f7d7f69",
   "metadata": {
    "tags": []
   },
   "outputs": [
    {
     "data": {
      "text/plain": [
       "0"
      ]
     },
     "execution_count": 94,
     "metadata": {},
     "output_type": "execute_result"
    }
   ],
   "source": [
    "df[\"payment_value\"].isna().sum()"
   ]
  },
  {
   "cell_type": "markdown",
   "id": "e6b2915b-d3ae-4af5-ae73-3956e06d4c1e",
   "metadata": {},
   "source": [
    "Ici: Test en supprimant tous les éléments sans \"review_score\"."
   ]
  },
  {
   "cell_type": "code",
   "execution_count": 95,
   "id": "2d7d5c00-5eae-4abd-a0c3-a59105261ccd",
   "metadata": {},
   "outputs": [
    {
     "name": "stdout",
     "output_type": "stream",
     "text": [
      "(104477, 6)\n",
      "Il n'y avait pas de colonne 'level_0' indésirable à supprimer.\n",
      "Une colonne 'index' indésirable a été supprimée.\n",
      "(103677, 6)\n"
     ]
    }
   ],
   "source": [
    "print(df.shape)\n",
    "df = df[df.review_score.isna() == False]\n",
    "df = my.resindx(df)"
   ]
  },
  {
   "cell_type": "code",
   "execution_count": 96,
   "id": "7e0e4017-a177-448b-bbcd-9b59c80d77d4",
   "metadata": {
    "tags": []
   },
   "outputs": [
    {
     "data": {
      "text/plain": [
       "0"
      ]
     },
     "execution_count": 96,
     "metadata": {},
     "output_type": "execute_result"
    }
   ],
   "source": [
    "df[\"review_score\"].isna().sum()"
   ]
  },
  {
   "cell_type": "markdown",
   "id": "b4b0004b-2941-4afc-8694-8d3679aa5f6b",
   "metadata": {},
   "source": [
    "800 éléments supprimés. Voyons si cette décision est raisonnable."
   ]
  },
  {
   "cell_type": "markdown",
   "id": "d2088e5a-dba6-4675-b8f0-7ee86f0933ef",
   "metadata": {},
   "source": [
    ">>-\n",
    "## 45. Feature cleaning"
   ]
  },
  {
   "cell_type": "markdown",
   "id": "ca157719-43b0-4d92-876e-6e465b415881",
   "metadata": {},
   "source": [
    "Je nettoie les colonnes inutiles:"
   ]
  },
  {
   "cell_type": "code",
   "execution_count": 97,
   "id": "81ed6426-c062-4d4f-9978-45eb6d95643e",
   "metadata": {},
   "outputs": [
    {
     "data": {
      "text/html": [
       "<div>\n",
       "<style scoped>\n",
       "    .dataframe tbody tr th:only-of-type {\n",
       "        vertical-align: middle;\n",
       "    }\n",
       "\n",
       "    .dataframe tbody tr th {\n",
       "        vertical-align: top;\n",
       "    }\n",
       "\n",
       "    .dataframe thead th {\n",
       "        text-align: right;\n",
       "    }\n",
       "</style>\n",
       "<table border=\"1\" class=\"dataframe\">\n",
       "  <thead>\n",
       "    <tr style=\"text-align: right;\">\n",
       "      <th></th>\n",
       "      <th>customer_unique_id</th>\n",
       "      <th>order_purchase_timestamp</th>\n",
       "      <th>payment_value</th>\n",
       "      <th>review_score</th>\n",
       "    </tr>\n",
       "  </thead>\n",
       "  <tbody>\n",
       "    <tr>\n",
       "      <th>0</th>\n",
       "      <td>861eff4711a542e4b93843c6dd7febb0</td>\n",
       "      <td>2017-05-16 15:05:35</td>\n",
       "      <td>146.87</td>\n",
       "      <td>4.0</td>\n",
       "    </tr>\n",
       "    <tr>\n",
       "      <th>1</th>\n",
       "      <td>290c77bc529b7ac935b93aa66c333dc3</td>\n",
       "      <td>2018-01-12 20:48:24</td>\n",
       "      <td>335.48</td>\n",
       "      <td>5.0</td>\n",
       "    </tr>\n",
       "  </tbody>\n",
       "</table>\n",
       "</div>"
      ],
      "text/plain": [
       "                 customer_unique_id order_purchase_timestamp  payment_value  \\\n",
       "0  861eff4711a542e4b93843c6dd7febb0      2017-05-16 15:05:35         146.87   \n",
       "1  290c77bc529b7ac935b93aa66c333dc3      2018-01-12 20:48:24         335.48   \n",
       "\n",
       "   review_score  \n",
       "0           4.0  \n",
       "1           5.0  "
      ]
     },
     "execution_count": 97,
     "metadata": {},
     "output_type": "execute_result"
    }
   ],
   "source": [
    "keeps.append(\"review_score\")\n",
    "df = df[keeps]\n",
    "df.head(2)"
   ]
  },
  {
   "cell_type": "code",
   "execution_count": 98,
   "id": "0e52cf77-13ba-4c47-bd2c-f4b18b2325d5",
   "metadata": {},
   "outputs": [
    {
     "data": {
      "text/plain": [
       "customer_unique_id          0\n",
       "order_purchase_timestamp    0\n",
       "payment_value               0\n",
       "review_score                0\n",
       "dtype: int64"
      ]
     },
     "execution_count": 98,
     "metadata": {},
     "output_type": "execute_result"
    }
   ],
   "source": [
    "df.isna().sum()"
   ]
  },
  {
   "cell_type": "code",
   "execution_count": 99,
   "id": "f3f2b271-8275-46b6-a1ef-17b892328265",
   "metadata": {},
   "outputs": [
    {
     "data": {
      "text/plain": [
       "R    0\n",
       "F    0\n",
       "M    0\n",
       "dtype: int64"
      ]
     },
     "execution_count": 99,
     "metadata": {},
     "output_type": "execute_result"
    }
   ],
   "source": [
    "dfs.isna().sum()"
   ]
  },
  {
   "cell_type": "markdown",
   "id": "f94a01d5-1893-43cf-87d9-264353ae722b",
   "metadata": {
    "tags": []
   },
   "source": [
    ">>-\n",
    "## 46. Réorganisation RFM + rs"
   ]
  },
  {
   "cell_type": "code",
   "execution_count": 100,
   "id": "fe1a8f18-d393-453e-bd6f-be43c6df0179",
   "metadata": {
    "tags": []
   },
   "outputs": [],
   "source": [
    "#t0 = datetime.datetime.strptime(df.order_purchase_timestamp.max(), \"%Y-%m-%d %H:%M:%S\")\n",
    "df[\"recency_2\"] = pd.to_numeric(pd.to_datetime(df.order_purchase_timestamp))\n",
    "df[\"recency_2\"] = (df.recency_2.max() - df.recency_2)*10**-9"
   ]
  },
  {
   "cell_type": "code",
   "execution_count": 101,
   "id": "15279f65-ca7e-412e-a891-c797b598f5bf",
   "metadata": {},
   "outputs": [
    {
     "data": {
      "text/html": [
       "<div>\n",
       "<style scoped>\n",
       "    .dataframe tbody tr th:only-of-type {\n",
       "        vertical-align: middle;\n",
       "    }\n",
       "\n",
       "    .dataframe tbody tr th {\n",
       "        vertical-align: top;\n",
       "    }\n",
       "\n",
       "    .dataframe thead th {\n",
       "        text-align: right;\n",
       "    }\n",
       "</style>\n",
       "<table border=\"1\" class=\"dataframe\">\n",
       "  <thead>\n",
       "    <tr style=\"text-align: right;\">\n",
       "      <th></th>\n",
       "      <th>R</th>\n",
       "      <th>F</th>\n",
       "      <th>M</th>\n",
       "      <th>rs</th>\n",
       "    </tr>\n",
       "    <tr>\n",
       "      <th>customer_unique_id</th>\n",
       "      <th></th>\n",
       "      <th></th>\n",
       "      <th></th>\n",
       "      <th></th>\n",
       "    </tr>\n",
       "  </thead>\n",
       "  <tbody>\n",
       "    <tr>\n",
       "      <th>0000366f3b9a7992bf8c76cfdf3221e2</th>\n",
       "      <td>13847631.0</td>\n",
       "      <td>1</td>\n",
       "      <td>141.90</td>\n",
       "      <td>5.0</td>\n",
       "    </tr>\n",
       "    <tr>\n",
       "      <th>0000b849f77a49e4a4ce2b2a4ca5be3f</th>\n",
       "      <td>14105931.0</td>\n",
       "      <td>1</td>\n",
       "      <td>27.19</td>\n",
       "      <td>4.0</td>\n",
       "    </tr>\n",
       "    <tr>\n",
       "      <th>0000f46a3911fa3c0805444483337064</th>\n",
       "      <td>50617515.0</td>\n",
       "      <td>1</td>\n",
       "      <td>86.22</td>\n",
       "      <td>3.0</td>\n",
       "    </tr>\n",
       "    <tr>\n",
       "      <th>0000f6ccb0745a6a4b88665a16c9f078</th>\n",
       "      <td>31957237.0</td>\n",
       "      <td>1</td>\n",
       "      <td>43.62</td>\n",
       "      <td>4.0</td>\n",
       "    </tr>\n",
       "    <tr>\n",
       "      <th>0004aac84e0df4da2b147fca70cf8255</th>\n",
       "      <td>29108676.0</td>\n",
       "      <td>1</td>\n",
       "      <td>196.89</td>\n",
       "      <td>5.0</td>\n",
       "    </tr>\n",
       "  </tbody>\n",
       "</table>\n",
       "</div>"
      ],
      "text/plain": [
       "                                           R  F       M   rs\n",
       "customer_unique_id                                          \n",
       "0000366f3b9a7992bf8c76cfdf3221e2  13847631.0  1  141.90  5.0\n",
       "0000b849f77a49e4a4ce2b2a4ca5be3f  14105931.0  1   27.19  4.0\n",
       "0000f46a3911fa3c0805444483337064  50617515.0  1   86.22  3.0\n",
       "0000f6ccb0745a6a4b88665a16c9f078  31957237.0  1   43.62  4.0\n",
       "0004aac84e0df4da2b147fca70cf8255  29108676.0  1  196.89  5.0"
      ]
     },
     "execution_count": 101,
     "metadata": {},
     "output_type": "execute_result"
    }
   ],
   "source": [
    "dfs = pd.DataFrame()\n",
    "dfs[\"R\"] = df.groupby(\"customer_unique_id\").recency_2.min()\n",
    "dfs[\"F\"] = df.groupby(\n",
    "    [\"customer_unique_id\",\"order_purchase_timestamp\"]\n",
    ").agg(\"count\").groupby(\"customer_unique_id\").count().payment_value\n",
    "dfs[\"M\"] = df.groupby(\"customer_unique_id\").payment_value.sum()\n",
    "dfs_rsmin = dfs.copy()\n",
    "dfs[\"rs\"] = df.groupby(\"customer_unique_id\").review_score.mean()\n",
    "dfs_rsmin[\"rs\"] = df.groupby(\"customer_unique_id\").review_score.min()\n",
    "dfs.head()"
   ]
  },
  {
   "cell_type": "code",
   "execution_count": 102,
   "id": "c53f5d74-b826-4c05-9d69-f4c13a741f20",
   "metadata": {},
   "outputs": [
    {
     "name": "stdout",
     "output_type": "stream",
     "text": [
      "Couldn't find program: 'echo'\n"
     ]
    }
   ],
   "source": [
    "%%script echo Cette cell ne fonctionnera pas, je la fabrique juste pour le ppt\n",
    "df[\"recency_2\"] = pd.to_numeric(pd.to_datetime(df.order_purchase_timestamp))\n",
    "df[\"recency_2\"] = (df.recency_2.max() - df.recency_2)*10**-9\n",
    "dfs[\"R\"] = df.groupby(\"customer_unique_id\").recency_2.min()\n",
    "dfs[\"F\"] = df.groupby(\n",
    "    [\"customer_unique_id\",\"order_purchase_timestamp\"]\n",
    ").agg(\"count\").groupby(\"customer_unique_id\").count().payment_value\n",
    "dfs[\"M\"] = df.groupby(\"customer_unique_id\").payment_value.sum()\n",
    "dfs[\"rs\"] = df.groupby(\"customer_unique_id\").review_score.min()\n",
    "dfs.head()"
   ]
  },
  {
   "cell_type": "code",
   "execution_count": 103,
   "id": "54e5a47e-df24-4fb3-8795-7983f14a9d77",
   "metadata": {},
   "outputs": [
    {
     "name": "stdout",
     "output_type": "stream",
     "text": [
      "95379 ,  92680\n",
      "Il y a 2.8% de clients ayant effectué plus d'un achat dans le dataset avant subsampling.\n"
     ]
    }
   ],
   "source": [
    "print(dfs.shape[0], \", \", sum(dfs.F == 1))\n",
    "pct = (1-sum(dfs.F == 1)/dfs.shape[0])*100\n",
    "pct = (sum(dfs.F > 1)/dfs.shape[0])*100 # idem car par construction F < 1 n'existe pas.\n",
    "print(\"Il y a {a:.1f}% de clients ayant effectué plus d'un achat dans le dataset avant subsampling.\".format(a=pct))"
   ]
  },
  {
   "cell_type": "markdown",
   "id": "8b64eee5-e48f-4332-a7ba-8c11e99aa765",
   "metadata": {},
   "source": [
    "Ok ça va au moins on a conservé les ~3% de clients à 2+ achats."
   ]
  },
  {
   "cell_type": "code",
   "execution_count": 104,
   "id": "8ddd2345-6645-405b-9b85-2f6e8d00e85f",
   "metadata": {},
   "outputs": [],
   "source": [
    "dfs.to_csv(\"dfs_rs_mean.csv\")\n",
    "dfs_rs_mean = dfs.copy()"
   ]
  },
  {
   "cell_type": "code",
   "execution_count": 105,
   "id": "a931579c-9500-45c6-aff5-d0bce0e14186",
   "metadata": {},
   "outputs": [],
   "source": [
    "dfs_rsmin.to_csv(\"dfs_rs_min.csv\")\n",
    "#dfs_rs_min = dfs_rsmin.copy()"
   ]
  },
  {
   "cell_type": "code",
   "execution_count": 106,
   "id": "a0478a8d-c533-4e9e-ab56-4bd91dd93726",
   "metadata": {},
   "outputs": [],
   "source": [
    "#dfs = pd.read_csv(\"dfs_rs.csv\")"
   ]
  },
  {
   "cell_type": "markdown",
   "id": "d35faf4e-8575-4a6b-b82d-391b89cd4efd",
   "metadata": {
    "tags": []
   },
   "source": [
    ">>-\n",
    "## 47. Visualisation du rs"
   ]
  },
  {
   "cell_type": "code",
   "execution_count": 107,
   "id": "15a3e565-8b90-4259-ad99-a83c7a363ebc",
   "metadata": {},
   "outputs": [
    {
     "name": "stdout",
     "output_type": "stream",
     "text": [
      "\n"
     ]
    },
    {
     "data": {
      "image/png": "[encoded data removed]",
      "text/plain": [
       "<Figure size 216x144 with 1 Axes>"
      ]
     },
     "metadata": {},
     "output_type": "display_data"
    }
   ],
   "source": [
    "warnings.filterwarnings('ignore')\n",
    "plt.figure(figsize=(3, 2))\n",
    "my.hstplot(dfs[\"rs\"], strlog='')\n",
    "print()"
   ]
  },
  {
   "cell_type": "markdown",
   "id": "996a0a81-9f32-43d6-8d2f-7dc307c226d5",
   "metadata": {},
   "source": [
    "Seuls les 3% de clients qui ont fait 2+ commandes ont pu laisser plus d'une review et donc peuvent avoir un mean() de review_score non-entier."
   ]
  },
  {
   "cell_type": "code",
   "execution_count": 108,
   "id": "22838dcd-eec8-453e-a2c1-bfb8d3218bbb",
   "metadata": {},
   "outputs": [
    {
     "name": "stdout",
     "output_type": "stream",
     "text": [
      "\n"
     ]
    },
    {
     "data": {
      "image/png": "[encoded data removed]",
      "text/plain": [
       "<Figure size 216x144 with 1 Axes>"
      ]
     },
     "metadata": {},
     "output_type": "display_data"
    }
   ],
   "source": [
    "warnings.filterwarnings('ignore')\n",
    "plt.figure(figsize=(3, 2))\n",
    "my.hstplot(dfs_rsmin[\"rs\"], strlog='')\n",
    "plt.savefig(\"Hist_de_S.png\",\n",
    "            bbox_inches=\"tight\")\n",
    "print()"
   ]
  },
  {
   "cell_type": "markdown",
   "id": "c3102229-947a-41ce-9a40-70ce6b3b857a",
   "metadata": {},
   "source": [
    "(Je vérifie les valeurs de rs car sur le graphe les points semblent mal placés.)"
   ]
  },
  {
   "cell_type": "code",
   "execution_count": 109,
   "id": "59372d75-d342-4b1b-b228-5b33ec1cdbcb",
   "metadata": {},
   "outputs": [
    {
     "data": {
      "text/plain": [
       "{1.0, 2.0, 3.0, 4.0, 5.0}"
      ]
     },
     "execution_count": 109,
     "metadata": {},
     "output_type": "execute_result"
    }
   ],
   "source": [
    "set(dfs_rsmin.rs)"
   ]
  },
  {
   "cell_type": "markdown",
   "id": "e48fe42c-1ccc-41fc-ba1d-69a3f1c5b06c",
   "metadata": {},
   "source": [
    "Je vais travailler avec les min() de rs plutôt qu'avec les mean() ça sera plus simple.  \n",
    "Je préfère prendre les min() plutôt que les max() car j'estime que le comportement d'achat des clients est mieux expliqué par les achats auxquels ils ont attribué une mauvaise note que par les achats dont ils ont été satisfaits. (Un achat satisfaisant implique rarement un nouvel achat alors qu'un achat problématique va souvent impliquer la perte du client.)"
   ]
  },
  {
   "cell_type": "code",
   "execution_count": null,
   "id": "c0c3b4cf-665c-4474-b5a6-bef1bbf6fe63",
   "metadata": {},
   "outputs": [],
   "source": []
  }
 ],
 "metadata": {
  "kernelspec": {
   "display_name": "Python 3 (ipykernel)",
   "language": "python",
   "name": "python3"
  },
  "language_info": {
   "codemirror_mode": {
    "name": "ipython",
    "version": 3
   },
   "file_extension": ".py",
   "mimetype": "text/x-python",
   "name": "python",
   "nbconvert_exporter": "python",
   "pygments_lexer": "ipython3",
   "version": "3.9.12"
  },
  "tags": [
   "hide-cell"
  ]
 },
 "nbformat": 4,
 "nbformat_minor": 5
}

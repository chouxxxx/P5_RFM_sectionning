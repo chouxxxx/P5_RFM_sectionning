{
 "cells": [
  {
   "cell_type": "markdown",
   "metadata": {},
   "source": [
    "<div class=\"alert alert-block alert-warning\">\n",
    "<b>NOTE:</b> <br>\n",
    "To pass this Project coding is needed but you need to answer some of the given Question logically? You will find the Questions in the middle of this Project soon dont worry!!!! Go on \n",
    "</div>\n"
   ]
  },
  {
   "cell_type": "markdown",
   "metadata": {},
   "source": [
    "# Introduction\n",
    "Lifetimes can be used to analyze users based on a few assumption:\n",
    "1. Users interacts when they are `alive`\n",
    "2. Users under study may `die` after some period of time\n",
    "`alive` and `die` => most abstract terms: own definition of `alive` and `die` (they are used similarly to `birth` and `death` in survival analysis) <br>\n",
    "Whenever we have individuals repeating occurrences, we can use Lifetimes to help understand user behaviour\n",
    "\n",
    "# Applications\n",
    "Consider these applications to understand more:\n",
    "\n",
    "* Predicting how often a visitor will return to your website. (Alive = visiting, Die = decided website wasn't for them)\n",
    "* Understanding how frequently a patient may return to a hospital. (Alive = visiting, Die = maybe patient moved to a new city, or became deceased)\n",
    "* Predicting individuals who have churned from an app using only their usage history. (Alive = logins, Die = removed app)\n",
    "* `Predicting repeat purchases from a customer. (Alive = actively purchasing, Die = became disinterested with your product)`\n",
    "* `Predicting lifetime value of your customers`"
   ]
  },
  {
   "cell_type": "markdown",
   "metadata": {},
   "source": [
    "Assumptions about purchase event process and time that customer stays active(alive)\n",
    "* These five assumptions are given in words here.I will attempt to convince that these assumptions are sensible, and then present formalized mathematics of the model\n",
    "\n",
    "`Individual Customer`\n",
    "1. `Poisson Purchases`:While alive,each customer makes purchases according to a Poisson process with rate `λ`\n",
    "2. `Exponential Lifetime`: Each customer remains alive for a lifetime which has an exponentially distributed duration with death rate `μ`\n",
    "\n",
    "`Heterogeneity Across Customers`<br>\n",
    "\n",
    "3. `Individuals'Purchasing Rates Distributed Gamma`:Purchasing rate `λ` for different customers is distributed according to a gamma distribution across population of customers<br>\n",
    "4. `Death Rates Distributed Gamma`:Customer's death rates `μ` are distributed accordingto a different gamma distribution across customers <br>\n",
    "5. `Rates λ and μ Are Independent`:Purchasing rates `λ` and death rates `μ` are distributed independently of each other\n"
   ]
  },
  {
   "cell_type": "code",
   "execution_count": 1,
   "metadata": {
    "_cell_guid": "b1076dfc-b9ad-4769-8c92-a6c4dae69d19",
    "_uuid": "8f2839f25d086af736a60e9eeb907d3b93b6e0e5",
    "execution": {
     "iopub.execute_input": "2021-11-30T10:34:57.614318Z",
     "iopub.status.busy": "2021-11-30T10:34:57.613928Z",
     "iopub.status.idle": "2021-11-30T10:34:57.662368Z",
     "shell.execute_reply": "2021-11-30T10:34:57.661314Z",
     "shell.execute_reply.started": "2021-11-30T10:34:57.614197Z"
    }
   },
   "outputs": [
    {
     "name": "stdout",
     "output_type": "stream",
     "text": [
      "/kaggle/input/brazilian-ecommerce/olist_customers_dataset.csv\n",
      "/kaggle/input/brazilian-ecommerce/olist_sellers_dataset.csv\n",
      "/kaggle/input/brazilian-ecommerce/olist_order_reviews_dataset.csv\n",
      "/kaggle/input/brazilian-ecommerce/olist_order_items_dataset.csv\n",
      "/kaggle/input/brazilian-ecommerce/olist_products_dataset.csv\n",
      "/kaggle/input/brazilian-ecommerce/olist_geolocation_dataset.csv\n",
      "/kaggle/input/brazilian-ecommerce/product_category_name_translation.csv\n",
      "/kaggle/input/brazilian-ecommerce/olist_orders_dataset.csv\n",
      "/kaggle/input/brazilian-ecommerce/olist_order_payments_dataset.csv\n"
     ]
    }
   ],
   "source": [
    "# This Python 3 environment comes with many helpful analytics libraries installed\n",
    "# It is defined by the kaggle/python Docker image: https://github.com/kaggle/docker-python\n",
    "# For example, here's several helpful packages to load\n",
    "\n",
    "import numpy as np # linear algebra\n",
    "import pandas as pd # data processing, CSV file I/O (e.g. pd.read_csv)\n",
    "\n",
    "# Input data files are available in the read-only \"../input/\" directory\n",
    "# For example, running this (by clicking run or pressing Shift+Enter) will list all files under the input directory\n",
    "\n",
    "import os\n",
    "for dirname, _, filenames in os.walk('/kaggle/input'):\n",
    "    for filename in filenames:\n",
    "        print(os.path.join(dirname, filename))\n",
    "\n",
    "# You can write up to 20GB to the current directory (/kaggle/working/) that gets preserved as output when you create a version using \"Save & Run All\" \n",
    "# You can also write temporary files to /kaggle/temp/, but they won't be saved outside of the current session"
   ]
  },
  {
   "cell_type": "markdown",
   "metadata": {},
   "source": [
    "Above are all the data bases we have but we are selecting required database for CLV problem\n",
    "\n",
    "These are the databases which we will use\n",
    "* olist_orders_dataset.csv\n",
    "* olist_customers_dataset.csv\n",
    "* olist_order_payments_dataset.csv"
   ]
  },
  {
   "cell_type": "code",
   "execution_count": 2,
   "metadata": {
    "execution": {
     "iopub.execute_input": "2021-11-30T10:34:57.664542Z",
     "iopub.status.busy": "2021-11-30T10:34:57.664049Z",
     "iopub.status.idle": "2021-11-30T10:34:57.672285Z",
     "shell.execute_reply": "2021-11-30T10:34:57.671370Z",
     "shell.execute_reply.started": "2021-11-30T10:34:57.664502Z"
    }
   },
   "outputs": [],
   "source": [
    "# Import required library\n",
    "# library for ploting\n",
    "\n",
    "#library to ignore warnings [dont show them to me ]\n"
   ]
  },
  {
   "cell_type": "markdown",
   "metadata": {},
   "source": [
    "<div class=\"alert alert-block alert-info\">\n",
    "<b>Tip:</b><br> \n",
    "`%matplotlib inline` function is used to render static matplotlib plots within Jupyter notebook<br> \n",
    "Try replacing `inline` part with `notebook` to get zoom-able & resize-able plots, easily\n",
    "</div>\n"
   ]
  },
  {
   "cell_type": "code",
   "execution_count": 3,
   "metadata": {
    "execution": {
     "iopub.execute_input": "2021-11-30T10:34:57.679134Z",
     "iopub.status.busy": "2021-11-30T10:34:57.678834Z",
     "iopub.status.idle": "2021-11-30T10:34:58.961965Z",
     "shell.execute_reply": "2021-11-30T10:34:58.960937Z",
     "shell.execute_reply.started": "2021-11-30T10:34:57.679099Z"
    }
   },
   "outputs": [],
   "source": [
    "#load these 3 data sets named as olist_orders_dataset.csv,olist_customers_dataset.csv,olist_order_payments_dataset.csv\n",
    "orders = \n",
    "customer =\n",
    "payments = "
   ]
  },
  {
   "cell_type": "code",
   "execution_count": 4,
   "metadata": {
    "execution": {
     "iopub.execute_input": "2021-11-30T10:34:58.963887Z",
     "iopub.status.busy": "2021-11-30T10:34:58.963623Z",
     "iopub.status.idle": "2021-11-30T10:34:59.313862Z",
     "shell.execute_reply": "2021-11-30T10:34:59.312796Z",
     "shell.execute_reply.started": "2021-11-30T10:34:58.963857Z"
    }
   },
   "outputs": [
    {
     "data": {
      "text/html": [
       "<div>\n",
       "<style scoped>\n",
       "    .dataframe tbody tr th:only-of-type {\n",
       "        vertical-align: middle;\n",
       "    }\n",
       "\n",
       "    .dataframe tbody tr th {\n",
       "        vertical-align: top;\n",
       "    }\n",
       "\n",
       "    .dataframe thead th {\n",
       "        text-align: right;\n",
       "    }\n",
       "</style>\n",
       "<table border=\"1\" class=\"dataframe\">\n",
       "  <thead>\n",
       "    <tr style=\"text-align: right;\">\n",
       "      <th></th>\n",
       "      <th>index</th>\n",
       "      <th>order_id</th>\n",
       "      <th>customer_id</th>\n",
       "      <th>order_status</th>\n",
       "      <th>order_purchase_timestamp</th>\n",
       "      <th>order_approved_at</th>\n",
       "      <th>order_delivered_carrier_date</th>\n",
       "      <th>order_delivered_customer_date</th>\n",
       "      <th>order_estimated_delivery_date</th>\n",
       "      <th>customer_unique_id</th>\n",
       "      <th>customer_zip_code_prefix</th>\n",
       "      <th>customer_city</th>\n",
       "      <th>customer_state</th>\n",
       "      <th>payment_sequential</th>\n",
       "      <th>payment_type</th>\n",
       "      <th>payment_installments</th>\n",
       "      <th>payment_value</th>\n",
       "    </tr>\n",
       "  </thead>\n",
       "  <tbody>\n",
       "    <tr>\n",
       "      <th>0</th>\n",
       "      <td>0</td>\n",
       "      <td>e481f51cbdc54678b7cc49136f2d6af7</td>\n",
       "      <td>9ef432eb6251297304e76186b10a928d</td>\n",
       "      <td>delivered</td>\n",
       "      <td>2017-10-02 10:56:33</td>\n",
       "      <td>2017-10-02 11:07:15</td>\n",
       "      <td>2017-10-04 19:55:00</td>\n",
       "      <td>2017-10-10 21:25:13</td>\n",
       "      <td>2017-10-18 00:00:00</td>\n",
       "      <td>7c396fd4830fd04220f754e42b4e5bff</td>\n",
       "      <td>3149</td>\n",
       "      <td>sao paulo</td>\n",
       "      <td>SP</td>\n",
       "      <td>1.0</td>\n",
       "      <td>credit_card</td>\n",
       "      <td>1.0</td>\n",
       "      <td>18.12</td>\n",
       "    </tr>\n",
       "    <tr>\n",
       "      <th>1</th>\n",
       "      <td>1</td>\n",
       "      <td>e481f51cbdc54678b7cc49136f2d6af7</td>\n",
       "      <td>9ef432eb6251297304e76186b10a928d</td>\n",
       "      <td>delivered</td>\n",
       "      <td>2017-10-02 10:56:33</td>\n",
       "      <td>2017-10-02 11:07:15</td>\n",
       "      <td>2017-10-04 19:55:00</td>\n",
       "      <td>2017-10-10 21:25:13</td>\n",
       "      <td>2017-10-18 00:00:00</td>\n",
       "      <td>7c396fd4830fd04220f754e42b4e5bff</td>\n",
       "      <td>3149</td>\n",
       "      <td>sao paulo</td>\n",
       "      <td>SP</td>\n",
       "      <td>3.0</td>\n",
       "      <td>voucher</td>\n",
       "      <td>1.0</td>\n",
       "      <td>2.00</td>\n",
       "    </tr>\n",
       "  </tbody>\n",
       "</table>\n",
       "</div>"
      ],
      "text/plain": [
       "   index                          order_id                       customer_id  \\\n",
       "0      0  e481f51cbdc54678b7cc49136f2d6af7  9ef432eb6251297304e76186b10a928d   \n",
       "1      1  e481f51cbdc54678b7cc49136f2d6af7  9ef432eb6251297304e76186b10a928d   \n",
       "\n",
       "  order_status order_purchase_timestamp    order_approved_at  \\\n",
       "0    delivered      2017-10-02 10:56:33  2017-10-02 11:07:15   \n",
       "1    delivered      2017-10-02 10:56:33  2017-10-02 11:07:15   \n",
       "\n",
       "  order_delivered_carrier_date order_delivered_customer_date  \\\n",
       "0          2017-10-04 19:55:00           2017-10-10 21:25:13   \n",
       "1          2017-10-04 19:55:00           2017-10-10 21:25:13   \n",
       "\n",
       "  order_estimated_delivery_date                customer_unique_id  \\\n",
       "0           2017-10-18 00:00:00  7c396fd4830fd04220f754e42b4e5bff   \n",
       "1           2017-10-18 00:00:00  7c396fd4830fd04220f754e42b4e5bff   \n",
       "\n",
       "   customer_zip_code_prefix customer_city customer_state  payment_sequential  \\\n",
       "0                      3149     sao paulo             SP                 1.0   \n",
       "1                      3149     sao paulo             SP                 3.0   \n",
       "\n",
       "  payment_type  payment_installments  payment_value  \n",
       "0  credit_card                   1.0          18.12  \n",
       "1      voucher                   1.0           2.00  "
      ]
     },
     "execution_count": 4,
     "metadata": {},
     "output_type": "execute_result"
    }
   ],
   "source": [
    "# merge orders dataset with customer dataset on 'customer_id' type how outer save it in a variable say merged_df1\n",
    "merged_df1 =\n",
    "# merge merged_df1 with payments data set on order_id type hoe outer\n",
    "merged_df1 =\n",
    "# reset index of merged_df1\n",
    "merged_df1.\n",
    "# see top 5 rows of dataset merged_df1\n",
    "merged_df1.head()"
   ]
  },
  {
   "cell_type": "code",
   "execution_count": 5,
   "metadata": {
    "execution": {
     "iopub.execute_input": "2021-11-30T10:34:59.315831Z",
     "iopub.status.busy": "2021-11-30T10:34:59.315503Z",
     "iopub.status.idle": "2021-11-30T10:34:59.473924Z",
     "shell.execute_reply": "2021-11-30T10:34:59.473049Z",
     "shell.execute_reply.started": "2021-11-30T10:34:59.315787Z"
    }
   },
   "outputs": [
    {
     "data": {
      "text/plain": [
       "index                               0\n",
       "order_id                            0\n",
       "customer_id                         0\n",
       "order_status                        0\n",
       "order_purchase_timestamp            0\n",
       "order_approved_at                 175\n",
       "order_delivered_carrier_date     1888\n",
       "order_delivered_customer_date    3132\n",
       "order_estimated_delivery_date       0\n",
       "customer_unique_id                  0\n",
       "customer_zip_code_prefix            0\n",
       "customer_city                       0\n",
       "customer_state                      0\n",
       "payment_sequential                  1\n",
       "payment_type                        1\n",
       "payment_installments                1\n",
       "payment_value                       1\n",
       "dtype: int64"
      ]
     },
     "execution_count": 5,
     "metadata": {},
     "output_type": "execute_result"
    }
   ],
   "source": [
    "# find out if any null values are in dataset merged_df1\n",
    "merged_df1."
   ]
  },
  {
   "cell_type": "code",
   "execution_count": 6,
   "metadata": {
    "execution": {
     "iopub.execute_input": "2021-11-30T10:34:59.476725Z",
     "iopub.status.busy": "2021-11-30T10:34:59.476142Z",
     "iopub.status.idle": "2021-11-30T10:34:59.557322Z",
     "shell.execute_reply": "2021-11-30T10:34:59.556404Z",
     "shell.execute_reply.started": "2021-11-30T10:34:59.476681Z"
    }
   },
   "outputs": [],
   "source": [
    "# now select only required columns which you think will be usefull for this usecase and save then as a list in req_cols variable\n",
    "## Hint: column maybe 'customer_unique_id','order_purchase_timestamp','payment_value'\n",
    "req_cols = \n",
    "\n",
    "# limit merged_df1 to only required columns -- req_cols\n",
    "merged_df1 = "
   ]
  },
  {
   "cell_type": "code",
   "execution_count": 7,
   "metadata": {
    "execution": {
     "iopub.execute_input": "2021-11-30T10:34:59.559386Z",
     "iopub.status.busy": "2021-11-30T10:34:59.558835Z",
     "iopub.status.idle": "2021-11-30T10:34:59.572074Z",
     "shell.execute_reply": "2021-11-30T10:34:59.570901Z",
     "shell.execute_reply.started": "2021-11-30T10:34:59.559284Z"
    }
   },
   "outputs": [
    {
     "data": {
      "text/html": [
       "<div>\n",
       "<style scoped>\n",
       "    .dataframe tbody tr th:only-of-type {\n",
       "        vertical-align: middle;\n",
       "    }\n",
       "\n",
       "    .dataframe tbody tr th {\n",
       "        vertical-align: top;\n",
       "    }\n",
       "\n",
       "    .dataframe thead th {\n",
       "        text-align: right;\n",
       "    }\n",
       "</style>\n",
       "<table border=\"1\" class=\"dataframe\">\n",
       "  <thead>\n",
       "    <tr style=\"text-align: right;\">\n",
       "      <th></th>\n",
       "      <th>customer_unique_id</th>\n",
       "      <th>order_purchase_timestamp</th>\n",
       "      <th>payment_value</th>\n",
       "    </tr>\n",
       "  </thead>\n",
       "  <tbody>\n",
       "    <tr>\n",
       "      <th>0</th>\n",
       "      <td>7c396fd4830fd04220f754e42b4e5bff</td>\n",
       "      <td>2017-10-02 10:56:33</td>\n",
       "      <td>18.12</td>\n",
       "    </tr>\n",
       "    <tr>\n",
       "      <th>1</th>\n",
       "      <td>7c396fd4830fd04220f754e42b4e5bff</td>\n",
       "      <td>2017-10-02 10:56:33</td>\n",
       "      <td>2.00</td>\n",
       "    </tr>\n",
       "    <tr>\n",
       "      <th>2</th>\n",
       "      <td>7c396fd4830fd04220f754e42b4e5bff</td>\n",
       "      <td>2017-10-02 10:56:33</td>\n",
       "      <td>18.59</td>\n",
       "    </tr>\n",
       "    <tr>\n",
       "      <th>3</th>\n",
       "      <td>af07308b275d755c9edb36a90c618231</td>\n",
       "      <td>2018-07-24 20:41:37</td>\n",
       "      <td>141.46</td>\n",
       "    </tr>\n",
       "    <tr>\n",
       "      <th>4</th>\n",
       "      <td>3a653a41f6f9fc3d2a113cf8398680e8</td>\n",
       "      <td>2018-08-08 08:38:49</td>\n",
       "      <td>179.12</td>\n",
       "    </tr>\n",
       "  </tbody>\n",
       "</table>\n",
       "</div>"
      ],
      "text/plain": [
       "                 customer_unique_id order_purchase_timestamp  payment_value\n",
       "0  7c396fd4830fd04220f754e42b4e5bff      2017-10-02 10:56:33          18.12\n",
       "1  7c396fd4830fd04220f754e42b4e5bff      2017-10-02 10:56:33           2.00\n",
       "2  7c396fd4830fd04220f754e42b4e5bff      2017-10-02 10:56:33          18.59\n",
       "3  af07308b275d755c9edb36a90c618231      2018-07-24 20:41:37         141.46\n",
       "4  3a653a41f6f9fc3d2a113cf8398680e8      2018-08-08 08:38:49         179.12"
      ]
     },
     "execution_count": 7,
     "metadata": {},
     "output_type": "execute_result"
    }
   ],
   "source": [
    "# see top 5 rows of limited dataset merged_df1\n",
    "merged_df1"
   ]
  },
  {
   "cell_type": "code",
   "execution_count": 8,
   "metadata": {
    "execution": {
     "iopub.execute_input": "2021-11-30T10:34:59.573598Z",
     "iopub.status.busy": "2021-11-30T10:34:59.573351Z",
     "iopub.status.idle": "2021-11-30T10:34:59.585731Z",
     "shell.execute_reply": "2021-11-30T10:34:59.584867Z",
     "shell.execute_reply.started": "2021-11-30T10:34:59.573569Z"
    }
   },
   "outputs": [
    {
     "data": {
      "text/plain": [
       "(103887, 3)"
      ]
     },
     "execution_count": 8,
     "metadata": {},
     "output_type": "execute_result"
    }
   ],
   "source": [
    "# chech for the shape of merged_df1\n",
    "merged_df1"
   ]
  },
  {
   "cell_type": "code",
   "execution_count": 9,
   "metadata": {
    "execution": {
     "iopub.execute_input": "2021-11-30T10:34:59.587600Z",
     "iopub.status.busy": "2021-11-30T10:34:59.587357Z",
     "iopub.status.idle": "2021-11-30T10:34:59.633513Z",
     "shell.execute_reply": "2021-11-30T10:34:59.632749Z",
     "shell.execute_reply.started": "2021-11-30T10:34:59.587573Z"
    }
   },
   "outputs": [
    {
     "data": {
      "text/plain": [
       "customer_unique_id          0\n",
       "order_purchase_timestamp    0\n",
       "payment_value               1\n",
       "dtype: int64"
      ]
     },
     "execution_count": 9,
     "metadata": {},
     "output_type": "execute_result"
    }
   ],
   "source": [
    "# check if any null value exist\n",
    "merged_df1."
   ]
  },
  {
   "cell_type": "code",
   "execution_count": 10,
   "metadata": {
    "execution": {
     "iopub.execute_input": "2021-11-30T10:34:59.635395Z",
     "iopub.status.busy": "2021-11-30T10:34:59.635129Z",
     "iopub.status.idle": "2021-11-30T10:34:59.685650Z",
     "shell.execute_reply": "2021-11-30T10:34:59.684709Z",
     "shell.execute_reply.started": "2021-11-30T10:34:59.635366Z"
    }
   },
   "outputs": [
    {
     "name": "stdout",
     "output_type": "stream",
     "text": [
      "<class 'pandas.core.frame.DataFrame'>\n",
      "RangeIndex: 103887 entries, 0 to 103886\n",
      "Data columns (total 3 columns):\n",
      " #   Column                    Non-Null Count   Dtype  \n",
      "---  ------                    --------------   -----  \n",
      " 0   customer_unique_id        103887 non-null  object \n",
      " 1   order_purchase_timestamp  103887 non-null  object \n",
      " 2   payment_value             103886 non-null  float64\n",
      "dtypes: float64(1), object(2)\n",
      "memory usage: 2.4+ MB\n"
     ]
    }
   ],
   "source": [
    "# use .info() function to get a concise summary of dataframe\n",
    "merged_df1"
   ]
  },
  {
   "cell_type": "code",
   "execution_count": 11,
   "metadata": {
    "execution": {
     "iopub.execute_input": "2021-11-30T10:34:59.687858Z",
     "iopub.status.busy": "2021-11-30T10:34:59.687297Z",
     "iopub.status.idle": "2021-11-30T10:34:59.841619Z",
     "shell.execute_reply": "2021-11-30T10:34:59.840946Z",
     "shell.execute_reply.started": "2021-11-30T10:34:59.687821Z"
    }
   },
   "outputs": [
    {
     "data": {
      "text/html": [
       "<div>\n",
       "<style scoped>\n",
       "    .dataframe tbody tr th:only-of-type {\n",
       "        vertical-align: middle;\n",
       "    }\n",
       "\n",
       "    .dataframe tbody tr th {\n",
       "        vertical-align: top;\n",
       "    }\n",
       "\n",
       "    .dataframe thead th {\n",
       "        text-align: right;\n",
       "    }\n",
       "</style>\n",
       "<table border=\"1\" class=\"dataframe\">\n",
       "  <thead>\n",
       "    <tr style=\"text-align: right;\">\n",
       "      <th></th>\n",
       "      <th>customer_unique_id</th>\n",
       "      <th>order_purchase_timestamp</th>\n",
       "      <th>payment_value</th>\n",
       "      <th>order_date</th>\n",
       "    </tr>\n",
       "  </thead>\n",
       "  <tbody>\n",
       "    <tr>\n",
       "      <th>0</th>\n",
       "      <td>7c396fd4830fd04220f754e42b4e5bff</td>\n",
       "      <td>2017-10-02 10:56:33</td>\n",
       "      <td>18.12</td>\n",
       "      <td>2017-10-02</td>\n",
       "    </tr>\n",
       "    <tr>\n",
       "      <th>1</th>\n",
       "      <td>7c396fd4830fd04220f754e42b4e5bff</td>\n",
       "      <td>2017-10-02 10:56:33</td>\n",
       "      <td>2.00</td>\n",
       "      <td>2017-10-02</td>\n",
       "    </tr>\n",
       "  </tbody>\n",
       "</table>\n",
       "</div>"
      ],
      "text/plain": [
       "                 customer_unique_id order_purchase_timestamp  payment_value  \\\n",
       "0  7c396fd4830fd04220f754e42b4e5bff      2017-10-02 10:56:33          18.12   \n",
       "1  7c396fd4830fd04220f754e42b4e5bff      2017-10-02 10:56:33           2.00   \n",
       "\n",
       "  order_date  \n",
       "0 2017-10-02  \n",
       "1 2017-10-02  "
      ]
     },
     "execution_count": 11,
     "metadata": {},
     "output_type": "execute_result"
    }
   ],
   "source": [
    "# change order_purchase_timestamp column which is string data type to datetime data type\n",
    "## Hint: use pd.to_datetime()\n",
    "merged_df1['order_purchase_timestamp'] = \n",
    "\n",
    "# extract date from merged_df1['order_purchase_timestamp']\n",
    "## Hint: use dt.date\n",
    "merged_df1['order_date'] = \n",
    "\n",
    "# convert string Date time into Python Date time object\n",
    "## Hint: pd.to_datetime\n",
    "merged_df1['order_date'] = \n",
    "\n",
    "# check first 5 rows of dataframe\n",
    "merged_df1"
   ]
  },
  {
   "cell_type": "code",
   "execution_count": null,
   "metadata": {},
   "outputs": [],
   "source": [
    "# use .info() function to get a concise summary of dataframe\n",
    "merged_df1"
   ]
  },
  {
   "cell_type": "code",
   "execution_count": 12,
   "metadata": {
    "execution": {
     "iopub.execute_input": "2021-11-30T10:34:59.845134Z",
     "iopub.status.busy": "2021-11-30T10:34:59.844357Z",
     "iopub.status.idle": "2021-11-30T10:34:59.864029Z",
     "shell.execute_reply": "2021-11-30T10:34:59.863178Z",
     "shell.execute_reply.started": "2021-11-30T10:34:59.845083Z"
    }
   },
   "outputs": [
    {
     "data": {
      "text/html": [
       "<div>\n",
       "<style scoped>\n",
       "    .dataframe tbody tr th:only-of-type {\n",
       "        vertical-align: middle;\n",
       "    }\n",
       "\n",
       "    .dataframe tbody tr th {\n",
       "        vertical-align: top;\n",
       "    }\n",
       "\n",
       "    .dataframe thead th {\n",
       "        text-align: right;\n",
       "    }\n",
       "</style>\n",
       "<table border=\"1\" class=\"dataframe\">\n",
       "  <thead>\n",
       "    <tr style=\"text-align: right;\">\n",
       "      <th></th>\n",
       "      <th>customer_unique_id</th>\n",
       "      <th>payment_value</th>\n",
       "      <th>order_date</th>\n",
       "    </tr>\n",
       "  </thead>\n",
       "  <tbody>\n",
       "    <tr>\n",
       "      <th>0</th>\n",
       "      <td>7c396fd4830fd04220f754e42b4e5bff</td>\n",
       "      <td>18.12</td>\n",
       "      <td>2017-10-02</td>\n",
       "    </tr>\n",
       "    <tr>\n",
       "      <th>1</th>\n",
       "      <td>7c396fd4830fd04220f754e42b4e5bff</td>\n",
       "      <td>2.00</td>\n",
       "      <td>2017-10-02</td>\n",
       "    </tr>\n",
       "  </tbody>\n",
       "</table>\n",
       "</div>"
      ],
      "text/plain": [
       "                 customer_unique_id  payment_value order_date\n",
       "0  7c396fd4830fd04220f754e42b4e5bff          18.12 2017-10-02\n",
       "1  7c396fd4830fd04220f754e42b4e5bff           2.00 2017-10-02"
      ]
     },
     "execution_count": 12,
     "metadata": {},
     "output_type": "execute_result"
    }
   ],
   "source": [
    "# extract only required columns from merged_df1 which are 'customer_unique_id','payment_value','order_date'\n",
    "## Hint: make a list of requried columns\n",
    "req_cols2 = \n",
    "\n",
    "# assign required limited column dataframe to new variable transaction_data\n",
    "transaction_data = \n",
    "\n",
    "# check for top 5 rows of dataset transaction_data\n",
    "transaction_data"
   ]
  },
  {
   "cell_type": "code",
   "execution_count": 13,
   "metadata": {
    "execution": {
     "iopub.execute_input": "2021-11-30T10:34:59.865764Z",
     "iopub.status.busy": "2021-11-30T10:34:59.865530Z",
     "iopub.status.idle": "2021-11-30T10:34:59.899624Z",
     "shell.execute_reply": "2021-11-30T10:34:59.898811Z",
     "shell.execute_reply.started": "2021-11-30T10:34:59.865735Z"
    }
   },
   "outputs": [],
   "source": [
    "# drop null value if any use inplace=True\n",
    "transaction_data"
   ]
  },
  {
   "cell_type": "code",
   "execution_count": 14,
   "metadata": {
    "execution": {
     "iopub.execute_input": "2021-11-30T10:34:59.902661Z",
     "iopub.status.busy": "2021-11-30T10:34:59.901772Z",
     "iopub.status.idle": "2021-11-30T10:34:59.907262Z",
     "shell.execute_reply": "2021-11-30T10:34:59.906298Z",
     "shell.execute_reply.started": "2021-11-30T10:34:59.902571Z"
    }
   },
   "outputs": [],
   "source": [
    "#rename transaction_data columns to 'id','price','date'\n",
    "transaction_data.columns ="
   ]
  },
  {
   "cell_type": "markdown",
   "metadata": {},
   "source": [
    "<div class=\"alert alert-block alert-warning\">\n",
    "<b>Information:</b> <br>\n",
    "Pandas profiling package computes the following statistics (in genral): <br>\n",
    "* Essentials:\n",
    "    * Type\n",
    "    * Unique Values\n",
    "    * Missing Values <br>\n",
    "* Descriptive Stats <br>\n",
    "* Quantile Stats <br>\n",
    "* Correlations <br>\n",
    "* Most Frequent Values <br>\n",
    "* Histogram   <br>\n",
    "</div>"
   ]
  },
  {
   "cell_type": "markdown",
   "metadata": {},
   "source": [
    "To analyse transaction_data and other 3 dataset quickly let use pandas_profiling which is a library\n",
    "* Will use ProfileReport() this is a method, which generate a basic report on input DataFrame"
   ]
  },
  {
   "cell_type": "code",
   "execution_count": 15,
   "metadata": {
    "execution": {
     "iopub.execute_input": "2021-11-30T10:34:59.909369Z",
     "iopub.status.busy": "2021-11-30T10:34:59.908584Z",
     "iopub.status.idle": "2021-11-30T10:35:02.495188Z",
     "shell.execute_reply": "2021-11-30T10:35:02.494234Z",
     "shell.execute_reply.started": "2021-11-30T10:34:59.909318Z"
    }
   },
   "outputs": [],
   "source": [
    "# import pandas_profiling library\n",
    "import "
   ]
  },
  {
   "cell_type": "code",
   "execution_count": 16,
   "metadata": {
    "execution": {
     "iopub.execute_input": "2021-11-30T10:35:02.496969Z",
     "iopub.status.busy": "2021-11-30T10:35:02.496609Z",
     "iopub.status.idle": "2021-11-30T10:35:02.502273Z",
     "shell.execute_reply": "2021-11-30T10:35:02.500745Z",
     "shell.execute_reply.started": "2021-11-30T10:35:02.496925Z"
    }
   },
   "outputs": [],
   "source": [
    "#see orders dataset report using ProfileReport() method\n",
    "orders."
   ]
  },
  {
   "cell_type": "code",
   "execution_count": 17,
   "metadata": {
    "execution": {
     "iopub.execute_input": "2021-11-30T10:35:02.504408Z",
     "iopub.status.busy": "2021-11-30T10:35:02.504030Z",
     "iopub.status.idle": "2021-11-30T10:35:02.518837Z",
     "shell.execute_reply": "2021-11-30T10:35:02.517876Z",
     "shell.execute_reply.started": "2021-11-30T10:35:02.504369Z"
    }
   },
   "outputs": [],
   "source": [
    "#see customers dataset report using ProfileReport() method\n",
    "customers."
   ]
  },
  {
   "cell_type": "code",
   "execution_count": 18,
   "metadata": {
    "execution": {
     "iopub.execute_input": "2021-11-30T10:35:02.520853Z",
     "iopub.status.busy": "2021-11-30T10:35:02.520520Z",
     "iopub.status.idle": "2021-11-30T10:35:02.533393Z",
     "shell.execute_reply": "2021-11-30T10:35:02.532342Z",
     "shell.execute_reply.started": "2021-11-30T10:35:02.520811Z"
    }
   },
   "outputs": [],
   "source": [
    "# payments dataset profile report\n",
    "payments."
   ]
  },
  {
   "cell_type": "code",
   "execution_count": null,
   "metadata": {},
   "outputs": [],
   "source": [
    "# transaction_data dataset profile report\n",
    "transaction_data."
   ]
  },
  {
   "cell_type": "markdown",
   "metadata": {},
   "source": [
    "`Report can also be exported into an interactive HTML file with`"
   ]
  },
  {
   "cell_type": "code",
   "execution_count": 19,
   "metadata": {
    "execution": {
     "iopub.execute_input": "2021-11-30T10:35:02.537020Z",
     "iopub.status.busy": "2021-11-30T10:35:02.536249Z",
     "iopub.status.idle": "2021-11-30T10:35:02.549522Z",
     "shell.execute_reply": "2021-11-30T10:35:02.548750Z",
     "shell.execute_reply.started": "2021-11-30T10:35:02.536968Z"
    }
   },
   "outputs": [],
   "source": [
    "# say you want payment dataset report to be stored in html format\n",
    "profile = payments.profile_report(title='Payment Report')\n",
    "profile.to_file(outputfile=\"any path/Payment_report.html\")"
   ]
  },
  {
   "cell_type": "markdown",
   "metadata": {},
   "source": [
    "## After Extracting only requried columns from datasets"
   ]
  },
  {
   "cell_type": "markdown",
   "metadata": {},
   "source": [
    "## transaction_data\n",
    "This dataset will help in understanding recency and frequency\n",
    "* recency (R)\n",
    "* frequency (F)\n",
    "* monetary value (M)"
   ]
  },
  {
   "cell_type": "code",
   "execution_count": 20,
   "metadata": {
    "execution": {
     "iopub.execute_input": "2021-11-30T10:35:02.551539Z",
     "iopub.status.busy": "2021-11-30T10:35:02.550972Z",
     "iopub.status.idle": "2021-11-30T10:35:02.586680Z",
     "shell.execute_reply": "2021-11-30T10:35:02.584893Z",
     "shell.execute_reply.started": "2021-11-30T10:35:02.551493Z"
    }
   },
   "outputs": [
    {
     "data": {
      "text/plain": [
       "id       0\n",
       "price    0\n",
       "date     0\n",
       "dtype: int64"
      ]
     },
     "execution_count": 20,
     "metadata": {},
     "output_type": "execute_result"
    }
   ],
   "source": [
    "# re-check for null values in transaction_data\n",
    "transaction_data."
   ]
  },
  {
   "cell_type": "markdown",
   "metadata": {},
   "source": [
    "price = spend"
   ]
  },
  {
   "cell_type": "code",
   "execution_count": 21,
   "metadata": {
    "execution": {
     "iopub.execute_input": "2021-11-30T10:35:02.589456Z",
     "iopub.status.busy": "2021-11-30T10:35:02.588664Z",
     "iopub.status.idle": "2021-11-30T10:35:02.717945Z",
     "shell.execute_reply": "2021-11-30T10:35:02.716929Z",
     "shell.execute_reply.started": "2021-11-30T10:35:02.589387Z"
    }
   },
   "outputs": [
    {
     "name": "stdout",
     "output_type": "stream",
     "text": [
      "*** Value count column:[[id]] ***\n",
      "9a736b248f67d166d2fbb006bcb877c3    33\n",
      "8af7ac63b2efbcbd88e5b11505e8098a    29\n",
      "569aa12b73b5f7edeaa6f2a01603e381    26\n",
      "f9ae226291893fda10af7965268fb7f6    23\n",
      "2524dcec233c3766f2c2b22f69fd65f4    22\n",
      "                                    ..\n",
      "9cf5e99801fa1841630de46050cb0444     1\n",
      "42c8ccbe558d063718d19cff01505af9     1\n",
      "c563cc0d1514b8f7fa9b4a40f158fca0     1\n",
      "738b1b04a2a76c384c01706519d0338f     1\n",
      "60350aa974b26ff12caad89e55993bd6     1\n",
      "Name: id, Length: 96095, dtype: int64\n",
      "\n",
      "*** Value count column:[[price]] ***\n",
      "50.00      324\n",
      "20.00      274\n",
      "100.00     255\n",
      "77.57      250\n",
      "35.00      165\n",
      "          ... \n",
      "150.35       1\n",
      "1147.50      1\n",
      "665.98       1\n",
      "290.40       1\n",
      "441.16       1\n",
      "Name: price, Length: 29077, dtype: int64\n",
      "\n",
      "*** Value count column:[[date]] ***\n",
      "2017-11-24    1214\n",
      "2017-11-25     538\n",
      "2017-11-27     420\n",
      "2017-11-26     411\n",
      "2017-11-28     393\n",
      "              ... \n",
      "2018-09-13       1\n",
      "2016-09-04       1\n",
      "2016-09-05       1\n",
      "2018-09-20       1\n",
      "2018-08-31       1\n",
      "Name: date, Length: 633, dtype: int64\n",
      "\n"
     ]
    }
   ],
   "source": [
    "# find the value count per col using for loop\n"
   ]
  },
  {
   "cell_type": "code",
   "execution_count": 55,
   "metadata": {
    "execution": {
     "iopub.execute_input": "2021-11-30T10:40:57.575318Z",
     "iopub.status.busy": "2021-11-30T10:40:57.574742Z",
     "iopub.status.idle": "2021-11-30T10:40:57.608254Z",
     "shell.execute_reply": "2021-11-30T10:40:57.607074Z",
     "shell.execute_reply.started": "2021-11-30T10:40:57.575282Z"
    }
   },
   "outputs": [
    {
     "name": "stdout",
     "output_type": "stream",
     "text": [
      "<class 'pandas.core.frame.DataFrame'>\n",
      "Int64Index: 103886 entries, 0 to 103886\n",
      "Data columns (total 3 columns):\n",
      " #   Column  Non-Null Count   Dtype         \n",
      "---  ------  --------------   -----         \n",
      " 0   id      103886 non-null  object        \n",
      " 1   price   103886 non-null  float64       \n",
      " 2   date    103886 non-null  datetime64[ns]\n",
      "dtypes: datetime64[ns](1), float64(1), object(1)\n",
      "memory usage: 3.2+ MB\n"
     ]
    }
   ],
   "source": [
    "# see data types of transaction_data\n",
    "transaction_data."
   ]
  },
  {
   "cell_type": "markdown",
   "metadata": {},
   "source": [
    "# EDA of Transaction data\n",
    "### Price Distribution\n",
    "Aim here is to analyze by a financial bias,trying to understand Price distributions"
   ]
  },
  {
   "cell_type": "code",
   "execution_count": 22,
   "metadata": {
    "execution": {
     "iopub.execute_input": "2021-11-30T10:35:02.719996Z",
     "iopub.status.busy": "2021-11-30T10:35:02.719598Z",
     "iopub.status.idle": "2021-11-30T10:35:02.736168Z",
     "shell.execute_reply": "2021-11-30T10:35:02.735235Z",
     "shell.execute_reply.started": "2021-11-30T10:35:02.719949Z"
    }
   },
   "outputs": [
    {
     "data": {
      "text/plain": [
       "count    103886.000000\n",
       "mean        154.100380\n",
       "std         217.494064\n",
       "min           0.000000\n",
       "25%          56.790000\n",
       "50%         100.000000\n",
       "75%         171.837500\n",
       "max       13664.080000\n",
       "Name: price, dtype: float64"
      ]
     },
     "execution_count": 22,
     "metadata": {},
     "output_type": "execute_result"
    }
   ],
   "source": [
    "# view some basic statistical details like percentile, mean, std etc. of price column\n",
    "transaction_data"
   ]
  },
  {
   "cell_type": "markdown",
   "metadata": {},
   "source": [
    "Cool! It gives to us a clear price distributions and now we know that\n",
    "* Mean Value is: 154.100380\n",
    "* Standard Deviation is: 217.494064"
   ]
  },
  {
   "cell_type": "code",
   "execution_count": 80,
   "metadata": {
    "execution": {
     "iopub.execute_input": "2021-11-30T10:50:14.629613Z",
     "iopub.status.busy": "2021-11-30T10:50:14.629301Z",
     "iopub.status.idle": "2021-11-30T10:50:14.635584Z",
     "shell.execute_reply": "2021-11-30T10:50:14.634519Z",
     "shell.execute_reply.started": "2021-11-30T10:50:14.629581Z"
    }
   },
   "outputs": [],
   "source": [
    "# this figure size(can be used as global) for all figures which we will plot after executing this shell\n",
    "plt.rcParams['figure.figsize'] = (14,4) \n",
    "plt.rcParams[\"figure.dpi\"] = 100\n",
    "sns.set_context(\"poster\",font_scale=.5,rc={\"grid.linewidth\":5})"
   ]
  },
  {
   "cell_type": "markdown",
   "metadata": {},
   "source": [
    "[Understand how subplot works](https://stackoverflow.com/questions/24337813/how-does-subplot-work-and-what-is-the-difference-between-subplot121-and-subplo#24337903)<br>\n",
    "[Why and how log transform](https://calcworkshop.com/linear-regression/log-transformation/)<br>"
   ]
  },
  {
   "cell_type": "code",
   "execution_count": 24,
   "metadata": {
    "execution": {
     "iopub.execute_input": "2021-11-30T10:35:59.000554Z",
     "iopub.status.busy": "2021-11-30T10:35:58.999911Z",
     "iopub.status.idle": "2021-11-30T10:36:02.343516Z",
     "shell.execute_reply": "2021-11-30T10:36:02.342809Z",
     "shell.execute_reply.started": "2021-11-30T10:35:59.000520Z"
    }
   },
   "outputs": [
    {
     "data": {
      "image/png": "[encoded data removed]",
      "text/plain": [
       "<Figure size 1152x864 with 3 Axes>"
      ]
     },
     "metadata": {
      "needs_background": "light"
     },
     "output_type": "display_data"
    }
   ],
   "source": [
    "# import seaborn library -- plotting\n",
    "import seaborn as sns\n",
    "\n",
    "\n",
    "#1\n",
    "## assign some figuresize\n",
    "plt.figure(figsize=(-,-))\n",
    "## assign suptitle 'Price Distributions' with some fontsize\n",
    "plt.suptitle('-',fontsize=-)\n",
    "plt.subplot(221)\n",
    "## plot distplot of price column\n",
    "g = sns.distplot(transaction_data)\n",
    "g.set_title(\"Price Distributions\",fontsize=18)\n",
    "g.set_xlabel(\"Price Values\")\n",
    "g.set_ylabel(\"Probability\",fontsize=15)\n",
    "\n",
    "#2\n",
    "plt.subplot(222)\n",
    "## plot distplot of price column with log transform \n",
    "g1 = sns.distplot(np.log(transaction_data+1.5))\n",
    "g1.set_title(\"Price(LOG) Distributions\",fontsize=18)\n",
    "g1.set_xlabel(\"Price Values\")\n",
    "g1.set_ylabel(\"Probability\",fontsize=15)\n",
    "\n",
    "#3 process to plot ECDF graph see it and understand it \n",
    "plt.subplot(212)\n",
    "g2 = plt.scatter(range(transaction_data.shape[0]),np.sort(transaction_data['price'].values),alpha=.1)\n",
    "g2= plt.title(\"ECDF of Prices\",fontsize=18)\n",
    "g2 = plt.xlabel(\"Index\")\n",
    "g2 = plt.ylabel(\"Price Distribution\",fontsize=15)\n",
    "# will work if price have -ve value in it for now we dont have\n",
    "g2 = plt.axhline(transaction_data[transaction_data['price'] != -1]['price'].mean(), color='black',label='Mean Price',linewidth=2)\n",
    "g2 = plt.axhline(transaction_data[transaction_data['price'] != -1]['price'].mean() + (2.5*transaction_data[transaction_data['price'] != -1]['price'].std()),\n",
    "                 color='red',label='Mean + 2*Stdev',linewidth=2)\n",
    "g2 = plt.legend()\n",
    "\n",
    "plt.subplots_adjust(hspace=0.4,top=0.85)\n",
    "plt.show()"
   ]
  },
  {
   "cell_type": "markdown",
   "metadata": {},
   "source": [
    "`ECDF` is an estimator of `CDF`Cumulative Distribution Function\n",
    "* ECDF essentially allows you to plot a feature of your data in order from least to greatest and see whole feature as if is distributed across data set\n",
    "\n",
    "In above graph,setting as outliers all product prices that cross bound of Mean(154.100380) + 2.5x the Stdev(217.494064)\n",
    "\n",
    "\n",
    "Most of Price is 0"
   ]
  },
  {
   "cell_type": "code",
   "execution_count": 56,
   "metadata": {
    "execution": {
     "iopub.execute_input": "2021-11-30T10:42:39.928400Z",
     "iopub.status.busy": "2021-11-30T10:42:39.928077Z",
     "iopub.status.idle": "2021-11-30T10:42:39.941764Z",
     "shell.execute_reply": "2021-11-30T10:42:39.940684Z",
     "shell.execute_reply.started": "2021-11-30T10:42:39.928361Z"
    }
   },
   "outputs": [],
   "source": [
    "#exclude all thouse data points where price is 0, dont conside them\n",
    "transaction_data = "
   ]
  },
  {
   "cell_type": "code",
   "execution_count": 57,
   "metadata": {
    "execution": {
     "iopub.execute_input": "2021-11-30T10:42:59.920250Z",
     "iopub.status.busy": "2021-11-30T10:42:59.919656Z",
     "iopub.status.idle": "2021-11-30T10:42:59.934536Z",
     "shell.execute_reply": "2021-11-30T10:42:59.933624Z",
     "shell.execute_reply.started": "2021-11-30T10:42:59.920197Z"
    }
   },
   "outputs": [
    {
     "data": {
      "text/plain": [
       "count    103877.000000\n",
       "mean        154.113732\n",
       "std         217.498755\n",
       "min           0.010000\n",
       "25%          56.820000\n",
       "50%         100.000000\n",
       "75%         171.840000\n",
       "max       13664.080000\n",
       "Name: price, dtype: float64"
      ]
     },
     "execution_count": 57,
     "metadata": {},
     "output_type": "execute_result"
    }
   ],
   "source": [
    "# view some basic statistical details like percentile, mean, std etc. of price column \n",
    "transaction_data"
   ]
  },
  {
   "cell_type": "markdown",
   "metadata": {},
   "source": [
    "# How to Find`AGE` of customer ?\n",
    "First step is to compare first and last order dates in order to calculate customer age\n",
    "* Use months to measure time\n",
    "\n",
    "Will use transaction_data"
   ]
  },
  {
   "cell_type": "markdown",
   "metadata": {},
   "source": [
    "<div class=\"alert alert-block alert-warning\">\n",
    "<b>Point to remember:</b> <br>\n",
    "See price column as spending\n",
    "</div> "
   ]
  },
  {
   "cell_type": "code",
   "execution_count": 58,
   "metadata": {
    "execution": {
     "iopub.execute_input": "2021-11-30T10:43:51.640283Z",
     "iopub.status.busy": "2021-11-30T10:43:51.639663Z",
     "iopub.status.idle": "2021-11-30T10:43:51.652071Z",
     "shell.execute_reply": "2021-11-30T10:43:51.651262Z",
     "shell.execute_reply.started": "2021-11-30T10:43:51.640247Z"
    }
   },
   "outputs": [
    {
     "data": {
      "text/html": [
       "<div>\n",
       "<style scoped>\n",
       "    .dataframe tbody tr th:only-of-type {\n",
       "        vertical-align: middle;\n",
       "    }\n",
       "\n",
       "    .dataframe tbody tr th {\n",
       "        vertical-align: top;\n",
       "    }\n",
       "\n",
       "    .dataframe thead th {\n",
       "        text-align: right;\n",
       "    }\n",
       "</style>\n",
       "<table border=\"1\" class=\"dataframe\">\n",
       "  <thead>\n",
       "    <tr style=\"text-align: right;\">\n",
       "      <th></th>\n",
       "      <th>id</th>\n",
       "      <th>price</th>\n",
       "      <th>date</th>\n",
       "    </tr>\n",
       "  </thead>\n",
       "  <tbody>\n",
       "    <tr>\n",
       "      <th>0</th>\n",
       "      <td>7c396fd4830fd04220f754e42b4e5bff</td>\n",
       "      <td>18.12</td>\n",
       "      <td>2017-10-02</td>\n",
       "    </tr>\n",
       "    <tr>\n",
       "      <th>1</th>\n",
       "      <td>7c396fd4830fd04220f754e42b4e5bff</td>\n",
       "      <td>2.00</td>\n",
       "      <td>2017-10-02</td>\n",
       "    </tr>\n",
       "  </tbody>\n",
       "</table>\n",
       "</div>"
      ],
      "text/plain": [
       "                                 id  price       date\n",
       "0  7c396fd4830fd04220f754e42b4e5bff  18.12 2017-10-02\n",
       "1  7c396fd4830fd04220f754e42b4e5bff   2.00 2017-10-02"
      ]
     },
     "execution_count": 58,
     "metadata": {},
     "output_type": "execute_result"
    }
   ],
   "source": [
    "# see top 5 rows of transaction_data \n",
    "transaction_data"
   ]
  },
  {
   "cell_type": "markdown",
   "metadata": {},
   "source": [
    "[Why as_index=False](https://stackoverflow.com/questions/41236370/what-is-as-index-in-groupby-in-pandas#41237258) <br>\n",
    "[How to use Lambda](https://www.w3schools.com/python/python_lambda.asp)"
   ]
  },
  {
   "cell_type": "code",
   "execution_count": 85,
   "metadata": {
    "execution": {
     "iopub.execute_input": "2021-11-30T11:11:19.369572Z",
     "iopub.status.busy": "2021-11-30T11:11:19.369305Z",
     "iopub.status.idle": "2021-11-30T11:11:38.622629Z",
     "shell.execute_reply": "2021-11-30T11:11:38.621624Z",
     "shell.execute_reply.started": "2021-11-30T11:11:19.369546Z"
    }
   },
   "outputs": [
    {
     "data": {
      "text/html": [
       "<div>\n",
       "<style scoped>\n",
       "    .dataframe tbody tr th:only-of-type {\n",
       "        vertical-align: middle;\n",
       "    }\n",
       "\n",
       "    .dataframe tbody tr th {\n",
       "        vertical-align: top;\n",
       "    }\n",
       "\n",
       "    .dataframe thead th {\n",
       "        text-align: right;\n",
       "    }\n",
       "</style>\n",
       "<table border=\"1\" class=\"dataframe\">\n",
       "  <thead>\n",
       "    <tr style=\"text-align: right;\">\n",
       "      <th></th>\n",
       "      <th>id</th>\n",
       "      <th>age</th>\n",
       "    </tr>\n",
       "  </thead>\n",
       "  <tbody>\n",
       "    <tr>\n",
       "      <th>0</th>\n",
       "      <td>0000366f3b9a7992bf8c76cfdf3221e2</td>\n",
       "      <td>1.0</td>\n",
       "    </tr>\n",
       "    <tr>\n",
       "      <th>1</th>\n",
       "      <td>0000b849f77a49e4a4ce2b2a4ca5be3f</td>\n",
       "      <td>1.0</td>\n",
       "    </tr>\n",
       "    <tr>\n",
       "      <th>2</th>\n",
       "      <td>0000f46a3911fa3c0805444483337064</td>\n",
       "      <td>1.0</td>\n",
       "    </tr>\n",
       "    <tr>\n",
       "      <th>3</th>\n",
       "      <td>0000f6ccb0745a6a4b88665a16c9f078</td>\n",
       "      <td>1.0</td>\n",
       "    </tr>\n",
       "    <tr>\n",
       "      <th>4</th>\n",
       "      <td>0004aac84e0df4da2b147fca70cf8255</td>\n",
       "      <td>1.0</td>\n",
       "    </tr>\n",
       "  </tbody>\n",
       "</table>\n",
       "</div>"
      ],
      "text/plain": [
       "                                 id  age\n",
       "0  0000366f3b9a7992bf8c76cfdf3221e2  1.0\n",
       "1  0000b849f77a49e4a4ce2b2a4ca5be3f  1.0\n",
       "2  0000f46a3911fa3c0805444483337064  1.0\n",
       "3  0000f6ccb0745a6a4b88665a16c9f078  1.0\n",
       "4  0004aac84e0df4da2b147fca70cf8255  1.0"
      ]
     },
     "execution_count": 85,
     "metadata": {},
     "output_type": "execute_result"
    }
   ],
   "source": [
    "#import ceil and maximum using numpy for some mathematical computations \n",
    "from numpy ---\n",
    " \n",
    "#transaction_data groupby transaction_data id column as_index as False\n",
    "group_by_customer = \n",
    "\n",
    "\n",
    "# try to observe thi code and comment what is going on here\n",
    "##NOTE: as this is from some of the main part of this project so please give some good ammount of time to understand it\n",
    "customers = group_by_customer['date'].agg(lambda x: (x.max() - x.min()))\n",
    "customers['age'] = maximum(customers['date'].apply(lambda x: ceil(x.days/30)),1.0) # monthly\n",
    "customers = customers.drop(columns='date')\n",
    "customers.head()"
   ]
  },
  {
   "cell_type": "markdown",
   "metadata": {},
   "source": [
    "A tip is you are finding age of the customer here <br>\n",
    "Formula to calculate age is `last buy time - first buy time`\n",
    "\n",
    "Q - Ask yourself and understand, what is happning inside above lambda?? <br>\n",
    "Q - Why to use ceil or maxium?? <br>\n",
    "Q - Why using agg and apply? <br>\n",
    "Q - Why only /30, can we change it, why whynot? <br>\n",
    "\n",
    "To pass this Project coding is needed but you need to answer above given Question logically?"
   ]
  },
  {
   "cell_type": "markdown",
   "metadata": {},
   "source": [
    "## `Your Answers`:\"---- \""
   ]
  },
  {
   "cell_type": "code",
   "execution_count": 65,
   "metadata": {
    "execution": {
     "iopub.execute_input": "2021-11-30T10:46:35.029510Z",
     "iopub.status.busy": "2021-11-30T10:46:35.029217Z",
     "iopub.status.idle": "2021-11-30T10:46:35.041568Z",
     "shell.execute_reply": "2021-11-30T10:46:35.040523Z",
     "shell.execute_reply.started": "2021-11-30T10:46:35.029479Z"
    }
   },
   "outputs": [
    {
     "data": {
      "text/plain": [
       "1.0     94555\n",
       "2.0       323\n",
       "3.0       212\n",
       "4.0       171\n",
       "5.0       135\n",
       "6.0       131\n",
       "7.0       110\n",
       "8.0        93\n",
       "10.0       72\n",
       "9.0        72\n",
       "12.0       53\n",
       "11.0       52\n",
       "14.0       27\n",
       "13.0       27\n",
       "15.0       22\n",
       "16.0       13\n",
       "18.0       10\n",
       "17.0       10\n",
       "20.0        3\n",
       "22.0        1\n",
       "21.0        1\n",
       "Name: age, dtype: int64"
      ]
     },
     "execution_count": 65,
     "metadata": {},
     "output_type": "execute_result"
    }
   ],
   "source": [
    "# count frequency of unique values in customers.age\n",
    "customers"
   ]
  },
  {
   "cell_type": "markdown",
   "metadata": {},
   "source": [
    "### `Assuming a customer will never return (has churned) after 12 weeks of inactivity,calculating CLV`\n",
    "\n",
    "* Not hiding any stuff here because again this is from some of the most important part of this project which one should understand and it is bit hard if one do not have domain knowledge\n",
    "\n",
    "I request you to understand bellow code line after line \n",
    "\n",
    "Q - Please try to understand what this bellow line of code is doing, as this is somthing you will use in daily life, comment your understanding as an answer\n",
    "* group_by_customer['date'].max()['date'].apply(lambda x: (cutoff_date - x) > twelve_weeks)\n",
    "\n",
    "Q - What you are getting out of the variable name `dead`, `churn`, `spend`, and `clv_aa` <br>\n",
    "Q - Extract set of formulas which are being used in finding these churn, spend and etc and write them mathematically <br>\n",
    "Q - Again share your understanding <br>\n",
    "\n",
    "To pass this Project coding is needed but you need to answer above given Question logically?"
   ]
  },
  {
   "cell_type": "code",
   "execution_count": 66,
   "metadata": {
    "execution": {
     "iopub.execute_input": "2021-11-30T10:46:42.570868Z",
     "iopub.status.busy": "2021-11-30T10:46:42.570155Z",
     "iopub.status.idle": "2021-11-30T10:46:45.405028Z",
     "shell.execute_reply": "2021-11-30T10:46:45.403811Z",
     "shell.execute_reply.started": "2021-11-30T10:46:42.570822Z"
    }
   },
   "outputs": [
    {
     "name": "stdout",
     "output_type": "stream",
     "text": [
      "Customer CLV maybee in $: 181.96862917159223\n"
     ]
    }
   ],
   "source": [
    "#import timedelta from datetime\n",
    "\n",
    "#setting a time period if 12 weeks to eval\n",
    "twelve_weeks = timedelta(weeks=12) #time\n",
    "#last date available in dataset\n",
    "cutoff_date = transaction_data['date'].max()\n",
    "\n",
    "# Hint is one is considered kind of dead if this condition is true\n",
    "dead = group_by_customer['date'].max()['date'].apply(lambda x: (cutoff_date - x) > twelve_weeks)\n",
    "churn = dead.sum() / customers['age'].sum() # use of above customers dataset's age col\n",
    "spend = transaction_data['price'].sum() / customers['age'].sum()\n",
    " \n",
    "clv_aa = spend/churn \n",
    "print(f'Customer CLV maybee in $: {clv_aa}')"
   ]
  },
  {
   "cell_type": "markdown",
   "metadata": {},
   "source": [
    "Observe above result, analytic aggregate CLV model predicts customer CLV to be currency value of 181.96 for each customer"
   ]
  },
  {
   "cell_type": "markdown",
   "metadata": {},
   "source": [
    "## `Your Answers`:\"---- \""
   ]
  },
  {
   "cell_type": "markdown",
   "metadata": {},
   "source": [
    "# Cohort-based CLV (Analytic)\n",
    "Grouping customers by their `cohorts(group of people who share a characteristic)`, under assumption that customers within a cohort spend similarly\n",
    "* Will calculate CLV for each cohort (assuming every person is unique i.e. Every cohort is unique)"
   ]
  },
  {
   "cell_type": "code",
   "execution_count": 67,
   "metadata": {
    "execution": {
     "iopub.execute_input": "2021-11-30T10:46:50.428682Z",
     "iopub.status.busy": "2021-11-30T10:46:50.428398Z",
     "iopub.status.idle": "2021-11-30T10:46:50.553652Z",
     "shell.execute_reply": "2021-11-30T10:46:50.552617Z",
     "shell.execute_reply.started": "2021-11-30T10:46:50.428653Z"
    }
   },
   "outputs": [
    {
     "data": {
      "text/html": [
       "<div>\n",
       "<style scoped>\n",
       "    .dataframe tbody tr th:only-of-type {\n",
       "        vertical-align: middle;\n",
       "    }\n",
       "\n",
       "    .dataframe tbody tr th {\n",
       "        vertical-align: top;\n",
       "    }\n",
       "\n",
       "    .dataframe thead th {\n",
       "        text-align: right;\n",
       "    }\n",
       "</style>\n",
       "<table border=\"1\" class=\"dataframe\">\n",
       "  <thead>\n",
       "    <tr style=\"text-align: right;\">\n",
       "      <th></th>\n",
       "      <th>id</th>\n",
       "      <th>age</th>\n",
       "      <th>price</th>\n",
       "      <th>clv</th>\n",
       "    </tr>\n",
       "  </thead>\n",
       "  <tbody>\n",
       "    <tr>\n",
       "      <th>0</th>\n",
       "      <td>0000366f3b9a7992bf8c76cfdf3221e2</td>\n",
       "      <td>1.0</td>\n",
       "      <td>141.90</td>\n",
       "      <td>167.410257</td>\n",
       "    </tr>\n",
       "    <tr>\n",
       "      <th>1</th>\n",
       "      <td>0000b849f77a49e4a4ce2b2a4ca5be3f</td>\n",
       "      <td>1.0</td>\n",
       "      <td>27.19</td>\n",
       "      <td>32.078118</td>\n",
       "    </tr>\n",
       "    <tr>\n",
       "      <th>2</th>\n",
       "      <td>0000f46a3911fa3c0805444483337064</td>\n",
       "      <td>1.0</td>\n",
       "      <td>86.22</td>\n",
       "      <td>101.720313</td>\n",
       "    </tr>\n",
       "    <tr>\n",
       "      <th>3</th>\n",
       "      <td>0000f6ccb0745a6a4b88665a16c9f078</td>\n",
       "      <td>1.0</td>\n",
       "      <td>43.62</td>\n",
       "      <td>51.461842</td>\n",
       "    </tr>\n",
       "    <tr>\n",
       "      <th>4</th>\n",
       "      <td>0004aac84e0df4da2b147fca70cf8255</td>\n",
       "      <td>1.0</td>\n",
       "      <td>196.89</td>\n",
       "      <td>232.286156</td>\n",
       "    </tr>\n",
       "  </tbody>\n",
       "</table>\n",
       "</div>"
      ],
      "text/plain": [
       "                                 id  age   price         clv\n",
       "0  0000366f3b9a7992bf8c76cfdf3221e2  1.0  141.90  167.410257\n",
       "1  0000b849f77a49e4a4ce2b2a4ca5be3f  1.0   27.19   32.078118\n",
       "2  0000f46a3911fa3c0805444483337064  1.0   86.22  101.720313\n",
       "3  0000f6ccb0745a6a4b88665a16c9f078  1.0   43.62   51.461842\n",
       "4  0004aac84e0df4da2b147fca70cf8255  1.0  196.89  232.286156"
      ]
     },
     "execution_count": 67,
     "metadata": {},
     "output_type": "execute_result"
    }
   ],
   "source": [
    "# Now that we have used merge enough time before, this time we are not asking to write the code for merging, this time we want you to\n",
    "## Explain this line in words \n",
    "customers_analytic = customers.merge(group_by_customer['price'].sum(),on='id')\n",
    "\n",
    "#again write mathematical formula being used in finding clv of each customer\n",
    "customers_analytic['clv'] = customers_analytic['price'] / customers_analytic['age'] / churn\n",
    "customers_analytic.head()"
   ]
  },
  {
   "cell_type": "markdown",
   "metadata": {},
   "source": [
    "Each customer has their own CLV prediction now"
   ]
  },
  {
   "cell_type": "markdown",
   "metadata": {},
   "source": [
    "## `Your Answers`:\"---- \""
   ]
  },
  {
   "cell_type": "markdown",
   "metadata": {},
   "source": [
    "# Lifetimes Package"
   ]
  },
  {
   "cell_type": "code",
   "execution_count": 68,
   "metadata": {
    "execution": {
     "iopub.execute_input": "2021-11-30T10:46:55.240650Z",
     "iopub.status.busy": "2021-11-30T10:46:55.240364Z",
     "iopub.status.idle": "2021-11-30T10:47:04.042605Z",
     "shell.execute_reply": "2021-11-30T10:47:04.041383Z",
     "shell.execute_reply.started": "2021-11-30T10:46:55.240621Z"
    }
   },
   "outputs": [
    {
     "name": "stdout",
     "output_type": "stream",
     "text": [
      "Requirement already satisfied: lifetimes in /opt/conda/lib/python3.7/site-packages (0.11.3)\n",
      "Requirement already satisfied: scipy>=1.0.0 in /opt/conda/lib/python3.7/site-packages (from lifetimes) (1.7.1)\n",
      "Requirement already satisfied: autograd>=1.2.0 in /opt/conda/lib/python3.7/site-packages (from lifetimes) (1.3)\n",
      "Requirement already satisfied: dill>=0.2.6 in /opt/conda/lib/python3.7/site-packages (from lifetimes) (0.3.4)\n",
      "Requirement already satisfied: pandas>=0.24.0 in /opt/conda/lib/python3.7/site-packages (from lifetimes) (1.3.3)\n",
      "Requirement already satisfied: numpy>=1.10.0 in /opt/conda/lib/python3.7/site-packages (from lifetimes) (1.19.5)\n",
      "Requirement already satisfied: future>=0.15.2 in /opt/conda/lib/python3.7/site-packages (from autograd>=1.2.0->lifetimes) (0.18.2)\n",
      "Requirement already satisfied: python-dateutil>=2.7.3 in /opt/conda/lib/python3.7/site-packages (from pandas>=0.24.0->lifetimes) (2.8.0)\n",
      "Requirement already satisfied: pytz>=2017.3 in /opt/conda/lib/python3.7/site-packages (from pandas>=0.24.0->lifetimes) (2021.1)\n",
      "Requirement already satisfied: six>=1.5 in /opt/conda/lib/python3.7/site-packages (from python-dateutil>=2.7.3->pandas>=0.24.0->lifetimes) (1.16.0)\n",
      "\u001b[33mWARNING: Running pip as the 'root' user can result in broken permissions and conflicting behaviour with the system package manager. It is recommended to use a virtual environment instead: https://pip.pypa.io/warnings/venv\u001b[0m\n"
     ]
    }
   ],
   "source": [
    "# installing Lifetimes\n",
    "!pip install lifetimes"
   ]
  },
  {
   "cell_type": "markdown",
   "metadata": {},
   "source": [
    "In ecommerce data science almost everything revolves around four or five key metrics, which are really all derivatives of \n",
    "* `recency` (R) \n",
    "* `frequency` (F)\n",
    "* `monetary value` (M)\n",
    "\n",
    "These form the basis of the popular `RFM model` which has been used in marketing for decades\n",
    "* The other two metrics that matter in ecommerce are \n",
    "    * `tenure/age` (T) - how long the customer has been a customer and \n",
    "    * `latency` - number of days between their orders\n",
    "* It’s very easy to calculate these manually, but\n",
    "\n",
    "We’re going to use `Cameron Davidson-Pilon’s superb Lifetimes package` as it does this easily and gives you access to some models to analyse data"
   ]
  },
  {
   "cell_type": "code",
   "execution_count": 70,
   "metadata": {
    "execution": {
     "iopub.execute_input": "2021-11-30T10:48:58.825085Z",
     "iopub.status.busy": "2021-11-30T10:48:58.824742Z",
     "iopub.status.idle": "2021-11-30T10:48:59.792472Z",
     "shell.execute_reply": "2021-11-30T10:48:59.791868Z",
     "shell.execute_reply.started": "2021-11-30T10:48:58.825048Z"
    }
   },
   "outputs": [
    {
     "data": {
      "text/html": [
       "<div>\n",
       "<style scoped>\n",
       "    .dataframe tbody tr th:only-of-type {\n",
       "        vertical-align: middle;\n",
       "    }\n",
       "\n",
       "    .dataframe tbody tr th {\n",
       "        vertical-align: top;\n",
       "    }\n",
       "\n",
       "    .dataframe thead th {\n",
       "        text-align: right;\n",
       "    }\n",
       "</style>\n",
       "<table border=\"1\" class=\"dataframe\">\n",
       "  <thead>\n",
       "    <tr style=\"text-align: right;\">\n",
       "      <th></th>\n",
       "      <th>frequency</th>\n",
       "      <th>recency</th>\n",
       "      <th>T</th>\n",
       "      <th>monetary_value</th>\n",
       "    </tr>\n",
       "    <tr>\n",
       "      <th>id</th>\n",
       "      <th></th>\n",
       "      <th></th>\n",
       "      <th></th>\n",
       "      <th></th>\n",
       "    </tr>\n",
       "  </thead>\n",
       "  <tbody>\n",
       "    <tr>\n",
       "      <th>0000366f3b9a7992bf8c76cfdf3221e2</th>\n",
       "      <td>0.0</td>\n",
       "      <td>0.0</td>\n",
       "      <td>160.0</td>\n",
       "      <td>0.0</td>\n",
       "    </tr>\n",
       "    <tr>\n",
       "      <th>0000b849f77a49e4a4ce2b2a4ca5be3f</th>\n",
       "      <td>0.0</td>\n",
       "      <td>0.0</td>\n",
       "      <td>163.0</td>\n",
       "      <td>0.0</td>\n",
       "    </tr>\n",
       "    <tr>\n",
       "      <th>0000f46a3911fa3c0805444483337064</th>\n",
       "      <td>0.0</td>\n",
       "      <td>0.0</td>\n",
       "      <td>586.0</td>\n",
       "      <td>0.0</td>\n",
       "    </tr>\n",
       "    <tr>\n",
       "      <th>0000f6ccb0745a6a4b88665a16c9f078</th>\n",
       "      <td>0.0</td>\n",
       "      <td>0.0</td>\n",
       "      <td>370.0</td>\n",
       "      <td>0.0</td>\n",
       "    </tr>\n",
       "    <tr>\n",
       "      <th>0004aac84e0df4da2b147fca70cf8255</th>\n",
       "      <td>0.0</td>\n",
       "      <td>0.0</td>\n",
       "      <td>337.0</td>\n",
       "      <td>0.0</td>\n",
       "    </tr>\n",
       "  </tbody>\n",
       "</table>\n",
       "</div>"
      ],
      "text/plain": [
       "                                  frequency  recency      T  monetary_value\n",
       "id                                                                         \n",
       "0000366f3b9a7992bf8c76cfdf3221e2        0.0      0.0  160.0             0.0\n",
       "0000b849f77a49e4a4ce2b2a4ca5be3f        0.0      0.0  163.0             0.0\n",
       "0000f46a3911fa3c0805444483337064        0.0      0.0  586.0             0.0\n",
       "0000f6ccb0745a6a4b88665a16c9f078        0.0      0.0  370.0             0.0\n",
       "0004aac84e0df4da2b147fca70cf8255        0.0      0.0  337.0             0.0"
      ]
     },
     "execution_count": 70,
     "metadata": {},
     "output_type": "execute_result"
    }
   ],
   "source": [
    "# load summary_data_from_transaction_data module from lifetimes.utils\n",
    "from lifetimes.utils \n",
    "\n",
    "# we  have used same line of code before this time\n",
    "## Explain what this line of code is doing\n",
    "cutoff_date = transaction_data['date'].max()\n",
    "summary = summary_data_from_transaction_data(transaction_data,'id','date',\n",
    "                                             observation_period_end=cutoff_date,monetary_value_col='price')\n",
    "\n",
    "#print first 5 rows of dataframe returned by summary_data_from_transaction_data()\n",
    "summary.head()"
   ]
  },
  {
   "cell_type": "markdown",
   "metadata": {},
   "source": [
    "Pandas dataframe of transaction_data and defining columns that contain id and date, Lifetimes helper have calculate frequency, recency and Tenure (or age) for us.<br>\n",
    "See that summary_data_from_transaction_data identified each unique customer and has calculated their Recency, Frequency and T.<br>\n",
    "Getting to grips with what Lifetimes is doing: <br>\n",
    "* `Frequency` \n",
    "    * measures number of repeat orders a customer has placed\n",
    "    * a value of zero indicates a new customer who has placed a single order\n",
    "    * a value of 1 indicates a customer placing their second order and so on\n",
    "* `Recency`\n",
    "    * represents age of customer in days when they made their most recent purchase and is calculated from their tenure minus number of days since their last order\n",
    "    * a recency of zero indicates a newly acquired customer \n",
    "* `T`\n",
    "    * measures tenure of customer in days \n",
    "    * how many days have elapsed since their first order\n",
    "    \n",
    "Now basic customer data set up,fit a model"
   ]
  },
  {
   "cell_type": "markdown",
   "metadata": {},
   "source": [
    "## `Your Answers`:\"---- \""
   ]
  },
  {
   "cell_type": "markdown",
   "metadata": {},
   "source": [
    "# Predictive CLV using statistical models\n",
    "This class of models is known as “Buy Til You Die” (BTYD), because model learns to predict how long a customer will continue to purchase until they churn.<br>\n",
    "Specifically, a BTYD model will fit a statistical model to predict number of transactions by customer, then fit a secondary model to predict revenue for any transaction.<br>\n",
    "Fortunately, training these models to learn from data is straightforward if you use [Lifetimes package](https://lifetimes.readthedocs.io/en/latest/) in Python. <br>\n",
    "Note that below this is just one of many available BTYD models, and others may perform better on your data.<br>\n",
    "# Fitting Beta-Geometric Negative Binomial Distribution Model\n",
    "Our basic customer data set up, we can fit a model. \n",
    "* We will use `BetaGeoFitter Model` => It provides `Beta-Geometric Negative Binomial Distribution Model` that is common to so-called `“Buy ‘Til You Die” customer lifetime Models`\n",
    "* To fit model,simply pass in dataframe columns containing `Frequency`, `Recency` and `Tenure` data."
   ]
  },
  {
   "cell_type": "markdown",
   "metadata": {
    "execution": {
     "iopub.execute_input": "2021-11-29T04:57:39.233069Z",
     "iopub.status.busy": "2021-11-29T04:57:39.232833Z",
     "iopub.status.idle": "2021-11-29T04:57:42.429866Z",
     "shell.execute_reply": "2021-11-29T04:57:42.428995Z",
     "shell.execute_reply.started": "2021-11-29T04:57:39.23304Z"
    }
   },
   "source": [
    "from lifetimes import ModifiedBetaGeoFitter\n",
    "\n",
    "mbgf = ModifiedBetaGeoFitter(penalizer_coef=0.5)\n",
    "mbgf.fit(summary['frequency'],summary['recency'],summary['T'])\n",
    "mbgf.summary"
   ]
  },
  {
   "cell_type": "markdown",
   "metadata": {},
   "source": [
    "`penalizer_coef` => coefficient applied to an l2 norm on the parameters"
   ]
  },
  {
   "cell_type": "code",
   "execution_count": 71,
   "metadata": {
    "execution": {
     "iopub.execute_input": "2021-11-30T10:49:01.364294Z",
     "iopub.status.busy": "2021-11-30T10:49:01.363999Z",
     "iopub.status.idle": "2021-11-30T10:49:04.898156Z",
     "shell.execute_reply": "2021-11-30T10:49:04.897262Z",
     "shell.execute_reply.started": "2021-11-30T10:49:01.364262Z"
    }
   },
   "outputs": [
    {
     "data": {
      "text/plain": [
       "<lifetimes.BetaGeoFitter: fitted with 96093 subjects, a: 2.75, alpha: 42.77, b: 0.39, r: 0.01>"
      ]
     },
     "execution_count": 71,
     "metadata": {},
     "output_type": "execute_result"
    }
   ],
   "source": [
    "# import BetaGeoFitter using lifetimes\n",
    "from \n",
    "\n",
    "bgf = BetaGeoFitter(penalizer_coef=0.0) # penalizer_coef => coefficient applied to an L2 norm on parameters\n",
    "# fit bgf on 'frequency','recency','T' of summary\n"
   ]
  },
  {
   "cell_type": "markdown",
   "metadata": {},
   "source": [
    "Predicting number of `transactions expected from each customer over course of their lifetime`"
   ]
  },
  {
   "cell_type": "code",
   "execution_count": 72,
   "metadata": {
    "execution": {
     "iopub.execute_input": "2021-11-30T10:49:04.900872Z",
     "iopub.status.busy": "2021-11-30T10:49:04.900283Z",
     "iopub.status.idle": "2021-11-30T10:49:05.045350Z",
     "shell.execute_reply": "2021-11-30T10:49:05.044287Z",
     "shell.execute_reply.started": "2021-11-30T10:49:04.900823Z"
    }
   },
   "outputs": [
    {
     "data": {
      "text/html": [
       "<div>\n",
       "<style scoped>\n",
       "    .dataframe tbody tr th:only-of-type {\n",
       "        vertical-align: middle;\n",
       "    }\n",
       "\n",
       "    .dataframe tbody tr th {\n",
       "        vertical-align: top;\n",
       "    }\n",
       "\n",
       "    .dataframe thead th {\n",
       "        text-align: right;\n",
       "    }\n",
       "</style>\n",
       "<table border=\"1\" class=\"dataframe\">\n",
       "  <thead>\n",
       "    <tr style=\"text-align: right;\">\n",
       "      <th></th>\n",
       "      <th>frequency</th>\n",
       "      <th>recency</th>\n",
       "      <th>T</th>\n",
       "      <th>monetary_value</th>\n",
       "      <th>predicted_purchases</th>\n",
       "    </tr>\n",
       "    <tr>\n",
       "      <th>id</th>\n",
       "      <th></th>\n",
       "      <th></th>\n",
       "      <th></th>\n",
       "      <th></th>\n",
       "      <th></th>\n",
       "    </tr>\n",
       "  </thead>\n",
       "  <tbody>\n",
       "    <tr>\n",
       "      <th>0000366f3b9a7992bf8c76cfdf3221e2</th>\n",
       "      <td>0.0</td>\n",
       "      <td>0.0</td>\n",
       "      <td>160.0</td>\n",
       "      <td>0.0</td>\n",
       "      <td>0.001627</td>\n",
       "    </tr>\n",
       "    <tr>\n",
       "      <th>0000b849f77a49e4a4ce2b2a4ca5be3f</th>\n",
       "      <td>0.0</td>\n",
       "      <td>0.0</td>\n",
       "      <td>163.0</td>\n",
       "      <td>0.0</td>\n",
       "      <td>0.001604</td>\n",
       "    </tr>\n",
       "    <tr>\n",
       "      <th>0000f46a3911fa3c0805444483337064</th>\n",
       "      <td>0.0</td>\n",
       "      <td>0.0</td>\n",
       "      <td>586.0</td>\n",
       "      <td>0.0</td>\n",
       "      <td>0.000547</td>\n",
       "    </tr>\n",
       "    <tr>\n",
       "      <th>0000f6ccb0745a6a4b88665a16c9f078</th>\n",
       "      <td>0.0</td>\n",
       "      <td>0.0</td>\n",
       "      <td>370.0</td>\n",
       "      <td>0.0</td>\n",
       "      <td>0.000824</td>\n",
       "    </tr>\n",
       "    <tr>\n",
       "      <th>0004aac84e0df4da2b147fca70cf8255</th>\n",
       "      <td>0.0</td>\n",
       "      <td>0.0</td>\n",
       "      <td>337.0</td>\n",
       "      <td>0.0</td>\n",
       "      <td>0.000893</td>\n",
       "    </tr>\n",
       "  </tbody>\n",
       "</table>\n",
       "</div>"
      ],
      "text/plain": [
       "                                  frequency  recency      T  monetary_value  \\\n",
       "id                                                                            \n",
       "0000366f3b9a7992bf8c76cfdf3221e2        0.0      0.0  160.0             0.0   \n",
       "0000b849f77a49e4a4ce2b2a4ca5be3f        0.0      0.0  163.0             0.0   \n",
       "0000f46a3911fa3c0805444483337064        0.0      0.0  586.0             0.0   \n",
       "0000f6ccb0745a6a4b88665a16c9f078        0.0      0.0  370.0             0.0   \n",
       "0004aac84e0df4da2b147fca70cf8255        0.0      0.0  337.0             0.0   \n",
       "\n",
       "                                  predicted_purchases  \n",
       "id                                                     \n",
       "0000366f3b9a7992bf8c76cfdf3221e2             0.001627  \n",
       "0000b849f77a49e4a4ce2b2a4ca5be3f             0.001604  \n",
       "0000f46a3911fa3c0805444483337064             0.000547  \n",
       "0000f6ccb0745a6a4b88665a16c9f078             0.000824  \n",
       "0004aac84e0df4da2b147fca70cf8255             0.000893  "
      ]
     },
     "execution_count": 72,
     "metadata": {},
     "output_type": "execute_result"
    }
   ],
   "source": [
    "t = 30 #times to calculate the expectation for\n",
    "\n",
    "#new column 'predicted_purchases', predict using bgf by taking => t,summary['frequency'],summary['recency'],summary['T'] in consideration\n",
    "summary['predicted_purchases'] = bgf.predict()\n",
    "\n",
    "#see top 5 rows\n",
    "summary"
   ]
  },
  {
   "cell_type": "markdown",
   "metadata": {},
   "source": [
    "above in table are lifetime predicted_purchases"
   ]
  },
  {
   "cell_type": "markdown",
   "metadata": {},
   "source": [
    "To map this back to CLV, we must estimate revenue for each transaction by fitting spend data to Gamma-Gamma model:\n",
    "\n"
   ]
  },
  {
   "cell_type": "code",
   "execution_count": 73,
   "metadata": {
    "execution": {
     "iopub.execute_input": "2021-11-30T10:49:08.679074Z",
     "iopub.status.busy": "2021-11-30T10:49:08.678793Z",
     "iopub.status.idle": "2021-11-30T10:49:08.806406Z",
     "shell.execute_reply": "2021-11-30T10:49:08.805732Z",
     "shell.execute_reply.started": "2021-11-30T10:49:08.679045Z"
    }
   },
   "outputs": [
    {
     "name": "stdout",
     "output_type": "stream",
     "text": [
      "155.13209749486268\n"
     ]
    }
   ],
   "source": [
    "# GammaGammaFitter is used to estimate average monetary value of customer transactions\n",
    "# import GammaGammaFitter using lifetimes\n",
    "from\n",
    "\n",
    "# new data frame which have summary['monetary_value'] > 0\n",
    "returning_customers_summary = \n",
    "\n",
    "# model instance\n",
    "ggf = GammaGammaFitter(penalizer_coef=0)\n",
    "# fit model on dataset returning_customers_summary', 'frequency' and 'monetary_value' columns\n",
    "ggf.fit()\n",
    "\n",
    "# find transaction_spend using conditional_expected_average_profit, see what it takes as input and take .mean() of all\n",
    "transaction_spend = \n",
    "\n",
    "# print transaction_spend"
   ]
  },
  {
   "cell_type": "markdown",
   "metadata": {},
   "source": [
    "According to this model, expected revenue from each transaction is maybee $155.1308398728916\n",
    "\n",
    "Now it’s possible to calculate CLV"
   ]
  },
  {
   "cell_type": "code",
   "execution_count": 74,
   "metadata": {
    "execution": {
     "iopub.execute_input": "2021-11-30T10:49:10.960875Z",
     "iopub.status.busy": "2021-11-30T10:49:10.959882Z",
     "iopub.status.idle": "2021-11-30T10:49:10.973776Z",
     "shell.execute_reply": "2021-11-30T10:49:10.972803Z",
     "shell.execute_reply.started": "2021-11-30T10:49:10.960818Z"
    }
   },
   "outputs": [
    {
     "data": {
      "text/html": [
       "<div>\n",
       "<style scoped>\n",
       "    .dataframe tbody tr th:only-of-type {\n",
       "        vertical-align: middle;\n",
       "    }\n",
       "\n",
       "    .dataframe tbody tr th {\n",
       "        vertical-align: top;\n",
       "    }\n",
       "\n",
       "    .dataframe thead th {\n",
       "        text-align: right;\n",
       "    }\n",
       "</style>\n",
       "<table border=\"1\" class=\"dataframe\">\n",
       "  <thead>\n",
       "    <tr style=\"text-align: right;\">\n",
       "      <th></th>\n",
       "      <th>id</th>\n",
       "      <th>age</th>\n",
       "      <th>price</th>\n",
       "      <th>clv</th>\n",
       "    </tr>\n",
       "  </thead>\n",
       "  <tbody>\n",
       "    <tr>\n",
       "      <th>0</th>\n",
       "      <td>0000366f3b9a7992bf8c76cfdf3221e2</td>\n",
       "      <td>1.0</td>\n",
       "      <td>141.90</td>\n",
       "      <td>167.410257</td>\n",
       "    </tr>\n",
       "    <tr>\n",
       "      <th>1</th>\n",
       "      <td>0000b849f77a49e4a4ce2b2a4ca5be3f</td>\n",
       "      <td>1.0</td>\n",
       "      <td>27.19</td>\n",
       "      <td>32.078118</td>\n",
       "    </tr>\n",
       "  </tbody>\n",
       "</table>\n",
       "</div>"
      ],
      "text/plain": [
       "                                 id  age   price         clv\n",
       "0  0000366f3b9a7992bf8c76cfdf3221e2  1.0  141.90  167.410257\n",
       "1  0000b849f77a49e4a4ce2b2a4ca5be3f  1.0   27.19   32.078118"
      ]
     },
     "execution_count": 74,
     "metadata": {},
     "output_type": "execute_result"
    }
   ],
   "source": [
    "# see first 5 rows of customers_analytic\n"
   ]
  },
  {
   "cell_type": "markdown",
   "metadata": {},
   "source": [
    "`Q- What is the diff. between merge and join?`<br>\n",
    "Your Answer: -----"
   ]
  },
  {
   "cell_type": "code",
   "execution_count": 75,
   "metadata": {
    "execution": {
     "iopub.execute_input": "2021-11-30T10:49:11.151672Z",
     "iopub.status.busy": "2021-11-30T10:49:11.150863Z",
     "iopub.status.idle": "2021-11-30T10:49:12.601879Z",
     "shell.execute_reply": "2021-11-30T10:49:12.600779Z",
     "shell.execute_reply.started": "2021-11-30T10:49:11.151612Z"
    }
   },
   "outputs": [
    {
     "data": {
      "text/html": [
       "<div>\n",
       "<style scoped>\n",
       "    .dataframe tbody tr th:only-of-type {\n",
       "        vertical-align: middle;\n",
       "    }\n",
       "\n",
       "    .dataframe tbody tr th {\n",
       "        vertical-align: top;\n",
       "    }\n",
       "\n",
       "    .dataframe thead th {\n",
       "        text-align: right;\n",
       "    }\n",
       "</style>\n",
       "<table border=\"1\" class=\"dataframe\">\n",
       "  <thead>\n",
       "    <tr style=\"text-align: right;\">\n",
       "      <th></th>\n",
       "      <th>id</th>\n",
       "      <th>age</th>\n",
       "      <th>price</th>\n",
       "      <th>predicted_purchases</th>\n",
       "      <th>clv</th>\n",
       "    </tr>\n",
       "  </thead>\n",
       "  <tbody>\n",
       "    <tr>\n",
       "      <th>96088</th>\n",
       "      <td>fffcf5a5ff07b0908bd4e2dbc735a684</td>\n",
       "      <td>1.0</td>\n",
       "      <td>2067.42</td>\n",
       "      <td>0.000636</td>\n",
       "      <td>0.098635</td>\n",
       "    </tr>\n",
       "    <tr>\n",
       "      <th>96089</th>\n",
       "      <td>fffea47cd6d3cc0a88bd621562a9d061</td>\n",
       "      <td>1.0</td>\n",
       "      <td>84.58</td>\n",
       "      <td>0.000957</td>\n",
       "      <td>0.148390</td>\n",
       "    </tr>\n",
       "    <tr>\n",
       "      <th>96090</th>\n",
       "      <td>ffff371b4d645b6ecea244b27531430a</td>\n",
       "      <td>1.0</td>\n",
       "      <td>112.46</td>\n",
       "      <td>0.000521</td>\n",
       "      <td>0.080897</td>\n",
       "    </tr>\n",
       "    <tr>\n",
       "      <th>96091</th>\n",
       "      <td>ffff5962728ec6157033ef9805bacc48</td>\n",
       "      <td>1.0</td>\n",
       "      <td>133.69</td>\n",
       "      <td>0.001568</td>\n",
       "      <td>0.243301</td>\n",
       "    </tr>\n",
       "    <tr>\n",
       "      <th>96092</th>\n",
       "      <td>ffffd2657e2aad2907e67c3e9daecbeb</td>\n",
       "      <td>1.0</td>\n",
       "      <td>71.56</td>\n",
       "      <td>0.000596</td>\n",
       "      <td>0.092437</td>\n",
       "    </tr>\n",
       "  </tbody>\n",
       "</table>\n",
       "</div>"
      ],
      "text/plain": [
       "                                     id  age    price  predicted_purchases  \\\n",
       "96088  fffcf5a5ff07b0908bd4e2dbc735a684  1.0  2067.42             0.000636   \n",
       "96089  fffea47cd6d3cc0a88bd621562a9d061  1.0    84.58             0.000957   \n",
       "96090  ffff371b4d645b6ecea244b27531430a  1.0   112.46             0.000521   \n",
       "96091  ffff5962728ec6157033ef9805bacc48  1.0   133.69             0.001568   \n",
       "96092  ffffd2657e2aad2907e67c3e9daecbeb  1.0    71.56             0.000596   \n",
       "\n",
       "            clv  \n",
       "96088  0.098635  \n",
       "96089  0.148390  \n",
       "96090  0.080897  \n",
       "96091  0.243301  \n",
       "96092  0.092437  "
      ]
     },
     "execution_count": 75,
     "metadata": {},
     "output_type": "execute_result"
    }
   ],
   "source": [
    "# join customers_analytic with predicted_purchases column of summary dataframe on id column where join will be inner then drop clv column\n",
    "customers_pm = \n",
    "\n",
    "# formula to find clv\n",
    "## Comment what you understood with this implementation of formula\n",
    "## write the mathematical formula for it in answer\n",
    "customers_pm['clv'] = customers_pm.apply(lambda x: x['predicted_purchases'] * transaction_spend,axis=1)\n",
    "\n",
    "# see last 5 data points of customers_pm\n"
   ]
  },
  {
   "cell_type": "markdown",
   "metadata": {},
   "source": [
    "`clv` tells how much this id will spend"
   ]
  },
  {
   "cell_type": "code",
   "execution_count": 76,
   "metadata": {
    "execution": {
     "iopub.execute_input": "2021-11-30T10:49:19.877812Z",
     "iopub.status.busy": "2021-11-30T10:49:19.877522Z",
     "iopub.status.idle": "2021-11-30T10:49:19.895592Z",
     "shell.execute_reply": "2021-11-30T10:49:19.894667Z",
     "shell.execute_reply.started": "2021-11-30T10:49:19.877779Z"
    }
   },
   "outputs": [
    {
     "data": {
      "text/plain": [
       "count    96093.000000\n",
       "mean        -1.710275\n",
       "std          0.528538\n",
       "min         -3.099476\n",
       "25%         -2.116373\n",
       "50%         -1.776972\n",
       "75%         -1.381629\n",
       "max          4.119705\n",
       "Name: clv, dtype: float64"
      ]
     },
     "execution_count": 76,
     "metadata": {},
     "output_type": "execute_result"
    }
   ],
   "source": [
    "# clv is the spending\n",
    "## But why we are using log here \n",
    "## Draw same plot by not using log and write your findings Why we used log here\n",
    "np.log(customers_pm.clv).describe()"
   ]
  },
  {
   "cell_type": "code",
   "execution_count": 77,
   "metadata": {
    "execution": {
     "iopub.execute_input": "2021-11-30T10:49:23.759179Z",
     "iopub.status.busy": "2021-11-30T10:49:23.758876Z",
     "iopub.status.idle": "2021-11-30T10:49:24.007238Z",
     "shell.execute_reply": "2021-11-30T10:49:24.006288Z",
     "shell.execute_reply.started": "2021-11-30T10:49:23.759146Z"
    }
   },
   "outputs": [
    {
     "data": {
      "image/png": "[encoded data removed]",
      "text/plain": [
       "<Figure size 1400x400 with 1 Axes>"
      ]
     },
     "metadata": {
      "needs_background": "light"
     },
     "output_type": "display_data"
    }
   ],
   "source": [
    "# plot a histogram for clv column of customers_pm dataset (dont miss to use log) \n",
    "\n",
    "# give title name as 'CLV'\n",
    "\n",
    "# give name to x-axis'CLV$'\n"
   ]
  },
  {
   "cell_type": "markdown",
   "metadata": {},
   "source": [
    "We dont have to remove negative, in support [flaw-in-customer-lifetime-value](https://hbr.org/2007/12/the-flaw-in-customer-lifetime-value)"
   ]
  },
  {
   "cell_type": "markdown",
   "metadata": {},
   "source": [
    "# Visualise Recency/Frequency matrix\n",
    "To examine output of model, can pass mbgf data to plot_frequency_recency_matrix()\n",
    "* A recency/frequency matrix can show you probability that a \n",
    "    * customer is still a customer or is “alive” based on their intra-activity latency, or \n",
    "    * gap between orders\n",
    "* If a customer usually orders every week and hasn’t been seen for a few months, \n",
    "    * their probability of being alive is low\n",
    "* If a customer orders every few months and bought a couple of months ago, \n",
    "    * they’re probably still alive"
   ]
  },
  {
   "cell_type": "code",
   "execution_count": 78,
   "metadata": {
    "execution": {
     "iopub.execute_input": "2021-11-30T10:49:29.602108Z",
     "iopub.status.busy": "2021-11-30T10:49:29.601814Z",
     "iopub.status.idle": "2021-11-30T10:49:31.231812Z",
     "shell.execute_reply": "2021-11-30T10:49:31.230935Z",
     "shell.execute_reply.started": "2021-11-30T10:49:29.602079Z"
    }
   },
   "outputs": [
    {
     "data": {
      "image/png": "[encoded data removed]",
      "text/plain": [
       "<Figure size 1400x400 with 2 Axes>"
      ]
     },
     "metadata": {
      "needs_background": "light"
     },
     "output_type": "display_data"
    }
   ],
   "source": [
    "# Plotting recency frequecy matrix as heatmap\n",
    "## expected transactions in T next units of time by a customer's frequency and recency\n",
    "\n",
    "\n",
    "from lifetimes.plotting import plot_frequency_recency_matrix\n",
    "\n",
    "# plot_frequency_recency_matrix\n",
    "\n",
    "# display plot\n"
   ]
  },
  {
   "cell_type": "markdown",
   "metadata": {},
   "source": [
    "A typical recency/frequency matrix shows a long tail at bottom of the matrix\n",
    "* By above graph customer who has a frequency of appx 10+ and has been a customer for 700+ days when they placed their last order is likely to be alive"
   ]
  },
  {
   "cell_type": "markdown",
   "metadata": {},
   "source": [
    "## Plotting probability of customers being alive\n",
    "To identify probability of whether customers are alive, one can use plot_probability_alive_matrix() method and pass it the mbgf data"
   ]
  },
  {
   "cell_type": "code",
   "execution_count": 79,
   "metadata": {
    "execution": {
     "iopub.execute_input": "2021-11-30T10:49:38.726616Z",
     "iopub.status.busy": "2021-11-30T10:49:38.726047Z",
     "iopub.status.idle": "2021-11-30T10:49:39.067195Z",
     "shell.execute_reply": "2021-11-30T10:49:39.066078Z",
     "shell.execute_reply.started": "2021-11-30T10:49:38.726568Z"
    }
   },
   "outputs": [
    {
     "data": {
      "image/png": "[encoded data removed]",
      "text/plain": [
       "<Figure size 1400x400 with 2 Axes>"
      ]
     },
     "metadata": {
      "needs_background": "light"
     },
     "output_type": "display_data"
    }
   ],
   "source": [
    "# Plotting probability alive matrix as heatmap\n",
    "## probability a customer is alive based on their frequency and recency\n",
    "frequency and recency\n",
    "from lifetimes.plotting import plot_probability_alive_matrix\n",
    "\n",
    "# plot plot_probability_alive_matrix\n",
    "\n",
    "# display plot"
   ]
  },
  {
   "cell_type": "markdown",
   "metadata": {},
   "source": [
    "customers who have ordered very recently are likely to be alive, and this goes up with the number of orders placed"
   ]
  },
  {
   "cell_type": "markdown",
   "metadata": {},
   "source": [
    "## Predict which customers will order in next period\n",
    "The other powerful thing one can do with the MBG/NBD model is predict number of purchases each customer is likely to make over next period\n",
    "* Setting `t` to be 30 so model predicts number of purchases each customer will make in the next 30 days\n",
    "    * then output predictions and sort results"
   ]
  },
  {
   "cell_type": "code",
   "execution_count": 81,
   "metadata": {
    "execution": {
     "iopub.execute_input": "2021-11-30T10:50:33.520678Z",
     "iopub.status.busy": "2021-11-30T10:50:33.520382Z",
     "iopub.status.idle": "2021-11-30T10:50:33.630893Z",
     "shell.execute_reply": "2021-11-30T10:50:33.629802Z",
     "shell.execute_reply.started": "2021-11-30T10:50:33.520645Z"
    }
   },
   "outputs": [
    {
     "data": {
      "text/html": [
       "<div>\n",
       "<style scoped>\n",
       "    .dataframe tbody tr th:only-of-type {\n",
       "        vertical-align: middle;\n",
       "    }\n",
       "\n",
       "    .dataframe tbody tr th {\n",
       "        vertical-align: top;\n",
       "    }\n",
       "\n",
       "    .dataframe thead th {\n",
       "        text-align: right;\n",
       "    }\n",
       "</style>\n",
       "<table border=\"1\" class=\"dataframe\">\n",
       "  <thead>\n",
       "    <tr style=\"text-align: right;\">\n",
       "      <th></th>\n",
       "      <th>frequency</th>\n",
       "      <th>recency</th>\n",
       "      <th>T</th>\n",
       "      <th>monetary_value</th>\n",
       "      <th>predicted_purchases</th>\n",
       "    </tr>\n",
       "    <tr>\n",
       "      <th>id</th>\n",
       "      <th></th>\n",
       "      <th></th>\n",
       "      <th></th>\n",
       "      <th></th>\n",
       "      <th></th>\n",
       "    </tr>\n",
       "  </thead>\n",
       "  <tbody>\n",
       "    <tr>\n",
       "      <th>fe81bb32c243a86b2f86fbf053fe6140</th>\n",
       "      <td>4.0</td>\n",
       "      <td>242.0</td>\n",
       "      <td>360.0</td>\n",
       "      <td>381.74500</td>\n",
       "      <td>0.065506</td>\n",
       "    </tr>\n",
       "    <tr>\n",
       "      <th>63cfc61cee11cbe306bff5857d00bfe4</th>\n",
       "      <td>5.0</td>\n",
       "      <td>382.0</td>\n",
       "      <td>524.0</td>\n",
       "      <td>135.43200</td>\n",
       "      <td>0.068860</td>\n",
       "    </tr>\n",
       "    <tr>\n",
       "      <th>230a1e9f42924d41f37fd22a1d4a9707</th>\n",
       "      <td>2.0</td>\n",
       "      <td>42.0</td>\n",
       "      <td>83.0</td>\n",
       "      <td>69.46000</td>\n",
       "      <td>0.075129</td>\n",
       "    </tr>\n",
       "    <tr>\n",
       "      <th>6469f99c1f9dfae7733b25662e7f1782</th>\n",
       "      <td>5.0</td>\n",
       "      <td>282.0</td>\n",
       "      <td>393.0</td>\n",
       "      <td>133.41200</td>\n",
       "      <td>0.086416</td>\n",
       "    </tr>\n",
       "    <tr>\n",
       "      <th>ef0103e9602d12594d19c2b666219bc1</th>\n",
       "      <td>2.0</td>\n",
       "      <td>19.0</td>\n",
       "      <td>49.0</td>\n",
       "      <td>84.58000</td>\n",
       "      <td>0.096970</td>\n",
       "    </tr>\n",
       "    <tr>\n",
       "      <th>394ac4de8f3acb14253c177f0e15bc58</th>\n",
       "      <td>4.0</td>\n",
       "      <td>236.0</td>\n",
       "      <td>299.0</td>\n",
       "      <td>149.28250</td>\n",
       "      <td>0.114504</td>\n",
       "    </tr>\n",
       "    <tr>\n",
       "      <th>ba84da8c159659f116329563a0a981dd</th>\n",
       "      <td>2.0</td>\n",
       "      <td>31.0</td>\n",
       "      <td>52.0</td>\n",
       "      <td>94.63000</td>\n",
       "      <td>0.119096</td>\n",
       "    </tr>\n",
       "    <tr>\n",
       "      <th>af5454198a97379394cacf676e1e96cb</th>\n",
       "      <td>2.0</td>\n",
       "      <td>54.0</td>\n",
       "      <td>68.0</td>\n",
       "      <td>197.55000</td>\n",
       "      <td>0.124739</td>\n",
       "    </tr>\n",
       "    <tr>\n",
       "      <th>dc813062e0fc23409cd255f7f53c7074</th>\n",
       "      <td>5.0</td>\n",
       "      <td>418.0</td>\n",
       "      <td>473.0</td>\n",
       "      <td>151.60600</td>\n",
       "      <td>0.130981</td>\n",
       "    </tr>\n",
       "    <tr>\n",
       "      <th>8d50f5eadf50201ccdcedfb9e2ac8455</th>\n",
       "      <td>16.0</td>\n",
       "      <td>462.0</td>\n",
       "      <td>520.0</td>\n",
       "      <td>56.55375</td>\n",
       "      <td>0.396701</td>\n",
       "    </tr>\n",
       "  </tbody>\n",
       "</table>\n",
       "</div>"
      ],
      "text/plain": [
       "                                  frequency  recency      T  monetary_value  \\\n",
       "id                                                                            \n",
       "fe81bb32c243a86b2f86fbf053fe6140        4.0    242.0  360.0       381.74500   \n",
       "63cfc61cee11cbe306bff5857d00bfe4        5.0    382.0  524.0       135.43200   \n",
       "230a1e9f42924d41f37fd22a1d4a9707        2.0     42.0   83.0        69.46000   \n",
       "6469f99c1f9dfae7733b25662e7f1782        5.0    282.0  393.0       133.41200   \n",
       "ef0103e9602d12594d19c2b666219bc1        2.0     19.0   49.0        84.58000   \n",
       "394ac4de8f3acb14253c177f0e15bc58        4.0    236.0  299.0       149.28250   \n",
       "ba84da8c159659f116329563a0a981dd        2.0     31.0   52.0        94.63000   \n",
       "af5454198a97379394cacf676e1e96cb        2.0     54.0   68.0       197.55000   \n",
       "dc813062e0fc23409cd255f7f53c7074        5.0    418.0  473.0       151.60600   \n",
       "8d50f5eadf50201ccdcedfb9e2ac8455       16.0    462.0  520.0        56.55375   \n",
       "\n",
       "                                  predicted_purchases  \n",
       "id                                                     \n",
       "fe81bb32c243a86b2f86fbf053fe6140             0.065506  \n",
       "63cfc61cee11cbe306bff5857d00bfe4             0.068860  \n",
       "230a1e9f42924d41f37fd22a1d4a9707             0.075129  \n",
       "6469f99c1f9dfae7733b25662e7f1782             0.086416  \n",
       "ef0103e9602d12594d19c2b666219bc1             0.096970  \n",
       "394ac4de8f3acb14253c177f0e15bc58             0.114504  \n",
       "ba84da8c159659f116329563a0a981dd             0.119096  \n",
       "af5454198a97379394cacf676e1e96cb             0.124739  \n",
       "dc813062e0fc23409cd255f7f53c7074             0.130981  \n",
       "8d50f5eadf50201ccdcedfb9e2ac8455             0.396701  "
      ]
     },
     "execution_count": 81,
     "metadata": {},
     "output_type": "execute_result"
    }
   ],
   "source": [
    "# Calculating expected number of repeat purchases up to time t for a randomly chosen individual from dataset\n",
    "# given they have purchase history (frequency, recency, T)\n",
    "\n",
    "t = 30\n",
    "# use conditional_expected_number_of_purchases_up_to_time to find conditional expected number of purchases up to time using bgf model\n",
    "summary['predicted_purchases'] = \n",
    "# short valu by predicted_purchases column and show last 10 observation\n"
   ]
  },
  {
   "cell_type": "markdown",
   "metadata": {},
   "source": [
    "To determine fit of our MBG/NBD model and probable accuracy of its predictions we can plot data to assess it\n",
    "* As with the other Lifetimes modules, we just need to pass mbgf output to function with plot_period_transactions() and it will return a MatPlotLib chart showing predictions against actual\n",
    "* If Actual and Model bars are similar, our model is pretty good at making prediction"
   ]
  },
  {
   "cell_type": "code",
   "execution_count": 82,
   "metadata": {
    "execution": {
     "iopub.execute_input": "2021-11-30T10:50:37.046286Z",
     "iopub.status.busy": "2021-11-30T10:50:37.045962Z",
     "iopub.status.idle": "2021-11-30T10:50:49.654915Z",
     "shell.execute_reply": "2021-11-30T10:50:49.654184Z",
     "shell.execute_reply.started": "2021-11-30T10:50:37.046252Z"
    }
   },
   "outputs": [
    {
     "data": {
      "image/png": "[encoded data removed]",
      "text/plain": [
       "<Figure size 1400x400 with 1 Axes>"
      ]
     },
     "metadata": {
      "needs_background": "light"
     },
     "output_type": "display_data"
    }
   ],
   "source": [
    "# plott figure with period actual and predicted transactions\n",
    "# import plot_period_transactions using lifetime\n",
    "\n",
    "# plot_period_transactions using max frequency = 7 or 6 \n",
    "ax = \n",
    "ax.set_yscale('log')"
   ]
  },
  {
   "cell_type": "markdown",
   "metadata": {},
   "source": [
    "## Testing model’s predictions with a holdout group\n",
    "To properly test MBG/NBD model it’s best to create a partitioned dataset \n",
    "* Here we will create a calibration period in which to train model and then \n",
    "* create a holdout period to validate our model\n",
    "Model never gets to see data in holdout group, but we can compare accuracy of prediction with the known number of purchases after\n",
    "model has run\n",
    "\n",
    "`calibration_and_holdout_data()` function creates that partitioned dataset for us\n",
    "* It’s much like one we created above, but includes labels relating to frequency, recency, and tenure during calibration, plus the duration of holdout period in days and predicted number of purchases we expect to see within holdout period"
   ]
  },
  {
   "cell_type": "code",
   "execution_count": 44,
   "metadata": {
    "execution": {
     "iopub.execute_input": "2021-11-30T10:38:08.435805Z",
     "iopub.status.busy": "2021-11-30T10:38:08.435337Z",
     "iopub.status.idle": "2021-11-30T10:38:11.838271Z",
     "shell.execute_reply": "2021-11-30T10:38:11.837371Z",
     "shell.execute_reply.started": "2021-11-30T10:38:08.435749Z"
    }
   },
   "outputs": [
    {
     "data": {
      "text/html": [
       "<div>\n",
       "<style scoped>\n",
       "    .dataframe tbody tr th:only-of-type {\n",
       "        vertical-align: middle;\n",
       "    }\n",
       "\n",
       "    .dataframe tbody tr th {\n",
       "        vertical-align: top;\n",
       "    }\n",
       "\n",
       "    .dataframe thead th {\n",
       "        text-align: right;\n",
       "    }\n",
       "</style>\n",
       "<table border=\"1\" class=\"dataframe\">\n",
       "  <thead>\n",
       "    <tr style=\"text-align: right;\">\n",
       "      <th></th>\n",
       "      <th>frequency_cal</th>\n",
       "      <th>recency_cal</th>\n",
       "      <th>T_cal</th>\n",
       "      <th>frequency_holdout</th>\n",
       "      <th>duration_holdout</th>\n",
       "    </tr>\n",
       "    <tr>\n",
       "      <th>id</th>\n",
       "      <th></th>\n",
       "      <th></th>\n",
       "      <th></th>\n",
       "      <th></th>\n",
       "      <th></th>\n",
       "    </tr>\n",
       "  </thead>\n",
       "  <tbody>\n",
       "    <tr>\n",
       "      <th>0000366f3b9a7992bf8c76cfdf3221e2</th>\n",
       "      <td>0.0</td>\n",
       "      <td>0.0</td>\n",
       "      <td>22.0</td>\n",
       "      <td>0.0</td>\n",
       "      <td>138.0</td>\n",
       "    </tr>\n",
       "    <tr>\n",
       "      <th>0000b849f77a49e4a4ce2b2a4ca5be3f</th>\n",
       "      <td>0.0</td>\n",
       "      <td>0.0</td>\n",
       "      <td>25.0</td>\n",
       "      <td>0.0</td>\n",
       "      <td>138.0</td>\n",
       "    </tr>\n",
       "    <tr>\n",
       "      <th>0000f46a3911fa3c0805444483337064</th>\n",
       "      <td>0.0</td>\n",
       "      <td>0.0</td>\n",
       "      <td>448.0</td>\n",
       "      <td>0.0</td>\n",
       "      <td>138.0</td>\n",
       "    </tr>\n",
       "    <tr>\n",
       "      <th>0000f6ccb0745a6a4b88665a16c9f078</th>\n",
       "      <td>0.0</td>\n",
       "      <td>0.0</td>\n",
       "      <td>232.0</td>\n",
       "      <td>0.0</td>\n",
       "      <td>138.0</td>\n",
       "    </tr>\n",
       "    <tr>\n",
       "      <th>0004aac84e0df4da2b147fca70cf8255</th>\n",
       "      <td>0.0</td>\n",
       "      <td>0.0</td>\n",
       "      <td>199.0</td>\n",
       "      <td>0.0</td>\n",
       "      <td>138.0</td>\n",
       "    </tr>\n",
       "  </tbody>\n",
       "</table>\n",
       "</div>"
      ],
      "text/plain": [
       "                                  frequency_cal  recency_cal  T_cal  \\\n",
       "id                                                                    \n",
       "0000366f3b9a7992bf8c76cfdf3221e2            0.0          0.0   22.0   \n",
       "0000b849f77a49e4a4ce2b2a4ca5be3f            0.0          0.0   25.0   \n",
       "0000f46a3911fa3c0805444483337064            0.0          0.0  448.0   \n",
       "0000f6ccb0745a6a4b88665a16c9f078            0.0          0.0  232.0   \n",
       "0004aac84e0df4da2b147fca70cf8255            0.0          0.0  199.0   \n",
       "\n",
       "                                  frequency_holdout  duration_holdout  \n",
       "id                                                                     \n",
       "0000366f3b9a7992bf8c76cfdf3221e2                0.0             138.0  \n",
       "0000b849f77a49e4a4ce2b2a4ca5be3f                0.0             138.0  \n",
       "0000f46a3911fa3c0805444483337064                0.0             138.0  \n",
       "0000f6ccb0745a6a4b88665a16c9f078                0.0             138.0  \n",
       "0004aac84e0df4da2b147fca70cf8255                0.0             138.0  "
      ]
     },
     "execution_count": 44,
     "metadata": {},
     "output_type": "execute_result"
    }
   ],
   "source": [
    "# Creating a summary of each customer over a calibration and holdout period by using calibration_and_holdout_data function\n",
    "## This function creates a summary of each customer over a calibration and holdout period (training and testing, respectively)\n",
    "### It accepts transaction data and returns a DataFrame of required statistics\n",
    "\n",
    "\n",
    "# import calibration_and_holdout_data from lifetimes.utils\n",
    "\n",
    "# Q - understand this code write what you understood out of it\n",
    "summary_cal_holdout = calibration_and_holdout_data(transaction_data,'id','date',\n",
    "                                                   calibration_period_end='2018-06-01',#a period to limit calibration inclusive\n",
    "                                                   observation_period_end='2018-10-17')# final date of study\n",
    "\n",
    "# see first 5 rows of summary_cal_holdout"
   ]
  },
  {
   "cell_type": "markdown",
   "metadata": {},
   "source": [
    "By plotting actual number of purchases in holdout period against model’s predictions we can eyeball model’s accuracy\n",
    "* For customers who placed three purchases in calibration period, we’d expect to see about 0.3 in holdout period"
   ]
  },
  {
   "cell_type": "markdown",
   "metadata": {},
   "source": [
    "Q - understand above code line and write what you understood out of it? <br>\n",
    "`Your Answer: -----`"
   ]
  },
  {
   "cell_type": "code",
   "execution_count": 45,
   "metadata": {
    "execution": {
     "iopub.execute_input": "2021-11-30T10:38:11.839639Z",
     "iopub.status.busy": "2021-11-30T10:38:11.839405Z",
     "iopub.status.idle": "2021-11-30T10:38:15.072872Z",
     "shell.execute_reply": "2021-11-30T10:38:15.072069Z",
     "shell.execute_reply.started": "2021-11-30T10:38:11.839610Z"
    }
   },
   "outputs": [
    {
     "data": {
      "image/png": "[encoded data removed]",
      "text/plain": [
       "<Figure size 1400x400 with 1 Axes>"
      ]
     },
     "metadata": {
      "needs_background": "light"
     },
     "output_type": "display_data"
    }
   ],
   "source": [
    "# import plot_calibration_purchases_vs_holdout_purchases from lifetimes.plotting\n",
    "\n",
    "\n",
    "\n",
    "# fit model\n",
    "bgf.fit(summary_cal_holdout['frequency_cal'],summary_cal_holdout['recency_cal'],summary_cal_holdout['T_cal'])\n",
    "\n",
    "#plot calibration_purchases_vs_holdout_purchases to see diff use bgf and summary_cal_holdout\n",
    "\n",
    "plt.show()"
   ]
  },
  {
   "cell_type": "markdown",
   "metadata": {},
   "source": [
    "Setting a longer period for holdout might be required to give you more useful predictions, but it depends on dataset and typical frequency with which your customers shop\n",
    "* If we re-run the model with holdout period set to a year, instead of a few months, we will see that predictions are pretty close to the actual\n",
    "* One can of course, output data itself in Pandas and re-join it to original data to double-check it on an individual customer level"
   ]
  },
  {
   "cell_type": "code",
   "execution_count": 46,
   "metadata": {
    "execution": {
     "iopub.execute_input": "2021-11-30T10:38:31.896328Z",
     "iopub.status.busy": "2021-11-30T10:38:31.895629Z",
     "iopub.status.idle": "2021-11-30T10:38:42.925474Z",
     "shell.execute_reply": "2021-11-30T10:38:42.924733Z",
     "shell.execute_reply.started": "2021-11-30T10:38:31.896287Z"
    }
   },
   "outputs": [
    {
     "data": {
      "image/png": "[encoded data removed]",
      "text/plain": [
       "<Figure size 1400x400 with 1 Axes>"
      ]
     },
     "metadata": {
      "needs_background": "light"
     },
     "output_type": "display_data"
    }
   ],
   "source": [
    "### Creating a summary of each customer over a calibration and holdout period\n",
    "\n",
    "# import calibration_and_holdout_data using from lifetimes.utils\n",
    "\n",
    "### Ploting calibration purchases vs holdout. Relies on calibration_and_holdout_data function\n",
    "# import plot_calibration_purchases_vs_holdout_purchases from lifetimes.plotting\n",
    "\n",
    "# i guess buy now you know what this code is doing\n",
    "summary_cal_holdout = calibration_and_holdout_data(transaction_data,'id','date',\n",
    "                                                   calibration_period_end='2017-10-28',#a period to limit calibration inclusive\n",
    "                                                   observation_period_end='2018-10-18') # final date of study\n",
    "\n",
    "bgf.fit(summary_cal_holdout['frequency_cal'],summary_cal_holdout['recency_cal'],summary_cal_holdout['T_cal'])\n",
    "\n",
    "# plot_calibration_purchases_vs_holdout_purchases using model and summary_cal_holdout\n",
    "plt.show()"
   ]
  },
  {
   "cell_type": "markdown",
   "metadata": {},
   "source": [
    "# Predicting Transactions with Time"
   ]
  },
  {
   "cell_type": "code",
   "execution_count": 47,
   "metadata": {
    "execution": {
     "iopub.execute_input": "2021-11-30T10:38:42.927271Z",
     "iopub.status.busy": "2021-11-30T10:38:42.926862Z",
     "iopub.status.idle": "2021-11-30T10:38:48.291044Z",
     "shell.execute_reply": "2021-11-30T10:38:48.290183Z",
     "shell.execute_reply.started": "2021-11-30T10:38:42.927226Z"
    }
   },
   "outputs": [],
   "source": [
    "# getting expected and actual repeated cumulative transactions using expected_cumulative_transactions function\n",
    "## it Uses the ``expected_number_of_purchases_up_to_time()`` method from fitted model to predict cumulative number of purchases\n",
    "### More detail, we take only customers who have made their first transaction before specific date and then \n",
    "#### multiply them by distribution of ``expected_number_of_purchases_up_to_time()`` for their whole future\n",
    "##### Doing this for all dates and then summing distributions will give us *complete cumulative purchases*\n",
    "\n",
    "\n",
    "\n",
    "# import expected_cumulative_transactions from lifetimes.utils \n",
    "\n",
    "## by now you have used .date many time Explain what this code is doing\n",
    "## Explain mathematical formula used\n",
    "t = (transaction_data.date.max() - transaction_data.date.min()).days #time\n",
    "\n",
    "df = expected_cumulative_transactions(bgf,transaction_data,'date','id',t)\n"
   ]
  },
  {
   "cell_type": "code",
   "execution_count": 48,
   "metadata": {
    "execution": {
     "iopub.execute_input": "2021-11-30T10:38:48.293595Z",
     "iopub.status.busy": "2021-11-30T10:38:48.293275Z",
     "iopub.status.idle": "2021-11-30T10:38:48.305169Z",
     "shell.execute_reply": "2021-11-30T10:38:48.304033Z",
     "shell.execute_reply.started": "2021-11-30T10:38:48.293554Z"
    }
   },
   "outputs": [
    {
     "data": {
      "text/html": [
       "<div>\n",
       "<style scoped>\n",
       "    .dataframe tbody tr th:only-of-type {\n",
       "        vertical-align: middle;\n",
       "    }\n",
       "\n",
       "    .dataframe tbody tr th {\n",
       "        vertical-align: top;\n",
       "    }\n",
       "\n",
       "    .dataframe thead th {\n",
       "        text-align: right;\n",
       "    }\n",
       "</style>\n",
       "<table border=\"1\" class=\"dataframe\">\n",
       "  <thead>\n",
       "    <tr style=\"text-align: right;\">\n",
       "      <th></th>\n",
       "      <th>actual</th>\n",
       "      <th>predicted</th>\n",
       "    </tr>\n",
       "  </thead>\n",
       "  <tbody>\n",
       "    <tr>\n",
       "      <th>146</th>\n",
       "      <td>3</td>\n",
       "      <td>7.172414</td>\n",
       "    </tr>\n",
       "    <tr>\n",
       "      <th>613</th>\n",
       "      <td>1615</td>\n",
       "      <td>1554.138311</td>\n",
       "    </tr>\n",
       "    <tr>\n",
       "      <th>97</th>\n",
       "      <td>1</td>\n",
       "      <td>4.097708</td>\n",
       "    </tr>\n",
       "    <tr>\n",
       "      <th>188</th>\n",
       "      <td>20</td>\n",
       "      <td>27.464833</td>\n",
       "    </tr>\n",
       "    <tr>\n",
       "      <th>720</th>\n",
       "      <td>2355</td>\n",
       "      <td>2297.428017</td>\n",
       "    </tr>\n",
       "    <tr>\n",
       "      <th>343</th>\n",
       "      <td>259</td>\n",
       "      <td>290.223209</td>\n",
       "    </tr>\n",
       "    <tr>\n",
       "      <th>105</th>\n",
       "      <td>1</td>\n",
       "      <td>4.423322</td>\n",
       "    </tr>\n",
       "    <tr>\n",
       "      <th>151</th>\n",
       "      <td>4</td>\n",
       "      <td>8.324124</td>\n",
       "    </tr>\n",
       "    <tr>\n",
       "      <th>518</th>\n",
       "      <td>1019</td>\n",
       "      <td>974.490249</td>\n",
       "    </tr>\n",
       "    <tr>\n",
       "      <th>681</th>\n",
       "      <td>2041</td>\n",
       "      <td>2017.040348</td>\n",
       "    </tr>\n",
       "  </tbody>\n",
       "</table>\n",
       "</div>"
      ],
      "text/plain": [
       "     actual    predicted\n",
       "146       3     7.172414\n",
       "613    1615  1554.138311\n",
       "97        1     4.097708\n",
       "188      20    27.464833\n",
       "720    2355  2297.428017\n",
       "343     259   290.223209\n",
       "105       1     4.423322\n",
       "151       4     8.324124\n",
       "518    1019   974.490249\n",
       "681    2041  2017.040348"
      ]
     },
     "execution_count": 48,
     "metadata": {},
     "output_type": "execute_result"
    }
   ],
   "source": [
    "#@@ expected and actual repeated cumulative transactions\n",
    "# print any 10 rows of dataframe df\n"
   ]
  },
  {
   "cell_type": "code",
   "execution_count": 49,
   "metadata": {
    "execution": {
     "iopub.execute_input": "2021-11-30T10:38:48.308464Z",
     "iopub.status.busy": "2021-11-30T10:38:48.307578Z",
     "iopub.status.idle": "2021-11-30T10:38:48.427348Z",
     "shell.execute_reply": "2021-11-30T10:38:48.426286Z",
     "shell.execute_reply.started": "2021-11-30T10:38:48.308411Z"
    }
   },
   "outputs": [
    {
     "data": {
      "text/plain": [
       "45.28496931279936"
      ]
     },
     "execution_count": 49,
     "metadata": {},
     "output_type": "execute_result"
    }
   ],
   "source": [
    "# import mean_squared_error using sklearn.metrics\n",
    "# import square root using math\n",
    "\n",
    "#calculating RMSE\n",
    "sqrt(mean_squared_error(df.actual, df.predicted))"
   ]
  },
  {
   "cell_type": "code",
   "execution_count": 51,
   "metadata": {
    "execution": {
     "iopub.execute_input": "2021-11-30T10:38:48.441598Z",
     "iopub.status.busy": "2021-11-30T10:38:48.440492Z",
     "iopub.status.idle": "2021-11-30T10:38:54.315641Z",
     "shell.execute_reply": "2021-11-30T10:38:54.314948Z",
     "shell.execute_reply.started": "2021-11-30T10:38:48.441560Z"
    }
   },
   "outputs": [
    {
     "data": {
      "image/png": "[encoded data removed]",
      "text/plain": [
       "<Figure size 1400x400 with 1 Axes>"
      ]
     },
     "metadata": {
      "needs_background": "light"
     },
     "output_type": "display_data"
    }
   ],
   "source": [
    "# calibration period\n",
    "\n",
    "# import datetime\n",
    "\n",
    "## Plotting a figure of predicted and actual cumulative transactions of users\n",
    "# import plot_cumulative_transactions using lifetimes.plotting\n",
    "\n",
    "# strip calibration time '2018-06-30'\n",
    "## Hint: use datetime\n",
    "cal = \n",
    "#now you know this code if no then understand and comment this out what this code is doing and maths involved in it\n",
    "t = (transaction_data.date.max() - transaction_data.date.min()).days # time\n",
    "#what you are understanding with this calibrated time comment it, How this is different from t\n",
    "t_cal = (cal - transaction_data.date.min()).days\n",
    "\n",
    "# plot_cumulative_transactions using bgf,transaction_data,'date','id',t,t_cal,freq='D') here D will be Days\n",
    "plt.show()"
   ]
  },
  {
   "cell_type": "code",
   "execution_count": 52,
   "metadata": {
    "execution": {
     "iopub.execute_input": "2021-11-30T10:38:54.987655Z",
     "iopub.status.busy": "2021-11-30T10:38:54.987069Z",
     "iopub.status.idle": "2021-11-30T10:39:00.884104Z",
     "shell.execute_reply": "2021-11-30T10:39:00.883280Z",
     "shell.execute_reply.started": "2021-11-30T10:38:54.987607Z"
    }
   },
   "outputs": [
    {
     "data": {
      "image/png": "[encoded data removed]",
      "text/plain": [
       "<Figure size 1400x400 with 1 Axes>"
      ]
     },
     "metadata": {
      "needs_background": "light"
     },
     "output_type": "display_data"
    }
   ],
   "source": [
    "# Plotting a figure of predicted and actual incremental transactions of users\n",
    "\n",
    "# import plot_incremental_transactions from lifetimes.plotting\n",
    "\n",
    "\n",
    "# plot_incremental_transactions - this time figureit out what input will it take\n",
    "plt.show()"
   ]
  },
  {
   "cell_type": "markdown",
   "metadata": {},
   "source": [
    "# Pred for particular person i.e. id"
   ]
  },
  {
   "cell_type": "code",
   "execution_count": 53,
   "metadata": {
    "execution": {
     "iopub.execute_input": "2021-11-30T10:39:09.738557Z",
     "iopub.status.busy": "2021-11-30T10:39:09.737982Z",
     "iopub.status.idle": "2021-11-30T10:39:09.743864Z",
     "shell.execute_reply": "2021-11-30T10:39:09.743275Z",
     "shell.execute_reply.started": "2021-11-30T10:39:09.738522Z"
    }
   },
   "outputs": [
    {
     "data": {
      "text/plain": [
       "'18c75282901f7db1fe38e8c9a3ce4c12'"
      ]
     },
     "execution_count": 53,
     "metadata": {},
     "output_type": "execute_result"
    }
   ],
   "source": [
    "# access all data values of index-494 of id column for every column of dataset transaction_data\n",
    "particular_index = \n",
    "# print the selected id\n",
    "particular_index"
   ]
  },
  {
   "cell_type": "code",
   "execution_count": 54,
   "metadata": {
    "execution": {
     "iopub.execute_input": "2021-11-30T10:39:11.171622Z",
     "iopub.status.busy": "2021-11-30T10:39:11.171350Z",
     "iopub.status.idle": "2021-11-30T10:39:11.820976Z",
     "shell.execute_reply": "2021-11-30T10:39:11.819926Z",
     "shell.execute_reply.started": "2021-11-30T10:39:11.171594Z"
    }
   },
   "outputs": [
    {
     "name": "stdout",
     "output_type": "stream",
     "text": [
      "[1.] => probability that customer with id: fe25d225d2494b252321b09821ebdbdf is alive today\n"
     ]
    },
    {
     "data": {
      "image/png": "[encoded data removed]",
      "text/plain": [
       "<Figure size 1400x400 with 1 Axes>"
      ]
     },
     "metadata": {
      "needs_background": "light"
     },
     "output_type": "display_data"
    }
   ],
   "source": [
    "### predicting for individual id\n",
    "\n",
    "\n",
    "#@@ import date from datetime\n",
    "#@@ import text from from pylab\n",
    " \n",
    "# for calculating alive path for plotting alive history of user.\n",
    "## Uses ``conditional_probability_alive()`` method of model to achieve path\n",
    "\n",
    "#@@ import calculate_alive_path from lifetimes.utils\n",
    "# for draw a graph showing probability of being alive for a customer in time\n",
    "#@@ import plot_history_alive from lifetimes.plotting\n",
    "\n",
    "# select user which is at index 600\n",
    "particular_index = \n",
    "# assign id_ variable particular_index \n",
    "id_ = particular_index  \n",
    "# set time of 365 days\n",
    "t = \n",
    "#collect today date\n",
    "today = \n",
    "#collect two year ago date\n",
    "two_year_ago =  #today year - 5 i.e 2017\n",
    "#collect one year from now\n",
    "one_year_from_now =  #next one year same day and month(yyyy,mm,dd) -1 i.e 2020\n",
    "# accessing group of rows and columns using loc\n",
    "sp_trans = transaction_data.loc[transaction_data['id'] == id_]\n",
    "\n",
    "#new time\n",
    "t = (today - sp_trans.date.min().date()).days \n",
    "\n",
    "## Q- Now again understand this bellow code and comment the maths and your intution \n",
    "#use of `calculate_alive_path` from lifetimes.utils\n",
    "prob_alive_today = pd.DataFrame(calculate_alive_path(bgf,sp_trans,'date',t,freq='D'))[0].tail(1).values \n",
    "prob_alive_today = np.round(prob_alive_today[0], 2)\n",
    "print(f'{prob_alive_today} => probability that customer with id: {id_} is alive today')\n",
    "\n",
    "t = (one_year_from_now - sp_trans.date.min().date()).days\n",
    "ax = plot_history_alive(bgf,t,sp_trans,'date',start_date=two_year_ago) #today year - 2\n",
    "ax.vlines(x=today,ymin=0,ymax=1.05,colors='#6c2c2c')\n",
    "ax.hlines(y=0.8,xmin=two_year_ago,xmax=one_year_from_now,colors='#6c2c2c')\n",
    "ax.set_xlim(two_year_ago,one_year_from_now) # sp_trans.order_date.min()\n",
    "ax.set_ylim(0,1.05)\n",
    "\n",
    "plt.xticks(rotation=-90)\n",
    "text(0.75,0.1,prob_alive_today,ha='center',va='center',transform=ax.transAxes) # showing [0.15] => prob_alive_today\n",
    "\n",
    "plt.show() "
   ]
  },
  {
   "cell_type": "markdown",
   "metadata": {},
   "source": [
    "Q - How loc works? <br>\n",
    "Q - How pd.DataFrame works? <br>\n",
    "Q - How np.round works? <br>\n",
    "Q - Why to use vlines,hlines? <br>\n",
    "Q - Why to use set_xlim,set_xlim? <br>\n",
    "Q - Why we are using colors='#6c2c2c' not color name? Your thought <br>\n",
    "\n",
    "Everything have been covered in Course if cannot recall it please go back to the topic or give it a quick search\n",
    "\n",
    "The more question you will ask yourself, the more answers you will get!!! Mentor is always here to help you if you are stuck."
   ]
  },
  {
   "cell_type": "markdown",
   "metadata": {},
   "source": [
    "`Your Answer: -----`"
   ]
  }
 ],
 "metadata": {
  "kernelspec": {
   "display_name": "Python 3 (ipykernel)",
   "language": "python",
   "name": "python3"
  },
  "language_info": {
   "codemirror_mode": {
    "name": "ipython",
    "version": 3
   },
   "file_extension": ".py",
   "mimetype": "text/x-python",
   "name": "python",
   "nbconvert_exporter": "python",
   "pygments_lexer": "ipython3",
   "version": "3.9.12"
  }
 },
 "nbformat": 4,
 "nbformat_minor": 4
}

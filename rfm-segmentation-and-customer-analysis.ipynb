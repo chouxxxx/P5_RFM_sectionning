{
 "cells": [
  {
   "cell_type": "markdown",
   "id": "ec59bdf5",
   "metadata": {
    "papermill": {
     "duration": 0.0702,
     "end_time": "2022-05-25T12:56:51.321656",
     "exception": false,
     "start_time": "2022-05-25T12:56:51.251456",
     "status": "completed"
    },
    "tags": []
   },
   "source": [
    "### Summary:\n",
    "* [Problem definition](#problem_definition)\n",
    "* [Data Analysis](#data_analysis)\n",
    "    * [Customers](#customers)\n",
    "    * [Orders](#orders)\n",
    "    * [Data insights](#data_insights)\n",
    "* [Customer segmentation](#customer_segmentation)\n",
    "    * [RFM](#rfm)\n",
    "    * [Segmentation insights](#segmentation_insights)\n",
    "* [References](#references)"
   ]
  },
  {
   "cell_type": "code",
   "execution_count": 1,
   "id": "5d5c06ec",
   "metadata": {
    "execution": {
     "iopub.execute_input": "2022-05-25T12:56:51.455322Z",
     "iopub.status.busy": "2022-05-25T12:56:51.454676Z",
     "iopub.status.idle": "2022-05-25T12:56:53.157084Z",
     "shell.execute_reply": "2022-05-25T12:56:53.156222Z"
    },
    "papermill": {
     "duration": 1.772075,
     "end_time": "2022-05-25T12:56:53.159652",
     "exception": false,
     "start_time": "2022-05-25T12:56:51.387577",
     "status": "completed"
    },
    "tags": []
   },
   "outputs": [],
   "source": [
    "import pandas as pd\n",
    "import urllib\n",
    "import json\n",
    "import unidecode\n",
    "import seaborn as sns\n",
    "import matplotlib.pyplot as plt\n",
    "import matplotlib.image as mpimg\n",
    "import datetime\n",
    "import numpy as np\n",
    "from statsmodels.tsa.seasonal import seasonal_decompose\n",
    "from sklearn.preprocessing import StandardScaler\n",
    "from sklearn.cluster import KMeans"
   ]
  },
  {
   "cell_type": "markdown",
   "id": "16af976f",
   "metadata": {
    "papermill": {
     "duration": 0.065267,
     "end_time": "2022-05-25T12:56:53.291778",
     "exception": false,
     "start_time": "2022-05-25T12:56:53.226511",
     "status": "completed"
    },
    "tags": []
   },
   "source": [
    "<a id='problem_definition'></a>\n",
    "## Problem Definition\n",
    "This is a Brazilian ecommerce public dataset of orders made at Olist Store available at [Kaggle](https://www.kaggle.com/olistbr/brazilian-ecommerce). The dataset has information of 100k orders from 2016 to 2018 made at multiple marketplaces in Brazil.  From the analysis of the information, answer the following questions:\n",
    "\n",
    "* Who are these customers?\n",
    "* How would you classify them?\n",
    "* What would be a possible CRM campaign strategy?\n",
    "\n",
    "**Data Diagram:**\n",
    "\n",
    "<img src=\"https://i.imgur.com/HRhd2Y0.png\" width=760 height=760 />\n",
    "\n",
    "\n",
    "<a id='data_analysis'></a>\n",
    "## Data Analysis"
   ]
  },
  {
   "cell_type": "code",
   "execution_count": 2,
   "id": "124b4aeb",
   "metadata": {
    "execution": {
     "iopub.execute_input": "2022-05-25T12:56:53.424997Z",
     "iopub.status.busy": "2022-05-25T12:56:53.424450Z",
     "iopub.status.idle": "2022-05-25T12:56:56.406506Z",
     "shell.execute_reply": "2022-05-25T12:56:56.405398Z"
    },
    "papermill": {
     "duration": 3.051358,
     "end_time": "2022-05-25T12:56:56.409129",
     "exception": false,
     "start_time": "2022-05-25T12:56:53.357771",
     "status": "completed"
    },
    "tags": []
   },
   "outputs": [],
   "source": [
    "customers = pd.read_csv('/kaggle/input/brazilian-ecommerce/olist_customers_dataset.csv')\n",
    "geolocation = pd.read_csv('/kaggle/input/brazilian-ecommerce/olist_geolocation_dataset.csv')\n",
    "orders = pd.read_csv('/kaggle/input/brazilian-ecommerce/olist_orders_dataset.csv')\n",
    "order_items = pd.read_csv('/kaggle/input/brazilian-ecommerce/olist_order_items_dataset.csv')"
   ]
  },
  {
   "cell_type": "markdown",
   "id": "c8d6dd49",
   "metadata": {
    "papermill": {
     "duration": 0.070136,
     "end_time": "2022-05-25T12:56:56.545971",
     "exception": false,
     "start_time": "2022-05-25T12:56:56.475835",
     "status": "completed"
    },
    "tags": []
   },
   "source": [
    "<a id='customers'></a>\n",
    "### Customers"
   ]
  },
  {
   "cell_type": "code",
   "execution_count": 3,
   "id": "59b35ce9",
   "metadata": {
    "execution": {
     "iopub.execute_input": "2022-05-25T12:56:56.684253Z",
     "iopub.status.busy": "2022-05-25T12:56:56.683959Z",
     "iopub.status.idle": "2022-05-25T12:56:56.712281Z",
     "shell.execute_reply": "2022-05-25T12:56:56.711524Z"
    },
    "papermill": {
     "duration": 0.099876,
     "end_time": "2022-05-25T12:56:56.715403",
     "exception": false,
     "start_time": "2022-05-25T12:56:56.615527",
     "status": "completed"
    },
    "tags": []
   },
   "outputs": [
    {
     "data": {
      "text/html": [
       "<div>\n",
       "<style scoped>\n",
       "    .dataframe tbody tr th:only-of-type {\n",
       "        vertical-align: middle;\n",
       "    }\n",
       "\n",
       "    .dataframe tbody tr th {\n",
       "        vertical-align: top;\n",
       "    }\n",
       "\n",
       "    .dataframe thead th {\n",
       "        text-align: right;\n",
       "    }\n",
       "</style>\n",
       "<table border=\"1\" class=\"dataframe\">\n",
       "  <thead>\n",
       "    <tr style=\"text-align: right;\">\n",
       "      <th></th>\n",
       "      <th>customer_id</th>\n",
       "      <th>customer_unique_id</th>\n",
       "      <th>customer_zip_code_prefix</th>\n",
       "      <th>customer_city</th>\n",
       "      <th>customer_state</th>\n",
       "    </tr>\n",
       "  </thead>\n",
       "  <tbody>\n",
       "    <tr>\n",
       "      <th>39028</th>\n",
       "      <td>8b4cec2486696187fd2d2d5c662774fe</td>\n",
       "      <td>a148ade3f3bc84f9c71ab58521221a7a</td>\n",
       "      <td>80050</td>\n",
       "      <td>curitiba</td>\n",
       "      <td>PR</td>\n",
       "    </tr>\n",
       "    <tr>\n",
       "      <th>15257</th>\n",
       "      <td>7b6af10470b26c401d18e3083e271339</td>\n",
       "      <td>038d84ab58dc78ee67846b354424ca6b</td>\n",
       "      <td>87360</td>\n",
       "      <td>goioere</td>\n",
       "      <td>PR</td>\n",
       "    </tr>\n",
       "    <tr>\n",
       "      <th>47907</th>\n",
       "      <td>625edcc188ca609ae2788cda38246c0e</td>\n",
       "      <td>d6aaf976d665faf649c1ef68efad943d</td>\n",
       "      <td>5624</td>\n",
       "      <td>sao paulo</td>\n",
       "      <td>SP</td>\n",
       "    </tr>\n",
       "    <tr>\n",
       "      <th>41752</th>\n",
       "      <td>c5e41a9f8916a32a52a73c9a5acabec0</td>\n",
       "      <td>7c53991e7f6d632c391c6d96809ecd45</td>\n",
       "      <td>35901</td>\n",
       "      <td>itabira</td>\n",
       "      <td>MG</td>\n",
       "    </tr>\n",
       "    <tr>\n",
       "      <th>89944</th>\n",
       "      <td>5e1de778ea1bea7c3d6f4c899226b7fa</td>\n",
       "      <td>4a371496a07fc9aed03d55fd43447f60</td>\n",
       "      <td>23052</td>\n",
       "      <td>rio de janeiro</td>\n",
       "      <td>RJ</td>\n",
       "    </tr>\n",
       "  </tbody>\n",
       "</table>\n",
       "</div>"
      ],
      "text/plain": [
       "                            customer_id                customer_unique_id  \\\n",
       "39028  8b4cec2486696187fd2d2d5c662774fe  a148ade3f3bc84f9c71ab58521221a7a   \n",
       "15257  7b6af10470b26c401d18e3083e271339  038d84ab58dc78ee67846b354424ca6b   \n",
       "47907  625edcc188ca609ae2788cda38246c0e  d6aaf976d665faf649c1ef68efad943d   \n",
       "41752  c5e41a9f8916a32a52a73c9a5acabec0  7c53991e7f6d632c391c6d96809ecd45   \n",
       "89944  5e1de778ea1bea7c3d6f4c899226b7fa  4a371496a07fc9aed03d55fd43447f60   \n",
       "\n",
       "       customer_zip_code_prefix   customer_city customer_state  \n",
       "39028                     80050        curitiba             PR  \n",
       "15257                     87360         goioere             PR  \n",
       "47907                      5624       sao paulo             SP  \n",
       "41752                     35901         itabira             MG  \n",
       "89944                     23052  rio de janeiro             RJ  "
      ]
     },
     "execution_count": 3,
     "metadata": {},
     "output_type": "execute_result"
    }
   ],
   "source": [
    "customers.sample(5)"
   ]
  },
  {
   "cell_type": "markdown",
   "id": "b68d39fe",
   "metadata": {
    "papermill": {
     "duration": 0.069584,
     "end_time": "2022-05-25T12:56:56.856183",
     "exception": false,
     "start_time": "2022-05-25T12:56:56.786599",
     "status": "completed"
    },
    "tags": []
   },
   "source": [
    "There are no null values for customers"
   ]
  },
  {
   "cell_type": "code",
   "execution_count": 4,
   "id": "cbc2be8b",
   "metadata": {
    "execution": {
     "iopub.execute_input": "2022-05-25T12:56:56.996548Z",
     "iopub.status.busy": "2022-05-25T12:56:56.995552Z",
     "iopub.status.idle": "2022-05-25T12:56:57.049326Z",
     "shell.execute_reply": "2022-05-25T12:56:57.048206Z"
    },
    "papermill": {
     "duration": 0.127066,
     "end_time": "2022-05-25T12:56:57.051511",
     "exception": false,
     "start_time": "2022-05-25T12:56:56.924445",
     "status": "completed"
    },
    "tags": []
   },
   "outputs": [
    {
     "data": {
      "text/plain": [
       "customer_id                 0.0\n",
       "customer_unique_id          0.0\n",
       "customer_zip_code_prefix    0.0\n",
       "customer_city               0.0\n",
       "customer_state              0.0\n",
       "dtype: float64"
      ]
     },
     "execution_count": 4,
     "metadata": {},
     "output_type": "execute_result"
    }
   ],
   "source": [
    "customers.isna().mean()"
   ]
  },
  {
   "cell_type": "markdown",
   "id": "dbb06dfc",
   "metadata": {
    "papermill": {
     "duration": 0.066753,
     "end_time": "2022-05-25T12:56:57.187212",
     "exception": false,
     "start_time": "2022-05-25T12:56:57.120459",
     "status": "completed"
    },
    "tags": []
   },
   "source": [
    "There are duplicate customer_unique_id, because the dataset is per order. Where client_id is the key to the order dataset. Each order has a unique client_id."
   ]
  },
  {
   "cell_type": "code",
   "execution_count": 5,
   "id": "7300cc5a",
   "metadata": {
    "execution": {
     "iopub.execute_input": "2022-05-25T12:56:57.323509Z",
     "iopub.status.busy": "2022-05-25T12:56:57.323196Z",
     "iopub.status.idle": "2022-05-25T12:56:57.566524Z",
     "shell.execute_reply": "2022-05-25T12:56:57.565486Z"
    },
    "papermill": {
     "duration": 0.314741,
     "end_time": "2022-05-25T12:56:57.568833",
     "exception": false,
     "start_time": "2022-05-25T12:56:57.254092",
     "status": "completed"
    },
    "tags": []
   },
   "outputs": [
    {
     "data": {
      "text/plain": [
       "customer_unique_id\n",
       "8d50f5eadf50201ccdcedfb9e2ac8455    17\n",
       "3e43e6105506432c953e165fb2acf44c     9\n",
       "6469f99c1f9dfae7733b25662e7f1782     7\n",
       "ca77025e7201e3b30c44b472ff346268     7\n",
       "1b6c7548a2a1f9037c1fd3ddfed95f33     7\n",
       "                                    ..\n",
       "5657dfebff5868c4dc7e8355fea865c4     1\n",
       "5657596addb4d7b07b32cd330614bdf8     1\n",
       "5656eb169546146caeab56c3ffc3d268     1\n",
       "5656a8fabc8629ff96b2bc14f8c09a27     1\n",
       "ffffd2657e2aad2907e67c3e9daecbeb     1\n",
       "Length: 96096, dtype: int64"
      ]
     },
     "execution_count": 5,
     "metadata": {},
     "output_type": "execute_result"
    }
   ],
   "source": [
    "customers.groupby('customer_unique_id').size().sort_values(ascending=False)"
   ]
  },
  {
   "cell_type": "markdown",
   "id": "29d0e63d",
   "metadata": {
    "papermill": {
     "duration": 0.068473,
     "end_time": "2022-05-25T12:56:57.706884",
     "exception": false,
     "start_time": "2022-05-25T12:56:57.638411",
     "status": "completed"
    },
    "tags": []
   },
   "source": [
    "**Geolocation:**"
   ]
  },
  {
   "cell_type": "code",
   "execution_count": 6,
   "id": "b3b8d6b0",
   "metadata": {
    "execution": {
     "iopub.execute_input": "2022-05-25T12:56:57.845958Z",
     "iopub.status.busy": "2022-05-25T12:56:57.845603Z",
     "iopub.status.idle": "2022-05-25T12:56:57.912421Z",
     "shell.execute_reply": "2022-05-25T12:56:57.911374Z"
    },
    "papermill": {
     "duration": 0.13929,
     "end_time": "2022-05-25T12:56:57.915122",
     "exception": false,
     "start_time": "2022-05-25T12:56:57.775832",
     "status": "completed"
    },
    "tags": []
   },
   "outputs": [
    {
     "data": {
      "text/html": [
       "<div>\n",
       "<style scoped>\n",
       "    .dataframe tbody tr th:only-of-type {\n",
       "        vertical-align: middle;\n",
       "    }\n",
       "\n",
       "    .dataframe tbody tr th {\n",
       "        vertical-align: top;\n",
       "    }\n",
       "\n",
       "    .dataframe thead th {\n",
       "        text-align: right;\n",
       "    }\n",
       "</style>\n",
       "<table border=\"1\" class=\"dataframe\">\n",
       "  <thead>\n",
       "    <tr style=\"text-align: right;\">\n",
       "      <th></th>\n",
       "      <th>geolocation_zip_code_prefix</th>\n",
       "      <th>geolocation_lat</th>\n",
       "      <th>geolocation_lng</th>\n",
       "      <th>geolocation_city</th>\n",
       "      <th>geolocation_state</th>\n",
       "    </tr>\n",
       "  </thead>\n",
       "  <tbody>\n",
       "    <tr>\n",
       "      <th>950062</th>\n",
       "      <td>91760</td>\n",
       "      <td>-30.125689</td>\n",
       "      <td>-51.236863</td>\n",
       "      <td>porto alegre</td>\n",
       "      <td>RS</td>\n",
       "    </tr>\n",
       "    <tr>\n",
       "      <th>23864</th>\n",
       "      <td>2268</td>\n",
       "      <td>-23.469571</td>\n",
       "      <td>-46.593405</td>\n",
       "      <td>sao paulo</td>\n",
       "      <td>SP</td>\n",
       "    </tr>\n",
       "    <tr>\n",
       "      <th>124171</th>\n",
       "      <td>5303</td>\n",
       "      <td>-23.531844</td>\n",
       "      <td>-46.726773</td>\n",
       "      <td>são paulo</td>\n",
       "      <td>SP</td>\n",
       "    </tr>\n",
       "    <tr>\n",
       "      <th>138575</th>\n",
       "      <td>5616</td>\n",
       "      <td>-23.589151</td>\n",
       "      <td>-46.721016</td>\n",
       "      <td>sao paulo</td>\n",
       "      <td>SP</td>\n",
       "    </tr>\n",
       "    <tr>\n",
       "      <th>462787</th>\n",
       "      <td>23080</td>\n",
       "      <td>-22.897566</td>\n",
       "      <td>-43.571597</td>\n",
       "      <td>rio de janeiro</td>\n",
       "      <td>RJ</td>\n",
       "    </tr>\n",
       "  </tbody>\n",
       "</table>\n",
       "</div>"
      ],
      "text/plain": [
       "        geolocation_zip_code_prefix  geolocation_lat  geolocation_lng  \\\n",
       "950062                        91760       -30.125689       -51.236863   \n",
       "23864                          2268       -23.469571       -46.593405   \n",
       "124171                         5303       -23.531844       -46.726773   \n",
       "138575                         5616       -23.589151       -46.721016   \n",
       "462787                        23080       -22.897566       -43.571597   \n",
       "\n",
       "       geolocation_city geolocation_state  \n",
       "950062     porto alegre                RS  \n",
       "23864         sao paulo                SP  \n",
       "124171        são paulo                SP  \n",
       "138575        sao paulo                SP  \n",
       "462787   rio de janeiro                RJ  "
      ]
     },
     "execution_count": 6,
     "metadata": {},
     "output_type": "execute_result"
    }
   ],
   "source": [
    "geolocation.sample(5)"
   ]
  },
  {
   "cell_type": "markdown",
   "id": "b3e5f83c",
   "metadata": {
    "papermill": {
     "duration": 0.068334,
     "end_time": "2022-05-25T12:56:58.052477",
     "exception": false,
     "start_time": "2022-05-25T12:56:57.984143",
     "status": "completed"
    },
    "tags": []
   },
   "source": [
    "There are no null values for geolocation"
   ]
  },
  {
   "cell_type": "code",
   "execution_count": 7,
   "id": "c8d96413",
   "metadata": {
    "execution": {
     "iopub.execute_input": "2022-05-25T12:56:58.202948Z",
     "iopub.status.busy": "2022-05-25T12:56:58.202511Z",
     "iopub.status.idle": "2022-05-25T12:56:58.462874Z",
     "shell.execute_reply": "2022-05-25T12:56:58.462052Z"
    },
    "papermill": {
     "duration": 0.344307,
     "end_time": "2022-05-25T12:56:58.464972",
     "exception": false,
     "start_time": "2022-05-25T12:56:58.120665",
     "status": "completed"
    },
    "tags": []
   },
   "outputs": [
    {
     "data": {
      "text/plain": [
       "geolocation_zip_code_prefix    0.0\n",
       "geolocation_lat                0.0\n",
       "geolocation_lng                0.0\n",
       "geolocation_city               0.0\n",
       "geolocation_state              0.0\n",
       "dtype: float64"
      ]
     },
     "execution_count": 7,
     "metadata": {},
     "output_type": "execute_result"
    }
   ],
   "source": [
    "geolocation.isna().mean()"
   ]
  },
  {
   "cell_type": "markdown",
   "id": "7408f1c0",
   "metadata": {
    "papermill": {
     "duration": 0.085858,
     "end_time": "2022-05-25T12:56:58.627123",
     "exception": false,
     "start_time": "2022-05-25T12:56:58.541265",
     "status": "completed"
    },
    "tags": []
   },
   "source": [
    "As we can see, there are duplicates of the city with accents in the names."
   ]
  },
  {
   "cell_type": "code",
   "execution_count": 8,
   "id": "1bd0bcb6",
   "metadata": {
    "execution": {
     "iopub.execute_input": "2022-05-25T12:56:58.771005Z",
     "iopub.status.busy": "2022-05-25T12:56:58.770648Z",
     "iopub.status.idle": "2022-05-25T12:56:58.885366Z",
     "shell.execute_reply": "2022-05-25T12:56:58.884486Z"
    },
    "papermill": {
     "duration": 0.189939,
     "end_time": "2022-05-25T12:56:58.887617",
     "exception": false,
     "start_time": "2022-05-25T12:56:58.697678",
     "status": "completed"
    },
    "tags": []
   },
   "outputs": [
    {
     "data": {
      "text/plain": [
       "array(['sao paulo', 'são paulo', 'sao bernardo do campo', ..., 'ciríaco',\n",
       "       'estação', 'vila lângaro'], dtype=object)"
      ]
     },
     "execution_count": 8,
     "metadata": {},
     "output_type": "execute_result"
    }
   ],
   "source": [
    "geolocation['geolocation_city'].unique()"
   ]
  },
  {
   "cell_type": "code",
   "execution_count": 9,
   "id": "8bd64f57",
   "metadata": {
    "execution": {
     "iopub.execute_input": "2022-05-25T12:56:59.028951Z",
     "iopub.status.busy": "2022-05-25T12:56:59.028686Z",
     "iopub.status.idle": "2022-05-25T12:56:59.033204Z",
     "shell.execute_reply": "2022-05-25T12:56:59.032364Z"
    },
    "papermill": {
     "duration": 0.078383,
     "end_time": "2022-05-25T12:56:59.035056",
     "exception": false,
     "start_time": "2022-05-25T12:56:58.956673",
     "status": "completed"
    },
    "tags": []
   },
   "outputs": [],
   "source": [
    "def pretty_string(column):\n",
    "    column_space = ' '.join(column.split())\n",
    "    return unidecode.unidecode(column_space.lower())"
   ]
  },
  {
   "cell_type": "code",
   "execution_count": 10,
   "id": "fd6d4397",
   "metadata": {
    "execution": {
     "iopub.execute_input": "2022-05-25T12:56:59.179317Z",
     "iopub.status.busy": "2022-05-25T12:56:59.178790Z",
     "iopub.status.idle": "2022-05-25T12:57:00.883972Z",
     "shell.execute_reply": "2022-05-25T12:57:00.883038Z"
    },
    "papermill": {
     "duration": 1.779582,
     "end_time": "2022-05-25T12:57:00.886208",
     "exception": false,
     "start_time": "2022-05-25T12:56:59.106626",
     "status": "completed"
    },
    "tags": []
   },
   "outputs": [],
   "source": [
    "geolocation['geolocation_city'] = geolocation['geolocation_city'].apply(pretty_string)"
   ]
  },
  {
   "cell_type": "markdown",
   "id": "e5b085af",
   "metadata": {
    "papermill": {
     "duration": 0.069803,
     "end_time": "2022-05-25T12:57:01.024059",
     "exception": false,
     "start_time": "2022-05-25T12:57:00.954256",
     "status": "completed"
    },
    "tags": []
   },
   "source": [
    "As we can see, there is the same zip code prefix with more than 1 location. This problem may have occurred because only the zip code prefix was kept. To solve this problem we will use the median value of the latitude and longitude of each point"
   ]
  },
  {
   "cell_type": "code",
   "execution_count": 11,
   "id": "91dc53f1",
   "metadata": {
    "execution": {
     "iopub.execute_input": "2022-05-25T12:57:01.163261Z",
     "iopub.status.busy": "2022-05-25T12:57:01.162956Z",
     "iopub.status.idle": "2022-05-25T12:57:01.204588Z",
     "shell.execute_reply": "2022-05-25T12:57:01.203739Z"
    },
    "papermill": {
     "duration": 0.113799,
     "end_time": "2022-05-25T12:57:01.206618",
     "exception": false,
     "start_time": "2022-05-25T12:57:01.092819",
     "status": "completed"
    },
    "tags": []
   },
   "outputs": [
    {
     "data": {
      "text/plain": [
       "geolocation_zip_code_prefix\n",
       "24220    1146\n",
       "24230    1102\n",
       "38400     965\n",
       "35500     907\n",
       "11680     879\n",
       "         ... \n",
       "20056       1\n",
       "76370       1\n",
       "63012       1\n",
       "76372       1\n",
       "32635       1\n",
       "Length: 19015, dtype: int64"
      ]
     },
     "execution_count": 11,
     "metadata": {},
     "output_type": "execute_result"
    }
   ],
   "source": [
    "geolocation.groupby('geolocation_zip_code_prefix').size().sort_values(ascending=False)"
   ]
  },
  {
   "cell_type": "code",
   "execution_count": 12,
   "id": "7c7f4c48",
   "metadata": {
    "execution": {
     "iopub.execute_input": "2022-05-25T12:57:01.345917Z",
     "iopub.status.busy": "2022-05-25T12:57:01.345312Z",
     "iopub.status.idle": "2022-05-25T12:57:01.359046Z",
     "shell.execute_reply": "2022-05-25T12:57:01.358306Z"
    },
    "papermill": {
     "duration": 0.085667,
     "end_time": "2022-05-25T12:57:01.361087",
     "exception": false,
     "start_time": "2022-05-25T12:57:01.275420",
     "status": "completed"
    },
    "tags": []
   },
   "outputs": [
    {
     "data": {
      "text/html": [
       "<div>\n",
       "<style scoped>\n",
       "    .dataframe tbody tr th:only-of-type {\n",
       "        vertical-align: middle;\n",
       "    }\n",
       "\n",
       "    .dataframe tbody tr th {\n",
       "        vertical-align: top;\n",
       "    }\n",
       "\n",
       "    .dataframe thead th {\n",
       "        text-align: right;\n",
       "    }\n",
       "</style>\n",
       "<table border=\"1\" class=\"dataframe\">\n",
       "  <thead>\n",
       "    <tr style=\"text-align: right;\">\n",
       "      <th></th>\n",
       "      <th>geolocation_zip_code_prefix</th>\n",
       "      <th>geolocation_lat</th>\n",
       "      <th>geolocation_lng</th>\n",
       "      <th>geolocation_city</th>\n",
       "      <th>geolocation_state</th>\n",
       "    </tr>\n",
       "  </thead>\n",
       "  <tbody>\n",
       "    <tr>\n",
       "      <th>470805</th>\n",
       "      <td>24220</td>\n",
       "      <td>-22.905817</td>\n",
       "      <td>-43.106989</td>\n",
       "      <td>niteroi</td>\n",
       "      <td>RJ</td>\n",
       "    </tr>\n",
       "    <tr>\n",
       "      <th>470811</th>\n",
       "      <td>24220</td>\n",
       "      <td>-22.902306</td>\n",
       "      <td>-43.112545</td>\n",
       "      <td>niteroi</td>\n",
       "      <td>RJ</td>\n",
       "    </tr>\n",
       "    <tr>\n",
       "      <th>470812</th>\n",
       "      <td>24220</td>\n",
       "      <td>-22.904567</td>\n",
       "      <td>-43.110491</td>\n",
       "      <td>niteroi</td>\n",
       "      <td>RJ</td>\n",
       "    </tr>\n",
       "    <tr>\n",
       "      <th>470820</th>\n",
       "      <td>24220</td>\n",
       "      <td>-22.902575</td>\n",
       "      <td>-43.109192</td>\n",
       "      <td>niteroi</td>\n",
       "      <td>RJ</td>\n",
       "    </tr>\n",
       "    <tr>\n",
       "      <th>470821</th>\n",
       "      <td>24220</td>\n",
       "      <td>-22.907500</td>\n",
       "      <td>-43.106170</td>\n",
       "      <td>niteroi</td>\n",
       "      <td>RJ</td>\n",
       "    </tr>\n",
       "  </tbody>\n",
       "</table>\n",
       "</div>"
      ],
      "text/plain": [
       "        geolocation_zip_code_prefix  geolocation_lat  geolocation_lng  \\\n",
       "470805                        24220       -22.905817       -43.106989   \n",
       "470811                        24220       -22.902306       -43.112545   \n",
       "470812                        24220       -22.904567       -43.110491   \n",
       "470820                        24220       -22.902575       -43.109192   \n",
       "470821                        24220       -22.907500       -43.106170   \n",
       "\n",
       "       geolocation_city geolocation_state  \n",
       "470805          niteroi                RJ  \n",
       "470811          niteroi                RJ  \n",
       "470812          niteroi                RJ  \n",
       "470820          niteroi                RJ  \n",
       "470821          niteroi                RJ  "
      ]
     },
     "execution_count": 12,
     "metadata": {},
     "output_type": "execute_result"
    }
   ],
   "source": [
    "geolocation[geolocation['geolocation_zip_code_prefix'] == 24220].head()    "
   ]
  },
  {
   "cell_type": "markdown",
   "id": "5240d7ee",
   "metadata": {
    "papermill": {
     "duration": 0.069418,
     "end_time": "2022-05-25T12:57:01.501162",
     "exception": false,
     "start_time": "2022-05-25T12:57:01.431744",
     "status": "completed"
    },
    "tags": []
   },
   "source": [
    "There are 8 zip codes with two or more states. To solve this problem, we will count the states by zip code and use the majority state for this zip code."
   ]
  },
  {
   "cell_type": "code",
   "execution_count": 13,
   "id": "f3808be3",
   "metadata": {
    "execution": {
     "iopub.execute_input": "2022-05-25T12:57:01.644065Z",
     "iopub.status.busy": "2022-05-25T12:57:01.643532Z",
     "iopub.status.idle": "2022-05-25T12:57:01.966112Z",
     "shell.execute_reply": "2022-05-25T12:57:01.965348Z"
    },
    "papermill": {
     "duration": 0.396867,
     "end_time": "2022-05-25T12:57:01.968940",
     "exception": false,
     "start_time": "2022-05-25T12:57:01.572073",
     "status": "completed"
    },
    "tags": []
   },
   "outputs": [],
   "source": [
    "other_state_geolocation = geolocation.groupby(['geolocation_zip_code_prefix'])['geolocation_state'].nunique().reset_index(name='count')\n",
    "other_state_geolocation[other_state_geolocation['count']>= 2].shape\n",
    "max_state = geolocation.groupby(['geolocation_zip_code_prefix','geolocation_state']).size().reset_index(name='count').drop_duplicates(subset = 'geolocation_zip_code_prefix').drop('count',axis=1)"
   ]
  },
  {
   "cell_type": "code",
   "execution_count": 14,
   "id": "d8436a1e",
   "metadata": {
    "execution": {
     "iopub.execute_input": "2022-05-25T12:57:02.110884Z",
     "iopub.status.busy": "2022-05-25T12:57:02.110631Z",
     "iopub.status.idle": "2022-05-25T12:57:02.493278Z",
     "shell.execute_reply": "2022-05-25T12:57:02.492556Z"
    },
    "papermill": {
     "duration": 0.455552,
     "end_time": "2022-05-25T12:57:02.495794",
     "exception": false,
     "start_time": "2022-05-25T12:57:02.040242",
     "status": "completed"
    },
    "tags": []
   },
   "outputs": [],
   "source": [
    "geolocation_silver = geolocation.groupby(['geolocation_zip_code_prefix','geolocation_city','geolocation_state'])[['geolocation_lat','geolocation_lng']].median().reset_index()\n",
    "geolocation_silver = geolocation_silver.merge(max_state,on=['geolocation_zip_code_prefix','geolocation_state'],how='inner')"
   ]
  },
  {
   "cell_type": "code",
   "execution_count": 15,
   "id": "534e6898",
   "metadata": {
    "execution": {
     "iopub.execute_input": "2022-05-25T12:57:02.641026Z",
     "iopub.status.busy": "2022-05-25T12:57:02.640538Z",
     "iopub.status.idle": "2022-05-25T12:57:02.694364Z",
     "shell.execute_reply": "2022-05-25T12:57:02.693683Z"
    },
    "papermill": {
     "duration": 0.129286,
     "end_time": "2022-05-25T12:57:02.696502",
     "exception": false,
     "start_time": "2022-05-25T12:57:02.567216",
     "status": "completed"
    },
    "tags": []
   },
   "outputs": [],
   "source": [
    "customers_silver = customers.merge(geolocation_silver,left_on='customer_zip_code_prefix',right_on='geolocation_zip_code_prefix',how='inner')"
   ]
  },
  {
   "cell_type": "code",
   "execution_count": 16,
   "id": "bb3c4cc5",
   "metadata": {
    "execution": {
     "iopub.execute_input": "2022-05-25T12:57:02.837016Z",
     "iopub.status.busy": "2022-05-25T12:57:02.836505Z",
     "iopub.status.idle": "2022-05-25T12:57:02.842879Z",
     "shell.execute_reply": "2022-05-25T12:57:02.842143Z"
    },
    "papermill": {
     "duration": 0.078824,
     "end_time": "2022-05-25T12:57:02.844725",
     "exception": false,
     "start_time": "2022-05-25T12:57:02.765901",
     "status": "completed"
    },
    "tags": []
   },
   "outputs": [],
   "source": [
    "def plot_brasil_map(data):\n",
    "    brazil = mpimg.imread(urllib.request.urlopen('https://i.pinimg.com/originals/3a/0c/e1/3a0ce18b3c842748c255bc0aa445ad41.jpg'),'jpg')\n",
    "    ax = data.plot(kind=\"scatter\", x=\"geolocation_lng\", y=\"geolocation_lat\", figsize=(10,10), alpha=0.3,s=0.3,c='blue')\n",
    "    plt.axis('off')\n",
    "    plt.imshow(brazil, extent=[-73.98283055, -33.8,-33.75116944,5.4])\n",
    "    plt.show()"
   ]
  },
  {
   "cell_type": "markdown",
   "id": "f7f3ad43",
   "metadata": {
    "papermill": {
     "duration": 0.071269,
     "end_time": "2022-05-25T12:57:02.985910",
     "exception": false,
     "start_time": "2022-05-25T12:57:02.914641",
     "status": "completed"
    },
    "tags": []
   },
   "source": [
    "As we can see, there are more customers in the southeast and south of the country. Other information, there are more customers in cities that are capitals (São Paulo, Rio de Janeiro, Porto Alegre and otheres)."
   ]
  },
  {
   "cell_type": "code",
   "execution_count": 17,
   "id": "f6ced055",
   "metadata": {
    "execution": {
     "iopub.execute_input": "2022-05-25T12:57:03.128308Z",
     "iopub.status.busy": "2022-05-25T12:57:03.127675Z",
     "iopub.status.idle": "2022-05-25T12:57:06.277923Z",
     "shell.execute_reply": "2022-05-25T12:57:06.277327Z"
    },
    "papermill": {
     "duration": 3.226815,
     "end_time": "2022-05-25T12:57:06.283398",
     "exception": false,
     "start_time": "2022-05-25T12:57:03.056583",
     "status": "completed"
    },
    "tags": []
   },
   "outputs": [
    {
     "data": {
      "image/png": "[encoded data removed]",
      "text/plain": [
       "<Figure size 720x720 with 1 Axes>"
      ]
     },
     "metadata": {
      "needs_background": "light"
     },
     "output_type": "display_data"
    }
   ],
   "source": [
    "plot_brasil_map(customers_silver.drop_duplicates(subset='customer_unique_id'))"
   ]
  },
  {
   "cell_type": "markdown",
   "id": "08c29ed7",
   "metadata": {
    "papermill": {
     "duration": 0.077137,
     "end_time": "2022-05-25T12:57:06.441166",
     "exception": false,
     "start_time": "2022-05-25T12:57:06.364029",
     "status": "completed"
    },
    "tags": []
   },
   "source": [
    "<a id='orders'></a>\n",
    "## Orders"
   ]
  },
  {
   "cell_type": "code",
   "execution_count": 18,
   "id": "4b0ac8c5",
   "metadata": {
    "execution": {
     "iopub.execute_input": "2022-05-25T12:57:06.602107Z",
     "iopub.status.busy": "2022-05-25T12:57:06.601691Z",
     "iopub.status.idle": "2022-05-25T12:57:06.616930Z",
     "shell.execute_reply": "2022-05-25T12:57:06.616356Z"
    },
    "papermill": {
     "duration": 0.098392,
     "end_time": "2022-05-25T12:57:06.619367",
     "exception": false,
     "start_time": "2022-05-25T12:57:06.520975",
     "status": "completed"
    },
    "tags": []
   },
   "outputs": [
    {
     "data": {
      "text/html": [
       "<div>\n",
       "<style scoped>\n",
       "    .dataframe tbody tr th:only-of-type {\n",
       "        vertical-align: middle;\n",
       "    }\n",
       "\n",
       "    .dataframe tbody tr th {\n",
       "        vertical-align: top;\n",
       "    }\n",
       "\n",
       "    .dataframe thead th {\n",
       "        text-align: right;\n",
       "    }\n",
       "</style>\n",
       "<table border=\"1\" class=\"dataframe\">\n",
       "  <thead>\n",
       "    <tr style=\"text-align: right;\">\n",
       "      <th></th>\n",
       "      <th>order_id</th>\n",
       "      <th>order_item_id</th>\n",
       "      <th>product_id</th>\n",
       "      <th>seller_id</th>\n",
       "      <th>shipping_limit_date</th>\n",
       "      <th>price</th>\n",
       "      <th>freight_value</th>\n",
       "    </tr>\n",
       "  </thead>\n",
       "  <tbody>\n",
       "    <tr>\n",
       "      <th>98944</th>\n",
       "      <td>e0797286b1f41001e5c1388d4d8144c1</td>\n",
       "      <td>1</td>\n",
       "      <td>b0961721fd839e9982420e807758a2a6</td>\n",
       "      <td>1f50f920176fa81dab994f9023523100</td>\n",
       "      <td>2017-09-04 04:26:09</td>\n",
       "      <td>59.9</td>\n",
       "      <td>17.67</td>\n",
       "    </tr>\n",
       "    <tr>\n",
       "      <th>36553</th>\n",
       "      <td>52ed4ea43ae701531f7a3a18b16783f8</td>\n",
       "      <td>1</td>\n",
       "      <td>f71e07cf6e6d621aef3ff698bc4f2819</td>\n",
       "      <td>7d76b645482be4a332374e8223836592</td>\n",
       "      <td>2017-11-27 10:06:52</td>\n",
       "      <td>19.9</td>\n",
       "      <td>7.78</td>\n",
       "    </tr>\n",
       "    <tr>\n",
       "      <th>61314</th>\n",
       "      <td>8bc7c04f8ea4ab1cfc2d0f8d836da43b</td>\n",
       "      <td>1</td>\n",
       "      <td>e339410beae2b9f9987f5a4e0ae007f3</td>\n",
       "      <td>2a7dc43cecabf23403078e2188437d1d</td>\n",
       "      <td>2017-11-30 00:37:40</td>\n",
       "      <td>38.9</td>\n",
       "      <td>15.10</td>\n",
       "    </tr>\n",
       "    <tr>\n",
       "      <th>36647</th>\n",
       "      <td>532eef07d5a2ff826ffd6ef0979e1645</td>\n",
       "      <td>1</td>\n",
       "      <td>e47d150b1ca529641e12015c3109bb24</td>\n",
       "      <td>6eb94e1466490d327a09abf8f3552a50</td>\n",
       "      <td>2018-07-12 10:31:14</td>\n",
       "      <td>139.0</td>\n",
       "      <td>41.95</td>\n",
       "    </tr>\n",
       "    <tr>\n",
       "      <th>45381</th>\n",
       "      <td>6720f9096736db7c2427635f7d31361c</td>\n",
       "      <td>1</td>\n",
       "      <td>4df4e2fa82369cf0ba8bb28833d44848</td>\n",
       "      <td>2f74af7a0ee5636f12c2336f9fffed47</td>\n",
       "      <td>2017-07-11 21:50:18</td>\n",
       "      <td>34.9</td>\n",
       "      <td>12.69</td>\n",
       "    </tr>\n",
       "  </tbody>\n",
       "</table>\n",
       "</div>"
      ],
      "text/plain": [
       "                               order_id  order_item_id  \\\n",
       "98944  e0797286b1f41001e5c1388d4d8144c1              1   \n",
       "36553  52ed4ea43ae701531f7a3a18b16783f8              1   \n",
       "61314  8bc7c04f8ea4ab1cfc2d0f8d836da43b              1   \n",
       "36647  532eef07d5a2ff826ffd6ef0979e1645              1   \n",
       "45381  6720f9096736db7c2427635f7d31361c              1   \n",
       "\n",
       "                             product_id                         seller_id  \\\n",
       "98944  b0961721fd839e9982420e807758a2a6  1f50f920176fa81dab994f9023523100   \n",
       "36553  f71e07cf6e6d621aef3ff698bc4f2819  7d76b645482be4a332374e8223836592   \n",
       "61314  e339410beae2b9f9987f5a4e0ae007f3  2a7dc43cecabf23403078e2188437d1d   \n",
       "36647  e47d150b1ca529641e12015c3109bb24  6eb94e1466490d327a09abf8f3552a50   \n",
       "45381  4df4e2fa82369cf0ba8bb28833d44848  2f74af7a0ee5636f12c2336f9fffed47   \n",
       "\n",
       "       shipping_limit_date  price  freight_value  \n",
       "98944  2017-09-04 04:26:09   59.9          17.67  \n",
       "36553  2017-11-27 10:06:52   19.9           7.78  \n",
       "61314  2017-11-30 00:37:40   38.9          15.10  \n",
       "36647  2018-07-12 10:31:14  139.0          41.95  \n",
       "45381  2017-07-11 21:50:18   34.9          12.69  "
      ]
     },
     "execution_count": 18,
     "metadata": {},
     "output_type": "execute_result"
    }
   ],
   "source": [
    "order_items.sample(5)"
   ]
  },
  {
   "cell_type": "markdown",
   "id": "5ec3028a",
   "metadata": {
    "papermill": {
     "duration": 0.075299,
     "end_time": "2022-05-25T12:57:06.771429",
     "exception": false,
     "start_time": "2022-05-25T12:57:06.696130",
     "status": "completed"
    },
    "tags": []
   },
   "source": [
    "There are no null values for order_items"
   ]
  },
  {
   "cell_type": "code",
   "execution_count": 19,
   "id": "fda8a75e",
   "metadata": {
    "execution": {
     "iopub.execute_input": "2022-05-25T12:57:06.927707Z",
     "iopub.status.busy": "2022-05-25T12:57:06.926957Z",
     "iopub.status.idle": "2022-05-25T12:57:06.984987Z",
     "shell.execute_reply": "2022-05-25T12:57:06.984365Z"
    },
    "papermill": {
     "duration": 0.13931,
     "end_time": "2022-05-25T12:57:06.986784",
     "exception": false,
     "start_time": "2022-05-25T12:57:06.847474",
     "status": "completed"
    },
    "tags": []
   },
   "outputs": [
    {
     "data": {
      "text/plain": [
       "order_id               0.0\n",
       "order_item_id          0.0\n",
       "product_id             0.0\n",
       "seller_id              0.0\n",
       "shipping_limit_date    0.0\n",
       "price                  0.0\n",
       "freight_value          0.0\n",
       "dtype: float64"
      ]
     },
     "execution_count": 19,
     "metadata": {},
     "output_type": "execute_result"
    }
   ],
   "source": [
    "order_items.isna().mean()"
   ]
  },
  {
   "cell_type": "markdown",
   "id": "9f0c36a9",
   "metadata": {
    "papermill": {
     "duration": 0.076865,
     "end_time": "2022-05-25T12:57:07.142211",
     "exception": false,
     "start_time": "2022-05-25T12:57:07.065346",
     "status": "completed"
    },
    "tags": []
   },
   "source": [
    "As we can see, an order can have more than one product."
   ]
  },
  {
   "cell_type": "code",
   "execution_count": 20,
   "id": "5fd28019",
   "metadata": {
    "execution": {
     "iopub.execute_input": "2022-05-25T12:57:07.296223Z",
     "iopub.status.busy": "2022-05-25T12:57:07.295704Z",
     "iopub.status.idle": "2022-05-25T12:57:07.435182Z",
     "shell.execute_reply": "2022-05-25T12:57:07.434606Z"
    },
    "papermill": {
     "duration": 0.218699,
     "end_time": "2022-05-25T12:57:07.436940",
     "exception": false,
     "start_time": "2022-05-25T12:57:07.218241",
     "status": "completed"
    },
    "tags": []
   },
   "outputs": [
    {
     "data": {
      "text/plain": [
       "order_id\n",
       "8272b63d03f5f79c56e9e4120aec44ef    21\n",
       "1b15974a0141d54e36626dca3fdc731a    20\n",
       "ab14fdcfbe524636d65ee38360e22ce8    20\n",
       "9ef13efd6949e4573a18964dd1bbe7f5    15\n",
       "428a2f660dc84138d969ccd69a0ab6d5    15\n",
       "                                    ..\n",
       "5a0911d70c1f85d3bed0df1bf693a6dd     1\n",
       "5a082b558a3798d3e36d93bfa8ca1eae     1\n",
       "5a07264682e0b8fbb3f166edbbffc6e8     1\n",
       "5a071192a28951b76774e5a760c8c9b7     1\n",
       "fffe41c64501cc87c801fd61db3f6244     1\n",
       "Length: 98666, dtype: int64"
      ]
     },
     "execution_count": 20,
     "metadata": {},
     "output_type": "execute_result"
    }
   ],
   "source": [
    "order_items.groupby('order_id').size().sort_values(ascending=False)"
   ]
  },
  {
   "cell_type": "markdown",
   "id": "8464347b",
   "metadata": {
    "papermill": {
     "duration": 0.078714,
     "end_time": "2022-05-25T12:57:07.593152",
     "exception": false,
     "start_time": "2022-05-25T12:57:07.514438",
     "status": "completed"
    },
    "tags": []
   },
   "source": [
    "Since we have more than 1 product per order, we need to sum the price and the shipping value and get the maximum value of the shipping_limit_date for analysis."
   ]
  },
  {
   "cell_type": "code",
   "execution_count": 21,
   "id": "21b582da",
   "metadata": {
    "execution": {
     "iopub.execute_input": "2022-05-25T12:57:07.747839Z",
     "iopub.status.busy": "2022-05-25T12:57:07.747469Z",
     "iopub.status.idle": "2022-05-25T12:57:16.061326Z",
     "shell.execute_reply": "2022-05-25T12:57:16.060365Z"
    },
    "papermill": {
     "duration": 8.39376,
     "end_time": "2022-05-25T12:57:16.063830",
     "exception": false,
     "start_time": "2022-05-25T12:57:07.670070",
     "status": "completed"
    },
    "tags": []
   },
   "outputs": [],
   "source": [
    "order_items_silver = order_items.groupby('order_id').agg({'price':sum,'freight_value':sum,'shipping_limit_date':max }).reset_index()"
   ]
  },
  {
   "cell_type": "markdown",
   "id": "e82ae7b8",
   "metadata": {
    "papermill": {
     "duration": 0.07576,
     "end_time": "2022-05-25T12:57:16.215841",
     "exception": false,
     "start_time": "2022-05-25T12:57:16.140081",
     "status": "completed"
    },
    "tags": []
   },
   "source": [
    "As you can see, we have some outliers. how come the shipping is over R\\\\$ 500 and which order costs over R\\\\$4000?"
   ]
  },
  {
   "cell_type": "code",
   "execution_count": 22,
   "id": "129f2007",
   "metadata": {
    "execution": {
     "iopub.execute_input": "2022-05-25T12:57:16.369807Z",
     "iopub.status.busy": "2022-05-25T12:57:16.369200Z",
     "iopub.status.idle": "2022-05-25T12:57:16.756862Z",
     "shell.execute_reply": "2022-05-25T12:57:16.756097Z"
    },
    "papermill": {
     "duration": 0.46709,
     "end_time": "2022-05-25T12:57:16.758818",
     "exception": false,
     "start_time": "2022-05-25T12:57:16.291728",
     "status": "completed"
    },
    "tags": []
   },
   "outputs": [
    {
     "data": {
      "text/plain": [
       "<AxesSubplot:xlabel='price', ylabel='freight_value'>"
      ]
     },
     "execution_count": 22,
     "metadata": {},
     "output_type": "execute_result"
    },
    {
     "data": {
      "image/png": "[encoded data removed]",
      "text/plain": [
       "<Figure size 432x288 with 1 Axes>"
      ]
     },
     "metadata": {
      "needs_background": "light"
     },
     "output_type": "display_data"
    }
   ],
   "source": [
    "sns.scatterplot(x='price',y='freight_value',data=order_items_silver)"
   ]
  },
  {
   "cell_type": "markdown",
   "id": "9ab021c4",
   "metadata": {
    "papermill": {
     "duration": 0.078547,
     "end_time": "2022-05-25T12:57:16.916614",
     "exception": false,
     "start_time": "2022-05-25T12:57:16.838067",
     "status": "completed"
    },
    "tags": []
   },
   "source": [
    "We decided to remove orders with a price over R$ 5000 and for the freight value we used logic as a value that is far away from [99% percentile](https://www.analyticsvidhya.com/blog/2021/05/feature-engineering-how-to-detect-and-remove-outliers-with-python-code/)."
   ]
  },
  {
   "cell_type": "code",
   "execution_count": 23,
   "id": "e6554ced",
   "metadata": {
    "execution": {
     "iopub.execute_input": "2022-05-25T12:57:17.074419Z",
     "iopub.status.busy": "2022-05-25T12:57:17.073657Z",
     "iopub.status.idle": "2022-05-25T12:57:17.106864Z",
     "shell.execute_reply": "2022-05-25T12:57:17.106321Z"
    },
    "papermill": {
     "duration": 0.114897,
     "end_time": "2022-05-25T12:57:17.109175",
     "exception": false,
     "start_time": "2022-05-25T12:57:16.994278",
     "status": "completed"
    },
    "tags": []
   },
   "outputs": [
    {
     "data": {
      "text/html": [
       "<div>\n",
       "<style scoped>\n",
       "    .dataframe tbody tr th:only-of-type {\n",
       "        vertical-align: middle;\n",
       "    }\n",
       "\n",
       "    .dataframe tbody tr th {\n",
       "        vertical-align: top;\n",
       "    }\n",
       "\n",
       "    .dataframe thead th {\n",
       "        text-align: right;\n",
       "    }\n",
       "</style>\n",
       "<table border=\"1\" class=\"dataframe\">\n",
       "  <thead>\n",
       "    <tr style=\"text-align: right;\">\n",
       "      <th></th>\n",
       "      <th>price</th>\n",
       "      <th>freight_value</th>\n",
       "    </tr>\n",
       "  </thead>\n",
       "  <tbody>\n",
       "    <tr>\n",
       "      <th>count</th>\n",
       "      <td>98666.000000</td>\n",
       "      <td>98666.000000</td>\n",
       "    </tr>\n",
       "    <tr>\n",
       "      <th>mean</th>\n",
       "      <td>137.754076</td>\n",
       "      <td>22.823562</td>\n",
       "    </tr>\n",
       "    <tr>\n",
       "      <th>std</th>\n",
       "      <td>210.645145</td>\n",
       "      <td>21.650909</td>\n",
       "    </tr>\n",
       "    <tr>\n",
       "      <th>min</th>\n",
       "      <td>0.850000</td>\n",
       "      <td>0.000000</td>\n",
       "    </tr>\n",
       "    <tr>\n",
       "      <th>25%</th>\n",
       "      <td>45.900000</td>\n",
       "      <td>13.850000</td>\n",
       "    </tr>\n",
       "    <tr>\n",
       "      <th>50%</th>\n",
       "      <td>86.900000</td>\n",
       "      <td>17.170000</td>\n",
       "    </tr>\n",
       "    <tr>\n",
       "      <th>75%</th>\n",
       "      <td>149.900000</td>\n",
       "      <td>24.040000</td>\n",
       "    </tr>\n",
       "    <tr>\n",
       "      <th>max</th>\n",
       "      <td>13440.000000</td>\n",
       "      <td>1794.960000</td>\n",
       "    </tr>\n",
       "  </tbody>\n",
       "</table>\n",
       "</div>"
      ],
      "text/plain": [
       "              price  freight_value\n",
       "count  98666.000000   98666.000000\n",
       "mean     137.754076      22.823562\n",
       "std      210.645145      21.650909\n",
       "min        0.850000       0.000000\n",
       "25%       45.900000      13.850000\n",
       "50%       86.900000      17.170000\n",
       "75%      149.900000      24.040000\n",
       "max    13440.000000    1794.960000"
      ]
     },
     "execution_count": 23,
     "metadata": {},
     "output_type": "execute_result"
    }
   ],
   "source": [
    "order_items_silver.describe()"
   ]
  },
  {
   "cell_type": "code",
   "execution_count": 24,
   "id": "6ac83939",
   "metadata": {
    "execution": {
     "iopub.execute_input": "2022-05-25T12:57:17.268349Z",
     "iopub.status.busy": "2022-05-25T12:57:17.267845Z",
     "iopub.status.idle": "2022-05-25T12:57:17.285379Z",
     "shell.execute_reply": "2022-05-25T12:57:17.284528Z"
    },
    "papermill": {
     "duration": 0.100579,
     "end_time": "2022-05-25T12:57:17.287660",
     "exception": false,
     "start_time": "2022-05-25T12:57:17.187081",
     "status": "completed"
    },
    "tags": []
   },
   "outputs": [],
   "source": [
    "percentil_freight_value = order_items_silver['freight_value'].quantile(0.99)\n",
    "order_items_silver = order_items_silver[(order_items_silver['price'] <= 5000) & (order_items_silver['freight_value'] <= percentil_freight_value)]"
   ]
  },
  {
   "cell_type": "markdown",
   "id": "1a567d1f",
   "metadata": {
    "papermill": {
     "duration": 0.079225,
     "end_time": "2022-05-25T12:57:17.445587",
     "exception": false,
     "start_time": "2022-05-25T12:57:17.366362",
     "status": "completed"
    },
    "tags": []
   },
   "source": [
    " As we can see, the average order price is R\\\\$ 132 and 50% of orders cost less than R\\\\$85. The average freight value is R\\\\$21.41 and 50% of the orders have a freight value of R\\\\$ 17."
   ]
  },
  {
   "cell_type": "code",
   "execution_count": 25,
   "id": "45c247d8",
   "metadata": {
    "execution": {
     "iopub.execute_input": "2022-05-25T12:57:17.605858Z",
     "iopub.status.busy": "2022-05-25T12:57:17.605535Z",
     "iopub.status.idle": "2022-05-25T12:57:17.632029Z",
     "shell.execute_reply": "2022-05-25T12:57:17.631335Z"
    },
    "papermill": {
     "duration": 0.109266,
     "end_time": "2022-05-25T12:57:17.633866",
     "exception": false,
     "start_time": "2022-05-25T12:57:17.524600",
     "status": "completed"
    },
    "tags": []
   },
   "outputs": [
    {
     "data": {
      "text/html": [
       "<div>\n",
       "<style scoped>\n",
       "    .dataframe tbody tr th:only-of-type {\n",
       "        vertical-align: middle;\n",
       "    }\n",
       "\n",
       "    .dataframe tbody tr th {\n",
       "        vertical-align: top;\n",
       "    }\n",
       "\n",
       "    .dataframe thead th {\n",
       "        text-align: right;\n",
       "    }\n",
       "</style>\n",
       "<table border=\"1\" class=\"dataframe\">\n",
       "  <thead>\n",
       "    <tr style=\"text-align: right;\">\n",
       "      <th></th>\n",
       "      <th>price</th>\n",
       "      <th>freight_value</th>\n",
       "    </tr>\n",
       "  </thead>\n",
       "  <tbody>\n",
       "    <tr>\n",
       "      <th>count</th>\n",
       "      <td>97679.000000</td>\n",
       "      <td>97679.000000</td>\n",
       "    </tr>\n",
       "    <tr>\n",
       "      <th>mean</th>\n",
       "      <td>132.046700</td>\n",
       "      <td>21.423227</td>\n",
       "    </tr>\n",
       "    <tr>\n",
       "      <th>std</th>\n",
       "      <td>185.015685</td>\n",
       "      <td>14.133667</td>\n",
       "    </tr>\n",
       "    <tr>\n",
       "      <th>min</th>\n",
       "      <td>0.850000</td>\n",
       "      <td>0.000000</td>\n",
       "    </tr>\n",
       "    <tr>\n",
       "      <th>25%</th>\n",
       "      <td>45.900000</td>\n",
       "      <td>13.790000</td>\n",
       "    </tr>\n",
       "    <tr>\n",
       "      <th>50%</th>\n",
       "      <td>85.000000</td>\n",
       "      <td>17.070000</td>\n",
       "    </tr>\n",
       "    <tr>\n",
       "      <th>75%</th>\n",
       "      <td>149.900000</td>\n",
       "      <td>23.700000</td>\n",
       "    </tr>\n",
       "    <tr>\n",
       "      <th>max</th>\n",
       "      <td>4690.000000</td>\n",
       "      <td>104.980000</td>\n",
       "    </tr>\n",
       "  </tbody>\n",
       "</table>\n",
       "</div>"
      ],
      "text/plain": [
       "              price  freight_value\n",
       "count  97679.000000   97679.000000\n",
       "mean     132.046700      21.423227\n",
       "std      185.015685      14.133667\n",
       "min        0.850000       0.000000\n",
       "25%       45.900000      13.790000\n",
       "50%       85.000000      17.070000\n",
       "75%      149.900000      23.700000\n",
       "max     4690.000000     104.980000"
      ]
     },
     "execution_count": 25,
     "metadata": {},
     "output_type": "execute_result"
    }
   ],
   "source": [
    "order_items_silver.describe()"
   ]
  },
  {
   "cell_type": "code",
   "execution_count": 26,
   "id": "187d9ab2",
   "metadata": {
    "execution": {
     "iopub.execute_input": "2022-05-25T12:57:17.797276Z",
     "iopub.status.busy": "2022-05-25T12:57:17.796807Z",
     "iopub.status.idle": "2022-05-25T12:57:17.812309Z",
     "shell.execute_reply": "2022-05-25T12:57:17.811699Z"
    },
    "papermill": {
     "duration": 0.099603,
     "end_time": "2022-05-25T12:57:17.814391",
     "exception": false,
     "start_time": "2022-05-25T12:57:17.714788",
     "status": "completed"
    },
    "tags": []
   },
   "outputs": [
    {
     "data": {
      "text/html": [
       "<div>\n",
       "<style scoped>\n",
       "    .dataframe tbody tr th:only-of-type {\n",
       "        vertical-align: middle;\n",
       "    }\n",
       "\n",
       "    .dataframe tbody tr th {\n",
       "        vertical-align: top;\n",
       "    }\n",
       "\n",
       "    .dataframe thead th {\n",
       "        text-align: right;\n",
       "    }\n",
       "</style>\n",
       "<table border=\"1\" class=\"dataframe\">\n",
       "  <thead>\n",
       "    <tr style=\"text-align: right;\">\n",
       "      <th></th>\n",
       "      <th>order_id</th>\n",
       "      <th>price</th>\n",
       "      <th>freight_value</th>\n",
       "      <th>shipping_limit_date</th>\n",
       "    </tr>\n",
       "  </thead>\n",
       "  <tbody>\n",
       "    <tr>\n",
       "      <th>0</th>\n",
       "      <td>00010242fe8c5a6d1ba2dd792cb16214</td>\n",
       "      <td>58.90</td>\n",
       "      <td>13.29</td>\n",
       "      <td>2017-09-19 09:45:35</td>\n",
       "    </tr>\n",
       "    <tr>\n",
       "      <th>1</th>\n",
       "      <td>00018f77f2f0320c557190d7a144bdd3</td>\n",
       "      <td>239.90</td>\n",
       "      <td>19.93</td>\n",
       "      <td>2017-05-03 11:05:13</td>\n",
       "    </tr>\n",
       "    <tr>\n",
       "      <th>2</th>\n",
       "      <td>000229ec398224ef6ca0657da4fc703e</td>\n",
       "      <td>199.00</td>\n",
       "      <td>17.87</td>\n",
       "      <td>2018-01-18 14:48:30</td>\n",
       "    </tr>\n",
       "    <tr>\n",
       "      <th>3</th>\n",
       "      <td>00024acbcdf0a6daa1e931b038114c75</td>\n",
       "      <td>12.99</td>\n",
       "      <td>12.79</td>\n",
       "      <td>2018-08-15 10:10:18</td>\n",
       "    </tr>\n",
       "    <tr>\n",
       "      <th>4</th>\n",
       "      <td>00042b26cf59d7ce69dfabb4e55b4fd9</td>\n",
       "      <td>199.90</td>\n",
       "      <td>18.14</td>\n",
       "      <td>2017-02-13 13:57:51</td>\n",
       "    </tr>\n",
       "    <tr>\n",
       "      <th>...</th>\n",
       "      <td>...</td>\n",
       "      <td>...</td>\n",
       "      <td>...</td>\n",
       "      <td>...</td>\n",
       "    </tr>\n",
       "    <tr>\n",
       "      <th>98661</th>\n",
       "      <td>fffc94f6ce00a00581880bf54a75a037</td>\n",
       "      <td>299.99</td>\n",
       "      <td>43.41</td>\n",
       "      <td>2018-05-02 04:11:01</td>\n",
       "    </tr>\n",
       "    <tr>\n",
       "      <th>98662</th>\n",
       "      <td>fffcd46ef2263f404302a634eb57f7eb</td>\n",
       "      <td>350.00</td>\n",
       "      <td>36.53</td>\n",
       "      <td>2018-07-20 04:31:48</td>\n",
       "    </tr>\n",
       "    <tr>\n",
       "      <th>98663</th>\n",
       "      <td>fffce4705a9662cd70adb13d4a31832d</td>\n",
       "      <td>99.90</td>\n",
       "      <td>16.95</td>\n",
       "      <td>2017-10-30 17:14:25</td>\n",
       "    </tr>\n",
       "    <tr>\n",
       "      <th>98664</th>\n",
       "      <td>fffe18544ffabc95dfada21779c9644f</td>\n",
       "      <td>55.99</td>\n",
       "      <td>8.72</td>\n",
       "      <td>2017-08-21 00:04:32</td>\n",
       "    </tr>\n",
       "    <tr>\n",
       "      <th>98665</th>\n",
       "      <td>fffe41c64501cc87c801fd61db3f6244</td>\n",
       "      <td>43.00</td>\n",
       "      <td>12.79</td>\n",
       "      <td>2018-06-12 17:10:13</td>\n",
       "    </tr>\n",
       "  </tbody>\n",
       "</table>\n",
       "<p>97679 rows × 4 columns</p>\n",
       "</div>"
      ],
      "text/plain": [
       "                               order_id   price  freight_value  \\\n",
       "0      00010242fe8c5a6d1ba2dd792cb16214   58.90          13.29   \n",
       "1      00018f77f2f0320c557190d7a144bdd3  239.90          19.93   \n",
       "2      000229ec398224ef6ca0657da4fc703e  199.00          17.87   \n",
       "3      00024acbcdf0a6daa1e931b038114c75   12.99          12.79   \n",
       "4      00042b26cf59d7ce69dfabb4e55b4fd9  199.90          18.14   \n",
       "...                                 ...     ...            ...   \n",
       "98661  fffc94f6ce00a00581880bf54a75a037  299.99          43.41   \n",
       "98662  fffcd46ef2263f404302a634eb57f7eb  350.00          36.53   \n",
       "98663  fffce4705a9662cd70adb13d4a31832d   99.90          16.95   \n",
       "98664  fffe18544ffabc95dfada21779c9644f   55.99           8.72   \n",
       "98665  fffe41c64501cc87c801fd61db3f6244   43.00          12.79   \n",
       "\n",
       "       shipping_limit_date  \n",
       "0      2017-09-19 09:45:35  \n",
       "1      2017-05-03 11:05:13  \n",
       "2      2018-01-18 14:48:30  \n",
       "3      2018-08-15 10:10:18  \n",
       "4      2017-02-13 13:57:51  \n",
       "...                    ...  \n",
       "98661  2018-05-02 04:11:01  \n",
       "98662  2018-07-20 04:31:48  \n",
       "98663  2017-10-30 17:14:25  \n",
       "98664  2017-08-21 00:04:32  \n",
       "98665  2018-06-12 17:10:13  \n",
       "\n",
       "[97679 rows x 4 columns]"
      ]
     },
     "execution_count": 26,
     "metadata": {},
     "output_type": "execute_result"
    }
   ],
   "source": [
    "order_items_silver"
   ]
  },
  {
   "cell_type": "code",
   "execution_count": 27,
   "id": "5fe966d9",
   "metadata": {
    "execution": {
     "iopub.execute_input": "2022-05-25T12:57:17.977938Z",
     "iopub.status.busy": "2022-05-25T12:57:17.977311Z",
     "iopub.status.idle": "2022-05-25T12:57:18.087666Z",
     "shell.execute_reply": "2022-05-25T12:57:18.086688Z"
    },
    "papermill": {
     "duration": 0.194285,
     "end_time": "2022-05-25T12:57:18.090658",
     "exception": false,
     "start_time": "2022-05-25T12:57:17.896373",
     "status": "completed"
    },
    "tags": []
   },
   "outputs": [
    {
     "name": "stdout",
     "output_type": "stream",
     "text": [
      "<class 'pandas.core.frame.DataFrame'>\n",
      "RangeIndex: 99441 entries, 0 to 99440\n",
      "Data columns (total 8 columns):\n",
      " #   Column                         Non-Null Count  Dtype \n",
      "---  ------                         --------------  ----- \n",
      " 0   order_id                       99441 non-null  object\n",
      " 1   customer_id                    99441 non-null  object\n",
      " 2   order_status                   99441 non-null  object\n",
      " 3   order_purchase_timestamp       99441 non-null  object\n",
      " 4   order_approved_at              99281 non-null  object\n",
      " 5   order_delivered_carrier_date   97658 non-null  object\n",
      " 6   order_delivered_customer_date  96476 non-null  object\n",
      " 7   order_estimated_delivery_date  99441 non-null  object\n",
      "dtypes: object(8)\n",
      "memory usage: 6.1+ MB\n"
     ]
    }
   ],
   "source": [
    "orders.info()"
   ]
  },
  {
   "cell_type": "code",
   "execution_count": 28,
   "id": "60c6e395",
   "metadata": {
    "execution": {
     "iopub.execute_input": "2022-05-25T12:57:18.252468Z",
     "iopub.status.busy": "2022-05-25T12:57:18.251891Z",
     "iopub.status.idle": "2022-05-25T12:57:18.491724Z",
     "shell.execute_reply": "2022-05-25T12:57:18.490764Z"
    },
    "papermill": {
     "duration": 0.323508,
     "end_time": "2022-05-25T12:57:18.494233",
     "exception": false,
     "start_time": "2022-05-25T12:57:18.170725",
     "status": "completed"
    },
    "tags": []
   },
   "outputs": [],
   "source": [
    "columns_timestamp = ['order_purchase_timestamp','order_approved_at',\n",
    "                     'order_delivered_carrier_date', 'order_delivered_customer_date', 'order_estimated_delivery_date']\n",
    "for column in columns_timestamp:\n",
    "    orders[column] = pd.to_datetime(orders[column])"
   ]
  },
  {
   "cell_type": "code",
   "execution_count": 29,
   "id": "d02619e1",
   "metadata": {
    "execution": {
     "iopub.execute_input": "2022-05-25T12:57:18.655772Z",
     "iopub.status.busy": "2022-05-25T12:57:18.655160Z",
     "iopub.status.idle": "2022-05-25T12:57:18.665158Z",
     "shell.execute_reply": "2022-05-25T12:57:18.664495Z"
    },
    "papermill": {
     "duration": 0.092998,
     "end_time": "2022-05-25T12:57:18.667360",
     "exception": false,
     "start_time": "2022-05-25T12:57:18.574362",
     "status": "completed"
    },
    "tags": []
   },
   "outputs": [],
   "source": [
    "orders['diff_delivery_days'] = (orders['order_estimated_delivery_date'] - orders['order_delivered_customer_date']).dt.days"
   ]
  },
  {
   "cell_type": "markdown",
   "id": "61deb984",
   "metadata": {
    "papermill": {
     "duration": 0.078387,
     "end_time": "2022-05-25T12:57:18.826489",
     "exception": false,
     "start_time": "2022-05-25T12:57:18.748102",
     "status": "completed"
    },
    "tags": []
   },
   "source": [
    "Only 7,87% is above of estimated delivery"
   ]
  },
  {
   "cell_type": "code",
   "execution_count": 30,
   "id": "3cabb04a",
   "metadata": {
    "execution": {
     "iopub.execute_input": "2022-05-25T12:57:18.989191Z",
     "iopub.status.busy": "2022-05-25T12:57:18.988619Z",
     "iopub.status.idle": "2022-05-25T12:57:19.003850Z",
     "shell.execute_reply": "2022-05-25T12:57:19.002012Z"
    },
    "papermill": {
     "duration": 0.099624,
     "end_time": "2022-05-25T12:57:19.007408",
     "exception": false,
     "start_time": "2022-05-25T12:57:18.907784",
     "status": "completed"
    },
    "tags": []
   },
   "outputs": [
    {
     "data": {
      "text/plain": [
       "diff_delivery_days\n",
       "False    91614\n",
       "True      7827\n",
       "dtype: int64"
      ]
     },
     "execution_count": 30,
     "metadata": {},
     "output_type": "execute_result"
    }
   ],
   "source": [
    "orders.groupby(orders['diff_delivery_days'] < 0).size()"
   ]
  },
  {
   "cell_type": "markdown",
   "id": "2567fdba",
   "metadata": {
    "papermill": {
     "duration": 0.084713,
     "end_time": "2022-05-25T12:57:19.174503",
     "exception": false,
     "start_time": "2022-05-25T12:57:19.089790",
     "status": "completed"
    },
    "tags": []
   },
   "source": [
    "As we can see, the average difference between the estimated delivery and the actual delivery is 10 days, which is a bit high. Another fact is that an order was delivery 6 month later and other order was a high estimated date."
   ]
  },
  {
   "cell_type": "code",
   "execution_count": 31,
   "id": "17b6ab56",
   "metadata": {
    "execution": {
     "iopub.execute_input": "2022-05-25T12:57:19.343173Z",
     "iopub.status.busy": "2022-05-25T12:57:19.342140Z",
     "iopub.status.idle": "2022-05-25T12:57:21.479157Z",
     "shell.execute_reply": "2022-05-25T12:57:21.478041Z"
    },
    "papermill": {
     "duration": 2.224488,
     "end_time": "2022-05-25T12:57:21.482101",
     "exception": false,
     "start_time": "2022-05-25T12:57:19.257613",
     "status": "completed"
    },
    "tags": []
   },
   "outputs": [
    {
     "name": "stdout",
     "output_type": "stream",
     "text": [
      "count    96476.000000\n",
      "mean        10.876881\n",
      "std         10.183854\n",
      "min       -189.000000\n",
      "25%          6.000000\n",
      "50%         11.000000\n",
      "75%         16.000000\n",
      "max        146.000000\n",
      "Name: diff_delivery_days, dtype: float64\n"
     ]
    },
    {
     "data": {
      "text/plain": [
       "<AxesSubplot:xlabel='diff_delivery_days', ylabel='Count'>"
      ]
     },
     "execution_count": 31,
     "metadata": {},
     "output_type": "execute_result"
    },
    {
     "data": {
      "image/png": "[encoded data removed]",
      "text/plain": [
       "<Figure size 432x288 with 1 Axes>"
      ]
     },
     "metadata": {
      "needs_background": "light"
     },
     "output_type": "display_data"
    }
   ],
   "source": [
    "print(orders['diff_delivery_days'].describe())\n",
    "sns.histplot(x='diff_delivery_days', data=orders, kde=True)"
   ]
  },
  {
   "cell_type": "markdown",
   "id": "a3b87e50",
   "metadata": {
    "papermill": {
     "duration": 0.081537,
     "end_time": "2022-05-25T12:57:21.647100",
     "exception": false,
     "start_time": "2022-05-25T12:57:21.565563",
     "status": "completed"
    },
    "tags": []
   },
   "source": [
    "We will remove the max and min value of difference."
   ]
  },
  {
   "cell_type": "code",
   "execution_count": 32,
   "id": "0c8d733c",
   "metadata": {
    "execution": {
     "iopub.execute_input": "2022-05-25T12:57:21.814513Z",
     "iopub.status.busy": "2022-05-25T12:57:21.814152Z",
     "iopub.status.idle": "2022-05-25T12:57:21.880123Z",
     "shell.execute_reply": "2022-05-25T12:57:21.879158Z"
    },
    "papermill": {
     "duration": 0.152603,
     "end_time": "2022-05-25T12:57:21.882388",
     "exception": false,
     "start_time": "2022-05-25T12:57:21.729785",
     "status": "completed"
    },
    "tags": []
   },
   "outputs": [
    {
     "data": {
      "text/html": [
       "<div>\n",
       "<style scoped>\n",
       "    .dataframe tbody tr th:only-of-type {\n",
       "        vertical-align: middle;\n",
       "    }\n",
       "\n",
       "    .dataframe tbody tr th {\n",
       "        vertical-align: top;\n",
       "    }\n",
       "\n",
       "    .dataframe thead th {\n",
       "        text-align: right;\n",
       "    }\n",
       "</style>\n",
       "<table border=\"1\" class=\"dataframe\">\n",
       "  <thead>\n",
       "    <tr style=\"text-align: right;\">\n",
       "      <th></th>\n",
       "      <th>order_id</th>\n",
       "      <th>customer_id</th>\n",
       "      <th>order_status</th>\n",
       "      <th>order_purchase_timestamp</th>\n",
       "      <th>order_approved_at</th>\n",
       "      <th>order_delivered_carrier_date</th>\n",
       "      <th>order_delivered_customer_date</th>\n",
       "      <th>order_estimated_delivery_date</th>\n",
       "      <th>diff_delivery_days</th>\n",
       "    </tr>\n",
       "  </thead>\n",
       "  <tbody>\n",
       "    <tr>\n",
       "      <th>0</th>\n",
       "      <td>e481f51cbdc54678b7cc49136f2d6af7</td>\n",
       "      <td>9ef432eb6251297304e76186b10a928d</td>\n",
       "      <td>delivered</td>\n",
       "      <td>2017-10-02 10:56:33</td>\n",
       "      <td>2017-10-02 11:07:15</td>\n",
       "      <td>2017-10-04 19:55:00</td>\n",
       "      <td>2017-10-10 21:25:13</td>\n",
       "      <td>2017-10-18</td>\n",
       "      <td>7.0</td>\n",
       "    </tr>\n",
       "    <tr>\n",
       "      <th>1</th>\n",
       "      <td>53cdb2fc8bc7dce0b6741e2150273451</td>\n",
       "      <td>b0830fb4747a6c6d20dea0b8c802d7ef</td>\n",
       "      <td>delivered</td>\n",
       "      <td>2018-07-24 20:41:37</td>\n",
       "      <td>2018-07-26 03:24:27</td>\n",
       "      <td>2018-07-26 14:31:00</td>\n",
       "      <td>2018-08-07 15:27:45</td>\n",
       "      <td>2018-08-13</td>\n",
       "      <td>5.0</td>\n",
       "    </tr>\n",
       "    <tr>\n",
       "      <th>2</th>\n",
       "      <td>47770eb9100c2d0c44946d9cf07ec65d</td>\n",
       "      <td>41ce2a54c0b03bf3443c3d931a367089</td>\n",
       "      <td>delivered</td>\n",
       "      <td>2018-08-08 08:38:49</td>\n",
       "      <td>2018-08-08 08:55:23</td>\n",
       "      <td>2018-08-08 13:50:00</td>\n",
       "      <td>2018-08-17 18:06:29</td>\n",
       "      <td>2018-09-04</td>\n",
       "      <td>17.0</td>\n",
       "    </tr>\n",
       "    <tr>\n",
       "      <th>3</th>\n",
       "      <td>949d5b44dbf5de918fe9c16f97b45f8a</td>\n",
       "      <td>f88197465ea7920adcdbec7375364d82</td>\n",
       "      <td>delivered</td>\n",
       "      <td>2017-11-18 19:28:06</td>\n",
       "      <td>2017-11-18 19:45:59</td>\n",
       "      <td>2017-11-22 13:39:59</td>\n",
       "      <td>2017-12-02 00:28:42</td>\n",
       "      <td>2017-12-15</td>\n",
       "      <td>12.0</td>\n",
       "    </tr>\n",
       "    <tr>\n",
       "      <th>4</th>\n",
       "      <td>ad21c59c0840e6cb83a9ceb5573f8159</td>\n",
       "      <td>8ab97904e6daea8866dbdbc4fb7aad2c</td>\n",
       "      <td>delivered</td>\n",
       "      <td>2018-02-13 21:18:39</td>\n",
       "      <td>2018-02-13 22:20:29</td>\n",
       "      <td>2018-02-14 19:46:34</td>\n",
       "      <td>2018-02-16 18:17:02</td>\n",
       "      <td>2018-02-26</td>\n",
       "      <td>9.0</td>\n",
       "    </tr>\n",
       "    <tr>\n",
       "      <th>...</th>\n",
       "      <td>...</td>\n",
       "      <td>...</td>\n",
       "      <td>...</td>\n",
       "      <td>...</td>\n",
       "      <td>...</td>\n",
       "      <td>...</td>\n",
       "      <td>...</td>\n",
       "      <td>...</td>\n",
       "      <td>...</td>\n",
       "    </tr>\n",
       "    <tr>\n",
       "      <th>99436</th>\n",
       "      <td>9c5dedf39a927c1b2549525ed64a053c</td>\n",
       "      <td>39bd1228ee8140590ac3aca26f2dfe00</td>\n",
       "      <td>delivered</td>\n",
       "      <td>2017-03-09 09:54:05</td>\n",
       "      <td>2017-03-09 09:54:05</td>\n",
       "      <td>2017-03-10 11:18:03</td>\n",
       "      <td>2017-03-17 15:08:01</td>\n",
       "      <td>2017-03-28</td>\n",
       "      <td>10.0</td>\n",
       "    </tr>\n",
       "    <tr>\n",
       "      <th>99437</th>\n",
       "      <td>63943bddc261676b46f01ca7ac2f7bd8</td>\n",
       "      <td>1fca14ff2861355f6e5f14306ff977a7</td>\n",
       "      <td>delivered</td>\n",
       "      <td>2018-02-06 12:58:58</td>\n",
       "      <td>2018-02-06 13:10:37</td>\n",
       "      <td>2018-02-07 23:22:42</td>\n",
       "      <td>2018-02-28 17:37:56</td>\n",
       "      <td>2018-03-02</td>\n",
       "      <td>1.0</td>\n",
       "    </tr>\n",
       "    <tr>\n",
       "      <th>99438</th>\n",
       "      <td>83c1379a015df1e13d02aae0204711ab</td>\n",
       "      <td>1aa71eb042121263aafbe80c1b562c9c</td>\n",
       "      <td>delivered</td>\n",
       "      <td>2017-08-27 14:46:43</td>\n",
       "      <td>2017-08-27 15:04:16</td>\n",
       "      <td>2017-08-28 20:52:26</td>\n",
       "      <td>2017-09-21 11:24:17</td>\n",
       "      <td>2017-09-27</td>\n",
       "      <td>5.0</td>\n",
       "    </tr>\n",
       "    <tr>\n",
       "      <th>99439</th>\n",
       "      <td>11c177c8e97725db2631073c19f07b62</td>\n",
       "      <td>b331b74b18dc79bcdf6532d51e1637c1</td>\n",
       "      <td>delivered</td>\n",
       "      <td>2018-01-08 21:28:27</td>\n",
       "      <td>2018-01-08 21:36:21</td>\n",
       "      <td>2018-01-12 15:35:03</td>\n",
       "      <td>2018-01-25 23:32:54</td>\n",
       "      <td>2018-02-15</td>\n",
       "      <td>20.0</td>\n",
       "    </tr>\n",
       "    <tr>\n",
       "      <th>99440</th>\n",
       "      <td>66dea50a8b16d9b4dee7af250b4be1a5</td>\n",
       "      <td>edb027a75a1449115f6b43211ae02a24</td>\n",
       "      <td>delivered</td>\n",
       "      <td>2018-03-08 20:57:30</td>\n",
       "      <td>2018-03-09 11:20:28</td>\n",
       "      <td>2018-03-09 22:11:59</td>\n",
       "      <td>2018-03-16 13:08:30</td>\n",
       "      <td>2018-04-03</td>\n",
       "      <td>17.0</td>\n",
       "    </tr>\n",
       "  </tbody>\n",
       "</table>\n",
       "<p>96474 rows × 9 columns</p>\n",
       "</div>"
      ],
      "text/plain": [
       "                               order_id                       customer_id  \\\n",
       "0      e481f51cbdc54678b7cc49136f2d6af7  9ef432eb6251297304e76186b10a928d   \n",
       "1      53cdb2fc8bc7dce0b6741e2150273451  b0830fb4747a6c6d20dea0b8c802d7ef   \n",
       "2      47770eb9100c2d0c44946d9cf07ec65d  41ce2a54c0b03bf3443c3d931a367089   \n",
       "3      949d5b44dbf5de918fe9c16f97b45f8a  f88197465ea7920adcdbec7375364d82   \n",
       "4      ad21c59c0840e6cb83a9ceb5573f8159  8ab97904e6daea8866dbdbc4fb7aad2c   \n",
       "...                                 ...                               ...   \n",
       "99436  9c5dedf39a927c1b2549525ed64a053c  39bd1228ee8140590ac3aca26f2dfe00   \n",
       "99437  63943bddc261676b46f01ca7ac2f7bd8  1fca14ff2861355f6e5f14306ff977a7   \n",
       "99438  83c1379a015df1e13d02aae0204711ab  1aa71eb042121263aafbe80c1b562c9c   \n",
       "99439  11c177c8e97725db2631073c19f07b62  b331b74b18dc79bcdf6532d51e1637c1   \n",
       "99440  66dea50a8b16d9b4dee7af250b4be1a5  edb027a75a1449115f6b43211ae02a24   \n",
       "\n",
       "      order_status order_purchase_timestamp   order_approved_at  \\\n",
       "0        delivered      2017-10-02 10:56:33 2017-10-02 11:07:15   \n",
       "1        delivered      2018-07-24 20:41:37 2018-07-26 03:24:27   \n",
       "2        delivered      2018-08-08 08:38:49 2018-08-08 08:55:23   \n",
       "3        delivered      2017-11-18 19:28:06 2017-11-18 19:45:59   \n",
       "4        delivered      2018-02-13 21:18:39 2018-02-13 22:20:29   \n",
       "...            ...                      ...                 ...   \n",
       "99436    delivered      2017-03-09 09:54:05 2017-03-09 09:54:05   \n",
       "99437    delivered      2018-02-06 12:58:58 2018-02-06 13:10:37   \n",
       "99438    delivered      2017-08-27 14:46:43 2017-08-27 15:04:16   \n",
       "99439    delivered      2018-01-08 21:28:27 2018-01-08 21:36:21   \n",
       "99440    delivered      2018-03-08 20:57:30 2018-03-09 11:20:28   \n",
       "\n",
       "      order_delivered_carrier_date order_delivered_customer_date  \\\n",
       "0              2017-10-04 19:55:00           2017-10-10 21:25:13   \n",
       "1              2018-07-26 14:31:00           2018-08-07 15:27:45   \n",
       "2              2018-08-08 13:50:00           2018-08-17 18:06:29   \n",
       "3              2017-11-22 13:39:59           2017-12-02 00:28:42   \n",
       "4              2018-02-14 19:46:34           2018-02-16 18:17:02   \n",
       "...                            ...                           ...   \n",
       "99436          2017-03-10 11:18:03           2017-03-17 15:08:01   \n",
       "99437          2018-02-07 23:22:42           2018-02-28 17:37:56   \n",
       "99438          2017-08-28 20:52:26           2017-09-21 11:24:17   \n",
       "99439          2018-01-12 15:35:03           2018-01-25 23:32:54   \n",
       "99440          2018-03-09 22:11:59           2018-03-16 13:08:30   \n",
       "\n",
       "      order_estimated_delivery_date  diff_delivery_days  \n",
       "0                        2017-10-18                 7.0  \n",
       "1                        2018-08-13                 5.0  \n",
       "2                        2018-09-04                17.0  \n",
       "3                        2017-12-15                12.0  \n",
       "4                        2018-02-26                 9.0  \n",
       "...                             ...                 ...  \n",
       "99436                    2017-03-28                10.0  \n",
       "99437                    2018-03-02                 1.0  \n",
       "99438                    2017-09-27                 5.0  \n",
       "99439                    2018-02-15                20.0  \n",
       "99440                    2018-04-03                17.0  \n",
       "\n",
       "[96474 rows x 9 columns]"
      ]
     },
     "execution_count": 32,
     "metadata": {},
     "output_type": "execute_result"
    }
   ],
   "source": [
    "orders[(orders['diff_delivery_days'] > min(orders['diff_delivery_days'])) & (orders['diff_delivery_days'] < max(orders['diff_delivery_days'])) ]"
   ]
  },
  {
   "cell_type": "code",
   "execution_count": 33,
   "id": "4b0ef384",
   "metadata": {
    "execution": {
     "iopub.execute_input": "2022-05-25T12:57:22.054697Z",
     "iopub.status.busy": "2022-05-25T12:57:22.054312Z",
     "iopub.status.idle": "2022-05-25T12:57:22.206428Z",
     "shell.execute_reply": "2022-05-25T12:57:22.205538Z"
    },
    "papermill": {
     "duration": 0.241318,
     "end_time": "2022-05-25T12:57:22.208898",
     "exception": false,
     "start_time": "2022-05-25T12:57:21.967580",
     "status": "completed"
    },
    "tags": []
   },
   "outputs": [],
   "source": [
    "orders_silver = orders.merge(order_items_silver,on='order_id',how='inner')"
   ]
  },
  {
   "cell_type": "code",
   "execution_count": 34,
   "id": "58ab8259",
   "metadata": {
    "execution": {
     "iopub.execute_input": "2022-05-25T12:57:22.376512Z",
     "iopub.status.busy": "2022-05-25T12:57:22.376165Z",
     "iopub.status.idle": "2022-05-25T12:57:22.384722Z",
     "shell.execute_reply": "2022-05-25T12:57:22.383353Z"
    },
    "papermill": {
     "duration": 0.094817,
     "end_time": "2022-05-25T12:57:22.386891",
     "exception": false,
     "start_time": "2022-05-25T12:57:22.292074",
     "status": "completed"
    },
    "tags": []
   },
   "outputs": [],
   "source": [
    "def plot_ts_decompose(decompose,figsize=(12,8)):\n",
    "    fig, ax = plt.subplots(4,1,figsize=figsize)\n",
    "    sns.lineplot(data=decompose.observed,x=decompose.observed.index,y=decompose.observed,ax=ax[0])\n",
    "    sns.lineplot(data=decompose.trend,x=decompose.trend.index,y=decompose.trend,ax=ax[1])\n",
    "    sns.lineplot(data=decompose.seasonal,x=decompose.seasonal.index,y=decompose.seasonal,ax=ax[2])\n",
    "    sns.lineplot(data=decompose.resid,x=decompose.resid.index,y=decompose.resid,ax=ax[3])\n",
    "    plt.tight_layout()"
   ]
  },
  {
   "cell_type": "markdown",
   "id": "734e330c",
   "metadata": {
    "papermill": {
     "duration": 0.081972,
     "end_time": "2022-05-25T12:57:22.550777",
     "exception": false,
     "start_time": "2022-05-25T12:57:22.468805",
     "status": "completed"
    },
    "tags": []
   },
   "source": [
    "As we can see, there is a seasonality in the series in which in the months of December there is a drop in the purchase of products and in the months of January, March, and May there is an increase. Other fact the series is a trend to incresing."
   ]
  },
  {
   "cell_type": "code",
   "execution_count": 35,
   "id": "da471c1e",
   "metadata": {
    "execution": {
     "iopub.execute_input": "2022-05-25T12:57:22.717224Z",
     "iopub.status.busy": "2022-05-25T12:57:22.716880Z",
     "iopub.status.idle": "2022-05-25T12:57:23.612382Z",
     "shell.execute_reply": "2022-05-25T12:57:23.611320Z"
    },
    "papermill": {
     "duration": 0.981824,
     "end_time": "2022-05-25T12:57:23.614968",
     "exception": false,
     "start_time": "2022-05-25T12:57:22.633144",
     "status": "completed"
    },
    "tags": []
   },
   "outputs": [
    {
     "data": {
      "image/png": "[encoded data removed]",
      "text/plain": [
       "<Figure size 864x576 with 4 Axes>"
      ]
     },
     "metadata": {
      "needs_background": "light"
     },
     "output_type": "display_data"
    }
   ],
   "source": [
    "orders_silver['month_year_purchase'] = orders_silver['order_purchase_timestamp'].dt.to_period('M')\n",
    "order_purchase_timestamp = orders_silver.groupby('month_year_purchase').size()\n",
    "order_purchase_timestamp.index = order_purchase_timestamp.index.astype('datetime64[ns]')\n",
    "\n",
    "decompose = seasonal_decompose(order_purchase_timestamp,model='additive',period=12, extrapolate_trend=12)\n",
    "plot_ts_decompose(decompose)"
   ]
  },
  {
   "cell_type": "code",
   "execution_count": 36,
   "id": "08205e17",
   "metadata": {
    "execution": {
     "iopub.execute_input": "2022-05-25T12:57:23.786466Z",
     "iopub.status.busy": "2022-05-25T12:57:23.786165Z",
     "iopub.status.idle": "2022-05-25T12:57:24.072396Z",
     "shell.execute_reply": "2022-05-25T12:57:24.071553Z"
    },
    "papermill": {
     "duration": 0.374325,
     "end_time": "2022-05-25T12:57:24.074769",
     "exception": false,
     "start_time": "2022-05-25T12:57:23.700444",
     "status": "completed"
    },
    "tags": []
   },
   "outputs": [],
   "source": [
    "orders_customers = customers.merge(orders_silver, on='customer_id', how='inner')"
   ]
  },
  {
   "cell_type": "code",
   "execution_count": 37,
   "id": "5f7b0836",
   "metadata": {
    "execution": {
     "iopub.execute_input": "2022-05-25T12:57:24.273891Z",
     "iopub.status.busy": "2022-05-25T12:57:24.273283Z",
     "iopub.status.idle": "2022-05-25T12:57:24.574176Z",
     "shell.execute_reply": "2022-05-25T12:57:24.573345Z"
    },
    "papermill": {
     "duration": 0.409272,
     "end_time": "2022-05-25T12:57:24.576558",
     "exception": false,
     "start_time": "2022-05-25T12:57:24.167286",
     "status": "completed"
    },
    "tags": []
   },
   "outputs": [],
   "source": [
    "max_date = max(orders_customers['order_purchase_timestamp']) + datetime.timedelta(days=1)"
   ]
  },
  {
   "cell_type": "code",
   "execution_count": 38,
   "id": "85f675ba",
   "metadata": {
    "execution": {
     "iopub.execute_input": "2022-05-25T12:57:24.748366Z",
     "iopub.status.busy": "2022-05-25T12:57:24.748066Z",
     "iopub.status.idle": "2022-05-25T12:57:35.094827Z",
     "shell.execute_reply": "2022-05-25T12:57:35.093847Z"
    },
    "papermill": {
     "duration": 10.436299,
     "end_time": "2022-05-25T12:57:35.097939",
     "exception": false,
     "start_time": "2022-05-25T12:57:24.661640",
     "status": "completed"
    },
    "tags": []
   },
   "outputs": [],
   "source": [
    "rfm_data = orders_customers.groupby('customer_unique_id').agg({\n",
    "    'order_purchase_timestamp': lambda x: (max_date - x.max()).days,\n",
    "    'customer_id':'count',\n",
    "    'price':'sum'\n",
    "}).reset_index()\n",
    "rfm_data.columns =['customer_id','recency','frequency','monetary']"
   ]
  },
  {
   "cell_type": "markdown",
   "id": "dade1577",
   "metadata": {
    "papermill": {
     "duration": 0.102979,
     "end_time": "2022-05-25T12:57:35.302624",
     "exception": false,
     "start_time": "2022-05-25T12:57:35.199645",
     "status": "completed"
    },
    "tags": []
   },
   "source": [
    "Note that the frequency of customers is the big problem for the classification, because only 3% of customers made more than one purchase but is something that's very common in ecommerce."
   ]
  },
  {
   "cell_type": "code",
   "execution_count": 39,
   "id": "2a011a20",
   "metadata": {
    "execution": {
     "iopub.execute_input": "2022-05-25T12:57:35.475868Z",
     "iopub.status.busy": "2022-05-25T12:57:35.475598Z",
     "iopub.status.idle": "2022-05-25T12:57:36.087037Z",
     "shell.execute_reply": "2022-05-25T12:57:36.086207Z"
    },
    "papermill": {
     "duration": 0.70026,
     "end_time": "2022-05-25T12:57:36.089362",
     "exception": false,
     "start_time": "2022-05-25T12:57:35.389102",
     "status": "completed"
    },
    "tags": []
   },
   "outputs": [
    {
     "name": "stdout",
     "output_type": "stream",
     "text": [
      "0.03034247735162137\n",
      "count    94488.000000\n",
      "mean         1.033771\n",
      "std          0.210110\n",
      "min          1.000000\n",
      "25%          1.000000\n",
      "50%          1.000000\n",
      "75%          1.000000\n",
      "max         16.000000\n",
      "Name: frequency, dtype: float64\n"
     ]
    },
    {
     "data": {
      "text/plain": [
       "<AxesSubplot:xlabel='frequency', ylabel='Count'>"
      ]
     },
     "execution_count": 39,
     "metadata": {},
     "output_type": "execute_result"
    },
    {
     "data": {
      "image/png": "[encoded data removed]",
      "text/plain": [
       "<Figure size 432x288 with 1 Axes>"
      ]
     },
     "metadata": {
      "needs_background": "light"
     },
     "output_type": "display_data"
    }
   ],
   "source": [
    "print(rfm_data[rfm_data['frequency']>1].shape[0] / rfm_data.shape[0])\n",
    "print(rfm_data['frequency'].describe())\n",
    "sns.histplot(x='frequency', data=rfm_data, kde=True)"
   ]
  },
  {
   "cell_type": "markdown",
   "id": "6fc4edde",
   "metadata": {
    "papermill": {
     "duration": 0.086305,
     "end_time": "2022-05-25T12:57:36.262100",
     "exception": false,
     "start_time": "2022-05-25T12:57:36.175795",
     "status": "completed"
    },
    "tags": []
   },
   "source": [
    "An average monetary customer is R\\\\$136 and 75% of the customers spend less than R\\\\$150 and the maximum was R\\\\$4690."
   ]
  },
  {
   "cell_type": "code",
   "execution_count": 40,
   "id": "a7776235",
   "metadata": {
    "execution": {
     "iopub.execute_input": "2022-05-25T12:57:36.436285Z",
     "iopub.status.busy": "2022-05-25T12:57:36.436031Z",
     "iopub.status.idle": "2022-05-25T12:57:38.906751Z",
     "shell.execute_reply": "2022-05-25T12:57:38.905661Z"
    },
    "papermill": {
     "duration": 2.560479,
     "end_time": "2022-05-25T12:57:38.908972",
     "exception": false,
     "start_time": "2022-05-25T12:57:36.348493",
     "status": "completed"
    },
    "tags": []
   },
   "outputs": [
    {
     "name": "stdout",
     "output_type": "stream",
     "text": [
      "count    94488.000000\n",
      "mean       136.506113\n",
      "std        190.946953\n",
      "min          0.850000\n",
      "25%         47.000000\n",
      "50%         89.000000\n",
      "75%        150.000000\n",
      "max       4690.000000\n",
      "Name: monetary, dtype: float64\n"
     ]
    },
    {
     "data": {
      "text/plain": [
       "<AxesSubplot:xlabel='monetary', ylabel='Count'>"
      ]
     },
     "execution_count": 40,
     "metadata": {},
     "output_type": "execute_result"
    },
    {
     "data": {
      "image/png": "[encoded data removed]",
      "text/plain": [
       "<Figure size 432x288 with 1 Axes>"
      ]
     },
     "metadata": {
      "needs_background": "light"
     },
     "output_type": "display_data"
    }
   ],
   "source": [
    "print(rfm_data['monetary'].describe())\n",
    "sns.histplot(x='monetary', data=rfm_data, kde=True)"
   ]
  },
  {
   "cell_type": "markdown",
   "id": "b098f2ea",
   "metadata": {
    "papermill": {
     "duration": 0.087604,
     "end_time": "2022-05-25T12:57:39.086487",
     "exception": false,
     "start_time": "2022-05-25T12:57:38.998883",
     "status": "completed"
    },
    "tags": []
   },
   "source": [
    "As we can see the 25% of customers have a recency of 3.9 months with an average of 8 months. With a purchase frequency equivalent to 1 and with this recency this indicates that customers make very specific purchases."
   ]
  },
  {
   "cell_type": "code",
   "execution_count": 41,
   "id": "0a4b6c9d",
   "metadata": {
    "execution": {
     "iopub.execute_input": "2022-05-25T12:57:39.267863Z",
     "iopub.status.busy": "2022-05-25T12:57:39.267468Z",
     "iopub.status.idle": "2022-05-25T12:57:39.989329Z",
     "shell.execute_reply": "2022-05-25T12:57:39.988677Z"
    },
    "papermill": {
     "duration": 0.81274,
     "end_time": "2022-05-25T12:57:39.991174",
     "exception": false,
     "start_time": "2022-05-25T12:57:39.178434",
     "status": "completed"
    },
    "tags": []
   },
   "outputs": [
    {
     "name": "stdout",
     "output_type": "stream",
     "text": [
      "count    94488.000000\n",
      "mean       243.851198\n",
      "std        153.165787\n",
      "min          1.000000\n",
      "25%        120.000000\n",
      "50%        224.000000\n",
      "75%        353.000000\n",
      "max        729.000000\n",
      "Name: recency, dtype: float64\n"
     ]
    },
    {
     "data": {
      "text/plain": [
       "<AxesSubplot:xlabel='recency', ylabel='Count'>"
      ]
     },
     "execution_count": 41,
     "metadata": {},
     "output_type": "execute_result"
    },
    {
     "data": {
      "image/png": "[encoded data removed]",
      "text/plain": [
       "<Figure size 432x288 with 1 Axes>"
      ]
     },
     "metadata": {
      "needs_background": "light"
     },
     "output_type": "display_data"
    }
   ],
   "source": [
    "print(rfm_data['recency'].describe())\n",
    "sns.histplot(x='recency', data=rfm_data, kde=True)"
   ]
  },
  {
   "cell_type": "markdown",
   "id": "eafe02c6",
   "metadata": {
    "papermill": {
     "duration": 0.089223,
     "end_time": "2022-05-25T12:57:40.173092",
     "exception": false,
     "start_time": "2022-05-25T12:57:40.083869",
     "status": "completed"
    },
    "tags": []
   },
   "source": [
    "<a id='data_insights'></a>\n",
    "\n",
    "**Conclusions:**\n",
    "* There are more customers in the southeast and south of the country. Other information, there are more customers in cities that are capitals (São Paulo, Rio de Janeiro, Porto Alegre and otheres);\n",
    "* The average order price is R\\\\$ 132 and 50% of orders cost less than R\\\\$85. The average freight value is R\\\\$21.41 and 50% of the orders have a freight value of R\\\\$ 17;\n",
    "* The delivery date needs to be revised because the average difference between estimated and actual delivery is 10 days, which is a bit high. Another fact is that only 7.81% of the actual delivery was lower than the estimated delivery;\n",
    "* There is a seasonal buying series in which in the months of December there is a drop in the purchase of products and in the months of January, March and May there is an increase;\n",
    "* Only 3% of customers made more than one purchase;\n",
    "* An average monetary customer is R\\\\$136 and 75% of the customers spend less than R\\\\$150 and the maximum was R\\\\$4690;\n",
    "* The 25% of customers have a recency of 3.9 months with an average of 8 months. With a purchase frequency equivalent to 1 and with this recency this indicates that customers make very specific purchases.\n",
    "\n",
    "<a id='customer_segmentation'></a>\n",
    "## Customer Segmentation\n",
    "\n",
    "As a algorithm the RFM was used, for being an easy-to-understand model.\n",
    "\n",
    "<a id='rfm'></a>\n",
    "The term RFM comes from the junction of three acronyms: Recency, Frequency, and Monetarity, seeking to better understand the customer and verify when was his last purchase, how many times he has bought and how much he has spent with the company.\n",
    "\n",
    "Recency(R) Days since the customer's last purchase\n",
    "Frequency(F) Number of products bought by the customer\n",
    "Monetarity(M) Total spent on purchases\n",
    "\n",
    "Customer Score:\n",
    "\n",
    "The customer score ranges from 1 to 5, where the higher this number, the better. This score is assigned for each acronym independently:\n",
    "\n",
    "* The more recent the customer's purchase the higher the Recency (R) score.\n",
    "* The more purchases the customer makes, the higher the Frequency score (F)\n",
    "* The more the customer spends on purchases, the higher the score the customer will have Monetarity(M)\n",
    "\n",
    "This definition of each score can be given through inference, i.e. some business definition or by quintile.\n",
    "\n",
    "\n",
    "#### Segmentation calculation:\n",
    "\n",
    "The calculation to know which segmentation the customer is in is given by averaging the F and M scores and the separate R value.\n",
    "\n",
    "| Segment Name               | Range of R values | Range of F and M Average |\n",
    "|----------------------------|-------------------|--------------------------|\n",
    "| Champions                  |       4 - 5       |           4 - 5          |\n",
    "| Loyal Customers            |       2 - 5       |           3 - 5          |\n",
    "| Potential Loyalist         |       3 - 5       |           1 - 3          |\n",
    "| New Customers              |       4 - 5       |           0 - 1          |\n",
    "| Promising                  |       3 - 4       |           0 - 1          |\n",
    "| Customers Needing Attetion |       2 - 3       |           2 - 3          |\n",
    "| About to Sleep             |       2 - 3       |           0 - 2          |\n",
    "| At Risk                    |       0 - 2       |           2 - 5          |\n",
    "| Can't Lose Them            |       0 - 1       |           4 - 5          |\n",
    "| Hibernating                |       1 - 2       |           1 - 2          |\n",
    "| Lost                       |       0 - 2       |           0 - 2          |\n",
    "\n",
    "source: [O que é RFM e como aplicá-lo ao seu time de Customer Success](https://medium.com/maxmilhas-tech/o-que-%C3%A9-rfm-e-como-aplic%C3%A1-lo-ao-seu-time-de-customer-service-b9c35817ed01)\n",
    "\n",
    "We have only 3% of customers who have made more than one purchase, i.e., we have skewed data. For this problem, we use the k-means algorithm to group the data according to their similar characteristics."
   ]
  },
  {
   "cell_type": "code",
   "execution_count": 42,
   "id": "4aa8e143",
   "metadata": {
    "execution": {
     "iopub.execute_input": "2022-05-25T12:57:40.355906Z",
     "iopub.status.busy": "2022-05-25T12:57:40.355644Z",
     "iopub.status.idle": "2022-05-25T12:57:40.364196Z",
     "shell.execute_reply": "2022-05-25T12:57:40.363504Z"
    },
    "papermill": {
     "duration": 0.103279,
     "end_time": "2022-05-25T12:57:40.366220",
     "exception": false,
     "start_time": "2022-05-25T12:57:40.262941",
     "status": "completed"
    },
    "tags": []
   },
   "outputs": [],
   "source": [
    "def k_means_group(data, n_clusters, random_state, asc=False, log_transf=False, standard_tranf=False):\n",
    "    \n",
    "    data_temp = data.copy()\n",
    "    if log_transf:\n",
    "        data_temp = np.log(data_temp) + 1\n",
    "        \n",
    "    if standard_tranf:\n",
    "        scaler = StandardScaler()\n",
    "        scaler = scaler.fit(data_temp)\n",
    "        data_temp = scaler.transform(data_temp)\n",
    "        \n",
    "    kmeans_sel = KMeans(n_clusters=n_clusters, random_state=random_state).fit(data_temp)\n",
    "    \n",
    "    cluster_group = data.assign(cluster = kmeans_sel.labels_)\n",
    "    \n",
    "    mean_group = cluster_group.groupby('cluster').mean().reset_index()\n",
    "    mean_group = mean_group.sort_values(by=mean_group.columns[1],ascending=asc)\n",
    "    mean_group['cluster_set'] = [i for i in range(n_clusters, 0, -1) ]\n",
    "    \n",
    "    cluster_map = mean_group.set_index('cluster').to_dict()['cluster_set']\n",
    "    \n",
    "    return cluster_group['cluster'].map(cluster_map)"
   ]
  },
  {
   "cell_type": "code",
   "execution_count": 43,
   "id": "782aa133",
   "metadata": {
    "execution": {
     "iopub.execute_input": "2022-05-25T12:57:40.547475Z",
     "iopub.status.busy": "2022-05-25T12:57:40.547199Z",
     "iopub.status.idle": "2022-05-25T12:57:41.804941Z",
     "shell.execute_reply": "2022-05-25T12:57:41.804103Z"
    },
    "papermill": {
     "duration": 1.350761,
     "end_time": "2022-05-25T12:57:41.807423",
     "exception": false,
     "start_time": "2022-05-25T12:57:40.456662",
     "status": "completed"
    },
    "tags": []
   },
   "outputs": [],
   "source": [
    "r_labels = k_means_group(rfm_data[['recency']],6,1,asc=True)\n",
    "f_labels = k_means_group(rfm_data[['frequency']],6,1)\n",
    "m_labels = k_means_group(rfm_data[['monetary']],6,1)\n",
    "\n",
    "rfm_data = rfm_data.assign(R = r_labels, F = f_labels, M = m_labels) "
   ]
  },
  {
   "cell_type": "code",
   "execution_count": 44,
   "id": "cd967693",
   "metadata": {
    "execution": {
     "iopub.execute_input": "2022-05-25T12:57:41.992551Z",
     "iopub.status.busy": "2022-05-25T12:57:41.992100Z",
     "iopub.status.idle": "2022-05-25T12:57:41.999546Z",
     "shell.execute_reply": "2022-05-25T12:57:41.998755Z"
    },
    "papermill": {
     "duration": 0.102737,
     "end_time": "2022-05-25T12:57:42.001724",
     "exception": false,
     "start_time": "2022-05-25T12:57:41.898987",
     "status": "completed"
    },
    "tags": []
   },
   "outputs": [],
   "source": [
    "rfm_data['R'] = rfm_data['R'] - 1\n",
    "rfm_data['R'] = rfm_data['F'] - 1\n",
    "rfm_data['R'] = rfm_data['M'] - 1"
   ]
  },
  {
   "cell_type": "markdown",
   "id": "7a57d5e5",
   "metadata": {
    "papermill": {
     "duration": 0.088762,
     "end_time": "2022-05-25T12:57:42.182469",
     "exception": false,
     "start_time": "2022-05-25T12:57:42.093707",
     "status": "completed"
    },
    "tags": []
   },
   "source": [
    "As we can see, most customers have a recency between 5 to 8 months."
   ]
  },
  {
   "cell_type": "code",
   "execution_count": 45,
   "id": "20fb9ade",
   "metadata": {
    "execution": {
     "iopub.execute_input": "2022-05-25T12:57:42.361211Z",
     "iopub.status.busy": "2022-05-25T12:57:42.360961Z",
     "iopub.status.idle": "2022-05-25T12:57:42.397152Z",
     "shell.execute_reply": "2022-05-25T12:57:42.396373Z"
    },
    "papermill": {
     "duration": 0.128296,
     "end_time": "2022-05-25T12:57:42.399240",
     "exception": false,
     "start_time": "2022-05-25T12:57:42.270944",
     "status": "completed"
    },
    "tags": []
   },
   "outputs": [
    {
     "data": {
      "text/html": [
       "<div>\n",
       "<style scoped>\n",
       "    .dataframe tbody tr th:only-of-type {\n",
       "        vertical-align: middle;\n",
       "    }\n",
       "\n",
       "    .dataframe tbody tr th {\n",
       "        vertical-align: top;\n",
       "    }\n",
       "\n",
       "    .dataframe thead th {\n",
       "        text-align: right;\n",
       "    }\n",
       "</style>\n",
       "<table border=\"1\" class=\"dataframe\">\n",
       "  <thead>\n",
       "    <tr style=\"text-align: right;\">\n",
       "      <th></th>\n",
       "      <th>count</th>\n",
       "      <th>mean</th>\n",
       "      <th>std</th>\n",
       "      <th>min</th>\n",
       "      <th>25%</th>\n",
       "      <th>50%</th>\n",
       "      <th>75%</th>\n",
       "      <th>max</th>\n",
       "    </tr>\n",
       "    <tr>\n",
       "      <th>R</th>\n",
       "      <th></th>\n",
       "      <th></th>\n",
       "      <th></th>\n",
       "      <th></th>\n",
       "      <th></th>\n",
       "      <th></th>\n",
       "      <th></th>\n",
       "      <th></th>\n",
       "    </tr>\n",
       "  </thead>\n",
       "  <tbody>\n",
       "    <tr>\n",
       "      <th>0</th>\n",
       "      <td>55396.0</td>\n",
       "      <td>246.577370</td>\n",
       "      <td>153.801551</td>\n",
       "      <td>5.0</td>\n",
       "      <td>122.0</td>\n",
       "      <td>229.0</td>\n",
       "      <td>357.0</td>\n",
       "      <td>729.0</td>\n",
       "    </tr>\n",
       "    <tr>\n",
       "      <th>1</th>\n",
       "      <td>27899.0</td>\n",
       "      <td>236.762214</td>\n",
       "      <td>150.793461</td>\n",
       "      <td>5.0</td>\n",
       "      <td>117.0</td>\n",
       "      <td>215.0</td>\n",
       "      <td>341.0</td>\n",
       "      <td>718.0</td>\n",
       "    </tr>\n",
       "    <tr>\n",
       "      <th>2</th>\n",
       "      <td>7921.0</td>\n",
       "      <td>249.164121</td>\n",
       "      <td>154.831445</td>\n",
       "      <td>1.0</td>\n",
       "      <td>124.0</td>\n",
       "      <td>230.0</td>\n",
       "      <td>355.0</td>\n",
       "      <td>699.0</td>\n",
       "    </tr>\n",
       "    <tr>\n",
       "      <th>3</th>\n",
       "      <td>2383.0</td>\n",
       "      <td>243.666807</td>\n",
       "      <td>155.642375</td>\n",
       "      <td>6.0</td>\n",
       "      <td>118.0</td>\n",
       "      <td>219.0</td>\n",
       "      <td>347.0</td>\n",
       "      <td>699.0</td>\n",
       "    </tr>\n",
       "    <tr>\n",
       "      <th>4</th>\n",
       "      <td>709.0</td>\n",
       "      <td>249.571227</td>\n",
       "      <td>153.109870</td>\n",
       "      <td>9.0</td>\n",
       "      <td>124.0</td>\n",
       "      <td>235.0</td>\n",
       "      <td>364.0</td>\n",
       "      <td>698.0</td>\n",
       "    </tr>\n",
       "    <tr>\n",
       "      <th>5</th>\n",
       "      <td>180.0</td>\n",
       "      <td>249.722222</td>\n",
       "      <td>178.185393</td>\n",
       "      <td>9.0</td>\n",
       "      <td>95.0</td>\n",
       "      <td>212.0</td>\n",
       "      <td>439.5</td>\n",
       "      <td>584.0</td>\n",
       "    </tr>\n",
       "  </tbody>\n",
       "</table>\n",
       "</div>"
      ],
      "text/plain": [
       "     count        mean         std  min    25%    50%    75%    max\n",
       "R                                                                  \n",
       "0  55396.0  246.577370  153.801551  5.0  122.0  229.0  357.0  729.0\n",
       "1  27899.0  236.762214  150.793461  5.0  117.0  215.0  341.0  718.0\n",
       "2   7921.0  249.164121  154.831445  1.0  124.0  230.0  355.0  699.0\n",
       "3   2383.0  243.666807  155.642375  6.0  118.0  219.0  347.0  699.0\n",
       "4    709.0  249.571227  153.109870  9.0  124.0  235.0  364.0  698.0\n",
       "5    180.0  249.722222  178.185393  9.0   95.0  212.0  439.5  584.0"
      ]
     },
     "execution_count": 45,
     "metadata": {},
     "output_type": "execute_result"
    }
   ],
   "source": [
    "rfm_data.groupby('R')['recency'].describe()"
   ]
  },
  {
   "cell_type": "markdown",
   "id": "a128d0e9",
   "metadata": {
    "papermill": {
     "duration": 0.08978,
     "end_time": "2022-05-25T12:57:42.579805",
     "exception": false,
     "start_time": "2022-05-25T12:57:42.490025",
     "status": "completed"
    },
    "tags": []
   },
   "source": [
    " Because only 3% of customers made more than one purchase but is something that's very common in ecommerce."
   ]
  },
  {
   "cell_type": "code",
   "execution_count": 46,
   "id": "0dec8557",
   "metadata": {
    "execution": {
     "iopub.execute_input": "2022-05-25T12:57:42.761331Z",
     "iopub.status.busy": "2022-05-25T12:57:42.761052Z",
     "iopub.status.idle": "2022-05-25T12:57:42.795722Z",
     "shell.execute_reply": "2022-05-25T12:57:42.794907Z"
    },
    "papermill": {
     "duration": 0.127916,
     "end_time": "2022-05-25T12:57:42.797750",
     "exception": false,
     "start_time": "2022-05-25T12:57:42.669834",
     "status": "completed"
    },
    "tags": []
   },
   "outputs": [
    {
     "data": {
      "text/html": [
       "<div>\n",
       "<style scoped>\n",
       "    .dataframe tbody tr th:only-of-type {\n",
       "        vertical-align: middle;\n",
       "    }\n",
       "\n",
       "    .dataframe tbody tr th {\n",
       "        vertical-align: top;\n",
       "    }\n",
       "\n",
       "    .dataframe thead th {\n",
       "        text-align: right;\n",
       "    }\n",
       "</style>\n",
       "<table border=\"1\" class=\"dataframe\">\n",
       "  <thead>\n",
       "    <tr style=\"text-align: right;\">\n",
       "      <th></th>\n",
       "      <th>count</th>\n",
       "      <th>mean</th>\n",
       "      <th>std</th>\n",
       "      <th>min</th>\n",
       "      <th>25%</th>\n",
       "      <th>50%</th>\n",
       "      <th>75%</th>\n",
       "      <th>max</th>\n",
       "    </tr>\n",
       "    <tr>\n",
       "      <th>F</th>\n",
       "      <th></th>\n",
       "      <th></th>\n",
       "      <th></th>\n",
       "      <th></th>\n",
       "      <th></th>\n",
       "      <th></th>\n",
       "      <th></th>\n",
       "      <th></th>\n",
       "    </tr>\n",
       "  </thead>\n",
       "  <tbody>\n",
       "    <tr>\n",
       "      <th>1</th>\n",
       "      <td>91621.0</td>\n",
       "      <td>1.000000</td>\n",
       "      <td>0.000000</td>\n",
       "      <td>1.0</td>\n",
       "      <td>1.0</td>\n",
       "      <td>1.0</td>\n",
       "      <td>1.00</td>\n",
       "      <td>1.0</td>\n",
       "    </tr>\n",
       "    <tr>\n",
       "      <th>2</th>\n",
       "      <td>2633.0</td>\n",
       "      <td>2.000000</td>\n",
       "      <td>0.000000</td>\n",
       "      <td>2.0</td>\n",
       "      <td>2.0</td>\n",
       "      <td>2.0</td>\n",
       "      <td>2.00</td>\n",
       "      <td>2.0</td>\n",
       "    </tr>\n",
       "    <tr>\n",
       "      <th>3</th>\n",
       "      <td>187.0</td>\n",
       "      <td>3.000000</td>\n",
       "      <td>0.000000</td>\n",
       "      <td>3.0</td>\n",
       "      <td>3.0</td>\n",
       "      <td>3.0</td>\n",
       "      <td>3.00</td>\n",
       "      <td>3.0</td>\n",
       "    </tr>\n",
       "    <tr>\n",
       "      <th>4</th>\n",
       "      <td>38.0</td>\n",
       "      <td>4.263158</td>\n",
       "      <td>0.446258</td>\n",
       "      <td>4.0</td>\n",
       "      <td>4.0</td>\n",
       "      <td>4.0</td>\n",
       "      <td>4.75</td>\n",
       "      <td>5.0</td>\n",
       "    </tr>\n",
       "    <tr>\n",
       "      <th>5</th>\n",
       "      <td>8.0</td>\n",
       "      <td>6.625000</td>\n",
       "      <td>1.060660</td>\n",
       "      <td>6.0</td>\n",
       "      <td>6.0</td>\n",
       "      <td>6.0</td>\n",
       "      <td>7.00</td>\n",
       "      <td>9.0</td>\n",
       "    </tr>\n",
       "    <tr>\n",
       "      <th>6</th>\n",
       "      <td>1.0</td>\n",
       "      <td>16.000000</td>\n",
       "      <td>NaN</td>\n",
       "      <td>16.0</td>\n",
       "      <td>16.0</td>\n",
       "      <td>16.0</td>\n",
       "      <td>16.00</td>\n",
       "      <td>16.0</td>\n",
       "    </tr>\n",
       "  </tbody>\n",
       "</table>\n",
       "</div>"
      ],
      "text/plain": [
       "     count       mean       std   min   25%   50%    75%   max\n",
       "F                                                             \n",
       "1  91621.0   1.000000  0.000000   1.0   1.0   1.0   1.00   1.0\n",
       "2   2633.0   2.000000  0.000000   2.0   2.0   2.0   2.00   2.0\n",
       "3    187.0   3.000000  0.000000   3.0   3.0   3.0   3.00   3.0\n",
       "4     38.0   4.263158  0.446258   4.0   4.0   4.0   4.75   5.0\n",
       "5      8.0   6.625000  1.060660   6.0   6.0   6.0   7.00   9.0\n",
       "6      1.0  16.000000       NaN  16.0  16.0  16.0  16.00  16.0"
      ]
     },
     "execution_count": 46,
     "metadata": {},
     "output_type": "execute_result"
    }
   ],
   "source": [
    "rfm_data.groupby('F')['frequency'].describe()"
   ]
  },
  {
   "cell_type": "markdown",
   "id": "6c4b7993",
   "metadata": {
    "papermill": {
     "duration": 0.091585,
     "end_time": "2022-05-25T12:57:42.979675",
     "exception": false,
     "start_time": "2022-05-25T12:57:42.888090",
     "status": "completed"
    },
    "tags": []
   },
   "source": [
    "As we can see, most customers have an average monetary value of R\\$ 58.29. Which is not very good for business because the bigger the better."
   ]
  },
  {
   "cell_type": "code",
   "execution_count": 47,
   "id": "95e3766d",
   "metadata": {
    "execution": {
     "iopub.execute_input": "2022-05-25T12:57:43.165508Z",
     "iopub.status.busy": "2022-05-25T12:57:43.165077Z",
     "iopub.status.idle": "2022-05-25T12:57:43.202085Z",
     "shell.execute_reply": "2022-05-25T12:57:43.201008Z"
    },
    "papermill": {
     "duration": 0.130816,
     "end_time": "2022-05-25T12:57:43.204361",
     "exception": false,
     "start_time": "2022-05-25T12:57:43.073545",
     "status": "completed"
    },
    "tags": []
   },
   "outputs": [
    {
     "data": {
      "text/html": [
       "<div>\n",
       "<style scoped>\n",
       "    .dataframe tbody tr th:only-of-type {\n",
       "        vertical-align: middle;\n",
       "    }\n",
       "\n",
       "    .dataframe tbody tr th {\n",
       "        vertical-align: top;\n",
       "    }\n",
       "\n",
       "    .dataframe thead th {\n",
       "        text-align: right;\n",
       "    }\n",
       "</style>\n",
       "<table border=\"1\" class=\"dataframe\">\n",
       "  <thead>\n",
       "    <tr style=\"text-align: right;\">\n",
       "      <th></th>\n",
       "      <th>count</th>\n",
       "      <th>mean</th>\n",
       "      <th>std</th>\n",
       "      <th>min</th>\n",
       "      <th>25%</th>\n",
       "      <th>50%</th>\n",
       "      <th>75%</th>\n",
       "      <th>max</th>\n",
       "    </tr>\n",
       "    <tr>\n",
       "      <th>M</th>\n",
       "      <th></th>\n",
       "      <th></th>\n",
       "      <th></th>\n",
       "      <th></th>\n",
       "      <th></th>\n",
       "      <th></th>\n",
       "      <th></th>\n",
       "      <th></th>\n",
       "    </tr>\n",
       "  </thead>\n",
       "  <tbody>\n",
       "    <tr>\n",
       "      <th>1</th>\n",
       "      <td>55396.0</td>\n",
       "      <td>54.184579</td>\n",
       "      <td>26.234024</td>\n",
       "      <td>0.85</td>\n",
       "      <td>30.00</td>\n",
       "      <td>50.000</td>\n",
       "      <td>75.00</td>\n",
       "      <td>104.99</td>\n",
       "    </tr>\n",
       "    <tr>\n",
       "      <th>2</th>\n",
       "      <td>27899.0</td>\n",
       "      <td>155.035122</td>\n",
       "      <td>36.563567</td>\n",
       "      <td>105.00</td>\n",
       "      <td>122.99</td>\n",
       "      <td>149.000</td>\n",
       "      <td>179.96</td>\n",
       "      <td>244.08</td>\n",
       "    </tr>\n",
       "    <tr>\n",
       "      <th>3</th>\n",
       "      <td>7921.0</td>\n",
       "      <td>332.783065</td>\n",
       "      <td>68.170208</td>\n",
       "      <td>244.50</td>\n",
       "      <td>278.00</td>\n",
       "      <td>319.800</td>\n",
       "      <td>379.80</td>\n",
       "      <td>503.34</td>\n",
       "    </tr>\n",
       "    <tr>\n",
       "      <th>4</th>\n",
       "      <td>2383.0</td>\n",
       "      <td>673.861490</td>\n",
       "      <td>121.762913</td>\n",
       "      <td>504.00</td>\n",
       "      <td>578.00</td>\n",
       "      <td>649.000</td>\n",
       "      <td>759.99</td>\n",
       "      <td>970.00</td>\n",
       "    </tr>\n",
       "    <tr>\n",
       "      <th>5</th>\n",
       "      <td>709.0</td>\n",
       "      <td>1270.496178</td>\n",
       "      <td>229.348784</td>\n",
       "      <td>975.00</td>\n",
       "      <td>1094.04</td>\n",
       "      <td>1200.000</td>\n",
       "      <td>1399.99</td>\n",
       "      <td>1820.00</td>\n",
       "    </tr>\n",
       "    <tr>\n",
       "      <th>6</th>\n",
       "      <td>180.0</td>\n",
       "      <td>2381.596722</td>\n",
       "      <td>593.458494</td>\n",
       "      <td>1828.44</td>\n",
       "      <td>1999.00</td>\n",
       "      <td>2134.995</td>\n",
       "      <td>2649.00</td>\n",
       "      <td>4690.00</td>\n",
       "    </tr>\n",
       "  </tbody>\n",
       "</table>\n",
       "</div>"
      ],
      "text/plain": [
       "     count         mean         std      min      25%       50%      75%  \\\n",
       "M                                                                          \n",
       "1  55396.0    54.184579   26.234024     0.85    30.00    50.000    75.00   \n",
       "2  27899.0   155.035122   36.563567   105.00   122.99   149.000   179.96   \n",
       "3   7921.0   332.783065   68.170208   244.50   278.00   319.800   379.80   \n",
       "4   2383.0   673.861490  121.762913   504.00   578.00   649.000   759.99   \n",
       "5    709.0  1270.496178  229.348784   975.00  1094.04  1200.000  1399.99   \n",
       "6    180.0  2381.596722  593.458494  1828.44  1999.00  2134.995  2649.00   \n",
       "\n",
       "       max  \n",
       "M           \n",
       "1   104.99  \n",
       "2   244.08  \n",
       "3   503.34  \n",
       "4   970.00  \n",
       "5  1820.00  \n",
       "6  4690.00  "
      ]
     },
     "execution_count": 47,
     "metadata": {},
     "output_type": "execute_result"
    }
   ],
   "source": [
    "rfm_data.groupby('M')['monetary'].describe()"
   ]
  },
  {
   "cell_type": "code",
   "execution_count": 48,
   "id": "64052308",
   "metadata": {
    "execution": {
     "iopub.execute_input": "2022-05-25T12:57:43.387807Z",
     "iopub.status.busy": "2022-05-25T12:57:43.387545Z",
     "iopub.status.idle": "2022-05-25T12:57:43.400598Z",
     "shell.execute_reply": "2022-05-25T12:57:43.399433Z"
    },
    "papermill": {
     "duration": 0.107177,
     "end_time": "2022-05-25T12:57:43.402441",
     "exception": false,
     "start_time": "2022-05-25T12:57:43.295264",
     "status": "completed"
    },
    "tags": []
   },
   "outputs": [],
   "source": [
    "def get_segment(data):\n",
    "    mean_fm = (data['F'] + data['M']) / 2\n",
    "    \n",
    "    if (data['R'] >= 4 and data['R'] <= 5) and (mean_fm >= 4 and mean_fm <= 5):\n",
    "        return 'Champions'\n",
    "    if (data['R'] >= 2 and data['R'] <= 5) and (mean_fm >= 3 and mean_fm <= 5):\n",
    "        return 'Loyal Customers'\n",
    "    if (data['R'] >= 3 and data['R'] <= 5) and (mean_fm >= 1 and mean_fm <= 3):\n",
    "        return 'Potential Loyslist'\n",
    "    if (data['R'] >= 4 and data['R'] <= 5) and (mean_fm >= 0 and mean_fm <= 1):\n",
    "        return 'New Customers'\n",
    "    if (data['R'] >= 3 and data['R'] <= 4) and (mean_fm >= 0 and mean_fm <= 1):\n",
    "        return 'Promising'\n",
    "    if (data['R'] >= 2 and data['R'] <= 3) and (mean_fm >= 2 and mean_fm <= 3):\n",
    "        return 'Customer Needing Attention'\n",
    "    if (data['R'] >= 2 and data['R'] <= 3) and (mean_fm >= 0 and mean_fm <= 2):\n",
    "        return 'About to Sleep'\n",
    "    if (data['R'] >= 0 and data['R'] <= 2) and (mean_fm >= 2 and mean_fm <= 5):\n",
    "        return 'At Risk'\n",
    "    if (data['R'] >= 0 and data['R'] <= 1) and (mean_fm >= 4 and mean_fm <= 5):\n",
    "        return \"Can't Lose Then\"\n",
    "    if (data['R'] >= 1 and data['R'] <= 2) and (mean_fm >= 1 and mean_fm <= 2):\n",
    "        return 'Hibernating'\n",
    "    return 'Lost'"
   ]
  },
  {
   "cell_type": "code",
   "execution_count": 49,
   "id": "87103da2",
   "metadata": {
    "execution": {
     "iopub.execute_input": "2022-05-25T12:57:43.586591Z",
     "iopub.status.busy": "2022-05-25T12:57:43.586325Z",
     "iopub.status.idle": "2022-05-25T12:57:50.752164Z",
     "shell.execute_reply": "2022-05-25T12:57:50.751110Z"
    },
    "papermill": {
     "duration": 7.260612,
     "end_time": "2022-05-25T12:57:50.754706",
     "exception": false,
     "start_time": "2022-05-25T12:57:43.494094",
     "status": "completed"
    },
    "tags": []
   },
   "outputs": [],
   "source": [
    "rfm_data['segment'] = rfm_data.apply(get_segment,axis=1)"
   ]
  },
  {
   "cell_type": "code",
   "execution_count": 50,
   "id": "ec02b6eb",
   "metadata": {
    "execution": {
     "iopub.execute_input": "2022-05-25T12:57:50.941923Z",
     "iopub.status.busy": "2022-05-25T12:57:50.941663Z",
     "iopub.status.idle": "2022-05-25T12:57:51.134419Z",
     "shell.execute_reply": "2022-05-25T12:57:51.133482Z"
    },
    "papermill": {
     "duration": 0.291563,
     "end_time": "2022-05-25T12:57:51.137444",
     "exception": false,
     "start_time": "2022-05-25T12:57:50.845881",
     "status": "completed"
    },
    "tags": []
   },
   "outputs": [
    {
     "data": {
      "image/png": "[encoded data removed]",
      "text/plain": [
       "<Figure size 720x360 with 1 Axes>"
      ]
     },
     "metadata": {
      "needs_background": "light"
     },
     "output_type": "display_data"
    }
   ],
   "source": [
    "plt.figure(figsize=(10,5))\n",
    "percentage = (rfm_data['segment'].value_counts(normalize=True)* 100).reset_index(name='percentage')\n",
    "g = sns.barplot(x=percentage['percentage'],y=percentage['index'], data=percentage,palette=\"GnBu_d\")\n",
    "sns.despine(bottom = True, left = True)\n",
    "for i, v in enumerate(percentage['percentage']):\n",
    "    g.text(v,i+0.20,\"  {:.2f}\".format(v)+\"%\", color='black', ha=\"left\")\n",
    "g.set_ylabel('Segmentation')\n",
    "g.set(xticks=[])\n",
    "plt.show()"
   ]
  },
  {
   "cell_type": "markdown",
   "id": "c530a43f",
   "metadata": {
    "papermill": {
     "duration": 0.092627,
     "end_time": "2022-05-25T12:57:51.337158",
     "exception": false,
     "start_time": "2022-05-25T12:57:51.244531",
     "status": "completed"
    },
    "tags": []
   },
   "source": [
    "<a id='segmentation_insights'></a>\n",
    "### Conclusion:\n",
    "\n",
    "**58.61% - Lost:**\n",
    "\n",
    "Low frequency of purchase, recency and spending.\n",
    "\n",
    "<u>CRM Strategy:</u>:\n",
    "\n",
    "* Reviving interest with outreach campaigns\n",
    "\n",
    "**28.23% - Hibernating:**\n",
    "\n",
    "These are customers who have bought a long time ago, only a few times and have spent little\n",
    "\n",
    "<u>CRM Strategy</u>:\n",
    "\n",
    "* Standard communication for sending offers;\n",
    "* Offer relevant products and good deals.\n",
    "\n",
    "**8.29% - Customer Needing Attetion:**\n",
    "\n",
    "These are customers who have recently purchased, however are still in doubt whether they will make their next purchase from the company or a competitor.\n",
    "\n",
    "<u>CRM Strategy</u>:\n",
    "\n",
    "* Promotional campaigns for a limited time;\n",
    "* Product recommendations based on their behavior;\n",
    "* Show the importance of buying with the company.\n",
    "\n",
    "**2.31% - Potential Loyslist:**\n",
    "\n",
    "These are recent buyers, spend a good amount and have bought more than once.\n",
    "\n",
    "<u>CRM Strategy</u>:\n",
    "\n",
    "* Offer a loyalty program;\n",
    "* Keep them engaged;\n",
    "* Personalized and other product recommendations.\n",
    "\n",
    "**1.32% - At Risk:**\n",
    "\n",
    "These are customers who have spent very little money and buy frequently, but have not bought for a long time\n",
    "\n",
    "<u>CRM Strategy</u>:\n",
    "\n",
    "* Send personalized communications and other messages to reconnect;\n",
    "* Offer good deals.\n",
    "\n",
    "**1.21% - Loyal Customers:**\n",
    "\n",
    "These are customers who spend well and often.\n",
    "\n",
    "<u>CRM Strategy</u>:\n",
    "\n",
    "* Personalized communication;\n",
    "* Avoid mass mailing of offers;\n",
    "* Offer few products, but present products that they are likely to be interested in;\n",
    "* Ask for product reviews.\n",
    "\n",
    "**0.03% - Champions:**\n",
    "\n",
    "These are customers who have bought recently, buy often, and spend a lot.\n",
    "\n",
    "<u> CRM Strategy</u>:\n",
    "\n",
    "* Special offers, products and discounts for these customers so they feel valued;\n",
    "* Ask for reviews and feedbacks constantly;\n",
    "* Avoid sending massive amounts of offers;\n",
    "* Personalized communication;\n",
    "* Give rewards.\n",
    "\n",
    "<a id='references'></a>\n",
    "### References:\n",
    "\n",
    "Matt Clarke (2021) How to assign RFM scores with quantile-based discretization. Retrieved from: https://towardsdatascience.com/customer-segmentation-arvato-bertelsmann-project-44e73210a1b7\n",
    "\n",
    "Paulo Vasconsellos (2017) O que é RFM e como aplica-lo ao seu time de Customer Success. Retrieved from: https://medium.com/maxmilhas-tech/o-que-%C3%A9-rfm-e-como-aplic%C3%A1-lo-ao-seu-time-de-customer-service-b9c35817ed01\n",
    "\n",
    "Leif Arne Bakker (2020) Know your customers with RFM. Retrieved from: https://futurice.com/blog/know-your-customers-with-rfm\n",
    "\n",
    "Exponea (2020) RFM Segmentation. Retrieved from: https://docs.exponea.com/docs/rfm-segmentation\n",
    "\n",
    "Matt Clarke(2021) How to assign RFM scores with quantile-based discretization. Retrieved from: https://practicaldatascience.co.uk/data-science/how-to-assign-rfm-scores-with-quantile-based-discretization"
   ]
  }
 ],
 "metadata": {
  "kernelspec": {
   "display_name": "Python 3",
   "language": "python",
   "name": "python3"
  },
  "language_info": {
   "codemirror_mode": {
    "name": "ipython",
    "version": 3
   },
   "file_extension": ".py",
   "mimetype": "text/x-python",
   "name": "python",
   "nbconvert_exporter": "python",
   "pygments_lexer": "ipython3",
   "version": "3.7.12"
  },
  "papermill": {
   "default_parameters": {},
   "duration": 71.24873,
   "end_time": "2022-05-25T12:57:52.352240",
   "environment_variables": {},
   "exception": null,
   "input_path": "__notebook__.ipynb",
   "output_path": "__notebook__.ipynb",
   "parameters": {},
   "start_time": "2022-05-25T12:56:41.103510",
   "version": "2.3.4"
  }
 },
 "nbformat": 4,
 "nbformat_minor": 5
}

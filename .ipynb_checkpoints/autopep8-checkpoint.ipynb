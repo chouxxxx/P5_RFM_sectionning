{
 "cells": [
  {
   "cell_type": "code",
   "execution_count": null,
   "id": "1b170e7c-172c-4af1-88df-c9b5a3994445",
   "metadata": {},
   "outputs": [],
   "source": [
    "pip install --upgrade autopep8"
   ]
  },
  {
   "cell_type": "code",
   "execution_count": 9,
   "id": "a0fb1ec6-ca40-4ae6-ae65-49af0af7b678",
   "metadata": {},
   "outputs": [],
   "source": [
    "import autopep8"
   ]
  },
  {
   "cell_type": "markdown",
   "id": "01fba689-ab8a-4ea2-ade1-7d9c45972a5d",
   "metadata": {},
   "source": [
    "dans le folder right clisk et more options et GIT Bash Here puis taper:"
   ]
  },
  {
   "cell_type": "code",
   "execution_count": 10,
   "id": "ab9511e4-bbbb-44b3-a3b2-83f105c8baef",
   "metadata": {
    "tags": []
   },
   "outputs": [
    {
     "ename": "SyntaxError",
     "evalue": "invalid syntax (3102659641.py, line 1)",
     "output_type": "error",
     "traceback": [
      "\u001b[1;36m  Input \u001b[1;32mIn [10]\u001b[1;36m\u001b[0m\n\u001b[1;33m    autopep8 -v --in-place --aggressive --aggressive -P5_cleaning_5.ipynb\u001b[0m\n\u001b[1;37m                  ^\u001b[0m\n\u001b[1;31mSyntaxError\u001b[0m\u001b[1;31m:\u001b[0m invalid syntax\n"
     ]
    }
   ],
   "source": [
    "autopep8 -v --in-place --aggressive --aggressive P5_cleaning_5.ipynb"
   ]
  },
  {
   "cell_type": "code",
   "execution_count": 10,
   "id": "83d5d95b-d013-4ff2-9888-ffa6745da154",
   "metadata": {
    "tags": []
   },
   "outputs": [
    {
     "ename": "SyntaxError",
     "evalue": "invalid syntax (3102659641.py, line 1)",
     "output_type": "error",
     "traceback": [
      "\u001b[1;36m  Input \u001b[1;32mIn [10]\u001b[1;36m\u001b[0m\n\u001b[1;33m    autopep8 -v --in-place --aggressive --aggressive -P5_cleaning_5.ipynb\u001b[0m\n\u001b[1;37m                  ^\u001b[0m\n\u001b[1;31mSyntaxError\u001b[0m\u001b[1;31m:\u001b[0m invalid syntax\n"
     ]
    }
   ],
   "source": [
    "autopep8 -v -a -a P5_cleaning_5.ipynb"
   ]
  }
 ],
 "metadata": {
  "kernelspec": {
   "display_name": "Python 3 (ipykernel)",
   "language": "python",
   "name": "python3"
  },
  "language_info": {
   "codemirror_mode": {
    "name": "ipython",
    "version": 3
   },
   "file_extension": ".py",
   "mimetype": "text/x-python",
   "name": "python",
   "nbconvert_exporter": "python",
   "pygments_lexer": "ipython3",
   "version": "3.9.12"
  },
  "tags": [
   "hide-cell"
  ]
 },
 "nbformat": 4,
 "nbformat_minor": 5
}
